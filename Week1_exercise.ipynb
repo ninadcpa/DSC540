{
  "nbformat": 4,
  "nbformat_minor": 0,
  "metadata": {
    "colab": {
      "name": "Week1_exercise.ipynb",
      "provenance": [],
      "toc_visible": true,
      "authorship_tag": "ABX9TyNNxl0U63fGuTlYX4GPj/7X",
      "include_colab_link": true
    },
    "kernelspec": {
      "name": "python3",
      "display_name": "Python 3"
    }
  },
  "cells": [
    {
      "cell_type": "markdown",
      "metadata": {
        "id": "view-in-github",
        "colab_type": "text"
      },
      "source": [
        "<a href=\"https://colab.research.google.com/github/ninadcpa/DSC540/blob/main/Week1_exercise.ipynb\" target=\"_parent\"><img src=\"https://colab.research.google.com/assets/colab-badge.svg\" alt=\"Open In Colab\"/></a>"
      ]
    },
    {
      "cell_type": "markdown",
      "metadata": {
        "id": "raw3X5gy43f6"
      },
      "source": [
        "# DSC540 Week 1 Exercise\n",
        "\n",
        "@author Ninad Patkhedkar"
      ]
    },
    {
      "cell_type": "markdown",
      "metadata": {
        "id": "KMqP0W0j4LEO"
      },
      "source": [
        "1.  Install the latest versions of either Docker or Anaconda. Your book Data Wrangling with Python uses Docker, however, you are welcome to use whichever distributer you feel comfortable with. Create a Jupyter notebook where you create a list, iterate over the list and sort your results, generate random numbers, add to the list, and then print your results.\n"
      ]
    },
    {
      "cell_type": "markdown",
      "metadata": {
        "id": "bgg-e-9H4ZAL"
      },
      "source": [
        "I often use cloud based notebook environment. I will use same for assignments. More information on cloud based IDE can be found at  \n",
        " https://colab.research.google.com/\n"
      ]
    },
    {
      "cell_type": "code",
      "metadata": {
        "colab": {
          "base_uri": "https://localhost:8080/"
        },
        "id": "XcCPt1C24Um3",
        "outputId": "f558f718-f54f-4537-d436-d5615dfb9292"
      },
      "source": [
        "# This code is written for mounting code folder checked out from github on google drive\n",
        "# All assignment code will be maintained inside folder \"DSC540\"\n",
        "# Code from book is inside folder \"Data-Wrangling-with-Python\"\n",
        "\n",
        "from google.colab import drive\n",
        "import sys\n",
        "import os\n",
        "\n",
        "drive.mount('/content/drive')\n",
        "sys.path.append('/content/drive/MyDrive/Colab Notebooks/DSC540')\n",
        "os.chdir('/content/drive/MyDrive/Colab Notebooks/DSC540')\n"
      ],
      "execution_count": 1,
      "outputs": [
        {
          "output_type": "stream",
          "text": [
            "Drive already mounted at /content/drive; to attempt to forcibly remount, call drive.mount(\"/content/drive\", force_remount=True).\n"
          ],
          "name": "stdout"
        }
      ]
    },
    {
      "cell_type": "markdown",
      "metadata": {
        "id": "mYssNPXn0K_a"
      },
      "source": [
        "**2.** Create a line chart with Matplotlib and the following data file.\n",
        "\n",
        "a. Data file: world-population.xlsm\n",
        "\n",
        "b. (Hint: Python for Data Analysis: Page 19-50 & Data Wrangling with Python: Preface)\n",
        "\n"
      ]
    },
    {
      "cell_type": "code",
      "metadata": {
        "colab": {
          "base_uri": "https://localhost:8080/",
          "height": 353
        },
        "id": "Dt1Gt05Jypuj",
        "outputId": "7f7c8525-7e6f-4dee-c58c-c88e5f0c9865"
      },
      "source": [
        "import pandas as pd\n",
        "\n",
        "df = pd.read_excel('world-population.xlsm', sheet_name='world-population')\n",
        "\n",
        "df.sample(10)"
      ],
      "execution_count": 2,
      "outputs": [
        {
          "output_type": "execute_result",
          "data": {
            "text/html": [
              "<div>\n",
              "<style scoped>\n",
              "    .dataframe tbody tr th:only-of-type {\n",
              "        vertical-align: middle;\n",
              "    }\n",
              "\n",
              "    .dataframe tbody tr th {\n",
              "        vertical-align: top;\n",
              "    }\n",
              "\n",
              "    .dataframe thead th {\n",
              "        text-align: right;\n",
              "    }\n",
              "</style>\n",
              "<table border=\"1\" class=\"dataframe\">\n",
              "  <thead>\n",
              "    <tr style=\"text-align: right;\">\n",
              "      <th></th>\n",
              "      <th>Year</th>\n",
              "      <th>Population</th>\n",
              "    </tr>\n",
              "  </thead>\n",
              "  <tbody>\n",
              "    <tr>\n",
              "      <th>40</th>\n",
              "      <td>2000</td>\n",
              "      <td>6078274622</td>\n",
              "    </tr>\n",
              "    <tr>\n",
              "      <th>4</th>\n",
              "      <td>1964</td>\n",
              "      <td>3253112403</td>\n",
              "    </tr>\n",
              "    <tr>\n",
              "      <th>41</th>\n",
              "      <td>2001</td>\n",
              "      <td>6155652495</td>\n",
              "    </tr>\n",
              "    <tr>\n",
              "      <th>13</th>\n",
              "      <td>1973</td>\n",
              "      <td>3915742695</td>\n",
              "    </tr>\n",
              "    <tr>\n",
              "      <th>14</th>\n",
              "      <td>1974</td>\n",
              "      <td>3992806090</td>\n",
              "    </tr>\n",
              "    <tr>\n",
              "      <th>43</th>\n",
              "      <td>2003</td>\n",
              "      <td>6309266583</td>\n",
              "    </tr>\n",
              "    <tr>\n",
              "      <th>33</th>\n",
              "      <td>1993</td>\n",
              "      <td>5516863641</td>\n",
              "    </tr>\n",
              "    <tr>\n",
              "      <th>16</th>\n",
              "      <td>1976</td>\n",
              "      <td>4141383058</td>\n",
              "    </tr>\n",
              "    <tr>\n",
              "      <th>39</th>\n",
              "      <td>1999</td>\n",
              "      <td>6001269553</td>\n",
              "    </tr>\n",
              "    <tr>\n",
              "      <th>45</th>\n",
              "      <td>2005</td>\n",
              "      <td>6462054420</td>\n",
              "    </tr>\n",
              "  </tbody>\n",
              "</table>\n",
              "</div>"
            ],
            "text/plain": [
              "    Year  Population\n",
              "40  2000  6078274622\n",
              "4   1964  3253112403\n",
              "41  2001  6155652495\n",
              "13  1973  3915742695\n",
              "14  1974  3992806090\n",
              "43  2003  6309266583\n",
              "33  1993  5516863641\n",
              "16  1976  4141383058\n",
              "39  1999  6001269553\n",
              "45  2005  6462054420"
            ]
          },
          "metadata": {
            "tags": []
          },
          "execution_count": 2
        }
      ]
    },
    {
      "cell_type": "code",
      "metadata": {
        "colab": {
          "base_uri": "https://localhost:8080/",
          "height": 276
        },
        "id": "xGVwr-YlzjaB",
        "outputId": "8db95835-4cbe-47aa-9dca-f174934869a1"
      },
      "source": [
        "import matplotlib.pyplot as plt\n",
        "plt.plot(df.Year,df.Population)\n",
        "plt.show()"
      ],
      "execution_count": 3,
      "outputs": [
        {
          "output_type": "display_data",
          "data": {
            "image/png": "[encoded data removed]",
            "text/plain": [
              "<Figure size 432x288 with 1 Axes>"
            ]
          },
          "metadata": {
            "tags": [],
            "needs_background": "light"
          }
        }
      ]
    },
    {
      "cell_type": "markdown",
      "metadata": {
        "id": "OUv8OARq7nyO"
      },
      "source": [
        "**a. Data Wrangling with Python: Activity 1 page 17**\n",
        "\n"
      ]
    },
    {
      "cell_type": "code",
      "metadata": {
        "colab": {
          "base_uri": "https://localhost:8080/"
        },
        "id": "YMuOUxDw_Kz_",
        "outputId": "70687c38-e044-49ce-9a60-0c1a1a83f654"
      },
      "source": [
        "import random\n",
        "\n",
        "random_num_list = [random.randint(0,500) for x in range(0,100)]\n",
        "random_num_list"
      ],
      "execution_count": 4,
      "outputs": [
        {
          "output_type": "execute_result",
          "data": {
            "text/plain": [
              "[404,\n",
              " 41,\n",
              " 288,\n",
              " 132,\n",
              " 274,\n",
              " 165,\n",
              " 77,\n",
              " 188,\n",
              " 230,\n",
              " 101,\n",
              " 229,\n",
              " 1,\n",
              " 7,\n",
              " 410,\n",
              " 1,\n",
              " 274,\n",
              " 221,\n",
              " 195,\n",
              " 291,\n",
              " 403,\n",
              " 4,\n",
              " 453,\n",
              " 444,\n",
              " 44,\n",
              " 479,\n",
              " 244,\n",
              " 262,\n",
              " 306,\n",
              " 31,\n",
              " 477,\n",
              " 381,\n",
              " 459,\n",
              " 97,\n",
              " 47,\n",
              " 277,\n",
              " 45,\n",
              " 473,\n",
              " 144,\n",
              " 186,\n",
              " 151,\n",
              " 491,\n",
              " 346,\n",
              " 89,\n",
              " 489,\n",
              " 287,\n",
              " 203,\n",
              " 199,\n",
              " 353,\n",
              " 91,\n",
              " 295,\n",
              " 381,\n",
              " 240,\n",
              " 397,\n",
              " 100,\n",
              " 94,\n",
              " 213,\n",
              " 144,\n",
              " 104,\n",
              " 487,\n",
              " 394,\n",
              " 81,\n",
              " 226,\n",
              " 215,\n",
              " 351,\n",
              " 108,\n",
              " 448,\n",
              " 13,\n",
              " 102,\n",
              " 403,\n",
              " 254,\n",
              " 457,\n",
              " 43,\n",
              " 51,\n",
              " 310,\n",
              " 221,\n",
              " 151,\n",
              " 328,\n",
              " 24,\n",
              " 71,\n",
              " 244,\n",
              " 30,\n",
              " 103,\n",
              " 280,\n",
              " 214,\n",
              " 38,\n",
              " 297,\n",
              " 154,\n",
              " 354,\n",
              " 351,\n",
              " 235,\n",
              " 31,\n",
              " 58,\n",
              " 54,\n",
              " 78,\n",
              " 401,\n",
              " 374,\n",
              " 81,\n",
              " 141,\n",
              " 132,\n",
              " 164]"
            ]
          },
          "metadata": {
            "tags": []
          },
          "execution_count": 4
        }
      ]
    },
    {
      "cell_type": "code",
      "metadata": {
        "colab": {
          "base_uri": "https://localhost:8080/"
        },
        "id": "JSk1Y78rNWua",
        "outputId": "54afb3b7-58b3-4a88-b99d-d885bd2c1b12"
      },
      "source": [
        "div_by_3_list = [i for i in random_num_list if i%3==0]\n",
        "div_by_3_list"
      ],
      "execution_count": 5,
      "outputs": [
        {
          "output_type": "execute_result",
          "data": {
            "text/plain": [
              "[288,\n",
              " 132,\n",
              " 165,\n",
              " 195,\n",
              " 291,\n",
              " 453,\n",
              " 444,\n",
              " 306,\n",
              " 477,\n",
              " 381,\n",
              " 459,\n",
              " 45,\n",
              " 144,\n",
              " 186,\n",
              " 489,\n",
              " 381,\n",
              " 240,\n",
              " 213,\n",
              " 144,\n",
              " 81,\n",
              " 351,\n",
              " 108,\n",
              " 102,\n",
              " 51,\n",
              " 24,\n",
              " 30,\n",
              " 297,\n",
              " 354,\n",
              " 351,\n",
              " 54,\n",
              " 78,\n",
              " 81,\n",
              " 141,\n",
              " 132]"
            ]
          },
          "metadata": {
            "tags": []
          },
          "execution_count": 5
        }
      ]
    },
    {
      "cell_type": "code",
      "metadata": {
        "colab": {
          "base_uri": "https://localhost:8080/"
        },
        "id": "3y-Ys5HgN5e-",
        "outputId": "89083eb8-fa0d-4d62-e6e6-04370d41c3c6"
      },
      "source": [
        "diff_in_length = len(random_num_list) - len(div_by_3_list)\n",
        "diff_in_length"
      ],
      "execution_count": 6,
      "outputs": [
        {
          "output_type": "execute_result",
          "data": {
            "text/plain": [
              "66"
            ]
          },
          "metadata": {
            "tags": []
          },
          "execution_count": 6
        }
      ]
    },
    {
      "cell_type": "code",
      "metadata": {
        "id": "jasftdk2OfgX"
      },
      "source": [
        "def diff_in_list_len():\n",
        "  random_num_list = [random.randint(0,500) for x in range(0,100)]\n",
        "  div_by_3_list = [i for i in random_num_list if i%3==0]\n",
        "  diff_in_length = len(random_num_list) - len(div_by_3_list)\n",
        "  return diff_in_length"
      ],
      "execution_count": 7,
      "outputs": []
    },
    {
      "cell_type": "code",
      "metadata": {
        "colab": {
          "base_uri": "https://localhost:8080/"
        },
        "id": "l9eHBpUVPLYP",
        "outputId": "42f564dd-9d84-44af-d7c7-32a8c9b558c3"
      },
      "source": [
        "list_of_differneces=[]\n",
        "for count in range(0,20):\n",
        "  list_of_differneces.append(diff_in_list_len())\n",
        "list_of_differneces"
      ],
      "execution_count": 8,
      "outputs": [
        {
          "output_type": "execute_result",
          "data": {
            "text/plain": [
              "[69,\n",
              " 66,\n",
              " 65,\n",
              " 69,\n",
              " 71,\n",
              " 72,\n",
              " 71,\n",
              " 65,\n",
              " 69,\n",
              " 71,\n",
              " 67,\n",
              " 68,\n",
              " 62,\n",
              " 68,\n",
              " 68,\n",
              " 70,\n",
              " 62,\n",
              " 60,\n",
              " 65,\n",
              " 71]"
            ]
          },
          "metadata": {
            "tags": []
          },
          "execution_count": 8
        }
      ]
    },
    {
      "cell_type": "code",
      "metadata": {
        "colab": {
          "base_uri": "https://localhost:8080/"
        },
        "id": "0lSKoQWARjpn",
        "outputId": "240f1845-c025-4dd3-bddf-efe924d51560"
      },
      "source": [
        "mean = sum(list_of_differneces)/len(list_of_differneces)\n",
        "mean"
      ],
      "execution_count": 9,
      "outputs": [
        {
          "output_type": "execute_result",
          "data": {
            "text/plain": [
              "67.45"
            ]
          },
          "metadata": {
            "tags": []
          },
          "execution_count": 9
        }
      ]
    },
    {
      "cell_type": "markdown",
      "metadata": {
        "id": "RwTQyH1O7yoh"
      },
      "source": [
        "**b. Data Wrangling with Python: Activity 2 page 31**\n",
        "\n"
      ]
    },
    {
      "cell_type": "code",
      "metadata": {
        "id": "DTzVT9SN792K"
      },
      "source": [
        "stanza = \"\"\"\n",
        "It is a truth universally acknowledged, that a single man in possession of a good fortune, must be in want of a wife.\n",
        "\n",
        "However little known the feelings or views of such a man may be on his first entering a neighbourhood, this truth is so well fixed in the minds of the surrounding families, that he is considered the rightful property of some one or other of their daughters.\n",
        "\n",
        "\"My dear Mr. Bennet,\" said his lady to him one day, \"have you heard that Netherfield Park is let at last?\"\n",
        "\n",
        "Mr. Bennet replied that he had not.\n",
        "\n",
        "\"But it is,\" returned she; \"for Mrs. Long has just been here, and she told me all about it.\"\n",
        "\n",
        "Mr. Bennet made no answer.\n",
        "\n",
        "\"Do you not want to know who has taken it?\" cried his wife impatiently.\n",
        "\n",
        "\"You want to tell me, and I have no objection to hearing it.\"\n",
        "\n",
        "This was invitation enough.\n",
        "\n",
        "\"Why, my dear, you must know, Mrs. Long says that Netherfield is taken by a young man of large fortune from the north of England; that he came down on Monday in a chaise and four to see the place, and was so much delighted with it, that he agreed with Mr. Morris immediately; that he is to take possession before Michaelmas, and some of his servants are to be in the house by the end of next week.\"\n",
        "\n",
        "\"What is his name?\"\n",
        "\n",
        "\"Bingley.\"\n",
        "\n",
        "\"Is he married or single?\"\n",
        "\n",
        "\"Oh! Single, my dear, to be sure! A single man of large fortune; four or five thousand a year. What a fine thing for our girls!\"\n",
        "\n",
        "\"How so? How can it affect them?\"\n",
        "\n",
        "\"My dear Mr. Bennet,\" replied his wife, \"how can you be so tiresome! You must know that I am thinking of his marrying one of them.\"\n",
        "\n",
        "\"Is that his design in settling here?\"\n",
        "\n",
        "\"Design! Nonsense, how can you talk so! But it is very likely that he may fall in love with one of them, and therefore you must visit him as soon as he comes.\"\n",
        "\n",
        "\"I see no occasion for that. You and the girls may go, or you may send them by themselves, which perhaps will be still better, for as you are as handsome as any of them, Mr. Bingley may like you the best of the party.\"\n",
        "\n",
        "\"My dear, you flatter me. I certainly have had my share of beauty, but I do not pretend to be anything extraordinary now. When a woman has five grown-up daughters, she ought to give over thinking of her own beauty.\"\n",
        "\n",
        "\"In such cases, a woman has not often much beauty to think of.\"\n",
        "\n",
        "\"But, my dear, you must indeed go and see Mr. Bingley when he comes into the neighbourhood.\"\n",
        "\n",
        "\"It is more than I engage for, I assure you.\"\n",
        "\n",
        "\"But consider your daughters. Only think what an establishment it would be for one of them. Sir William and Lady Lucas are determined to go, merely on that account, for in general, you know, they visit no newcomers. Indeed you must go, for it will be impossible for us to visit him if you do not.\"\n",
        "\n",
        "\"You are over-scrupulous, surely. I dare say Mr. Bingley will be very glad to see you; and I will send a few lines by you to assure him of my hearty consent to his marrying whichever he chooses of the girls; though I must throw in a good word for my little Lizzy.\"\n",
        "\n",
        "\"I desire you will do no such thing. Lizzy is not a bit better than the others; and I am sure she is not half so handsome as Jane, nor half so good-humoured as Lydia. But you are always giving her the preference.\"\n",
        "\n",
        "\"They have none of them much to recommend them,\" replied he; \"they are all silly and ignorant like other girls; but Lizzy has something more of quickness than her sisters.\"\n",
        "\n",
        "\"Mr. Bennet, how can you abuse your own children in such a way? You take delight in vexing me. You have no compassion for my poor nerves.\"\n",
        "\n",
        "\"You mistake me, my dear. I have a high respect for your nerves. They are my old friends. I have heard you mention them with consideration these last twenty years at least.\"\n",
        "\n",
        "\"Ah, you do not know what I suffer.\"\n",
        "\n",
        "\"But I hope you will get over it, and live to see many young men of four thousand a year come into the neighbourhood.\"\n",
        "\n",
        "\"It will be no use to us, if twenty such should come, since you will not visit them.\"\n",
        "\n",
        "\"Depend upon it, my dear, that when there are twenty, I will visit them all.\"\n",
        "\n",
        "Mr. Bennet was so odd a mixture of quick parts, sarcastic humour, reserve, and caprice, that the experience of three-and-twenty years had been insufficient to make his wife understand his character. Her mind was less difficult to develop. She was a woman of mean understanding, little information, and uncertain temper. When she was discontented, she fancied herself nervous. The business of her life was to get her daughters married; its solace was visiting and news. \n",
        "\"\"\""
      ],
      "execution_count": 10,
      "outputs": []
    },
    {
      "cell_type": "markdown",
      "metadata": {
        "id": "rTN9VP0gIc9M"
      },
      "source": [
        "Remove all newlines from multi-line text."
      ]
    },
    {
      "cell_type": "code",
      "metadata": {
        "colab": {
          "base_uri": "https://localhost:8080/",
          "height": 236
        },
        "id": "a9YzIpU89Z-h",
        "outputId": "1011d27e-22f4-4ff3-c364-e2dc48959902"
      },
      "source": [
        "# stanza = stanza.replace(\"\\n\",\" \")\n",
        "stanza = \"\".join(stanza.splitlines())\n",
        "stanza"
      ],
      "execution_count": 11,
      "outputs": [
        {
          "output_type": "execute_result",
          "data": {
            "application/vnd.google.colaboratory.intrinsic+json": {
              "type": "string"
            },
            "text/plain": [
              "'It is a truth universally acknowledged, that a single man in possession of a good fortune, must be in want of a wife.However little known the feelings or views of such a man may be on his first entering a neighbourhood, this truth is so well fixed in the minds of the surrounding families, that he is considered the rightful property of some one or other of their daughters.\"My dear Mr. Bennet,\" said his lady to him one day, \"have you heard that Netherfield Park is let at last?\"Mr. Bennet replied that he had not.\"But it is,\" returned she; \"for Mrs. Long has just been here, and she told me all about it.\"Mr. Bennet made no answer.\"Do you not want to know who has taken it?\" cried his wife impatiently.\"You want to tell me, and I have no objection to hearing it.\"This was invitation enough.\"Why, my dear, you must know, Mrs. Long says that Netherfield is taken by a young man of large fortune from the north of England; that he came down on Monday in a chaise and four to see the place, and was so much delighted with it, that he agreed with Mr. Morris immediately; that he is to take possession before Michaelmas, and some of his servants are to be in the house by the end of next week.\"\"What is his name?\"\"Bingley.\"\"Is he married or single?\"\"Oh! Single, my dear, to be sure! A single man of large fortune; four or five thousand a year. What a fine thing for our girls!\"\"How so? How can it affect them?\"\"My dear Mr. Bennet,\" replied his wife, \"how can you be so tiresome! You must know that I am thinking of his marrying one of them.\"\"Is that his design in settling here?\"\"Design! Nonsense, how can you talk so! But it is very likely that he may fall in love with one of them, and therefore you must visit him as soon as he comes.\"\"I see no occasion for that. You and the girls may go, or you may send them by themselves, which perhaps will be still better, for as you are as handsome as any of them, Mr. Bingley may like you the best of the party.\"\"My dear, you flatter me. I certainly have had my share of beauty, but I do not pretend to be anything extraordinary now. When a woman has five grown-up daughters, she ought to give over thinking of her own beauty.\"\"In such cases, a woman has not often much beauty to think of.\"\"But, my dear, you must indeed go and see Mr. Bingley when he comes into the neighbourhood.\"\"It is more than I engage for, I assure you.\"\"But consider your daughters. Only think what an establishment it would be for one of them. Sir William and Lady Lucas are determined to go, merely on that account, for in general, you know, they visit no newcomers. Indeed you must go, for it will be impossible for us to visit him if you do not.\"\"You are over-scrupulous, surely. I dare say Mr. Bingley will be very glad to see you; and I will send a few lines by you to assure him of my hearty consent to his marrying whichever he chooses of the girls; though I must throw in a good word for my little Lizzy.\"\"I desire you will do no such thing. Lizzy is not a bit better than the others; and I am sure she is not half so handsome as Jane, nor half so good-humoured as Lydia. But you are always giving her the preference.\"\"They have none of them much to recommend them,\" replied he; \"they are all silly and ignorant like other girls; but Lizzy has something more of quickness than her sisters.\"\"Mr. Bennet, how can you abuse your own children in such a way? You take delight in vexing me. You have no compassion for my poor nerves.\"\"You mistake me, my dear. I have a high respect for your nerves. They are my old friends. I have heard you mention them with consideration these last twenty years at least.\"\"Ah, you do not know what I suffer.\"\"But I hope you will get over it, and live to see many young men of four thousand a year come into the neighbourhood.\"\"It will be no use to us, if twenty such should come, since you will not visit them.\"\"Depend upon it, my dear, that when there are twenty, I will visit them all.\"Mr. Bennet was so odd a mixture of quick parts, sarcastic humour, reserve, and caprice, that the experience of three-and-twenty years had been insufficient to make his wife understand his character. Her mind was less difficult to develop. She was a woman of mean understanding, little information, and uncertain temper. When she was discontented, she fancied herself nervous. The business of her life was to get her daughters married; its solace was visiting and news. '"
            ]
          },
          "metadata": {
            "tags": []
          },
          "execution_count": 11
        }
      ]
    },
    {
      "cell_type": "markdown",
      "metadata": {
        "id": "OMjRvtXlI4oi"
      },
      "source": [
        "I will use string library to get list of punctuations. I will remove all punctuation from text."
      ]
    },
    {
      "cell_type": "code",
      "metadata": {
        "colab": {
          "base_uri": "https://localhost:8080/",
          "height": 36
        },
        "id": "e5WzGZfDELQW",
        "outputId": "503ec7f9-47eb-484f-be2d-627b5af59bd0"
      },
      "source": [
        "import string\n",
        "string.punctuation\n"
      ],
      "execution_count": 12,
      "outputs": [
        {
          "output_type": "execute_result",
          "data": {
            "application/vnd.google.colaboratory.intrinsic+json": {
              "type": "string"
            },
            "text/plain": [
              "'!\"#$%&\\'()*+,-./:;<=>?@[\\\\]^_`{|}~'"
            ]
          },
          "metadata": {
            "tags": []
          },
          "execution_count": 12
        }
      ]
    },
    {
      "cell_type": "code",
      "metadata": {
        "colab": {
          "base_uri": "https://localhost:8080/",
          "height": 237
        },
        "id": "-N6NXmK-FmBL",
        "outputId": "aceab103-84a4-41a9-b953-b997d61ebd8e"
      },
      "source": [
        "stanza = stanza.translate(str.maketrans({key:None for key in string.punctuation}))\n",
        "stanza"
      ],
      "execution_count": 13,
      "outputs": [
        {
          "output_type": "execute_result",
          "data": {
            "application/vnd.google.colaboratory.intrinsic+json": {
              "type": "string"
            },
            "text/plain": [
              "'It is a truth universally acknowledged that a single man in possession of a good fortune must be in want of a wifeHowever little known the feelings or views of such a man may be on his first entering a neighbourhood this truth is so well fixed in the minds of the surrounding families that he is considered the rightful property of some one or other of their daughtersMy dear Mr Bennet said his lady to him one day have you heard that Netherfield Park is let at lastMr Bennet replied that he had notBut it is returned she for Mrs Long has just been here and she told me all about itMr Bennet made no answerDo you not want to know who has taken it cried his wife impatientlyYou want to tell me and I have no objection to hearing itThis was invitation enoughWhy my dear you must know Mrs Long says that Netherfield is taken by a young man of large fortune from the north of England that he came down on Monday in a chaise and four to see the place and was so much delighted with it that he agreed with Mr Morris immediately that he is to take possession before Michaelmas and some of his servants are to be in the house by the end of next weekWhat is his nameBingleyIs he married or singleOh Single my dear to be sure A single man of large fortune four or five thousand a year What a fine thing for our girlsHow so How can it affect themMy dear Mr Bennet replied his wife how can you be so tiresome You must know that I am thinking of his marrying one of themIs that his design in settling hereDesign Nonsense how can you talk so But it is very likely that he may fall in love with one of them and therefore you must visit him as soon as he comesI see no occasion for that You and the girls may go or you may send them by themselves which perhaps will be still better for as you are as handsome as any of them Mr Bingley may like you the best of the partyMy dear you flatter me I certainly have had my share of beauty but I do not pretend to be anything extraordinary now When a woman has five grownup daughters she ought to give over thinking of her own beautyIn such cases a woman has not often much beauty to think ofBut my dear you must indeed go and see Mr Bingley when he comes into the neighbourhoodIt is more than I engage for I assure youBut consider your daughters Only think what an establishment it would be for one of them Sir William and Lady Lucas are determined to go merely on that account for in general you know they visit no newcomers Indeed you must go for it will be impossible for us to visit him if you do notYou are overscrupulous surely I dare say Mr Bingley will be very glad to see you and I will send a few lines by you to assure him of my hearty consent to his marrying whichever he chooses of the girls though I must throw in a good word for my little LizzyI desire you will do no such thing Lizzy is not a bit better than the others and I am sure she is not half so handsome as Jane nor half so goodhumoured as Lydia But you are always giving her the preferenceThey have none of them much to recommend them replied he they are all silly and ignorant like other girls but Lizzy has something more of quickness than her sistersMr Bennet how can you abuse your own children in such a way You take delight in vexing me You have no compassion for my poor nervesYou mistake me my dear I have a high respect for your nerves They are my old friends I have heard you mention them with consideration these last twenty years at leastAh you do not know what I sufferBut I hope you will get over it and live to see many young men of four thousand a year come into the neighbourhoodIt will be no use to us if twenty such should come since you will not visit themDepend upon it my dear that when there are twenty I will visit them allMr Bennet was so odd a mixture of quick parts sarcastic humour reserve and caprice that the experience of threeandtwenty years had been insufficient to make his wife understand his character Her mind was less difficult to develop She was a woman of mean understanding little information and uncertain temper When she was discontented she fancied herself nervous The business of her life was to get her daughters married its solace was visiting and news '"
            ]
          },
          "metadata": {
            "tags": []
          },
          "execution_count": 13
        }
      ]
    },
    {
      "cell_type": "code",
      "metadata": {
        "colab": {
          "base_uri": "https://localhost:8080/"
        },
        "id": "SrUyt_zK-ESq",
        "outputId": "e7f285a5-d3a0-4c61-f5cf-44b44144048b"
      },
      "source": [
        "import collections\n",
        "wordCount = collections.Counter(stanza.split())\n",
        "for k,v in sorted(wordCount.items()):\n",
        "  print(f'{k} => {v}')"
      ],
      "execution_count": 14,
      "outputs": [
        {
          "output_type": "stream",
          "text": [
            "A => 1\n",
            "Bennet => 6\n",
            "Bingley => 3\n",
            "But => 2\n",
            "England => 1\n",
            "Her => 1\n",
            "How => 1\n",
            "I => 15\n",
            "Indeed => 1\n",
            "It => 1\n",
            "Jane => 1\n",
            "Lady => 1\n",
            "Lizzy => 2\n",
            "LizzyI => 1\n",
            "Long => 2\n",
            "Lucas => 1\n",
            "Lydia => 1\n",
            "Michaelmas => 1\n",
            "Monday => 1\n",
            "Morris => 1\n",
            "Mr => 6\n",
            "Mrs => 2\n",
            "Netherfield => 2\n",
            "Nonsense => 1\n",
            "Only => 1\n",
            "Park => 1\n",
            "She => 1\n",
            "Single => 1\n",
            "Sir => 1\n",
            "The => 1\n",
            "They => 1\n",
            "What => 1\n",
            "When => 2\n",
            "William => 1\n",
            "You => 4\n",
            "a => 20\n",
            "about => 1\n",
            "abuse => 1\n",
            "account => 1\n",
            "acknowledged => 1\n",
            "affect => 1\n",
            "agreed => 1\n",
            "all => 2\n",
            "allMr => 1\n",
            "always => 1\n",
            "am => 2\n",
            "an => 1\n",
            "and => 16\n",
            "answerDo => 1\n",
            "any => 1\n",
            "anything => 1\n",
            "are => 8\n",
            "as => 7\n",
            "assure => 2\n",
            "at => 2\n",
            "be => 11\n",
            "beauty => 2\n",
            "beautyIn => 1\n",
            "been => 2\n",
            "before => 1\n",
            "best => 1\n",
            "better => 2\n",
            "bit => 1\n",
            "business => 1\n",
            "but => 2\n",
            "by => 4\n",
            "came => 1\n",
            "can => 4\n",
            "caprice => 1\n",
            "cases => 1\n",
            "certainly => 1\n",
            "chaise => 1\n",
            "character => 1\n",
            "children => 1\n",
            "chooses => 1\n",
            "come => 2\n",
            "comes => 1\n",
            "comesI => 1\n",
            "compassion => 1\n",
            "consent => 1\n",
            "consider => 1\n",
            "consideration => 1\n",
            "considered => 1\n",
            "cried => 1\n",
            "dare => 1\n",
            "daughters => 3\n",
            "daughtersMy => 1\n",
            "day => 1\n",
            "dear => 8\n",
            "delight => 1\n",
            "delighted => 1\n",
            "design => 1\n",
            "desire => 1\n",
            "determined => 1\n",
            "develop => 1\n",
            "difficult => 1\n",
            "discontented => 1\n",
            "do => 4\n",
            "down => 1\n",
            "end => 1\n",
            "engage => 1\n",
            "enoughWhy => 1\n",
            "entering => 1\n",
            "establishment => 1\n",
            "experience => 1\n",
            "extraordinary => 1\n",
            "fall => 1\n",
            "families => 1\n",
            "fancied => 1\n",
            "feelings => 1\n",
            "few => 1\n",
            "fine => 1\n",
            "first => 1\n",
            "five => 2\n",
            "fixed => 1\n",
            "flatter => 1\n",
            "for => 12\n",
            "fortune => 3\n",
            "four => 3\n",
            "friends => 1\n",
            "from => 1\n",
            "general => 1\n",
            "get => 2\n",
            "girls => 3\n",
            "girlsHow => 1\n",
            "give => 1\n",
            "giving => 1\n",
            "glad => 1\n",
            "go => 4\n",
            "good => 2\n",
            "goodhumoured => 1\n",
            "grownup => 1\n",
            "had => 3\n",
            "half => 2\n",
            "handsome => 2\n",
            "has => 5\n",
            "have => 7\n",
            "he => 11\n",
            "heard => 2\n",
            "hearing => 1\n",
            "hearty => 1\n",
            "her => 5\n",
            "here => 1\n",
            "hereDesign => 1\n",
            "herself => 1\n",
            "high => 1\n",
            "him => 4\n",
            "his => 11\n",
            "hope => 1\n",
            "house => 1\n",
            "how => 3\n",
            "humour => 1\n",
            "if => 2\n",
            "ignorant => 1\n",
            "immediately => 1\n",
            "impatientlyYou => 1\n",
            "impossible => 1\n",
            "in => 11\n",
            "indeed => 1\n",
            "information => 1\n",
            "insufficient => 1\n",
            "into => 2\n",
            "invitation => 1\n",
            "is => 12\n",
            "it => 9\n",
            "itMr => 1\n",
            "itThis => 1\n",
            "its => 1\n",
            "just => 1\n",
            "know => 5\n",
            "known => 1\n",
            "lady => 1\n",
            "large => 2\n",
            "last => 1\n",
            "lastMr => 1\n",
            "leastAh => 1\n",
            "less => 1\n",
            "let => 1\n",
            "life => 1\n",
            "like => 2\n",
            "likely => 1\n",
            "lines => 1\n",
            "little => 3\n",
            "live => 1\n",
            "love => 1\n",
            "made => 1\n",
            "make => 1\n",
            "man => 4\n",
            "many => 1\n",
            "married => 2\n",
            "marrying => 2\n",
            "may => 5\n",
            "me => 5\n",
            "mean => 1\n",
            "men => 1\n",
            "mention => 1\n",
            "merely => 1\n",
            "mind => 1\n",
            "minds => 1\n",
            "mistake => 1\n",
            "mixture => 1\n",
            "more => 2\n",
            "much => 3\n",
            "must => 7\n",
            "my => 10\n",
            "nameBingleyIs => 1\n",
            "neighbourhood => 1\n",
            "neighbourhoodIt => 2\n",
            "nerves => 1\n",
            "nervesYou => 1\n",
            "nervous => 1\n",
            "newcomers => 1\n",
            "news => 1\n",
            "next => 1\n",
            "no => 7\n",
            "none => 1\n",
            "nor => 1\n",
            "north => 1\n",
            "not => 7\n",
            "notBut => 1\n",
            "notYou => 1\n",
            "now => 1\n",
            "objection => 1\n",
            "occasion => 1\n",
            "odd => 1\n",
            "of => 28\n",
            "ofBut => 1\n",
            "often => 1\n",
            "old => 1\n",
            "on => 3\n",
            "one => 5\n",
            "or => 5\n",
            "other => 2\n",
            "others => 1\n",
            "ought => 1\n",
            "our => 1\n",
            "over => 2\n",
            "overscrupulous => 1\n",
            "own => 2\n",
            "parts => 1\n",
            "partyMy => 1\n",
            "perhaps => 1\n",
            "place => 1\n",
            "poor => 1\n",
            "possession => 2\n",
            "preferenceThey => 1\n",
            "pretend => 1\n",
            "property => 1\n",
            "quick => 1\n",
            "quickness => 1\n",
            "recommend => 1\n",
            "replied => 3\n",
            "reserve => 1\n",
            "respect => 1\n",
            "returned => 1\n",
            "rightful => 1\n",
            "said => 1\n",
            "sarcastic => 1\n",
            "say => 1\n",
            "says => 1\n",
            "see => 5\n",
            "send => 2\n",
            "servants => 1\n",
            "settling => 1\n",
            "share => 1\n",
            "she => 6\n",
            "should => 1\n",
            "silly => 1\n",
            "since => 1\n",
            "single => 2\n",
            "singleOh => 1\n",
            "sistersMr => 1\n",
            "so => 8\n",
            "solace => 1\n",
            "some => 2\n",
            "something => 1\n",
            "soon => 1\n",
            "still => 1\n",
            "such => 5\n",
            "sufferBut => 1\n",
            "sure => 2\n",
            "surely => 1\n",
            "surrounding => 1\n",
            "take => 2\n",
            "taken => 2\n",
            "talk => 1\n",
            "tell => 1\n",
            "temper => 1\n",
            "than => 3\n",
            "that => 15\n",
            "the => 17\n",
            "their => 1\n",
            "them => 8\n",
            "themDepend => 1\n",
            "themIs => 1\n",
            "themMy => 1\n",
            "themselves => 1\n",
            "there => 1\n",
            "therefore => 1\n",
            "these => 1\n",
            "they => 2\n",
            "thing => 2\n",
            "think => 2\n",
            "thinking => 2\n",
            "this => 1\n",
            "though => 1\n",
            "thousand => 2\n",
            "threeandtwenty => 1\n",
            "throw => 1\n",
            "tiresome => 1\n",
            "to => 22\n",
            "told => 1\n",
            "truth => 2\n",
            "twenty => 3\n",
            "uncertain => 1\n",
            "understand => 1\n",
            "understanding => 1\n",
            "universally => 1\n",
            "upon => 1\n",
            "us => 2\n",
            "use => 1\n",
            "very => 2\n",
            "vexing => 1\n",
            "views => 1\n",
            "visit => 5\n",
            "visiting => 1\n",
            "want => 3\n",
            "was => 8\n",
            "way => 1\n",
            "weekWhat => 1\n",
            "well => 1\n",
            "what => 2\n",
            "when => 2\n",
            "which => 1\n",
            "whichever => 1\n",
            "who => 1\n",
            "wife => 3\n",
            "wifeHowever => 1\n",
            "will => 9\n",
            "with => 4\n",
            "woman => 3\n",
            "word => 1\n",
            "would => 1\n",
            "year => 2\n",
            "years => 2\n",
            "you => 23\n",
            "youBut => 1\n",
            "young => 2\n",
            "your => 3\n"
          ],
          "name": "stdout"
        }
      ]
    },
    {
      "cell_type": "code",
      "metadata": {
        "colab": {
          "base_uri": "https://localhost:8080/"
        },
        "id": "XDtz5YdeAwW4",
        "outputId": "9a16a2d4-7b95-4b33-ddcc-e24c1722b0e8"
      },
      "source": [
        "case_insensitive_wordcount = collections.Counter(stanza.lower().split())\n",
        "for k,v in sorted(case_insensitive_wordcount.items()):\n",
        "  print(f'{k} => {v}')"
      ],
      "execution_count": 15,
      "outputs": [
        {
          "output_type": "stream",
          "text": [
            "a => 21\n",
            "about => 1\n",
            "abuse => 1\n",
            "account => 1\n",
            "acknowledged => 1\n",
            "affect => 1\n",
            "agreed => 1\n",
            "all => 2\n",
            "allmr => 1\n",
            "always => 1\n",
            "am => 2\n",
            "an => 1\n",
            "and => 16\n",
            "answerdo => 1\n",
            "any => 1\n",
            "anything => 1\n",
            "are => 8\n",
            "as => 7\n",
            "assure => 2\n",
            "at => 2\n",
            "be => 11\n",
            "beauty => 2\n",
            "beautyin => 1\n",
            "been => 2\n",
            "before => 1\n",
            "bennet => 6\n",
            "best => 1\n",
            "better => 2\n",
            "bingley => 3\n",
            "bit => 1\n",
            "business => 1\n",
            "but => 4\n",
            "by => 4\n",
            "came => 1\n",
            "can => 4\n",
            "caprice => 1\n",
            "cases => 1\n",
            "certainly => 1\n",
            "chaise => 1\n",
            "character => 1\n",
            "children => 1\n",
            "chooses => 1\n",
            "come => 2\n",
            "comes => 1\n",
            "comesi => 1\n",
            "compassion => 1\n",
            "consent => 1\n",
            "consider => 1\n",
            "consideration => 1\n",
            "considered => 1\n",
            "cried => 1\n",
            "dare => 1\n",
            "daughters => 3\n",
            "daughtersmy => 1\n",
            "day => 1\n",
            "dear => 8\n",
            "delight => 1\n",
            "delighted => 1\n",
            "design => 1\n",
            "desire => 1\n",
            "determined => 1\n",
            "develop => 1\n",
            "difficult => 1\n",
            "discontented => 1\n",
            "do => 4\n",
            "down => 1\n",
            "end => 1\n",
            "engage => 1\n",
            "england => 1\n",
            "enoughwhy => 1\n",
            "entering => 1\n",
            "establishment => 1\n",
            "experience => 1\n",
            "extraordinary => 1\n",
            "fall => 1\n",
            "families => 1\n",
            "fancied => 1\n",
            "feelings => 1\n",
            "few => 1\n",
            "fine => 1\n",
            "first => 1\n",
            "five => 2\n",
            "fixed => 1\n",
            "flatter => 1\n",
            "for => 12\n",
            "fortune => 3\n",
            "four => 3\n",
            "friends => 1\n",
            "from => 1\n",
            "general => 1\n",
            "get => 2\n",
            "girls => 3\n",
            "girlshow => 1\n",
            "give => 1\n",
            "giving => 1\n",
            "glad => 1\n",
            "go => 4\n",
            "good => 2\n",
            "goodhumoured => 1\n",
            "grownup => 1\n",
            "had => 3\n",
            "half => 2\n",
            "handsome => 2\n",
            "has => 5\n",
            "have => 7\n",
            "he => 11\n",
            "heard => 2\n",
            "hearing => 1\n",
            "hearty => 1\n",
            "her => 6\n",
            "here => 1\n",
            "heredesign => 1\n",
            "herself => 1\n",
            "high => 1\n",
            "him => 4\n",
            "his => 11\n",
            "hope => 1\n",
            "house => 1\n",
            "how => 4\n",
            "humour => 1\n",
            "i => 15\n",
            "if => 2\n",
            "ignorant => 1\n",
            "immediately => 1\n",
            "impatientlyyou => 1\n",
            "impossible => 1\n",
            "in => 11\n",
            "indeed => 2\n",
            "information => 1\n",
            "insufficient => 1\n",
            "into => 2\n",
            "invitation => 1\n",
            "is => 12\n",
            "it => 10\n",
            "itmr => 1\n",
            "its => 1\n",
            "itthis => 1\n",
            "jane => 1\n",
            "just => 1\n",
            "know => 5\n",
            "known => 1\n",
            "lady => 2\n",
            "large => 2\n",
            "last => 1\n",
            "lastmr => 1\n",
            "leastah => 1\n",
            "less => 1\n",
            "let => 1\n",
            "life => 1\n",
            "like => 2\n",
            "likely => 1\n",
            "lines => 1\n",
            "little => 3\n",
            "live => 1\n",
            "lizzy => 2\n",
            "lizzyi => 1\n",
            "long => 2\n",
            "love => 1\n",
            "lucas => 1\n",
            "lydia => 1\n",
            "made => 1\n",
            "make => 1\n",
            "man => 4\n",
            "many => 1\n",
            "married => 2\n",
            "marrying => 2\n",
            "may => 5\n",
            "me => 5\n",
            "mean => 1\n",
            "men => 1\n",
            "mention => 1\n",
            "merely => 1\n",
            "michaelmas => 1\n",
            "mind => 1\n",
            "minds => 1\n",
            "mistake => 1\n",
            "mixture => 1\n",
            "monday => 1\n",
            "more => 2\n",
            "morris => 1\n",
            "mr => 6\n",
            "mrs => 2\n",
            "much => 3\n",
            "must => 7\n",
            "my => 10\n",
            "namebingleyis => 1\n",
            "neighbourhood => 1\n",
            "neighbourhoodit => 2\n",
            "nerves => 1\n",
            "nervesyou => 1\n",
            "nervous => 1\n",
            "netherfield => 2\n",
            "newcomers => 1\n",
            "news => 1\n",
            "next => 1\n",
            "no => 7\n",
            "none => 1\n",
            "nonsense => 1\n",
            "nor => 1\n",
            "north => 1\n",
            "not => 7\n",
            "notbut => 1\n",
            "notyou => 1\n",
            "now => 1\n",
            "objection => 1\n",
            "occasion => 1\n",
            "odd => 1\n",
            "of => 28\n",
            "ofbut => 1\n",
            "often => 1\n",
            "old => 1\n",
            "on => 3\n",
            "one => 5\n",
            "only => 1\n",
            "or => 5\n",
            "other => 2\n",
            "others => 1\n",
            "ought => 1\n",
            "our => 1\n",
            "over => 2\n",
            "overscrupulous => 1\n",
            "own => 2\n",
            "park => 1\n",
            "parts => 1\n",
            "partymy => 1\n",
            "perhaps => 1\n",
            "place => 1\n",
            "poor => 1\n",
            "possession => 2\n",
            "preferencethey => 1\n",
            "pretend => 1\n",
            "property => 1\n",
            "quick => 1\n",
            "quickness => 1\n",
            "recommend => 1\n",
            "replied => 3\n",
            "reserve => 1\n",
            "respect => 1\n",
            "returned => 1\n",
            "rightful => 1\n",
            "said => 1\n",
            "sarcastic => 1\n",
            "say => 1\n",
            "says => 1\n",
            "see => 5\n",
            "send => 2\n",
            "servants => 1\n",
            "settling => 1\n",
            "share => 1\n",
            "she => 7\n",
            "should => 1\n",
            "silly => 1\n",
            "since => 1\n",
            "single => 3\n",
            "singleoh => 1\n",
            "sir => 1\n",
            "sistersmr => 1\n",
            "so => 8\n",
            "solace => 1\n",
            "some => 2\n",
            "something => 1\n",
            "soon => 1\n",
            "still => 1\n",
            "such => 5\n",
            "sufferbut => 1\n",
            "sure => 2\n",
            "surely => 1\n",
            "surrounding => 1\n",
            "take => 2\n",
            "taken => 2\n",
            "talk => 1\n",
            "tell => 1\n",
            "temper => 1\n",
            "than => 3\n",
            "that => 15\n",
            "the => 18\n",
            "their => 1\n",
            "them => 8\n",
            "themdepend => 1\n",
            "themis => 1\n",
            "themmy => 1\n",
            "themselves => 1\n",
            "there => 1\n",
            "therefore => 1\n",
            "these => 1\n",
            "they => 3\n",
            "thing => 2\n",
            "think => 2\n",
            "thinking => 2\n",
            "this => 1\n",
            "though => 1\n",
            "thousand => 2\n",
            "threeandtwenty => 1\n",
            "throw => 1\n",
            "tiresome => 1\n",
            "to => 22\n",
            "told => 1\n",
            "truth => 2\n",
            "twenty => 3\n",
            "uncertain => 1\n",
            "understand => 1\n",
            "understanding => 1\n",
            "universally => 1\n",
            "upon => 1\n",
            "us => 2\n",
            "use => 1\n",
            "very => 2\n",
            "vexing => 1\n",
            "views => 1\n",
            "visit => 5\n",
            "visiting => 1\n",
            "want => 3\n",
            "was => 8\n",
            "way => 1\n",
            "weekwhat => 1\n",
            "well => 1\n",
            "what => 3\n",
            "when => 4\n",
            "which => 1\n",
            "whichever => 1\n",
            "who => 1\n",
            "wife => 3\n",
            "wifehowever => 1\n",
            "will => 9\n",
            "william => 1\n",
            "with => 4\n",
            "woman => 3\n",
            "word => 1\n",
            "would => 1\n",
            "year => 2\n",
            "years => 2\n",
            "you => 27\n",
            "youbut => 1\n",
            "young => 2\n",
            "your => 3\n"
          ],
          "name": "stdout"
        }
      ]
    },
    {
      "cell_type": "markdown",
      "metadata": {
        "id": "1pLNlQl_Qwts"
      },
      "source": [
        "**c. Data Wrangling with Python: Activity 3 page 49**"
      ]
    },
    {
      "cell_type": "code",
      "metadata": {
        "id": "UcVCZbX2Q0fZ"
      },
      "source": [
        "from itertools import permutations, dropwhile"
      ],
      "execution_count": 16,
      "outputs": []
    },
    {
      "cell_type": "code",
      "metadata": {
        "colab": {
          "base_uri": "https://localhost:8080/"
        },
        "id": "kpEWjskmSBad",
        "outputId": "c893accd-074e-4223-edf6-9464f45dbbcc"
      },
      "source": [
        "permulation_vals = permutations(range(3))\n",
        "permulation_vals"
      ],
      "execution_count": 17,
      "outputs": [
        {
          "output_type": "execute_result",
          "data": {
            "text/plain": [
              "<itertools.permutations at 0x7f5d73ad1470>"
            ]
          },
          "metadata": {
            "tags": []
          },
          "execution_count": 17
        }
      ]
    },
    {
      "cell_type": "code",
      "metadata": {
        "colab": {
          "base_uri": "https://localhost:8080/"
        },
        "id": "i-YiOdVpVMcj",
        "outputId": "337d9af0-97f7-4280-d0d2-1258ec594348"
      },
      "source": [
        "for number_tuple in permutations(range(3)):\n",
        "    print(f'{number_tuple}')\n",
        "    assert isinstance(number_tuple, tuple)"
      ],
      "execution_count": 18,
      "outputs": [
        {
          "output_type": "stream",
          "text": [
            "(0, 1, 2)\n",
            "(0, 2, 1)\n",
            "(1, 0, 2)\n",
            "(1, 2, 0)\n",
            "(2, 0, 1)\n",
            "(2, 1, 0)\n"
          ],
          "name": "stdout"
        }
      ]
    },
    {
      "cell_type": "code",
      "metadata": {
        "colab": {
          "base_uri": "https://localhost:8080/"
        },
        "id": "f8cOAQCYTJnv",
        "outputId": "6e3fdf59-6dee-4db6-eb27-5f054b60933e"
      },
      "source": [
        "newline = \"\\n\"\n",
        "print(f'{newline.join(f\"{val}\" for val in permutations(range(3)))}')"
      ],
      "execution_count": 19,
      "outputs": [
        {
          "output_type": "stream",
          "text": [
            "(0, 1, 2)\n",
            "(0, 2, 1)\n",
            "(1, 0, 2)\n",
            "(1, 2, 0)\n",
            "(2, 0, 1)\n",
            "(2, 1, 0)\n"
          ],
          "name": "stdout"
        }
      ]
    },
    {
      "cell_type": "code",
      "metadata": {
        "colab": {
          "base_uri": "https://localhost:8080/"
        },
        "id": "06HlMscqUyPW",
        "outputId": "e1c33f3a-e443-48a2-9729-f5242032607b"
      },
      "source": [
        "for number_tuple in permutations(range(3)):\n",
        "    print(list(dropwhile(lambda x: x <= 0, number_tuple)))"
      ],
      "execution_count": 20,
      "outputs": [
        {
          "output_type": "stream",
          "text": [
            "[1, 2]\n",
            "[2, 1]\n",
            "[1, 0, 2]\n",
            "[1, 2, 0]\n",
            "[2, 0, 1]\n",
            "[2, 1, 0]\n"
          ],
          "name": "stdout"
        }
      ]
    },
    {
      "cell_type": "code",
      "metadata": {
        "id": "X3HyJoZSW4zg"
      },
      "source": [
        "def convert(list):\n",
        "    res = sum(d * 10**i for i, d in enumerate(list[::-1]))   \n",
        "    return (res)"
      ],
      "execution_count": 21,
      "outputs": []
    },
    {
      "cell_type": "code",
      "metadata": {
        "colab": {
          "base_uri": "https://localhost:8080/"
        },
        "id": "koNtxkb9XSBE",
        "outputId": "0c956942-800c-423e-f709-ad8fd0fe5ab7"
      },
      "source": [
        "for number_tuple in permutations(range(3)):\n",
        "    print(convert(list(dropwhile(lambda x: x <= 0, number_tuple))))"
      ],
      "execution_count": 22,
      "outputs": [
        {
          "output_type": "stream",
          "text": [
            "12\n",
            "21\n",
            "102\n",
            "120\n",
            "201\n",
            "210\n"
          ],
          "name": "stdout"
        }
      ]
    },
    {
      "cell_type": "markdown",
      "metadata": {
        "id": "zgUMTImZbdeq"
      },
      "source": [
        "**d. Data Wrangling with Python: Activity 4 page 59**\n",
        "\n",
        "Changing directory to location where code is checked out from github. Inside Lesson02 and activity04"
      ]
    },
    {
      "cell_type": "code",
      "metadata": {
        "id": "EhvNknNTblCP"
      },
      "source": [
        "os.chdir('/content/drive/MyDrive/Colab Notebooks/Data-Wrangling-with-Python/Lesson02/Activity04')"
      ],
      "execution_count": 23,
      "outputs": []
    },
    {
      "cell_type": "code",
      "metadata": {
        "colab": {
          "base_uri": "https://localhost:8080/"
        },
        "id": "uq3mblysecow",
        "outputId": "51a9871e-0231-47b2-9155-58f5c9ab2675"
      },
      "source": [
        "from itertools import zip_longest\n",
        "\n",
        "def return_dict_from_csv_line(header, line):\n",
        "    # Zip them\n",
        "    zipped_line = zip_longest(header, line, fillvalue=None)\n",
        "    # Use dict comprehension to generate the final dict\n",
        "    ret_dict = {kv[0]: kv[1] for kv in zipped_line}\n",
        "    return ret_dict\n",
        "\n",
        "with open(\"sales_record.csv\", \"r\") as fd:\n",
        "    first_line = fd.readline()\n",
        "    header = first_line.replace(\"\\n\", \"\").split(\",\")\n",
        "    for i, line in enumerate(fd):\n",
        "        # Here we loop over the first 10 lines in order to not to make the output too big\n",
        "        line = line.replace(\"\\n\", \"\").split(\",\")\n",
        "        d = return_dict_from_csv_line(header, line)\n",
        "        print(d)\n",
        "        if i > 10:\n",
        "            break"
      ],
      "execution_count": 24,
      "outputs": [
        {
          "output_type": "stream",
          "text": [
            "{'Region': 'Central America and the Caribbean', 'Country': 'Antigua and Barbuda ', 'Item Type': 'Baby Food', 'Sales Channel': 'Online', 'Order Priority': 'M', 'Order Date': '12/20/2013', 'Order ID': '957081544', 'Ship Date': '1/11/2014', 'Units Sold': '552', 'Unit Price': '255.28', 'Unit Cost': '159.42', 'Total Revenue': '140914.56', 'Total Cost': '87999.84', 'Total Profit': '52914.72'}\n",
            "{'Region': 'Central America and the Caribbean', 'Country': 'Panama', 'Item Type': 'Snacks', 'Sales Channel': 'Offline', 'Order Priority': 'C', 'Order Date': '7/5/2010', 'Order ID': '301644504', 'Ship Date': '7/26/2010', 'Units Sold': '2167', 'Unit Price': '152.58', 'Unit Cost': '97.44', 'Total Revenue': '330640.86', 'Total Cost': '211152.48', 'Total Profit': '119488.38'}\n",
            "{'Region': 'Europe', 'Country': 'Czech Republic', 'Item Type': 'Beverages', 'Sales Channel': 'Offline', 'Order Priority': 'C', 'Order Date': '9/12/2011', 'Order ID': '478051030', 'Ship Date': '9/29/2011', 'Units Sold': '4778', 'Unit Price': '47.45', 'Unit Cost': '31.79', 'Total Revenue': '226716.10', 'Total Cost': '151892.62', 'Total Profit': '74823.48'}\n",
            "{'Region': 'Asia', 'Country': 'North Korea', 'Item Type': 'Cereal', 'Sales Channel': 'Offline', 'Order Priority': 'L', 'Order Date': '5/13/2010', 'Order ID': '892599952', 'Ship Date': '6/15/2010', 'Units Sold': '9016', 'Unit Price': '205.70', 'Unit Cost': '117.11', 'Total Revenue': '1854591.20', 'Total Cost': '1055863.76', 'Total Profit': '798727.44'}\n",
            "{'Region': 'Asia', 'Country': 'Sri Lanka', 'Item Type': 'Snacks', 'Sales Channel': 'Offline', 'Order Priority': 'C', 'Order Date': '7/20/2015', 'Order ID': '571902596', 'Ship Date': '7/27/2015', 'Units Sold': '7542', 'Unit Price': '152.58', 'Unit Cost': '97.44', 'Total Revenue': '1150758.36', 'Total Cost': '734892.48', 'Total Profit': '415865.88'}\n",
            "{'Region': 'Middle East and North Africa', 'Country': 'Morocco', 'Item Type': 'Personal Care', 'Sales Channel': 'Offline', 'Order Priority': 'L', 'Order Date': '11/8/2010', 'Order ID': '412882792', 'Ship Date': '11/22/2010', 'Units Sold': '48', 'Unit Price': '81.73', 'Unit Cost': '56.67', 'Total Revenue': '3923.04', 'Total Cost': '2720.16', 'Total Profit': '1202.88'}\n",
            "{'Region': 'Australia and Oceania', 'Country': 'Federated States of Micronesia', 'Item Type': 'Clothes', 'Sales Channel': 'Offline', 'Order Priority': 'H', 'Order Date': '3/28/2011', 'Order ID': '932776868', 'Ship Date': '5/10/2011', 'Units Sold': '8258', 'Unit Price': '109.28', 'Unit Cost': '35.84', 'Total Revenue': '902434.24', 'Total Cost': '295966.72', 'Total Profit': '606467.52'}\n",
            "{'Region': 'Europe', 'Country': 'Bosnia and Herzegovina', 'Item Type': 'Clothes', 'Sales Channel': 'Online', 'Order Priority': 'M', 'Order Date': '10/14/2013', 'Order ID': '919133651', 'Ship Date': '11/4/2013', 'Units Sold': '927', 'Unit Price': '109.28', 'Unit Cost': '35.84', 'Total Revenue': '101302.56', 'Total Cost': '33223.68', 'Total Profit': '68078.88'}\n",
            "{'Region': 'Middle East and North Africa', 'Country': 'Afghanistan', 'Item Type': 'Clothes', 'Sales Channel': 'Offline', 'Order Priority': 'M', 'Order Date': '8/27/2016', 'Order ID': '579814469', 'Ship Date': '10/5/2016', 'Units Sold': '8841', 'Unit Price': '109.28', 'Unit Cost': '35.84', 'Total Revenue': '966144.48', 'Total Cost': '316861.44', 'Total Profit': '649283.04'}\n",
            "{'Region': 'Sub-Saharan Africa', 'Country': 'Ethiopia', 'Item Type': 'Baby Food', 'Sales Channel': 'Online', 'Order Priority': 'M', 'Order Date': '4/13/2015', 'Order ID': '192993152', 'Ship Date': '5/7/2015', 'Units Sold': '9817', 'Unit Price': '255.28', 'Unit Cost': '159.42', 'Total Revenue': '2506083.76', 'Total Cost': '1565026.14', 'Total Profit': '941057.62'}\n",
            "{'Region': 'Middle East and North Africa', 'Country': 'Turkey', 'Item Type': 'Office Supplies', 'Sales Channel': 'Offline', 'Order Priority': 'C', 'Order Date': '9/25/2013', 'Order ID': '557156026', 'Ship Date': '10/15/2013', 'Units Sold': '3704', 'Unit Price': '651.21', 'Unit Cost': '524.96', 'Total Revenue': '2412081.84', 'Total Cost': '1944451.84', 'Total Profit': '467630.00'}\n",
            "{'Region': 'Middle East and North Africa', 'Country': 'Oman', 'Item Type': 'Cosmetics', 'Sales Channel': 'Online', 'Order Priority': 'M', 'Order Date': '5/12/2013', 'Order ID': '741101920', 'Ship Date': '5/17/2013', 'Units Sold': '7382', 'Unit Price': '437.20', 'Unit Cost': '263.33', 'Total Revenue': '3227410.40', 'Total Cost': '1943902.06', 'Total Profit': '1283508.34'}\n"
          ],
          "name": "stdout"
        }
      ]
    }
  ]
}