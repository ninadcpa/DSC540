{
  "nbformat": 4,
  "nbformat_minor": 0,
  "metadata": {
    "colab": {
      "name": "Week5_6_exercise.ipynb",
      "provenance": [],
      "collapsed_sections": [],
      "toc_visible": true,
      "authorship_tag": "ABX9TyNyevvseCe3Q32BxwVtl5gW",
      "include_colab_link": true
    },
    "kernelspec": {
      "name": "python3",
      "display_name": "Python 3"
    }
  },
  "cells": [
    {
      "cell_type": "markdown",
      "metadata": {
        "id": "view-in-github",
        "colab_type": "text"
      },
      "source": [
        "<a href=\"https://colab.research.google.com/github/ninadcpa/DSC540/blob/main/Week5_6_exercise.ipynb\" target=\"_parent\"><img src=\"https://colab.research.google.com/assets/colab-badge.svg\" alt=\"Open In Colab\"/></a>"
      ]
    },
    {
      "cell_type": "markdown",
      "metadata": {
        "id": "raw3X5gy43f6"
      },
      "source": [
        "# DSC540 Week 5 and 6  Exercise\n",
        "\n",
        "@author Ninad Patkhedkar"
      ]
    },
    {
      "cell_type": "markdown",
      "metadata": {
        "id": "KMqP0W0j4LEO"
      },
      "source": [
        "# **1.  Data Wrangling with Python: Activity 7, page 207**\n"
      ]
    },
    {
      "cell_type": "code",
      "metadata": {
        "colab": {
          "base_uri": "https://localhost:8080/"
        },
        "id": "XcCPt1C24Um3",
        "outputId": "0d939ba1-53c2-4cf6-bfa3-ef1da8e2eb4f"
      },
      "source": [
        "# This code is written for mounting code folder checked out from github on google drive\n",
        "# All assignment code will be maintained inside folder \"DSC540\"\n",
        "# Code from book is inside folder \"Data-Wrangling-with-Python\"\n",
        "\n",
        "from google.colab import drive\n",
        "import sys\n",
        "import os\n",
        "\n",
        "drive.mount('/content/drive')\n",
        "sys.path.append('/content/drive/MyDrive/Colab Notebooks/DSC540')\n",
        "os.chdir('/content/drive/MyDrive/Colab Notebooks/DSC540')\n"
      ],
      "execution_count": 1,
      "outputs": [
        {
          "output_type": "stream",
          "text": [
            "Mounted at /content/drive\n"
          ],
          "name": "stdout"
        }
      ]
    },
    {
      "cell_type": "markdown",
      "metadata": {
        "id": "mYssNPXn0K_a"
      },
      "source": [
        "Task 1 create a soup with bs4 and load the data to work later on it\n"
      ]
    },
    {
      "cell_type": "code",
      "metadata": {
        "id": "Dt1Gt05Jypuj",
        "colab": {
          "base_uri": "https://localhost:8080/"
        },
        "outputId": "1f962577-73e9-432f-bf67-c66da80001ef"
      },
      "source": [
        "from bs4 import BeautifulSoup\n",
        "import pandas as pd\n",
        "import requests\n",
        "\n",
        "resp = requests.get(\"https://en.wikipedia.org/wiki/List_of_countries_by_GDP_(nominal)\")\n",
        "s = resp.text\n",
        "# printing first 500 characters of html page\n",
        "print(s[:500])"
      ],
      "execution_count": 78,
      "outputs": [
        {
          "output_type": "stream",
          "text": [
            "<!DOCTYPE html>\n",
            "<html class=\"client-nojs\" lang=\"en\" dir=\"ltr\">\n",
            "<head>\n",
            "<meta charset=\"UTF-8\"/>\n",
            "<title>List of countries by GDP (nominal) - Wikipedia</title>\n",
            "<script>document.documentElement.className=\"client-js\";RLCONF={\"wgBreakFrames\":!1,\"wgSeparatorTransformTable\":[\"\",\"\"],\"wgDigitTransformTable\":[\"\",\"\"],\"wgDefaultDateFormat\":\"dmy\",\"wgMonthNames\":[\"\",\"January\",\"February\",\"March\",\"April\",\"May\",\"June\",\"July\",\"August\",\"September\",\"October\",\"November\",\"December\"],\"wgRequestId\":\"e0965951-c4a4-49d3-8f\n"
          ],
          "name": "stdout"
        }
      ]
    },
    {
      "cell_type": "code",
      "metadata": {
        "id": "leTejtvvrphq"
      },
      "source": [
        "soup = BeautifulSoup(s)"
      ],
      "execution_count": 3,
      "outputs": []
    },
    {
      "cell_type": "markdown",
      "metadata": {
        "id": "mR2-8K1vcQyt"
      },
      "source": [
        "**Check Number of tables in document**\n",
        "\n",
        "For checking number of tables, will find html element <table> and then count how many such elements in document."
      ]
    },
    {
      "cell_type": "code",
      "metadata": {
        "colab": {
          "base_uri": "https://localhost:8080/"
        },
        "id": "yV_B87ZycUWF",
        "outputId": "9c262acf-75cc-46b1-bd45-97d576ba3053"
      },
      "source": [
        "all_tables = soup.find_all(\"table\")\n",
        "print(f\"Total number of tables are {len(all_tables)}\")"
      ],
      "execution_count": 4,
      "outputs": [
        {
          "output_type": "stream",
          "text": [
            "Total number of tables are 10\n"
          ],
          "name": "stdout"
        }
      ]
    },
    {
      "cell_type": "markdown",
      "metadata": {
        "id": "zA8tbslbcpqr"
      },
      "source": [
        "**Find the right table using the class attribute**\n",
        "\n",
        "Though there 10 tables in document. Not all of them are related to data items. Developer Tools view (inspect) of chrome shows each html element source code. Carefully glancing the code shows that tables containing data is using styleshhet \"wikitable\". We will filter only those tables."
      ]
    },
    {
      "cell_type": "code",
      "metadata": {
        "colab": {
          "base_uri": "https://localhost:8080/"
        },
        "id": "xGVwr-YlzjaB",
        "outputId": "46cdc31f-2e0e-436c-d0b8-d604d01f19d9"
      },
      "source": [
        "data_table = soup.find(\"table\", {\"class\": \"wikitable\"})\n",
        "print(type(data_table))"
      ],
      "execution_count": 5,
      "outputs": [
        {
          "output_type": "stream",
          "text": [
            "<class 'bs4.element.Tag'>\n"
          ],
          "name": "stdout"
        }
      ]
    },
    {
      "cell_type": "markdown",
      "metadata": {
        "id": "OUv8OARq7nyO"
      },
      "source": [
        "**Let's separate the source and the actual data**\n",
        "\n",
        "Traverse table's <tbody> item and find first table row. Then get <td> table data items to find source list"
      ]
    },
    {
      "cell_type": "code",
      "metadata": {
        "id": "YMuOUxDw_Kz_"
      },
      "source": [
        "sources = data_table.tbody.findAll('tr', recursive=False)[0]\n",
        "sources_list = [td for td in sources.findAll('td')]"
      ],
      "execution_count": 79,
      "outputs": []
    },
    {
      "cell_type": "markdown",
      "metadata": {
        "id": "SJz1sT9oeFWT"
      },
      "source": [
        "**Task 5 Checking how to get the source names**"
      ]
    },
    {
      "cell_type": "code",
      "metadata": {
        "colab": {
          "base_uri": "https://localhost:8080/"
        },
        "id": "NOxdaHKBeOll",
        "outputId": "8ba74881-416b-433b-c00c-b0397adc06f6"
      },
      "source": [
        "source_names = [source.findAll('a')[0].getText() for source in sources_list]\n",
        "print(source_names)"
      ],
      "execution_count": 32,
      "outputs": [
        {
          "output_type": "stream",
          "text": [
            "['International Monetary Fund', 'World Bank', 'United Nations']\n"
          ],
          "name": "stdout"
        }
      ]
    },
    {
      "cell_type": "markdown",
      "metadata": {
        "id": "BCy7ekpjU-3I"
      },
      "source": [
        "So there rae 3 tables from 3 sources i.e.\n",
        "\n",
        "\n",
        "*   International Monetary Fund\n",
        "*   World Bank\n",
        "*   United Nations\n"
      ]
    },
    {
      "cell_type": "code",
      "metadata": {
        "colab": {
          "base_uri": "https://localhost:8080/"
        },
        "id": "RbtCa9NTdz8X",
        "outputId": "43b1901e-82dd-4d07-baf2-0534435fd8a1"
      },
      "source": [
        "data = data_table.tbody.findAll('tr', recursive=False)[1].findAll('td', recursive=False)\n",
        "data_tables = []\n",
        "for td in data:\n",
        "    data_tables.append(td.findAll('table'))\n",
        "\n",
        "print(f\"{len(data_tables)}\")"
      ],
      "execution_count": 33,
      "outputs": [
        {
          "output_type": "stream",
          "text": [
            "3\n"
          ],
          "name": "stdout"
        }
      ]
    },
    {
      "cell_type": "markdown",
      "metadata": {
        "id": "Ezc5yLsleW97"
      },
      "source": [
        "**Extract  the header names and data for the first source i.e. International Monetary Fund**"
      ]
    },
    {
      "cell_type": "code",
      "metadata": {
        "colab": {
          "base_uri": "https://localhost:8080/"
        },
        "id": "JSk1Y78rNWua",
        "outputId": "59fd445b-2b38-416f-f9a7-0abbe028b2af"
      },
      "source": [
        "header1 = [th.getText().strip() for th in data_tables[0][0].findAll('tbody')[0].findAll('th')]\n",
        "header1"
      ],
      "execution_count": 10,
      "outputs": [
        {
          "output_type": "execute_result",
          "data": {
            "text/plain": [
              "['Rank', 'Country/Territory', 'GDP(US$million)']"
            ]
          },
          "metadata": {
            "tags": []
          },
          "execution_count": 10
        }
      ]
    },
    {
      "cell_type": "code",
      "metadata": {
        "colab": {
          "base_uri": "https://localhost:8080/",
          "height": 204
        },
        "id": "3y-Ys5HgN5e-",
        "outputId": "2147d6c1-45bf-4a36-d208-9c2ab75b19ba"
      },
      "source": [
        "rows1 = data_tables[0][0].findAll('tbody')[0].findAll('tr')[1:]\n",
        "data_rows1 = [[td.get_text().strip() for td in tr.findAll('td')] for tr in rows1]\n",
        "df1 = pd.DataFrame(data_rows1, columns=header1)\n",
        "df1.head()"
      ],
      "execution_count": 11,
      "outputs": [
        {
          "output_type": "execute_result",
          "data": {
            "text/html": [
              "<div>\n",
              "<style scoped>\n",
              "    .dataframe tbody tr th:only-of-type {\n",
              "        vertical-align: middle;\n",
              "    }\n",
              "\n",
              "    .dataframe tbody tr th {\n",
              "        vertical-align: top;\n",
              "    }\n",
              "\n",
              "    .dataframe thead th {\n",
              "        text-align: right;\n",
              "    }\n",
              "</style>\n",
              "<table border=\"1\" class=\"dataframe\">\n",
              "  <thead>\n",
              "    <tr style=\"text-align: right;\">\n",
              "      <th></th>\n",
              "      <th>Rank</th>\n",
              "      <th>Country/Territory</th>\n",
              "      <th>GDP(US$million)</th>\n",
              "    </tr>\n",
              "  </thead>\n",
              "  <tbody>\n",
              "    <tr>\n",
              "      <th>0</th>\n",
              "      <td></td>\n",
              "      <td>World[21]</td>\n",
              "      <td>93,889,577</td>\n",
              "    </tr>\n",
              "    <tr>\n",
              "      <th>1</th>\n",
              "      <td>1</td>\n",
              "      <td>United States</td>\n",
              "      <td>22,675,271</td>\n",
              "    </tr>\n",
              "    <tr>\n",
              "      <th>2</th>\n",
              "      <td>2</td>\n",
              "      <td>China[n 2]</td>\n",
              "      <td>16,642,318</td>\n",
              "    </tr>\n",
              "    <tr>\n",
              "      <th>3</th>\n",
              "      <td>3</td>\n",
              "      <td>Japan</td>\n",
              "      <td>5,378,136</td>\n",
              "    </tr>\n",
              "    <tr>\n",
              "      <th>4</th>\n",
              "      <td>4</td>\n",
              "      <td>Germany</td>\n",
              "      <td>4,319,286</td>\n",
              "    </tr>\n",
              "  </tbody>\n",
              "</table>\n",
              "</div>"
            ],
            "text/plain": [
              "  Rank Country/Territory GDP(US$million)\n",
              "0              World[21]      93,889,577\n",
              "1    1     United States      22,675,271\n",
              "2    2        China[n 2]      16,642,318\n",
              "3    3             Japan       5,378,136\n",
              "4    4           Germany       4,319,286"
            ]
          },
          "metadata": {
            "tags": []
          },
          "execution_count": 11
        }
      ]
    },
    {
      "cell_type": "markdown",
      "metadata": {
        "id": "7Eoqx89ke3G5"
      },
      "source": [
        "**Extract the header names and data for second source i.e. World Bank**"
      ]
    },
    {
      "cell_type": "code",
      "metadata": {
        "id": "jasftdk2OfgX",
        "colab": {
          "base_uri": "https://localhost:8080/"
        },
        "outputId": "7ec18f25-4571-462e-badc-29da1076aa1d"
      },
      "source": [
        "header2 = [th.getText().strip() for th in data_tables[1][0].findAll('tbody')[0].findAll('th')]\n",
        "header2"
      ],
      "execution_count": 34,
      "outputs": [
        {
          "output_type": "execute_result",
          "data": {
            "text/plain": [
              "['Rank', 'Country/Territory', 'GDP(US$million)']"
            ]
          },
          "metadata": {
            "tags": []
          },
          "execution_count": 34
        }
      ]
    },
    {
      "cell_type": "code",
      "metadata": {
        "id": "Alz3ZgIoxVW6"
      },
      "source": [
        "def find_right_text(i, td):\n",
        "    if i == 0:\n",
        "        return td.getText().strip()\n",
        "    elif i == 1:\n",
        "        return td.getText().strip()\n",
        "    else:\n",
        "        index = td.text.find(\"\\u2660\")\n",
        "        return td.text[index+1:].strip()"
      ],
      "execution_count": 13,
      "outputs": []
    },
    {
      "cell_type": "code",
      "metadata": {
        "colab": {
          "base_uri": "https://localhost:8080/",
          "height": 204
        },
        "id": "l9eHBpUVPLYP",
        "outputId": "5f433f64-32da-4dca-90a7-4f1143175ad2"
      },
      "source": [
        "rows2 = data_tables[1][0].findAll('tbody')[0].findAll('tr')[1:]\n",
        "data_rows2 = [[find_right_text(i, td) for i, td in enumerate(tr.findAll('td'))] for tr in rows2]\n",
        "df2 = pd.DataFrame(data_rows2, columns=header2)\n",
        "df2.head()"
      ],
      "execution_count": 14,
      "outputs": [
        {
          "output_type": "execute_result",
          "data": {
            "text/html": [
              "<div>\n",
              "<style scoped>\n",
              "    .dataframe tbody tr th:only-of-type {\n",
              "        vertical-align: middle;\n",
              "    }\n",
              "\n",
              "    .dataframe tbody tr th {\n",
              "        vertical-align: top;\n",
              "    }\n",
              "\n",
              "    .dataframe thead th {\n",
              "        text-align: right;\n",
              "    }\n",
              "</style>\n",
              "<table border=\"1\" class=\"dataframe\">\n",
              "  <thead>\n",
              "    <tr style=\"text-align: right;\">\n",
              "      <th></th>\n",
              "      <th>Rank</th>\n",
              "      <th>Country/Territory</th>\n",
              "      <th>GDP(US$million)</th>\n",
              "    </tr>\n",
              "  </thead>\n",
              "  <tbody>\n",
              "    <tr>\n",
              "      <th>0</th>\n",
              "      <td></td>\n",
              "      <td>World</td>\n",
              "      <td>87,813,420</td>\n",
              "    </tr>\n",
              "    <tr>\n",
              "      <th>1</th>\n",
              "      <td>1</td>\n",
              "      <td>United States</td>\n",
              "      <td>21,433,226</td>\n",
              "    </tr>\n",
              "    <tr>\n",
              "      <th>2</th>\n",
              "      <td>2</td>\n",
              "      <td>China[n 9]</td>\n",
              "      <td>14,342,903</td>\n",
              "    </tr>\n",
              "    <tr>\n",
              "      <th>3</th>\n",
              "      <td>3</td>\n",
              "      <td>Japan</td>\n",
              "      <td>5,081,770</td>\n",
              "    </tr>\n",
              "    <tr>\n",
              "      <th>4</th>\n",
              "      <td>4</td>\n",
              "      <td>Germany</td>\n",
              "      <td>3,861,124</td>\n",
              "    </tr>\n",
              "  </tbody>\n",
              "</table>\n",
              "</div>"
            ],
            "text/plain": [
              "  Rank Country/Territory GDP(US$million)\n",
              "0                  World      87,813,420\n",
              "1    1     United States      21,433,226\n",
              "2    2        China[n 9]      14,342,903\n",
              "3    3             Japan       5,081,770\n",
              "4    4           Germany       3,861,124"
            ]
          },
          "metadata": {
            "tags": []
          },
          "execution_count": 14
        }
      ]
    },
    {
      "cell_type": "markdown",
      "metadata": {
        "id": "bhZd1sQ5XTV-"
      },
      "source": [
        ""
      ]
    },
    {
      "cell_type": "markdown",
      "metadata": {
        "id": "qbX6kpOGXXBK"
      },
      "source": [
        "**Extract the header names and data for third source i.e. United Nations**"
      ]
    },
    {
      "cell_type": "code",
      "metadata": {
        "colab": {
          "base_uri": "https://localhost:8080/"
        },
        "id": "0lSKoQWARjpn",
        "outputId": "b892413f-3ba3-40c3-edd5-daba4bf8b576"
      },
      "source": [
        "header3 = [th.getText().strip() for th in data_tables[2][0].findAll('tbody')[0].findAll('th')]\n",
        "header3"
      ],
      "execution_count": 15,
      "outputs": [
        {
          "output_type": "execute_result",
          "data": {
            "text/plain": [
              "['Rank', 'Country/Territory', 'GDP(US$million)']"
            ]
          },
          "metadata": {
            "tags": []
          },
          "execution_count": 15
        }
      ]
    },
    {
      "cell_type": "code",
      "metadata": {
        "colab": {
          "base_uri": "https://localhost:8080/",
          "height": 204
        },
        "id": "4blGPmFXfr9M",
        "outputId": "4ccacc13-e1bc-447f-d009-5f5d0fc1c423"
      },
      "source": [
        "rows3 = data_tables[2][0].findAll('tbody')[0].findAll('tr')[1:]\n",
        "data_rows3 = [[find_right_text(i, td) for i, td in enumerate(tr.findAll('td'))] for tr in rows2]\n",
        "df3 = pd.DataFrame(data_rows3, columns=header3)\n",
        "df3.head()"
      ],
      "execution_count": 16,
      "outputs": [
        {
          "output_type": "execute_result",
          "data": {
            "text/html": [
              "<div>\n",
              "<style scoped>\n",
              "    .dataframe tbody tr th:only-of-type {\n",
              "        vertical-align: middle;\n",
              "    }\n",
              "\n",
              "    .dataframe tbody tr th {\n",
              "        vertical-align: top;\n",
              "    }\n",
              "\n",
              "    .dataframe thead th {\n",
              "        text-align: right;\n",
              "    }\n",
              "</style>\n",
              "<table border=\"1\" class=\"dataframe\">\n",
              "  <thead>\n",
              "    <tr style=\"text-align: right;\">\n",
              "      <th></th>\n",
              "      <th>Rank</th>\n",
              "      <th>Country/Territory</th>\n",
              "      <th>GDP(US$million)</th>\n",
              "    </tr>\n",
              "  </thead>\n",
              "  <tbody>\n",
              "    <tr>\n",
              "      <th>0</th>\n",
              "      <td></td>\n",
              "      <td>World</td>\n",
              "      <td>87,813,420</td>\n",
              "    </tr>\n",
              "    <tr>\n",
              "      <th>1</th>\n",
              "      <td>1</td>\n",
              "      <td>United States</td>\n",
              "      <td>21,433,226</td>\n",
              "    </tr>\n",
              "    <tr>\n",
              "      <th>2</th>\n",
              "      <td>2</td>\n",
              "      <td>China[n 9]</td>\n",
              "      <td>14,342,903</td>\n",
              "    </tr>\n",
              "    <tr>\n",
              "      <th>3</th>\n",
              "      <td>3</td>\n",
              "      <td>Japan</td>\n",
              "      <td>5,081,770</td>\n",
              "    </tr>\n",
              "    <tr>\n",
              "      <th>4</th>\n",
              "      <td>4</td>\n",
              "      <td>Germany</td>\n",
              "      <td>3,861,124</td>\n",
              "    </tr>\n",
              "  </tbody>\n",
              "</table>\n",
              "</div>"
            ],
            "text/plain": [
              "  Rank Country/Territory GDP(US$million)\n",
              "0                  World      87,813,420\n",
              "1    1     United States      21,433,226\n",
              "2    2        China[n 9]      14,342,903\n",
              "3    3             Japan       5,081,770\n",
              "4    4           Germany       3,861,124"
            ]
          },
          "metadata": {
            "tags": []
          },
          "execution_count": 16
        }
      ]
    },
    {
      "cell_type": "markdown",
      "metadata": {
        "id": "RwTQyH1O7yoh"
      },
      "source": [
        "# ***2. Data Wrangling with Python: Activity 8, page 233***\n",
        "\n"
      ]
    },
    {
      "cell_type": "code",
      "metadata": {
        "colab": {
          "base_uri": "https://localhost:8080/",
          "height": 204
        },
        "id": "jyAfudM2zkQF",
        "outputId": "c5fe5a52-02bd-4058-c639-85c6a2b76234"
      },
      "source": [
        "import numpy as np\n",
        "import matplotlib.pyplot as plt\n",
        "%matplotlib inline\n",
        "\n",
        "# Load data from csv file to panda dataframe\n",
        "df = pd.read_csv(\"visit_data.csv\")\n",
        "\n",
        "# display first 5 rows\n",
        "df.head(5)"
      ],
      "execution_count": 17,
      "outputs": [
        {
          "output_type": "execute_result",
          "data": {
            "text/html": [
              "<div>\n",
              "<style scoped>\n",
              "    .dataframe tbody tr th:only-of-type {\n",
              "        vertical-align: middle;\n",
              "    }\n",
              "\n",
              "    .dataframe tbody tr th {\n",
              "        vertical-align: top;\n",
              "    }\n",
              "\n",
              "    .dataframe thead th {\n",
              "        text-align: right;\n",
              "    }\n",
              "</style>\n",
              "<table border=\"1\" class=\"dataframe\">\n",
              "  <thead>\n",
              "    <tr style=\"text-align: right;\">\n",
              "      <th></th>\n",
              "      <th>id</th>\n",
              "      <th>first_name</th>\n",
              "      <th>last_name</th>\n",
              "      <th>email</th>\n",
              "      <th>gender</th>\n",
              "      <th>ip_address</th>\n",
              "      <th>visit</th>\n",
              "    </tr>\n",
              "  </thead>\n",
              "  <tbody>\n",
              "    <tr>\n",
              "      <th>0</th>\n",
              "      <td>1</td>\n",
              "      <td>Sonny</td>\n",
              "      <td>Dahl</td>\n",
              "      <td>sdahl0@mysql.com</td>\n",
              "      <td>Male</td>\n",
              "      <td>135.36.96.183</td>\n",
              "      <td>1225.0</td>\n",
              "    </tr>\n",
              "    <tr>\n",
              "      <th>1</th>\n",
              "      <td>2</td>\n",
              "      <td>NaN</td>\n",
              "      <td>NaN</td>\n",
              "      <td>dhoovart1@hud.gov</td>\n",
              "      <td>NaN</td>\n",
              "      <td>237.165.194.143</td>\n",
              "      <td>919.0</td>\n",
              "    </tr>\n",
              "    <tr>\n",
              "      <th>2</th>\n",
              "      <td>3</td>\n",
              "      <td>Gar</td>\n",
              "      <td>Armal</td>\n",
              "      <td>garmal2@technorati.com</td>\n",
              "      <td>NaN</td>\n",
              "      <td>166.43.137.224</td>\n",
              "      <td>271.0</td>\n",
              "    </tr>\n",
              "    <tr>\n",
              "      <th>3</th>\n",
              "      <td>4</td>\n",
              "      <td>Chiarra</td>\n",
              "      <td>Nulty</td>\n",
              "      <td>cnulty3@newyorker.com</td>\n",
              "      <td>NaN</td>\n",
              "      <td>139.98.137.108</td>\n",
              "      <td>1002.0</td>\n",
              "    </tr>\n",
              "    <tr>\n",
              "      <th>4</th>\n",
              "      <td>5</td>\n",
              "      <td>NaN</td>\n",
              "      <td>NaN</td>\n",
              "      <td>sleaver4@elegantthemes.com</td>\n",
              "      <td>NaN</td>\n",
              "      <td>46.117.117.27</td>\n",
              "      <td>2434.0</td>\n",
              "    </tr>\n",
              "  </tbody>\n",
              "</table>\n",
              "</div>"
            ],
            "text/plain": [
              "   id first_name last_name  ... gender       ip_address   visit\n",
              "0   1      Sonny      Dahl  ...   Male    135.36.96.183  1225.0\n",
              "1   2        NaN       NaN  ...    NaN  237.165.194.143   919.0\n",
              "2   3        Gar     Armal  ...    NaN   166.43.137.224   271.0\n",
              "3   4    Chiarra     Nulty  ...    NaN   139.98.137.108  1002.0\n",
              "4   5        NaN       NaN  ...    NaN    46.117.117.27  2434.0\n",
              "\n",
              "[5 rows x 7 columns]"
            ]
          },
          "metadata": {
            "tags": []
          },
          "execution_count": 17
        }
      ]
    },
    {
      "cell_type": "markdown",
      "metadata": {
        "id": "L7nM1EkF0s6C"
      },
      "source": [
        "**Check for duplicates in essential columns i.e. first_name, second_name and email**"
      ]
    },
    {
      "cell_type": "code",
      "metadata": {
        "colab": {
          "base_uri": "https://localhost:8080/"
        },
        "id": "a28iL6ep0gja",
        "outputId": "b63f947e-c79b-46c9-df28-3695307bfb3f"
      },
      "source": [
        "print(f\"First name is duplictaed - {any(df.first_name.duplicated())}\")\n",
        "print(f\"Last name is duplictaed - {any(df.first_name.duplicated())} \")\n",
        "print(f\"Email is duplictaed - {any(df.email.duplicated())}\")"
      ],
      "execution_count": 18,
      "outputs": [
        {
          "output_type": "stream",
          "text": [
            "First name is duplictaed - True\n",
            "Last name is duplictaed - True \n",
            "Email is duplictaed - False\n"
          ],
          "name": "stdout"
        }
      ]
    },
    {
      "cell_type": "markdown",
      "metadata": {
        "id": "q6w_fnzS1ht7"
      },
      "source": [
        "**Check if any essential columns i.e. first_name, last_name and email contains NaN**\n",
        "\n",
        "Check for first_name"
      ]
    },
    {
      "cell_type": "code",
      "metadata": {
        "id": "t_J5ymfC251w",
        "colab": {
          "base_uri": "https://localhost:8080/"
        },
        "outputId": "e2cb8830-3a15-4d03-bd8b-02a544210720"
      },
      "source": [
        "any(df['first_name'].isna())"
      ],
      "execution_count": 35,
      "outputs": [
        {
          "output_type": "execute_result",
          "data": {
            "text/plain": [
              "True"
            ]
          },
          "metadata": {
            "tags": []
          },
          "execution_count": 35
        }
      ]
    },
    {
      "cell_type": "markdown",
      "metadata": {
        "id": "9PLnvxOrcn8T"
      },
      "source": [
        "check for last_name"
      ]
    },
    {
      "cell_type": "code",
      "metadata": {
        "colab": {
          "base_uri": "https://localhost:8080/"
        },
        "id": "-cnJQtJacsCF",
        "outputId": "06f15934-1ae6-42be-924b-e332777f9b7a"
      },
      "source": [
        "any(df['last_name'].isna())"
      ],
      "execution_count": 36,
      "outputs": [
        {
          "output_type": "execute_result",
          "data": {
            "text/plain": [
              "True"
            ]
          },
          "metadata": {
            "tags": []
          },
          "execution_count": 36
        }
      ]
    },
    {
      "cell_type": "markdown",
      "metadata": {
        "id": "m7xB3Vv0cxA6"
      },
      "source": [
        "check for email"
      ]
    },
    {
      "cell_type": "code",
      "metadata": {
        "colab": {
          "base_uri": "https://localhost:8080/"
        },
        "id": "zolIyeLHc0PD",
        "outputId": "51dd1f66-0c85-4ecd-d632-b205903184bd"
      },
      "source": [
        "any(df['email'].isna())"
      ],
      "execution_count": 37,
      "outputs": [
        {
          "output_type": "execute_result",
          "data": {
            "text/plain": [
              "False"
            ]
          },
          "metadata": {
            "tags": []
          },
          "execution_count": 37
        }
      ]
    },
    {
      "cell_type": "markdown",
      "metadata": {
        "id": "Pro920USc4f3"
      },
      "source": [
        "There are missing or NaN values in first name and last name but email column data looks fine."
      ]
    },
    {
      "cell_type": "markdown",
      "metadata": {
        "id": "n4zbIusYdD4q"
      },
      "source": [
        "**Check for outliers and remove outliers if any**\n",
        "\n",
        "Number of visits is the only numeric column where we can find outliers. Finding outliers is tricky business. It needs subject expertise it reality.\n",
        "\n",
        "In this case I will use standard z-score method with threshold +3 and -3"
      ]
    },
    {
      "cell_type": "code",
      "metadata": {
        "colab": {
          "base_uri": "https://localhost:8080/"
        },
        "id": "B7gGua3ddSOE",
        "outputId": "2ca6a415-80c1-41f4-cf62-37cda94be564"
      },
      "source": [
        "orig_size = df.shape\n",
        "orig_size"
      ],
      "execution_count": 40,
      "outputs": [
        {
          "output_type": "execute_result",
          "data": {
            "text/plain": [
              "(1000, 7)"
            ]
          },
          "metadata": {
            "tags": []
          },
          "execution_count": 40
        }
      ]
    },
    {
      "cell_type": "code",
      "metadata": {
        "colab": {
          "base_uri": "https://localhost:8080/"
        },
        "id": "9P2jvvHsfj6D",
        "outputId": "804f68a6-bf32-41f7-cda0-4b8272fb308b"
      },
      "source": [
        "from scipy import stats\n",
        "import numpy as np\n",
        "\n",
        "# Dropping rows where no information about visits available\n",
        "df.dropna(subset=['visit'], inplace=True)\n",
        "df.shape"
      ],
      "execution_count": 51,
      "outputs": [
        {
          "output_type": "execute_result",
          "data": {
            "text/plain": [
              "(974, 7)"
            ]
          },
          "metadata": {
            "tags": []
          },
          "execution_count": 51
        }
      ]
    },
    {
      "cell_type": "code",
      "metadata": {
        "colab": {
          "base_uri": "https://localhost:8080/"
        },
        "id": "Q3meVevFqEh6",
        "outputId": "a4cde53d-3a22-43ab-d7be-92282854284f"
      },
      "source": [
        "any(df['visit'].isna())"
      ],
      "execution_count": 62,
      "outputs": [
        {
          "output_type": "execute_result",
          "data": {
            "text/plain": [
              "False"
            ]
          },
          "metadata": {
            "tags": []
          },
          "execution_count": 62
        }
      ]
    },
    {
      "cell_type": "code",
      "metadata": {
        "colab": {
          "base_uri": "https://localhost:8080/",
          "height": 204
        },
        "id": "JQ8HOqzMmN_A",
        "outputId": "057e21b1-43a0-4bfc-b1a2-6ad984b5af1c"
      },
      "source": [
        "df['visit_zscore'] = np.abs(stats.zscore(df['visit']))\n",
        "df.head(5)"
      ],
      "execution_count": 53,
      "outputs": [
        {
          "output_type": "execute_result",
          "data": {
            "text/html": [
              "<div>\n",
              "<style scoped>\n",
              "    .dataframe tbody tr th:only-of-type {\n",
              "        vertical-align: middle;\n",
              "    }\n",
              "\n",
              "    .dataframe tbody tr th {\n",
              "        vertical-align: top;\n",
              "    }\n",
              "\n",
              "    .dataframe thead th {\n",
              "        text-align: right;\n",
              "    }\n",
              "</style>\n",
              "<table border=\"1\" class=\"dataframe\">\n",
              "  <thead>\n",
              "    <tr style=\"text-align: right;\">\n",
              "      <th></th>\n",
              "      <th>id</th>\n",
              "      <th>first_name</th>\n",
              "      <th>last_name</th>\n",
              "      <th>email</th>\n",
              "      <th>gender</th>\n",
              "      <th>ip_address</th>\n",
              "      <th>visit</th>\n",
              "      <th>visit_zscore</th>\n",
              "    </tr>\n",
              "  </thead>\n",
              "  <tbody>\n",
              "    <tr>\n",
              "      <th>0</th>\n",
              "      <td>1</td>\n",
              "      <td>Sonny</td>\n",
              "      <td>Dahl</td>\n",
              "      <td>sdahl0@mysql.com</td>\n",
              "      <td>Male</td>\n",
              "      <td>135.36.96.183</td>\n",
              "      <td>1225.0</td>\n",
              "      <td>0.325542</td>\n",
              "    </tr>\n",
              "    <tr>\n",
              "      <th>1</th>\n",
              "      <td>2</td>\n",
              "      <td>NaN</td>\n",
              "      <td>NaN</td>\n",
              "      <td>dhoovart1@hud.gov</td>\n",
              "      <td>NaN</td>\n",
              "      <td>237.165.194.143</td>\n",
              "      <td>919.0</td>\n",
              "      <td>0.690467</td>\n",
              "    </tr>\n",
              "    <tr>\n",
              "      <th>2</th>\n",
              "      <td>3</td>\n",
              "      <td>Gar</td>\n",
              "      <td>Armal</td>\n",
              "      <td>garmal2@technorati.com</td>\n",
              "      <td>NaN</td>\n",
              "      <td>166.43.137.224</td>\n",
              "      <td>271.0</td>\n",
              "      <td>1.463249</td>\n",
              "    </tr>\n",
              "    <tr>\n",
              "      <th>3</th>\n",
              "      <td>4</td>\n",
              "      <td>Chiarra</td>\n",
              "      <td>Nulty</td>\n",
              "      <td>cnulty3@newyorker.com</td>\n",
              "      <td>NaN</td>\n",
              "      <td>139.98.137.108</td>\n",
              "      <td>1002.0</td>\n",
              "      <td>0.591484</td>\n",
              "    </tr>\n",
              "    <tr>\n",
              "      <th>4</th>\n",
              "      <td>5</td>\n",
              "      <td>NaN</td>\n",
              "      <td>NaN</td>\n",
              "      <td>sleaver4@elegantthemes.com</td>\n",
              "      <td>NaN</td>\n",
              "      <td>46.117.117.27</td>\n",
              "      <td>2434.0</td>\n",
              "      <td>1.116269</td>\n",
              "    </tr>\n",
              "  </tbody>\n",
              "</table>\n",
              "</div>"
            ],
            "text/plain": [
              "   id first_name last_name  ...       ip_address   visit visit_zscore\n",
              "0   1      Sonny      Dahl  ...    135.36.96.183  1225.0     0.325542\n",
              "1   2        NaN       NaN  ...  237.165.194.143   919.0     0.690467\n",
              "2   3        Gar     Armal  ...   166.43.137.224   271.0     1.463249\n",
              "3   4    Chiarra     Nulty  ...   139.98.137.108  1002.0     0.591484\n",
              "4   5        NaN       NaN  ...    46.117.117.27  2434.0     1.116269\n",
              "\n",
              "[5 rows x 8 columns]"
            ]
          },
          "metadata": {
            "tags": []
          },
          "execution_count": 53
        }
      ]
    },
    {
      "cell_type": "code",
      "metadata": {
        "colab": {
          "base_uri": "https://localhost:8080/"
        },
        "id": "E6o2634Onz4Q",
        "outputId": "2399207c-5664-480b-d369-bb50640ef39f"
      },
      "source": [
        "any(df['visit_zscore'] > 3)"
      ],
      "execution_count": 58,
      "outputs": [
        {
          "output_type": "execute_result",
          "data": {
            "text/plain": [
              "False"
            ]
          },
          "metadata": {
            "tags": []
          },
          "execution_count": 58
        }
      ]
    },
    {
      "cell_type": "code",
      "metadata": {
        "colab": {
          "base_uri": "https://localhost:8080/"
        },
        "id": "30jkOF_ao1u8",
        "outputId": "05623ed7-7213-46fb-d1cb-bdebc8c089dd"
      },
      "source": [
        "any(df['visit_zscore'] < -3)"
      ],
      "execution_count": 59,
      "outputs": [
        {
          "output_type": "execute_result",
          "data": {
            "text/plain": [
              "False"
            ]
          },
          "metadata": {
            "tags": []
          },
          "execution_count": 59
        }
      ]
    },
    {
      "cell_type": "markdown",
      "metadata": {
        "id": "hGROT7qlox3n"
      },
      "source": [
        "There is no record with z-score greater than 3 and les -3. It means the method I used for outlier detection is wrong.\n",
        "\n",
        "I need to find some differnt method. I will try with IQR method.\n",
        "In IQR method, will find inter-qurtile-range and dectct records below Q1 with 1.5*IQR distance and records above Q3 by more than 1.5*IQR distance."
      ]
    },
    {
      "cell_type": "code",
      "metadata": {
        "colab": {
          "base_uri": "https://localhost:8080/"
        },
        "id": "WLqXN4NlpXpg",
        "outputId": "8906f78c-cda1-4b9e-adf2-56e465f80d6b"
      },
      "source": [
        "Q1 = df['visit'].quantile(0.25)\n",
        "Q3 = df['visit'].quantile(0.75)\n",
        "IQR = Q3 - Q1\n",
        "print(f\" Q1 - {Q1} , Q3 - {Q3} , IQR - {IQR} \")"
      ],
      "execution_count": 67,
      "outputs": [
        {
          "output_type": "stream",
          "text": [
            " Q1 - 794.5 , Q3 - 2224.25 , IQR - 1429.75 \n"
          ],
          "name": "stdout"
        }
      ]
    },
    {
      "cell_type": "code",
      "metadata": {
        "colab": {
          "base_uri": "https://localhost:8080/"
        },
        "id": "UdIzrIJ8puvp",
        "outputId": "8c75e5e2-6abe-43a9-b86e-b57f48ed507b"
      },
      "source": [
        "any(df['visit'] < (Q1 - 1.5 * IQR)) "
      ],
      "execution_count": 64,
      "outputs": [
        {
          "output_type": "execute_result",
          "data": {
            "text/plain": [
              "False"
            ]
          },
          "metadata": {
            "tags": []
          },
          "execution_count": 64
        }
      ]
    },
    {
      "cell_type": "code",
      "metadata": {
        "colab": {
          "base_uri": "https://localhost:8080/"
        },
        "id": "X0UlChspqzXC",
        "outputId": "7a81844a-ff27-406f-e23c-c1a045042728"
      },
      "source": [
        "any(df['visit'] > (Q3 + 1.5 * IQR))"
      ],
      "execution_count": 65,
      "outputs": [
        {
          "output_type": "execute_result",
          "data": {
            "text/plain": [
              "False"
            ]
          },
          "metadata": {
            "tags": []
          },
          "execution_count": 65
        }
      ]
    },
    {
      "cell_type": "markdown",
      "metadata": {
        "id": "j6xFGAvqrbxs"
      },
      "source": [
        "Even with IQR method unable to find outlier."
      ]
    },
    {
      "cell_type": "code",
      "metadata": {
        "id": "1UR2joccnBB7"
      },
      "source": [
        "size_prev = df.shape\n",
        "df = df[np.isfinite(df['visit'])] #This is an inplace operation. After this operation the original DataFrame is lost.\n",
        "size_after = df.shape"
      ],
      "execution_count": 68,
      "outputs": []
    },
    {
      "cell_type": "code",
      "metadata": {
        "colab": {
          "base_uri": "https://localhost:8080/"
        },
        "id": "BIq4EF48sYoV",
        "outputId": "a95973fc-a904-45ed-ebf1-fc55e9e928bb"
      },
      "source": [
        "print(f\"The size of previous data was - {size_prev} rows and the size of the new one is - {size_after} rows\")\n",
        "      "
      ],
      "execution_count": 73,
      "outputs": [
        {
          "output_type": "stream",
          "text": [
            "The size of previous data was - (974, 8) rows and the size of the new one is - (974, 8) rows\n"
          ],
          "name": "stdout"
        }
      ]
    },
    {
      "cell_type": "code",
      "metadata": {
        "colab": {
          "base_uri": "https://localhost:8080/",
          "height": 409
        },
        "id": "etcYlbygsdev",
        "outputId": "5b9ac8c0-b3f8-477d-9dee-ecb69a299581"
      },
      "source": [
        "plt.boxplot(df.visit, notch=True)"
      ],
      "execution_count": 74,
      "outputs": [
        {
          "output_type": "execute_result",
          "data": {
            "text/plain": [
              "{'boxes': [<matplotlib.lines.Line2D at 0x7f32fe584a10>],\n",
              " 'caps': [<matplotlib.lines.Line2D at 0x7f32fe56cc50>,\n",
              "  <matplotlib.lines.Line2D at 0x7f32fe56c910>],\n",
              " 'fliers': [<matplotlib.lines.Line2D at 0x7f32fe527250>],\n",
              " 'means': [],\n",
              " 'medians': [<matplotlib.lines.Line2D at 0x7f32feaa8450>],\n",
              " 'whiskers': [<matplotlib.lines.Line2D at 0x7f32fe5842d0>,\n",
              "  <matplotlib.lines.Line2D at 0x7f32fea15e50>]}"
            ]
          },
          "metadata": {
            "tags": []
          },
          "execution_count": 74
        },
        {
          "output_type": "display_data",
          "data": {
            "image/png": "[encoded data removed]",
            "text/plain": [
              "<Figure size 432x288 with 1 Axes>"
            ]
          },
          "metadata": {
            "tags": [],
            "needs_background": "light"
          }
        }
      ]
    },
    {
      "cell_type": "markdown",
      "metadata": {
        "id": "KobGMMgVsns5"
      },
      "source": [
        "s we can see that we have data in this column in the interval (0, 3000). However, the main concentration of the data is between ~700 to ~2300. Let us say that anything beyond 2900 and bellow 100 are outliers for us. We need to get rid of them"
      ]
    },
    {
      "cell_type": "code",
      "metadata": {
        "id": "l-8ZU8VmspUg"
      },
      "source": [
        "df1 = df[(df['visit'] <= 2900) & (df['visit'] >= 100)]"
      ],
      "execution_count": 75,
      "outputs": []
    },
    {
      "cell_type": "code",
      "metadata": {
        "colab": {
          "base_uri": "https://localhost:8080/"
        },
        "id": "VFe083e4suTI",
        "outputId": "a789151e-451a-4d27-ed4c-3e5f0498d124"
      },
      "source": [
        "print(f\"After getting rid of outliers the new size of the data is - {df1.shape}\")"
      ],
      "execution_count": 76,
      "outputs": [
        {
          "output_type": "stream",
          "text": [
            "After getting rid of outliers the new size of the data is - (923, 8)\n"
          ],
          "name": "stdout"
        }
      ]
    },
    {
      "cell_type": "markdown",
      "metadata": {
        "id": "zAYDHKCdtRNy"
      },
      "source": [
        "Notice extra column I added for z-score caused change in shape i.e. columns as 8 instead of 7"
      ]
    },
    {
      "cell_type": "markdown",
      "metadata": {
        "id": "eHyWcMSbgWYv"
      },
      "source": [
        "# **3. Insert data into a SQL Lite database – create a table with the following data (Hint: Python for Data Analysis page 191):**\n",
        "\n",
        "a. Name, Address, City, State, Zip, Phone Number\n",
        "\n"
      ]
    },
    {
      "cell_type": "code",
      "metadata": {
        "id": "xLvp8wbxgeO0"
      },
      "source": [
        "sqlite_db_path = '/content/drive/MyDrive/sqlite_databases'"
      ],
      "execution_count": 20,
      "outputs": []
    },
    {
      "cell_type": "code",
      "metadata": {
        "id": "_rUtuPnSiOOh"
      },
      "source": [
        "import sqlite3\n",
        "conn = sqlite3.connect(sqlite_db_path + 'peoples.db')"
      ],
      "execution_count": 21,
      "outputs": []
    },
    {
      "cell_type": "code",
      "metadata": {
        "id": "metIjQ4ti3VF"
      },
      "source": [
        "sql_create_peoples_table = \"\"\" CREATE TABLE IF NOT EXISTS peoples (\n",
        "                                        name VARCHAR(30) NOT NULL,\n",
        "                                        address VARCHAR(30),\n",
        "                                        city VARCHAR(20),\n",
        "                                        zip VARCHAR(5),\n",
        "                                        phone_number VARCHAR(10) \n",
        "                                    ); \"\"\"\n",
        "\n",
        "if conn is not None:\n",
        "    try:\n",
        "        conn.execute(sql_create_peoples_table)\n",
        "    except Error as e:\n",
        "        print(e)\n",
        "else:\n",
        "    print(f\"Invalid database connection\")"
      ],
      "execution_count": 22,
      "outputs": []
    },
    {
      "cell_type": "code",
      "metadata": {
        "id": "dgKEM6AnQ0g1"
      },
      "source": [
        "conn.commit()"
      ],
      "execution_count": 23,
      "outputs": []
    },
    {
      "cell_type": "markdown",
      "metadata": {
        "id": "5wFbYbodgb7P"
      },
      "source": [
        "b. Add at least 10 rows of data and submit your code with a query generating your results."
      ]
    },
    {
      "cell_type": "code",
      "metadata": {
        "id": "zTmOSqggTmQA"
      },
      "source": [
        "# Creating dataset\n",
        "data = [\n",
        "        ('John Doe','100 Becker Street','Chicago','60015','4536273492'),\n",
        "        ('Shane Warn','101 Becker Street','Chicago','60015','4536274322'),\n",
        "        ('Sachin Tendulkar','102 Becker Street','Chicago','60015','4536268921'),\n",
        "        ('Steve Jobs','103 Becker Street','Chicago','60015','4536268655'),\n",
        "        ('Tom Hanks','104 Becker Street','Chicago','60018','7773268655'),\n",
        "        ('Kate Whinslet','105 Becker Street','New York','45328','8833268655'),\n",
        "        ('Serena Williams','106 Becker Street','New York','45328','8833268321'),\n",
        "        ('Magnus Larsen','107 Becker Street','Tampa','85428','9933268345'),\n",
        "        ('Andre Agassi','108 Becker Street','Dallas','75428','6833268347'),\n",
        "        ('Sharva P','109 Becker Street','Dallas','75428','6833268347'),\n",
        "]"
      ],
      "execution_count": 24,
      "outputs": []
    },
    {
      "cell_type": "code",
      "metadata": {
        "id": "ntmmOTEbW-0L"
      },
      "source": [
        "stmt = \"insert into peoples values (?,?,?,?,?)\"\n",
        "conn.executemany(stmt,data)\n",
        "conn.commit()"
      ],
      "execution_count": 25,
      "outputs": []
    },
    {
      "cell_type": "code",
      "metadata": {
        "colab": {
          "base_uri": "https://localhost:8080/"
        },
        "id": "JLvbnIs9Xi6s",
        "outputId": "4b3097c2-3402-4e50-ec32-dcb930a702fd"
      },
      "source": [
        "cursor = conn.execute(\"select * from peoples\")\n",
        "rows = cursor.fetchall()\n",
        "rows"
      ],
      "execution_count": 26,
      "outputs": [
        {
          "output_type": "execute_result",
          "data": {
            "text/plain": [
              "[('John Doe', '100 Becker Street', 'Chicago', '60015', '4536273492'),\n",
              " ('Shane Warn', '101 Becker Street', 'Chicago', '60015', '4536274322'),\n",
              " ('Sachin Tendulkar', '102 Becker Street', 'Chicago', '60015', '4536268921'),\n",
              " ('Steve Jobs', '103 Becker Street', 'Chicago', '60015', '4536268655'),\n",
              " ('Tom Hanks', '104 Becker Street', 'Chicago', '60018', '7773268655'),\n",
              " ('Kate Whinslet', '105 Becker Street', 'New York', '45328', '8833268655'),\n",
              " ('Serena Williams', '106 Becker Street', 'New York', '45328', '8833268321'),\n",
              " ('Magnus Larsen', '107 Becker Street', 'Tampa', '85428', '9933268345'),\n",
              " ('Andre Agassi', '108 Becker Street', 'Dallas', '75428', '6833268347'),\n",
              " ('Sharva P', '109 Becker Street', 'Dallas', '75428', '6833268347'),\n",
              " ('John Doe', '100 Becker Street', 'Chicago', '60015', '4536273492'),\n",
              " ('Shane Warn', '101 Becker Street', 'Chicago', '60015', '4536274322'),\n",
              " ('Sachin Tendulkar', '102 Becker Street', 'Chicago', '60015', '4536268921'),\n",
              " ('Steve Jobs', '103 Becker Street', 'Chicago', '60015', '4536268655'),\n",
              " ('Tom Hanks', '104 Becker Street', 'Chicago', '60018', '7773268655'),\n",
              " ('Kate Whinslet', '105 Becker Street', 'New York', '45328', '8833268655'),\n",
              " ('Serena Williams', '106 Becker Street', 'New York', '45328', '8833268321'),\n",
              " ('Magnus Larsen', '107 Becker Street', 'Tampa', '85428', '9933268345'),\n",
              " ('Andre Agassi', '108 Becker Street', 'Dallas', '75428', '6833268347'),\n",
              " ('Sharva P', '109 Becker Street', 'Dallas', '75428', '6833268347'),\n",
              " ('John Doe', '100 Becker Street', 'Chicago', '60015', '4536273492'),\n",
              " ('Shane Warn', '101 Becker Street', 'Chicago', '60015', '4536274322'),\n",
              " ('Sachin Tendulkar', '102 Becker Street', 'Chicago', '60015', '4536268921'),\n",
              " ('Steve Jobs', '103 Becker Street', 'Chicago', '60015', '4536268655'),\n",
              " ('Tom Hanks', '104 Becker Street', 'Chicago', '60018', '7773268655'),\n",
              " ('Kate Whinslet', '105 Becker Street', 'New York', '45328', '8833268655'),\n",
              " ('Serena Williams', '106 Becker Street', 'New York', '45328', '8833268321'),\n",
              " ('Magnus Larsen', '107 Becker Street', 'Tampa', '85428', '9933268345'),\n",
              " ('Andre Agassi', '108 Becker Street', 'Dallas', '75428', '6833268347'),\n",
              " ('Sharva P', '109 Becker Street', 'Dallas', '75428', '6833268347'),\n",
              " ('John Doe', '100 Becker Street', 'Chicago', '60015', '4536273492'),\n",
              " ('Shane Warn', '101 Becker Street', 'Chicago', '60015', '4536274322'),\n",
              " ('Sachin Tendulkar', '102 Becker Street', 'Chicago', '60015', '4536268921'),\n",
              " ('Steve Jobs', '103 Becker Street', 'Chicago', '60015', '4536268655'),\n",
              " ('Tom Hanks', '104 Becker Street', 'Chicago', '60018', '7773268655'),\n",
              " ('Kate Whinslet', '105 Becker Street', 'New York', '45328', '8833268655'),\n",
              " ('Serena Williams', '106 Becker Street', 'New York', '45328', '8833268321'),\n",
              " ('Magnus Larsen', '107 Becker Street', 'Tampa', '85428', '9933268345'),\n",
              " ('Andre Agassi', '108 Becker Street', 'Dallas', '75428', '6833268347'),\n",
              " ('Sharva P', '109 Becker Street', 'Dallas', '75428', '6833268347')]"
            ]
          },
          "metadata": {
            "tags": []
          },
          "execution_count": 26
        }
      ]
    },
    {
      "cell_type": "code",
      "metadata": {
        "colab": {
          "base_uri": "https://localhost:8080/"
        },
        "id": "UUba_v4_YbI6",
        "outputId": "d7816060-0169-435d-d880-052b904ff004"
      },
      "source": [
        "cursor.description"
      ],
      "execution_count": 27,
      "outputs": [
        {
          "output_type": "execute_result",
          "data": {
            "text/plain": [
              "(('name', None, None, None, None, None, None),\n",
              " ('address', None, None, None, None, None, None),\n",
              " ('city', None, None, None, None, None, None),\n",
              " ('zip', None, None, None, None, None, None),\n",
              " ('phone_number', None, None, None, None, None, None))"
            ]
          },
          "metadata": {
            "tags": []
          },
          "execution_count": 27
        }
      ]
    },
    {
      "cell_type": "code",
      "metadata": {
        "colab": {
          "base_uri": "https://localhost:8080/",
          "height": 1000
        },
        "id": "VCWBJlFKYiB-",
        "outputId": "56e7d294-f989-404a-f194-f7efdad6b162"
      },
      "source": [
        "pd.DataFrame(rows, columns=[x[0] for x in cursor.description])"
      ],
      "execution_count": 28,
      "outputs": [
        {
          "output_type": "execute_result",
          "data": {
            "text/html": [
              "<div>\n",
              "<style scoped>\n",
              "    .dataframe tbody tr th:only-of-type {\n",
              "        vertical-align: middle;\n",
              "    }\n",
              "\n",
              "    .dataframe tbody tr th {\n",
              "        vertical-align: top;\n",
              "    }\n",
              "\n",
              "    .dataframe thead th {\n",
              "        text-align: right;\n",
              "    }\n",
              "</style>\n",
              "<table border=\"1\" class=\"dataframe\">\n",
              "  <thead>\n",
              "    <tr style=\"text-align: right;\">\n",
              "      <th></th>\n",
              "      <th>name</th>\n",
              "      <th>address</th>\n",
              "      <th>city</th>\n",
              "      <th>zip</th>\n",
              "      <th>phone_number</th>\n",
              "    </tr>\n",
              "  </thead>\n",
              "  <tbody>\n",
              "    <tr>\n",
              "      <th>0</th>\n",
              "      <td>John Doe</td>\n",
              "      <td>100 Becker Street</td>\n",
              "      <td>Chicago</td>\n",
              "      <td>60015</td>\n",
              "      <td>4536273492</td>\n",
              "    </tr>\n",
              "    <tr>\n",
              "      <th>1</th>\n",
              "      <td>Shane Warn</td>\n",
              "      <td>101 Becker Street</td>\n",
              "      <td>Chicago</td>\n",
              "      <td>60015</td>\n",
              "      <td>4536274322</td>\n",
              "    </tr>\n",
              "    <tr>\n",
              "      <th>2</th>\n",
              "      <td>Sachin Tendulkar</td>\n",
              "      <td>102 Becker Street</td>\n",
              "      <td>Chicago</td>\n",
              "      <td>60015</td>\n",
              "      <td>4536268921</td>\n",
              "    </tr>\n",
              "    <tr>\n",
              "      <th>3</th>\n",
              "      <td>Steve Jobs</td>\n",
              "      <td>103 Becker Street</td>\n",
              "      <td>Chicago</td>\n",
              "      <td>60015</td>\n",
              "      <td>4536268655</td>\n",
              "    </tr>\n",
              "    <tr>\n",
              "      <th>4</th>\n",
              "      <td>Tom Hanks</td>\n",
              "      <td>104 Becker Street</td>\n",
              "      <td>Chicago</td>\n",
              "      <td>60018</td>\n",
              "      <td>7773268655</td>\n",
              "    </tr>\n",
              "    <tr>\n",
              "      <th>5</th>\n",
              "      <td>Kate Whinslet</td>\n",
              "      <td>105 Becker Street</td>\n",
              "      <td>New York</td>\n",
              "      <td>45328</td>\n",
              "      <td>8833268655</td>\n",
              "    </tr>\n",
              "    <tr>\n",
              "      <th>6</th>\n",
              "      <td>Serena Williams</td>\n",
              "      <td>106 Becker Street</td>\n",
              "      <td>New York</td>\n",
              "      <td>45328</td>\n",
              "      <td>8833268321</td>\n",
              "    </tr>\n",
              "    <tr>\n",
              "      <th>7</th>\n",
              "      <td>Magnus Larsen</td>\n",
              "      <td>107 Becker Street</td>\n",
              "      <td>Tampa</td>\n",
              "      <td>85428</td>\n",
              "      <td>9933268345</td>\n",
              "    </tr>\n",
              "    <tr>\n",
              "      <th>8</th>\n",
              "      <td>Andre Agassi</td>\n",
              "      <td>108 Becker Street</td>\n",
              "      <td>Dallas</td>\n",
              "      <td>75428</td>\n",
              "      <td>6833268347</td>\n",
              "    </tr>\n",
              "    <tr>\n",
              "      <th>9</th>\n",
              "      <td>Sharva P</td>\n",
              "      <td>109 Becker Street</td>\n",
              "      <td>Dallas</td>\n",
              "      <td>75428</td>\n",
              "      <td>6833268347</td>\n",
              "    </tr>\n",
              "    <tr>\n",
              "      <th>10</th>\n",
              "      <td>John Doe</td>\n",
              "      <td>100 Becker Street</td>\n",
              "      <td>Chicago</td>\n",
              "      <td>60015</td>\n",
              "      <td>4536273492</td>\n",
              "    </tr>\n",
              "    <tr>\n",
              "      <th>11</th>\n",
              "      <td>Shane Warn</td>\n",
              "      <td>101 Becker Street</td>\n",
              "      <td>Chicago</td>\n",
              "      <td>60015</td>\n",
              "      <td>4536274322</td>\n",
              "    </tr>\n",
              "    <tr>\n",
              "      <th>12</th>\n",
              "      <td>Sachin Tendulkar</td>\n",
              "      <td>102 Becker Street</td>\n",
              "      <td>Chicago</td>\n",
              "      <td>60015</td>\n",
              "      <td>4536268921</td>\n",
              "    </tr>\n",
              "    <tr>\n",
              "      <th>13</th>\n",
              "      <td>Steve Jobs</td>\n",
              "      <td>103 Becker Street</td>\n",
              "      <td>Chicago</td>\n",
              "      <td>60015</td>\n",
              "      <td>4536268655</td>\n",
              "    </tr>\n",
              "    <tr>\n",
              "      <th>14</th>\n",
              "      <td>Tom Hanks</td>\n",
              "      <td>104 Becker Street</td>\n",
              "      <td>Chicago</td>\n",
              "      <td>60018</td>\n",
              "      <td>7773268655</td>\n",
              "    </tr>\n",
              "    <tr>\n",
              "      <th>15</th>\n",
              "      <td>Kate Whinslet</td>\n",
              "      <td>105 Becker Street</td>\n",
              "      <td>New York</td>\n",
              "      <td>45328</td>\n",
              "      <td>8833268655</td>\n",
              "    </tr>\n",
              "    <tr>\n",
              "      <th>16</th>\n",
              "      <td>Serena Williams</td>\n",
              "      <td>106 Becker Street</td>\n",
              "      <td>New York</td>\n",
              "      <td>45328</td>\n",
              "      <td>8833268321</td>\n",
              "    </tr>\n",
              "    <tr>\n",
              "      <th>17</th>\n",
              "      <td>Magnus Larsen</td>\n",
              "      <td>107 Becker Street</td>\n",
              "      <td>Tampa</td>\n",
              "      <td>85428</td>\n",
              "      <td>9933268345</td>\n",
              "    </tr>\n",
              "    <tr>\n",
              "      <th>18</th>\n",
              "      <td>Andre Agassi</td>\n",
              "      <td>108 Becker Street</td>\n",
              "      <td>Dallas</td>\n",
              "      <td>75428</td>\n",
              "      <td>6833268347</td>\n",
              "    </tr>\n",
              "    <tr>\n",
              "      <th>19</th>\n",
              "      <td>Sharva P</td>\n",
              "      <td>109 Becker Street</td>\n",
              "      <td>Dallas</td>\n",
              "      <td>75428</td>\n",
              "      <td>6833268347</td>\n",
              "    </tr>\n",
              "    <tr>\n",
              "      <th>20</th>\n",
              "      <td>John Doe</td>\n",
              "      <td>100 Becker Street</td>\n",
              "      <td>Chicago</td>\n",
              "      <td>60015</td>\n",
              "      <td>4536273492</td>\n",
              "    </tr>\n",
              "    <tr>\n",
              "      <th>21</th>\n",
              "      <td>Shane Warn</td>\n",
              "      <td>101 Becker Street</td>\n",
              "      <td>Chicago</td>\n",
              "      <td>60015</td>\n",
              "      <td>4536274322</td>\n",
              "    </tr>\n",
              "    <tr>\n",
              "      <th>22</th>\n",
              "      <td>Sachin Tendulkar</td>\n",
              "      <td>102 Becker Street</td>\n",
              "      <td>Chicago</td>\n",
              "      <td>60015</td>\n",
              "      <td>4536268921</td>\n",
              "    </tr>\n",
              "    <tr>\n",
              "      <th>23</th>\n",
              "      <td>Steve Jobs</td>\n",
              "      <td>103 Becker Street</td>\n",
              "      <td>Chicago</td>\n",
              "      <td>60015</td>\n",
              "      <td>4536268655</td>\n",
              "    </tr>\n",
              "    <tr>\n",
              "      <th>24</th>\n",
              "      <td>Tom Hanks</td>\n",
              "      <td>104 Becker Street</td>\n",
              "      <td>Chicago</td>\n",
              "      <td>60018</td>\n",
              "      <td>7773268655</td>\n",
              "    </tr>\n",
              "    <tr>\n",
              "      <th>25</th>\n",
              "      <td>Kate Whinslet</td>\n",
              "      <td>105 Becker Street</td>\n",
              "      <td>New York</td>\n",
              "      <td>45328</td>\n",
              "      <td>8833268655</td>\n",
              "    </tr>\n",
              "    <tr>\n",
              "      <th>26</th>\n",
              "      <td>Serena Williams</td>\n",
              "      <td>106 Becker Street</td>\n",
              "      <td>New York</td>\n",
              "      <td>45328</td>\n",
              "      <td>8833268321</td>\n",
              "    </tr>\n",
              "    <tr>\n",
              "      <th>27</th>\n",
              "      <td>Magnus Larsen</td>\n",
              "      <td>107 Becker Street</td>\n",
              "      <td>Tampa</td>\n",
              "      <td>85428</td>\n",
              "      <td>9933268345</td>\n",
              "    </tr>\n",
              "    <tr>\n",
              "      <th>28</th>\n",
              "      <td>Andre Agassi</td>\n",
              "      <td>108 Becker Street</td>\n",
              "      <td>Dallas</td>\n",
              "      <td>75428</td>\n",
              "      <td>6833268347</td>\n",
              "    </tr>\n",
              "    <tr>\n",
              "      <th>29</th>\n",
              "      <td>Sharva P</td>\n",
              "      <td>109 Becker Street</td>\n",
              "      <td>Dallas</td>\n",
              "      <td>75428</td>\n",
              "      <td>6833268347</td>\n",
              "    </tr>\n",
              "    <tr>\n",
              "      <th>30</th>\n",
              "      <td>John Doe</td>\n",
              "      <td>100 Becker Street</td>\n",
              "      <td>Chicago</td>\n",
              "      <td>60015</td>\n",
              "      <td>4536273492</td>\n",
              "    </tr>\n",
              "    <tr>\n",
              "      <th>31</th>\n",
              "      <td>Shane Warn</td>\n",
              "      <td>101 Becker Street</td>\n",
              "      <td>Chicago</td>\n",
              "      <td>60015</td>\n",
              "      <td>4536274322</td>\n",
              "    </tr>\n",
              "    <tr>\n",
              "      <th>32</th>\n",
              "      <td>Sachin Tendulkar</td>\n",
              "      <td>102 Becker Street</td>\n",
              "      <td>Chicago</td>\n",
              "      <td>60015</td>\n",
              "      <td>4536268921</td>\n",
              "    </tr>\n",
              "    <tr>\n",
              "      <th>33</th>\n",
              "      <td>Steve Jobs</td>\n",
              "      <td>103 Becker Street</td>\n",
              "      <td>Chicago</td>\n",
              "      <td>60015</td>\n",
              "      <td>4536268655</td>\n",
              "    </tr>\n",
              "    <tr>\n",
              "      <th>34</th>\n",
              "      <td>Tom Hanks</td>\n",
              "      <td>104 Becker Street</td>\n",
              "      <td>Chicago</td>\n",
              "      <td>60018</td>\n",
              "      <td>7773268655</td>\n",
              "    </tr>\n",
              "    <tr>\n",
              "      <th>35</th>\n",
              "      <td>Kate Whinslet</td>\n",
              "      <td>105 Becker Street</td>\n",
              "      <td>New York</td>\n",
              "      <td>45328</td>\n",
              "      <td>8833268655</td>\n",
              "    </tr>\n",
              "    <tr>\n",
              "      <th>36</th>\n",
              "      <td>Serena Williams</td>\n",
              "      <td>106 Becker Street</td>\n",
              "      <td>New York</td>\n",
              "      <td>45328</td>\n",
              "      <td>8833268321</td>\n",
              "    </tr>\n",
              "    <tr>\n",
              "      <th>37</th>\n",
              "      <td>Magnus Larsen</td>\n",
              "      <td>107 Becker Street</td>\n",
              "      <td>Tampa</td>\n",
              "      <td>85428</td>\n",
              "      <td>9933268345</td>\n",
              "    </tr>\n",
              "    <tr>\n",
              "      <th>38</th>\n",
              "      <td>Andre Agassi</td>\n",
              "      <td>108 Becker Street</td>\n",
              "      <td>Dallas</td>\n",
              "      <td>75428</td>\n",
              "      <td>6833268347</td>\n",
              "    </tr>\n",
              "    <tr>\n",
              "      <th>39</th>\n",
              "      <td>Sharva P</td>\n",
              "      <td>109 Becker Street</td>\n",
              "      <td>Dallas</td>\n",
              "      <td>75428</td>\n",
              "      <td>6833268347</td>\n",
              "    </tr>\n",
              "  </tbody>\n",
              "</table>\n",
              "</div>"
            ],
            "text/plain": [
              "                name            address      city    zip phone_number\n",
              "0           John Doe  100 Becker Street   Chicago  60015   4536273492\n",
              "1         Shane Warn  101 Becker Street   Chicago  60015   4536274322\n",
              "2   Sachin Tendulkar  102 Becker Street   Chicago  60015   4536268921\n",
              "3         Steve Jobs  103 Becker Street   Chicago  60015   4536268655\n",
              "4          Tom Hanks  104 Becker Street   Chicago  60018   7773268655\n",
              "5      Kate Whinslet  105 Becker Street  New York  45328   8833268655\n",
              "6    Serena Williams  106 Becker Street  New York  45328   8833268321\n",
              "7      Magnus Larsen  107 Becker Street     Tampa  85428   9933268345\n",
              "8       Andre Agassi  108 Becker Street    Dallas  75428   6833268347\n",
              "9           Sharva P  109 Becker Street    Dallas  75428   6833268347\n",
              "10          John Doe  100 Becker Street   Chicago  60015   4536273492\n",
              "11        Shane Warn  101 Becker Street   Chicago  60015   4536274322\n",
              "12  Sachin Tendulkar  102 Becker Street   Chicago  60015   4536268921\n",
              "13        Steve Jobs  103 Becker Street   Chicago  60015   4536268655\n",
              "14         Tom Hanks  104 Becker Street   Chicago  60018   7773268655\n",
              "15     Kate Whinslet  105 Becker Street  New York  45328   8833268655\n",
              "16   Serena Williams  106 Becker Street  New York  45328   8833268321\n",
              "17     Magnus Larsen  107 Becker Street     Tampa  85428   9933268345\n",
              "18      Andre Agassi  108 Becker Street    Dallas  75428   6833268347\n",
              "19          Sharva P  109 Becker Street    Dallas  75428   6833268347\n",
              "20          John Doe  100 Becker Street   Chicago  60015   4536273492\n",
              "21        Shane Warn  101 Becker Street   Chicago  60015   4536274322\n",
              "22  Sachin Tendulkar  102 Becker Street   Chicago  60015   4536268921\n",
              "23        Steve Jobs  103 Becker Street   Chicago  60015   4536268655\n",
              "24         Tom Hanks  104 Becker Street   Chicago  60018   7773268655\n",
              "25     Kate Whinslet  105 Becker Street  New York  45328   8833268655\n",
              "26   Serena Williams  106 Becker Street  New York  45328   8833268321\n",
              "27     Magnus Larsen  107 Becker Street     Tampa  85428   9933268345\n",
              "28      Andre Agassi  108 Becker Street    Dallas  75428   6833268347\n",
              "29          Sharva P  109 Becker Street    Dallas  75428   6833268347\n",
              "30          John Doe  100 Becker Street   Chicago  60015   4536273492\n",
              "31        Shane Warn  101 Becker Street   Chicago  60015   4536274322\n",
              "32  Sachin Tendulkar  102 Becker Street   Chicago  60015   4536268921\n",
              "33        Steve Jobs  103 Becker Street   Chicago  60015   4536268655\n",
              "34         Tom Hanks  104 Becker Street   Chicago  60018   7773268655\n",
              "35     Kate Whinslet  105 Becker Street  New York  45328   8833268655\n",
              "36   Serena Williams  106 Becker Street  New York  45328   8833268321\n",
              "37     Magnus Larsen  107 Becker Street     Tampa  85428   9933268345\n",
              "38      Andre Agassi  108 Becker Street    Dallas  75428   6833268347\n",
              "39          Sharva P  109 Becker Street    Dallas  75428   6833268347"
            ]
          },
          "metadata": {
            "tags": []
          },
          "execution_count": 28
        }
      ]
    }
  ]
}