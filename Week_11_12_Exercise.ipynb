{
  "nbformat": 4,
  "nbformat_minor": 0,
  "metadata": {
    "colab": {
      "name": "Week_11_12_Exercise",
      "provenance": [],
      "collapsed_sections": [],
      "authorship_tag": "ABX9TyNn0sSiP919ED1yZcsXWN94",
      "include_colab_link": true
    },
    "kernelspec": {
      "name": "python3",
      "display_name": "Python 3"
    },
    "language_info": {
      "name": "python"
    }
  },
  "cells": [
    {
      "cell_type": "markdown",
      "metadata": {
        "id": "view-in-github",
        "colab_type": "text"
      },
      "source": [
        "<a href=\"https://colab.research.google.com/github/ninadcpa/DSC540/blob/main/Week_11_12_Exercise.ipynb\" target=\"_parent\"><img src=\"https://colab.research.google.com/assets/colab-badge.svg\" alt=\"Open In Colab\"/></a>"
      ]
    },
    {
      "cell_type": "markdown",
      "metadata": {
        "id": "JRfklKJedXVD"
      },
      "source": [
        "# DSC540 Week 11 and 12 Exercise\n",
        "@author Ninad Patkhedkar"
      ]
    },
    {
      "cell_type": "code",
      "metadata": {
        "colab": {
          "base_uri": "https://localhost:8080/"
        },
        "id": "U-N2jgPydMkN",
        "outputId": "6993c4ef-4cbf-451d-864a-4a2755a3a674"
      },
      "source": [
        "from google.colab import drive\n",
        "import sys\n",
        "import os\n",
        "\n",
        "drive.mount('/content/drive')\n",
        "sys.path.append('/content/drive/MyDrive/Colab Notebooks/DSC540')\n",
        "os.chdir('/content/drive/MyDrive/Colab Notebooks/DSC540')"
      ],
      "execution_count": 1,
      "outputs": [
        {
          "output_type": "stream",
          "text": [
            "Drive already mounted at /content/drive; to attempt to forcibly remount, call drive.mount(\"/content/drive\", force_remount=True).\n"
          ],
          "name": "stdout"
        }
      ]
    },
    {
      "cell_type": "markdown",
      "metadata": {
        "id": "PXN8Mopjkwpx"
      },
      "source": [
        "**1. Connect to petsDB and check whether the connection has been successful.**"
      ]
    },
    {
      "cell_type": "code",
      "metadata": {
        "id": "XgpPGrz2dxCB"
      },
      "source": [
        "import sqlite3\n",
        "import pandas as pd\n",
        "\n",
        "conn = sqlite3.connect(\"petsdb\")\n",
        "\n",
        "# check if connection is successful by creating cursor\n",
        "def chk_conn(conn):\n",
        "     try:\n",
        "        conn.cursor()\n",
        "        return True\n",
        "     except Exception as ex:\n",
        "        return False"
      ],
      "execution_count": 2,
      "outputs": []
    },
    {
      "cell_type": "code",
      "metadata": {
        "colab": {
          "base_uri": "https://localhost:8080/"
        },
        "id": "zgaAKY0Ffy4z",
        "outputId": "14b48124-3813-49c2-e480-5c7b602a819c"
      },
      "source": [
        "print(chk_conn(conn))"
      ],
      "execution_count": 3,
      "outputs": [
        {
          "output_type": "stream",
          "text": [
            "True\n"
          ],
          "name": "stdout"
        }
      ]
    },
    {
      "cell_type": "markdown",
      "metadata": {
        "id": "QG_Sx3usk_Rx"
      },
      "source": [
        "**2. Find the different age groups in persons database.**"
      ]
    },
    {
      "cell_type": "code",
      "metadata": {
        "colab": {
          "base_uri": "https://localhost:8080/"
        },
        "id": "G8X4n7zHf4lp",
        "outputId": "27f890e9-3092-4258-c6d3-4fd23930b89a"
      },
      "source": [
        "c = conn.cursor()\n",
        "for ppl, age in c.execute(\"SELECT count(*), age FROM persons GROUP BY age\"):\n",
        "    print(f\" Age {age} -> {ppl} People \")"
      ],
      "execution_count": 4,
      "outputs": [
        {
          "output_type": "stream",
          "text": [
            " Age 5 -> 2 People \n",
            " Age 6 -> 1 People \n",
            " Age 7 -> 1 People \n",
            " Age 8 -> 3 People \n",
            " Age 9 -> 1 People \n",
            " Age 11 -> 2 People \n",
            " Age 12 -> 3 People \n",
            " Age 13 -> 1 People \n",
            " Age 14 -> 4 People \n",
            " Age 16 -> 2 People \n",
            " Age 17 -> 2 People \n",
            " Age 18 -> 3 People \n",
            " Age 19 -> 1 People \n",
            " Age 22 -> 3 People \n",
            " Age 23 -> 2 People \n",
            " Age 24 -> 3 People \n",
            " Age 25 -> 2 People \n",
            " Age 27 -> 1 People \n",
            " Age 30 -> 1 People \n",
            " Age 31 -> 3 People \n",
            " Age 32 -> 1 People \n",
            " Age 33 -> 1 People \n",
            " Age 34 -> 2 People \n",
            " Age 35 -> 3 People \n",
            " Age 36 -> 3 People \n",
            " Age 37 -> 1 People \n",
            " Age 39 -> 2 People \n",
            " Age 40 -> 1 People \n",
            " Age 42 -> 1 People \n",
            " Age 44 -> 2 People \n",
            " Age 48 -> 2 People \n",
            " Age 49 -> 1 People \n",
            " Age 50 -> 1 People \n",
            " Age 51 -> 2 People \n",
            " Age 52 -> 2 People \n",
            " Age 53 -> 2 People \n",
            " Age 54 -> 2 People \n",
            " Age 58 -> 1 People \n",
            " Age 59 -> 1 People \n",
            " Age 60 -> 1 People \n",
            " Age 61 -> 1 People \n",
            " Age 62 -> 2 People \n",
            " Age 63 -> 1 People \n",
            " Age 65 -> 2 People \n",
            " Age 66 -> 2 People \n",
            " Age 67 -> 1 People \n",
            " Age 68 -> 3 People \n",
            " Age 69 -> 1 People \n",
            " Age 70 -> 1 People \n",
            " Age 71 -> 4 People \n",
            " Age 72 -> 1 People \n",
            " Age 73 -> 5 People \n",
            " Age 74 -> 3 People \n"
          ],
          "name": "stdout"
        }
      ]
    },
    {
      "cell_type": "code",
      "metadata": {
        "id": "Zizdhz5lipRE"
      },
      "source": [
        "ppl_age = [ {x:y} for x,y in c.execute(\"SELECT count(*), age FROM persons GROUP BY age ORDER BY count(*)\")]"
      ],
      "execution_count": 5,
      "outputs": []
    },
    {
      "cell_type": "markdown",
      "metadata": {
        "id": "pKOFPrpSjpuI"
      },
      "source": [
        "Selecting the last entry from array as it has highest count."
      ]
    },
    {
      "cell_type": "code",
      "metadata": {
        "colab": {
          "base_uri": "https://localhost:8080/"
        },
        "id": "GAQ1o2Y6jj8g",
        "outputId": "e7ce9047-91c9-4f7b-e9e2-189500edcc6f"
      },
      "source": [
        "ppl_age[-1:]"
      ],
      "execution_count": 6,
      "outputs": [
        {
          "output_type": "execute_result",
          "data": {
            "text/plain": [
              "[{5: 73}]"
            ]
          },
          "metadata": {
            "tags": []
          },
          "execution_count": 6
        }
      ]
    },
    {
      "cell_type": "markdown",
      "metadata": {
        "id": "Dfczj40gkRoJ"
      },
      "source": [
        "So the highest number of people belong to age 73 and their count is 5."
      ]
    },
    {
      "cell_type": "markdown",
      "metadata": {
        "id": "F1A2C7PQmlMT"
      },
      "source": [
        "**4. Find the people who do not have last name**"
      ]
    },
    {
      "cell_type": "code",
      "metadata": {
        "colab": {
          "base_uri": "https://localhost:8080/"
        },
        "id": "jgYlwhmhkj6k",
        "outputId": "93df6c98-86e3-4f2f-ee93-58b210bf70d7"
      },
      "source": [
        "result = c.execute(\"SELECT * FROM persons where last_name is null\")\n",
        "for record in result:\n",
        "  print(f\"{record}\")"
      ],
      "execution_count": 7,
      "outputs": [
        {
          "output_type": "stream",
          "text": [
            "(1, 'Erica', None, 22, 'south port', 2345678)\n",
            "(2, 'Jordi', None, 73, 'east port', 123456)\n",
            "(3, 'Chasity', None, 70, 'new port', 76856785)\n",
            "(4, 'Gregg', None, 31, 'new port', 76856785)\n",
            "(6, 'Cary', None, 73, 'new port', 76856785)\n",
            "(8, 'Francisca', None, 14, 'west port', 123456)\n",
            "(10, 'Raleigh', None, 68, 'new port', 2345678)\n",
            "(11, 'Maria', None, 42, 'west port', 123456)\n",
            "(12, 'Mariane', None, 62, 'south port', 9756543)\n",
            "(13, 'Mona', None, 44, 'south port', 76856785)\n",
            "(14, 'Kayla', None, 36, 'south port', 2345678)\n",
            "(15, 'Karlie', None, 35, 'west port', 123456)\n",
            "(16, 'Morris', None, 71, 'west port', 76856785)\n",
            "(17, 'Sandy', None, 23, 'east port', 2345678)\n",
            "(18, 'Hector', None, 63, 'east port', 9756543)\n",
            "(19, 'Hiram', None, 52, 'west port', 2345678)\n",
            "(20, 'Tressa', None, 59, 'new port', 123456)\n",
            "(21, 'Berry', None, 22, 'south port', 2345678)\n",
            "(22, 'Pearline', None, 73, 'new port', 9756543)\n",
            "(23, 'Maynard', None, 25, 'east port', 123456)\n",
            "(24, 'Dorian', None, 40, 'east port', 123456)\n",
            "(25, 'Mylene', None, 5, 'east port', 76856785)\n",
            "(26, 'Lafayette', None, 34, 'new port', 2345678)\n",
            "(29, 'Tara', None, 39, 'west port', 123456)\n",
            "(30, 'Destiny', None, 18, 'south port', 2345678)\n",
            "(31, 'Lesly', None, 31, 'west port', 123456)\n",
            "(32, 'Perry', None, 19, 'south port', 76856785)\n",
            "(35, 'Maritza', None, 73, 'east port', 9756543)\n",
            "(37, 'Grant', None, 61, 'east port', 76856785)\n",
            "(39, 'Laury', None, 17, 'east port', 9756543)\n",
            "(40, 'Name', None, 52, 'east port', 9756543)\n",
            "(41, 'Estefania', None, 32, 'new port', 76856785)\n",
            "(42, 'Destiney', None, 65, 'west port', 2345678)\n",
            "(43, 'Jaquelin', None, 73, 'west port', 9756543)\n",
            "(45, 'Alfonzo', None, 16, 'east port', 2345678)\n",
            "(46, 'Lisandro', None, 11, 'new port', 76856785)\n",
            "(49, 'Priscilla', None, 65, 'east port', 76856785)\n",
            "(50, 'Elenora', None, 11, 'new port', 76856785)\n",
            "(52, 'Rudolph', None, 14, 'east port', 76856785)\n",
            "(56, 'Ona', None, 35, 'east port', 9756543)\n",
            "(57, 'Rebeca', None, 50, 'new port', 76856785)\n",
            "(59, 'Sigurd', None, 12, 'west port', 76856785)\n",
            "(63, 'Alice', None, 8, 'west port', 76856785)\n",
            "(64, 'Dane', None, 24, 'west port', 9756543)\n",
            "(65, 'Judge', None, 17, 'south port', 76856785)\n",
            "(66, 'Allene', None, 9, 'new port', 9756543)\n",
            "(67, 'Jalen', None, 33, 'new port', 2345678)\n",
            "(70, 'Myron', None, 36, 'new port', 9756543)\n",
            "(73, 'Travon', None, 16, 'south port', 2345678)\n",
            "(74, 'Shayna', None, 60, 'new port', 2345678)\n",
            "(75, 'Myah', None, 14, 'east port', 2345678)\n",
            "(82, 'Letha', None, 44, 'new port', 9756543)\n",
            "(84, 'Felton', None, 74, 'east port', 2345678)\n",
            "(85, 'London', None, 66, 'east port', 9756543)\n",
            "(86, 'Koby', None, 31, 'west port', 9756543)\n",
            "(87, 'Golden', None, 35, 'east port', 76856785)\n",
            "(89, 'Anissa', None, 8, 'south port', 76856785)\n",
            "(91, 'Sid', None, 22, 'west port', 123456)\n",
            "(96, 'Ernesto', None, 69, 'east port', 9756543)\n",
            "(97, 'Josianne', None, 14, 'west port', 76856785)\n"
          ],
          "name": "stdout"
        }
      ]
    },
    {
      "cell_type": "markdown",
      "metadata": {
        "id": "nfZ94DQpoWtT"
      },
      "source": [
        "**5. Find out how may peoples have more than one Pet.**"
      ]
    },
    {
      "cell_type": "code",
      "metadata": {
        "colab": {
          "base_uri": "https://localhost:8080/"
        },
        "id": "eda0Fq5DokBM",
        "outputId": "82b76ea5-34bf-47f7-ef99-0932af690d6a"
      },
      "source": [
        "ppl_gt_1_pet = c.execute(\"SELECT * FROM pets GROUP BY owner_id HAVING count(owner_id) >1\")\n",
        "count=0\n",
        "for record in ppl_gt_1_pet:\n",
        "  print(record)\n",
        "  count=count+1;"
      ],
      "execution_count": 8,
      "outputs": [
        {
          "output_type": "stream",
          "text": [
            "(2, 'tamari', None, 1)\n",
            "(5, 'dara', None, 0)\n",
            "(6, 'deru', 1.0, 1)\n",
            "(7, 'helu', None, 1)\n",
            "(9, 'palu', 1.0, 0)\n",
            "(10, 'sapi', 1.0, 1)\n",
            "(13, 'dara', 1.0, 0)\n",
            "(14, 'chegal', 1.0, 0)\n",
            "(16, 'fenga', 1.0, 1)\n",
            "(18, 'milu', None, 0)\n",
            "(20, 'fenga', 1.0, 0)\n",
            "(21, 'mani', 1.0, 0)\n",
            "(24, 'fenga', None, 1)\n",
            "(25, 'milu', None, 0)\n",
            "(26, 'snoopy', 1.0, 0)\n",
            "(27, 'bulga', 1.0, 0)\n",
            "(28, 'fenga', None, 0)\n",
            "(31, 'fenga', None, 0)\n",
            "(33, 'helu', None, 0)\n",
            "(35, 'chegal', None, 0)\n",
            "(36, 'nani', 1.0, 0)\n",
            "(37, 'sami', None, 0)\n",
            "(38, 'sami', 1.0, 0)\n",
            "(39, 'dara', None, 0)\n",
            "(40, 'milu', 1.0, 0)\n",
            "(42, 'snoopy', None, 0)\n",
            "(43, 'palu', None, 0)\n",
            "(45, 'nani', 1.0, 0)\n",
            "(48, 'nani', 1.0, 0)\n",
            "(49, 'fenga', 1.0, 0)\n",
            "(50, 'tamari', None, 0)\n",
            "(51, 'bhukbhuk', None, 0)\n",
            "(53, 'chegal', None, 0)\n",
            "(56, 'olga', None, 0)\n",
            "(57, 'snoopy', None, 1)\n",
            "(58, 'sapi', 1.0, 0)\n",
            "(60, 'bhukbhuk', 1.0, 0)\n",
            "(64, 'chegal', None, 1)\n",
            "(67, 'palu', None, 0)\n",
            "(86, 'fenga', 1.0, 0)\n",
            "(98, 'helu', 1.0, 0)\n",
            "(99, 'snoopy', 1.0, 0)\n",
            "(100, 'bulga', None, 1)\n"
          ],
          "name": "stdout"
        }
      ]
    },
    {
      "cell_type": "code",
      "metadata": {
        "colab": {
          "base_uri": "https://localhost:8080/"
        },
        "id": "aN8wSeJ6qm_3",
        "outputId": "90d82eb4-3e41-4851-cb9d-036cefa19d1c"
      },
      "source": [
        "print(f\"Total number of peoples with more than 1 pet are {count}\")"
      ],
      "execution_count": 9,
      "outputs": [
        {
          "output_type": "stream",
          "text": [
            "Total number of peoples with more than 1 pet are 43\n"
          ],
          "name": "stdout"
        }
      ]
    },
    {
      "cell_type": "markdown",
      "metadata": {
        "id": "zT6wz1Wpq5H6"
      },
      "source": [
        "**6. Find out how may pets have received treatment.**"
      ]
    },
    {
      "cell_type": "code",
      "metadata": {
        "colab": {
          "base_uri": "https://localhost:8080/"
        },
        "id": "xxwfL2PmrDCS",
        "outputId": "5d55a73d-adb5-453d-c1b8-62edef7c6e4e"
      },
      "source": [
        "treatment = c.execute(\"SELECT count(*) FROM pets WHERE treatment_done=1\")\n",
        "for row in treatment:\n",
        "    print(f\"Pets who received treatment {row}\")"
      ],
      "execution_count": 10,
      "outputs": [
        {
          "output_type": "stream",
          "text": [
            "Pets who received treatment (36,)\n"
          ],
          "name": "stdout"
        }
      ]
    },
    {
      "cell_type": "markdown",
      "metadata": {
        "id": "2K7QgBIKrYmT"
      },
      "source": [
        "**7. Find out how may pets have received treatment and the type of pet is known.**"
      ]
    },
    {
      "cell_type": "code",
      "metadata": {
        "colab": {
          "base_uri": "https://localhost:8080/"
        },
        "id": "oHJ07LherszK",
        "outputId": "e7a9af9f-a30c-4944-d57a-4f7ddada28d3"
      },
      "source": [
        "pet_type_treated = c.execute(\"SELECT count(*) FROM pets WHERE treatment_done=1 AND pet_type IS NOT null\")\n",
        "for row in pet_type_treated:\n",
        "    print(f\"Unknown type of pets who received treatment {row}\")\n"
      ],
      "execution_count": 11,
      "outputs": [
        {
          "output_type": "stream",
          "text": [
            "Unknown type of pets who received treatment (16,)\n"
          ],
          "name": "stdout"
        }
      ]
    },
    {
      "cell_type": "markdown",
      "metadata": {
        "id": "K02MTqGZr6K7"
      },
      "source": [
        "8. Find out how may pets are from city **east port**"
      ]
    },
    {
      "cell_type": "code",
      "metadata": {
        "colab": {
          "base_uri": "https://localhost:8080/"
        },
        "id": "hlFFWFPesPSz",
        "outputId": "16da616c-4747-452f-afcb-e6ff376be976"
      },
      "source": [
        "pets_from_east_port = c.execute(\"SELECT count(*) FROM (select p.pet_name,per.city from pets p, persons per where p.owner_id=per.id and per.city='east port') \")\n",
        "for row in pets_from_east_port:\n",
        "    print(f\"Number of Pets from city East Port {row}\")"
      ],
      "execution_count": 12,
      "outputs": [
        {
          "output_type": "stream",
          "text": [
            "Number of Pets from city East Port (49,)\n"
          ],
          "name": "stdout"
        }
      ]
    },
    {
      "cell_type": "markdown",
      "metadata": {
        "id": "g_qy5dD7tnbz"
      },
      "source": [
        "**9. Find out how many pets are from the city called *east port* and who received a treatement**"
      ]
    },
    {
      "cell_type": "code",
      "metadata": {
        "colab": {
          "base_uri": "https://localhost:8080/"
        },
        "id": "-R2g44PkuCGr",
        "outputId": "f0837fb8-5a96-433d-92a3-691946d5b371"
      },
      "source": [
        "east_port_pets_treated = c.execute(\"SELECT count(*) FROM (select p.pet_name,per.city from pets p, persons per where p.owner_id=per.id and per.city='east port' and p.treatment_done=1) \")\n",
        "for row in east_port_pets_treated:\n",
        "    print(f\"Number of Pets from city East Port for whom Treatment is done {row}\")"
      ],
      "execution_count": 13,
      "outputs": [
        {
          "output_type": "stream",
          "text": [
            "Number of Pets from city East Port for whom Treatment is done (11,)\n"
          ],
          "name": "stdout"
        }
      ]
    }
  ]
}