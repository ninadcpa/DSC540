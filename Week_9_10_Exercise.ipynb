{
  "nbformat": 4,
  "nbformat_minor": 0,
  "metadata": {
    "colab": {
      "name": "Week_9_10_Exercise.ipynb",
      "provenance": [],
      "collapsed_sections": [],
      "toc_visible": true,
      "authorship_tag": "ABX9TyPhNgd9w7d0pgE3LqAWIYPB",
      "include_colab_link": true
    },
    "kernelspec": {
      "name": "python3",
      "display_name": "Python 3"
    },
    "language_info": {
      "name": "python"
    }
  },
  "cells": [
    {
      "cell_type": "markdown",
      "metadata": {
        "id": "view-in-github",
        "colab_type": "text"
      },
      "source": [
        "<a href=\"https://colab.research.google.com/github/ninadcpa/DSC540/blob/main/Week_9_10_Exercise.ipynb\" target=\"_parent\"><img src=\"https://colab.research.google.com/assets/colab-badge.svg\" alt=\"Open In Colab\"/></a>"
      ]
    },
    {
      "cell_type": "markdown",
      "metadata": {
        "id": "2lGXvW3UwmAa"
      },
      "source": [
        "# DSC540 Week 7 and 8 Exercise\n",
        "@author Ninad Patkhedkar"
      ]
    },
    {
      "cell_type": "code",
      "metadata": {
        "colab": {
          "base_uri": "https://localhost:8080/"
        },
        "id": "aoIFAXAOwevd",
        "outputId": "25bf8359-2e44-4a33-b374-f6d8a68365b6"
      },
      "source": [
        "from google.colab import drive\n",
        "import sys\n",
        "import os\n",
        "\n",
        "drive.mount('/content/drive')\n",
        "sys.path.append('/content/drive/MyDrive/Colab Notebooks/DSC540')\n",
        "os.chdir('/content/drive/MyDrive/Colab Notebooks/DSC540')"
      ],
      "execution_count": 1,
      "outputs": [
        {
          "output_type": "stream",
          "text": [
            "Drive already mounted at /content/drive; to attempt to forcibly remount, call drive.mount(\"/content/drive\", force_remount=True).\n"
          ],
          "name": "stdout"
        }
      ]
    },
    {
      "cell_type": "markdown",
      "metadata": {
        "id": "6ZCMqN6axSrt"
      },
      "source": [
        "## 1 \n",
        "**Data Wrangling with Python: Activity 9, page 294**"
      ]
    },
    {
      "cell_type": "code",
      "metadata": {
        "id": "FuSHE96qxZaO"
      },
      "source": [
        "import urllib.request, urllib.parse, urllib.error\n",
        "import requests\n",
        "from bs4 import BeautifulSoup\n",
        "import re"
      ],
      "execution_count": 2,
      "outputs": []
    },
    {
      "cell_type": "code",
      "metadata": {
        "id": "1GyFLv2rz4c1"
      },
      "source": [
        "gutenberg_url = 'https://www.gutenberg.org/browse/scores/top'\n",
        "\n",
        "# For SSL ceritficates verification will specify parameter verify=True\n",
        "resp = requests.get(gutenberg_url,verify=True)"
      ],
      "execution_count": 3,
      "outputs": []
    },
    {
      "cell_type": "code",
      "metadata": {
        "id": "SBBncI1fz_mI"
      },
      "source": [
        "# Following Linux standard, I will return 0 in case of successful request\n",
        "# And will return any non-zero number in case of failure (in this case non-zero number I chose is 255)\n",
        "def status_check(r):\n",
        "    if r.status_code==200:\n",
        "        print(\"Success!\")\n",
        "        return 0\n",
        "    else:\n",
        "        print(\"Failed!\")\n",
        "        return 255"
      ],
      "execution_count": 4,
      "outputs": []
    },
    {
      "cell_type": "code",
      "metadata": {
        "colab": {
          "base_uri": "https://localhost:8080/"
        },
        "id": "tka8oBB01Kx4",
        "outputId": "8dc1cb8f-a5fd-4c74-f3f1-0d94b4a9a67d"
      },
      "source": [
        "status_check(resp)"
      ],
      "execution_count": 5,
      "outputs": [
        {
          "output_type": "stream",
          "text": [
            "Success!\n"
          ],
          "name": "stdout"
        },
        {
          "output_type": "execute_result",
          "data": {
            "text/plain": [
              "0"
            ]
          },
          "metadata": {
            "tags": []
          },
          "execution_count": 5
        }
      ]
    },
    {
      "cell_type": "code",
      "metadata": {
        "id": "_g9BZvhL1U-g"
      },
      "source": [
        "soup = BeautifulSoup(resp.text)\n"
      ],
      "execution_count": 6,
      "outputs": []
    },
    {
      "cell_type": "code",
      "metadata": {
        "colab": {
          "base_uri": "https://localhost:8080/"
        },
        "id": "Ap2h5a3l1uQe",
        "outputId": "91a2bc40-963e-459b-f19f-6cf4a5805a5e"
      },
      "source": [
        "# Empty list to hold all the http links in the HTML page\n",
        "lst_links=[]\n",
        "\n",
        "# Find all the anchor tags <a> and then link inside it\n",
        "for link in soup.find_all('a'):\n",
        "    #print(link.get('href'))\n",
        "    lst_links.append(link.get('href'))\n",
        "\n",
        "lst_links[:50]"
      ],
      "execution_count": 7,
      "outputs": [
        {
          "output_type": "execute_result",
          "data": {
            "text/plain": [
              "['/',\n",
              " '/about/',\n",
              " '/about/',\n",
              " '/policy/collection_development.html',\n",
              " '/about/contact_information.html',\n",
              " '/about/background/',\n",
              " '/policy/permission.html',\n",
              " '/policy/privacy_policy.html',\n",
              " '/policy/terms_of_use.html',\n",
              " '/ebooks/',\n",
              " '/ebooks/',\n",
              " '/ebooks/bookshelf/',\n",
              " '/browse/scores/top',\n",
              " '/ebooks/offline_catalogs.html',\n",
              " '/help/',\n",
              " '/help/',\n",
              " '/help/copyright.html',\n",
              " '/help/errata.html',\n",
              " '/help/file_formats.html',\n",
              " '/help/faq.html',\n",
              " '/policy/',\n",
              " '/help/public_domain_ebook_submission.html',\n",
              " '/help/submitting_your_own_work.html',\n",
              " '/help/mobile.html',\n",
              " '/attic/',\n",
              " '/donate/',\n",
              " '/donate/',\n",
              " '#books-last1',\n",
              " '#authors-last1',\n",
              " '#books-last7',\n",
              " '#authors-last7',\n",
              " '#books-last30',\n",
              " '#authors-last30',\n",
              " '/ebooks/1342',\n",
              " '/ebooks/84',\n",
              " '/ebooks/11',\n",
              " '/ebooks/1661',\n",
              " '/ebooks/98',\n",
              " '/ebooks/65401',\n",
              " '/ebooks/5740',\n",
              " '/ebooks/2701',\n",
              " '/ebooks/64317',\n",
              " '/ebooks/11483',\n",
              " '/ebooks/174',\n",
              " '/ebooks/345',\n",
              " '/ebooks/5200',\n",
              " '/ebooks/57775',\n",
              " '/ebooks/2591',\n",
              " '/ebooks/205',\n",
              " '/ebooks/1260']"
            ]
          },
          "metadata": {
            "tags": []
          },
          "execution_count": 7
        }
      ]
    },
    {
      "cell_type": "markdown",
      "metadata": {
        "id": "AUKVb1WnHtZH"
      },
      "source": [
        "List shows that there are multiple hyperlinks on page. But actuall hyperlinks for books start only from entry /ebook/1342. All previous links are just for navigation on the site.\n",
        "\n",
        "So lets find the index of /ebook/1342"
      ]
    },
    {
      "cell_type": "code",
      "metadata": {
        "colab": {
          "base_uri": "https://localhost:8080/"
        },
        "id": "rooP5siN4GmJ",
        "outputId": "d115aa86-ac7d-4643-9f37-84777eaa4b99"
      },
      "source": [
        "# Find index of item /ebooks/84\n",
        "index_of_first_book_link = lst_links.index('/ebooks/1342')\n",
        "index_of_first_book_link"
      ],
      "execution_count": 8,
      "outputs": [
        {
          "output_type": "execute_result",
          "data": {
            "text/plain": [
              "33"
            ]
          },
          "metadata": {
            "tags": []
          },
          "execution_count": 8
        }
      ]
    },
    {
      "cell_type": "markdown",
      "metadata": {
        "id": "1HwH-e_COOjI"
      },
      "source": [
        "As we need list of 100 most popular books will run the loop for 100 records starting from index 33 to 133"
      ]
    },
    {
      "cell_type": "code",
      "metadata": {
        "id": "bahAHah83Q6k"
      },
      "source": [
        "booknum=[]\n",
        "for i in range(33,133):\n",
        "    link=lst_links[i]\n",
        "    link=link.strip()\n",
        "    # Regular expression to find the numeric digits in the link (href) string\n",
        "    n=re.findall('[0-9]+',link)\n",
        "    if len(n)==1:\n",
        "        # Append the filenumber casted as integer\n",
        "        booknum.append(n[0])"
      ],
      "execution_count": 23,
      "outputs": []
    },
    {
      "cell_type": "code",
      "metadata": {
        "colab": {
          "base_uri": "https://localhost:8080/"
        },
        "id": "Buure7gH3bH9",
        "outputId": "3b0778f6-76bf-4941-c6ac-e4e3dca53018"
      },
      "source": [
        "print (\"\\nThe file numbers for the top 10 ebooks on Gutenberg are shown below\\n\")\n",
        "nl = '\\n'\n",
        "text = f\"Winners are:{nl}{nl.join(booknum[:10])}\"\n",
        "print(text)\n"
      ],
      "execution_count": 24,
      "outputs": [
        {
          "output_type": "stream",
          "text": [
            "\n",
            "The file numbers for the top 10 ebooks on Gutenberg are shown below\n",
            "\n",
            "Winners are:\n",
            "1342\n",
            "84\n",
            "11\n",
            "1661\n",
            "98\n",
            "65401\n",
            "5740\n",
            "2701\n",
            "64317\n",
            "11483\n"
          ],
          "name": "stdout"
        }
      ]
    },
    {
      "cell_type": "code",
      "metadata": {
        "colab": {
          "base_uri": "https://localhost:8080/"
        },
        "id": "lCQODbGd4n2O",
        "outputId": "f1a34b46-c9ce-4d49-b18b-9f18f2a0dac5"
      },
      "source": [
        "print(f\"{ soup.text[:1100] } \")"
      ],
      "execution_count": 36,
      "outputs": [
        {
          "output_type": "stream",
          "text": [
            "\n",
            "\n",
            "\n",
            "Top 100 | Project Gutenberg\n",
            "\n",
            "\n",
            "\n",
            "\n",
            "\n",
            "\n",
            "\n",
            "\n",
            "\n",
            "\n",
            "\n",
            "\n",
            "\n",
            "\n",
            "\n",
            "\n",
            "\n",
            "\n",
            "\n",
            "\n",
            "\n",
            "\n",
            "\n",
            "\n",
            "\n",
            "\n",
            "\n",
            "Menu▾\n",
            "\n",
            "\n",
            "\n",
            "About\n",
            "          ▾\n",
            "\n",
            "▾\n",
            "\n",
            "\n",
            "About Project Gutenberg\n",
            "Collection Development\n",
            "Contact Us\n",
            "History & Philosophy\n",
            "Permissions & License\n",
            "Privacy Policy\n",
            "Terms of Use\n",
            "\n",
            "\n",
            "\n",
            "Search and Browse\n",
            "      \t  ▾\n",
            "\n",
            "▾\n",
            "\n",
            "\n",
            "Book Search\n",
            "Bookshelves\n",
            "Frequently Downloaded\n",
            "Offline Catalogs\n",
            "\n",
            "\n",
            "\n",
            "Help\n",
            "          ▾\n",
            "\n",
            "▾\n",
            "\n",
            "\n",
            "All help topics →\n",
            "Copyright Procedures\n",
            "Errata, Fixes and Bug Reports\n",
            "File Formats\n",
            "Frequently Asked Questions\n",
            "Policies →\n",
            "Public Domain eBook Submission\n",
            "Submitting Your Own Work\n",
            "Tablets, Phones and eReaders\n",
            "The Attic →\n",
            "\n",
            "\n",
            "Donate\n",
            "\n",
            "\n",
            "\n",
            "\n",
            "\n",
            "\n",
            "\n",
            "\n",
            "\n",
            "\n",
            "Donation\n",
            "\n",
            "\n",
            "\n",
            "\n",
            "\n",
            "\n",
            "\n",
            "Frequently Viewed or Downloaded\n",
            "These listings are based on the number of times each eBook gets downloaded.\n",
            "      Multiple downloads from the same Internet address on the same day count as one download, and addresses that download more than 100 eBooks in a day are considered robots and are not counted.\n",
            "\n",
            "Downloaded Books\n",
            "2021-05-22130183\n",
            "last 7 days1073784\n",
            "last 30 days4821681\n",
            "\n",
            "\n",
            "\n",
            "Top 100 EBooks yesterday\n",
            "Top 100 Authors yesterday\n",
            "Top 100 EBooks last 7 days\n",
            "Top 100 Authors last 7 days\n",
            "Top 100 EBooks la \n"
          ],
          "name": "stdout"
        }
      ]
    },
    {
      "cell_type": "markdown",
      "metadata": {
        "id": "-yLLfKmKSe6x"
      },
      "source": [
        "Looking at web page first book in the list appears to be \"Pride and Prejudice by Jane Austen (1180)\"\n",
        "Using splitlines to extract each book entry from text to a list"
      ]
    },
    {
      "cell_type": "code",
      "metadata": {
        "id": "eMe0QGND5Bcy"
      },
      "source": [
        "# Temp empty list of Ebook names\n",
        "lst_titles_temp=[]\n",
        "start_idx=soup.text.splitlines().index('Pride and Prejudice by Jane Austen (1180)')"
      ],
      "execution_count": 45,
      "outputs": []
    },
    {
      "cell_type": "markdown",
      "metadata": {
        "id": "4CTqZCbfVTq0"
      },
      "source": [
        "Capturing 100 books entries in a list."
      ]
    },
    {
      "cell_type": "code",
      "metadata": {
        "id": "BT1zrel06ZMi"
      },
      "source": [
        "for i in range(100):\n",
        "    lst_titles_temp.append(soup.text.splitlines()[start_idx+i])"
      ],
      "execution_count": 47,
      "outputs": []
    },
    {
      "cell_type": "markdown",
      "metadata": {
        "id": "h9cMM-FYVhvs"
      },
      "source": [
        "Using regex to filter Titles only stripping (number) part"
      ]
    },
    {
      "cell_type": "code",
      "metadata": {
        "id": "G2yTTPfo6eNa"
      },
      "source": [
        "lst_titles=[]\n",
        "for i in range(100):\n",
        "    id1,id2=re.match('^[a-zA-Z ]*',lst_titles_temp[i]).span()\n",
        "    lst_titles.append(lst_titles_temp[i][id1:id2])"
      ],
      "execution_count": 50,
      "outputs": []
    },
    {
      "cell_type": "code",
      "metadata": {
        "colab": {
          "base_uri": "https://localhost:8080/"
        },
        "id": "BHa7_gA16kyD",
        "outputId": "20e7bdf6-4879-4dee-e020-e5c215f97444"
      },
      "source": [
        "for l in lst_titles:\n",
        "    print(l)"
      ],
      "execution_count": 51,
      "outputs": [
        {
          "output_type": "stream",
          "text": [
            "Pride and Prejudice by Jane Austen \n",
            "Frankenstein\n",
            "Alice\n",
            "The Adventures of Sherlock Holmes by Arthur Conan Doyle \n",
            "A Tale of Two Cities by Charles Dickens \n",
            "A Perfect Fool\n",
            "Tractatus Logico\n",
            "Moby Dick\n",
            "The Great Gatsby by F\n",
            "The Life and Letters of Lewis Carroll \n",
            "The Picture of Dorian Gray by Oscar Wilde \n",
            "Dracula by Bram Stoker \n",
            "Metamorphosis by Franz Kafka \n",
            "Le jardin des supplices by Octave Mirbeau \n",
            "Grimms\n",
            "Walden\n",
            "Jane Eyre\n",
            "The Philippines a Century Hence by Jos\n",
            "Treasure Island by Robert Louis Stevenson \n",
            "Of the Buildings of Justinian by Procopius \n",
            "War and Peace by graf Leo Tolstoy \n",
            "Et dukkehjem\n",
            "The Importance of Being Earnest\n",
            "The Strange Case of Dr\n",
            "Ulysses by James Joyce \n",
            "A Love Crime by Paul Bourget \n",
            "The Yellow Wallpaper by Charlotte Perkins Gilman \n",
            "The Calumet Book of Oven Triumphs\n",
            "Plank Frame Barn Construction by John L\n",
            "The Adventures of Tom Sawyer\n",
            "Heart of Darkness by Joseph Conrad \n",
            "The Hound of the Baskervilles by Arthur Conan Doyle \n",
            "The Prophet by Kahlil Gibran \n",
            "A Christmas Carol in Prose\n",
            "A Modest Proposal by Jonathan Swift \n",
            "Adventures of Huckleberry Finn by Mark Twain \n",
            "Great Expectations by Charles Dickens \n",
            "The Republic by Plato \n",
            "The Iliad by Homer \n",
            "Don Juan by Baron George Gordon Byron Byron \n",
            "The Wonderful Wizard of Oz by L\n",
            "Wuthering Heights by Emily Bront\n",
            "Emma by Jane Austen \n",
            "Anne of Green Gables by L\n",
            "Youth\n",
            "A Study in Scarlet by Arthur Conan Doyle \n",
            "Peter Pan by J\n",
            "The Happy Prince\n",
            "Little Women by Louisa May Alcott \n",
            "Prestuplenie i nakazanie\n",
            "The Count of Monte Cristo\n",
            "Il Principe\n",
            "Korean\n",
            "The Kama Sutra of Vatsyayana by Vatsyayana \n",
            "A Pickle for the Knowing Ones by Timothy Dexter \n",
            "The Romance of Lust\n",
            "Uncle Tom\n",
            "Don Quixote by Miguel de Cervantes Saavedra \n",
            "The Jungle Book by Rudyard Kipling \n",
            "Les Mis\n",
            "The War of the Worlds by H\n",
            "Gulliver\n",
            "Noli Me Tangere by Jos\n",
            "A Japanese Boy by Shigemi Shiukichi \n",
            "A Tale of Two Cities by Charles Dickens \n",
            "David Copperfield by Charles Dickens \n",
            "Dubliners by James Joyce \n",
            "The Odyssey by Homer \n",
            "Anthony Wayne\n",
            "The Scarlet Letter by Nathaniel Hawthorne \n",
            "Essays of Michel de Montaigne \n",
            "A Complete Guide to Heraldry by Arthur Charles Fox\n",
            "La fin de l\n",
            "Siddhartha by Hermann Hesse \n",
            "Beowulf\n",
            "\n",
            "Ars\n",
            "Anna Karenina by graf Leo Tolstoy \n",
            "The Mysterious Affair at Styles by Agatha Christie \n",
            "The Brothers Karamazov by Fyodor Dostoyevsky \n",
            "Also sprach Zarathustra\n",
            "You Can\n",
            "Beyond Good and Evil by Friedrich Wilhelm Nietzsche \n",
            "Persuasion by Jane Austen \n",
            "Leviathan by Thomas Hobbes \n",
            "The Prince and the Pauper by Mark Twain \n",
            "White Fang\n",
            "The Souls of Black Folk by W\n",
            "An Index of The Divine Comedy by Dante by Dante Alighieri \n",
            "Pygmalion by Bernard Shaw \n",
            "The Time Machine by H\n",
            "Hans Andersen\n",
            "Calculus Made Easy by Silvanus P\n",
            "The Call of the Wild by Jack London \n",
            "Oliver Twist by Charles Dickens \n",
            "The Secret Garden by Frances Hodgson Burnett \n",
            "Around the World in Eighty Days by Jules Verne \n",
            "The Devil\n",
            "Anthem by Ayn Rand \n",
            "The Slang Dictionary\n"
          ],
          "name": "stdout"
        }
      ]
    },
    {
      "cell_type": "markdown",
      "metadata": {
        "id": "giWZ1GJK80J2"
      },
      "source": [
        "## 2 \n",
        "**Data Wrangling with Python: Activity 10, page 295**\n",
        "\n",
        "I received key from omdbapi which is simple text. It is not JSON file. I copied it to APIKey.json file in same directory."
      ]
    },
    {
      "cell_type": "code",
      "metadata": {
        "id": "G7iHfkoH88Mc"
      },
      "source": [
        "import json\n",
        "\n",
        "with open('APIKey.json') as f:\n",
        "    keys = json.load(f)\n",
        "    omdbapi = keys['OMDBapi']"
      ],
      "execution_count": 52,
      "outputs": []
    },
    {
      "cell_type": "code",
      "metadata": {
        "id": "nABrxz-vB6yO"
      },
      "source": [
        "serviceurl = 'http://www.omdbapi.com/?'\n",
        "apikey = '&apikey='+omdbapi"
      ],
      "execution_count": 53,
      "outputs": []
    },
    {
      "cell_type": "markdown",
      "metadata": {
        "id": "fRH98Tz9WKjK"
      },
      "source": [
        "Function to print json data in formatted form."
      ]
    },
    {
      "cell_type": "code",
      "metadata": {
        "id": "yZNGfcchCDXE"
      },
      "source": [
        "def print_json(json_data):\n",
        "    list_keys=['Title', 'Year', 'Rated', 'Released', 'Runtime', 'Genre', 'Director', 'Writer', \n",
        "               'Actors', 'Plot', 'Language', 'Country', 'Awards', 'Ratings', \n",
        "               'Metascore', 'imdbRating', 'imdbVotes', 'imdbID','Poster']\n",
        "    print(\"-\"*50)\n",
        "    for k in list_keys:\n",
        "        if k in list(json_data.keys()):\n",
        "            print(f\"{k}: {json_data[k]}\")\n",
        "    print(\"-\"*50)"
      ],
      "execution_count": 60,
      "outputs": []
    },
    {
      "cell_type": "markdown",
      "metadata": {
        "id": "Z1FWJTefWWW7"
      },
      "source": [
        "Function to ssearch movie from API endpoint"
      ]
    },
    {
      "cell_type": "code",
      "metadata": {
        "id": "EMlix8C2CRdv"
      },
      "source": [
        "def search_movie(title):\n",
        "    try:\n",
        "        url = serviceurl + urllib.parse.urlencode({'t': str(title)})+apikey\n",
        "        print(f'Retrieving the data of \"{title}\" now... ')\n",
        "        print(url)\n",
        "        uh = urllib.request.urlopen(url)\n",
        "        data = uh.read()\n",
        "        json_data=json.loads(data)\n",
        "        \n",
        "        if json_data['Response']=='True':\n",
        "            print_json(json_data)\n",
        "            # Asks user whether to download the poster of the movie\n",
        "            if json_data['Poster']!='N/A':\n",
        "                save_poster(json_data)\n",
        "        else:\n",
        "            print(\"Error encountered: \",json_data['Error'])\n",
        "    \n",
        "    except urllib.error.URLError as e:\n",
        "        print(f\"ERROR: {e.reason}\")"
      ],
      "execution_count": 61,
      "outputs": []
    },
    {
      "cell_type": "code",
      "metadata": {
        "colab": {
          "base_uri": "https://localhost:8080/"
        },
        "id": "Jw5bdyguCLDT",
        "outputId": "3a1aec6f-c9f5-4488-c993-93c996e8f218"
      },
      "source": [
        "search_movie(\"Saving Private Ryan\")"
      ],
      "execution_count": 66,
      "outputs": [
        {
          "output_type": "stream",
          "text": [
            "Retrieving the data of \"Saving Private Ryan\" now... \n",
            "http://www.omdbapi.com/?t=Saving+Private+Ryan&apikey=d7462ee5\n",
            "--------------------------------------------------\n",
            "Title: Saving Private Ryan\n",
            "Year: 1998\n",
            "Rated: R\n",
            "Released: 24 Jul 1998\n",
            "Runtime: 169 min\n",
            "Genre: Drama, War\n",
            "Director: Steven Spielberg\n",
            "Writer: Robert Rodat\n",
            "Actors: Tom Hanks, Tom Sizemore, Edward Burns, Barry Pepper\n",
            "Plot: Following the Normandy Landings, a group of U.S. soldiers go behind enemy lines to retrieve a paratrooper whose brothers have been killed in action.\n",
            "Language: English, French, German, Czech\n",
            "Country: USA\n",
            "Awards: Won 5 Oscars. Another 74 wins & 75 nominations.\n",
            "Ratings: [{'Source': 'Internet Movie Database', 'Value': '8.6/10'}, {'Source': 'Rotten Tomatoes', 'Value': '93%'}, {'Source': 'Metacritic', 'Value': '91/100'}]\n",
            "Metascore: 91\n",
            "imdbRating: 8.6\n",
            "imdbVotes: 1,261,938\n",
            "imdbID: tt0120815\n",
            "Poster: https://m.media-amazon.com/images/M/MV5BZjhkMDM4MWItZTVjOC00ZDRhLThmYTAtM2I5NzBmNmNlMzI1XkEyXkFqcGdeQXVyNDYyMDk5MTU@._V1_SX300.jpg\n",
            "--------------------------------------------------\n"
          ],
          "name": "stdout"
        }
      ]
    },
    {
      "cell_type": "code",
      "metadata": {
        "colab": {
          "base_uri": "https://localhost:8080/"
        },
        "id": "-HjrmqloCWPN",
        "outputId": "c79fa777-8699-41e8-8874-b3f48f11c587"
      },
      "source": [
        "search_movie(\"Random_error\")"
      ],
      "execution_count": 69,
      "outputs": [
        {
          "output_type": "stream",
          "text": [
            "Retrieving the data of \"Random_error\" now... \n",
            "http://www.omdbapi.com/?t=Random_error&apikey=d7462ee5\n",
            "Error encountered:  Movie not found!\n"
          ],
          "name": "stdout"
        }
      ]
    },
    {
      "cell_type": "markdown",
      "metadata": {
        "id": "2Z0pJWfaPYP3"
      },
      "source": [
        "## 3 \n",
        "**Connect to the Twitter API and do a simple data pull**  \n",
        "a. If you don’t have a twitter account – create one at twitter.com/signup (you can delete the account after this assignment)  \n",
        "b. Sign in to apps.twitter.com  \n",
        "c. Click “Create New App”  \n",
        "d. Give your app a name and description  \n",
        "e. Agree to the developer agreement – you will want to make sure to indicate this is for a class project, and this step can take several days to get through, so don’t wait until last minute to complete this portion of the assignment  \n",
        "f. Create an access token  \n",
        "g. You should receive a consumer key and a token \n",
        "h. Using either the instructions from the book on connecting to an API or for help look here – pull back data searching for “Bellevue University” and “Data Science” (or something else you are interested in)"
      ]
    },
    {
      "cell_type": "markdown",
      "metadata": {
        "id": "yF6Vk2NnQ_Il"
      },
      "source": [
        "Generally any REST API can be consumed using requests library. Twitter also exposes REST API. \n",
        "\n",
        "However for this exercise, I will use twitter-python library. First I will install the library."
      ]
    },
    {
      "cell_type": "code",
      "metadata": {
        "colab": {
          "base_uri": "https://localhost:8080/"
        },
        "id": "4V2sQXVORSHq",
        "outputId": "728d9981-5394-4b28-9760-f1e62ae8954e"
      },
      "source": [
        "!pip install python-twitter"
      ],
      "execution_count": 23,
      "outputs": [
        {
          "output_type": "stream",
          "text": [
            "Collecting python-twitter\n",
            "\u001b[?25l  Downloading https://files.pythonhosted.org/packages/b3/a9/2eb36853d8ca49a70482e2332aa5082e09b3180391671101b1612e3aeaf1/python_twitter-3.5-py2.py3-none-any.whl (67kB)\n",
            "\r\u001b[K     |████▉                           | 10kB 14.9MB/s eta 0:00:01\r\u001b[K     |█████████▊                      | 20kB 19.3MB/s eta 0:00:01\r\u001b[K     |██████████████▋                 | 30kB 17.5MB/s eta 0:00:01\r\u001b[K     |███████████████████▌            | 40kB 19.9MB/s eta 0:00:01\r\u001b[K     |████████████████████████▎       | 51kB 21.6MB/s eta 0:00:01\r\u001b[K     |█████████████████████████████▏  | 61kB 23.2MB/s eta 0:00:01\r\u001b[K     |████████████████████████████████| 71kB 5.0MB/s \n",
            "\u001b[?25hRequirement already satisfied: requests-oauthlib in /usr/local/lib/python3.7/dist-packages (from python-twitter) (1.3.0)\n",
            "Requirement already satisfied: future in /usr/local/lib/python3.7/dist-packages (from python-twitter) (0.16.0)\n",
            "Requirement already satisfied: requests in /usr/local/lib/python3.7/dist-packages (from python-twitter) (2.23.0)\n",
            "Requirement already satisfied: oauthlib>=3.0.0 in /usr/local/lib/python3.7/dist-packages (from requests-oauthlib->python-twitter) (3.1.0)\n",
            "Requirement already satisfied: certifi>=2017.4.17 in /usr/local/lib/python3.7/dist-packages (from requests->python-twitter) (2020.12.5)\n",
            "Requirement already satisfied: chardet<4,>=3.0.2 in /usr/local/lib/python3.7/dist-packages (from requests->python-twitter) (3.0.4)\n",
            "Requirement already satisfied: urllib3!=1.25.0,!=1.25.1,<1.26,>=1.21.1 in /usr/local/lib/python3.7/dist-packages (from requests->python-twitter) (1.24.3)\n",
            "Requirement already satisfied: idna<3,>=2.5 in /usr/local/lib/python3.7/dist-packages (from requests->python-twitter) (2.10)\n",
            "Installing collected packages: python-twitter\n",
            "Successfully installed python-twitter-3.5\n"
          ],
          "name": "stdout"
        }
      ]
    },
    {
      "cell_type": "markdown",
      "metadata": {
        "id": "6YIjBkrNUc8T"
      },
      "source": [
        "After little bit of more research I noticed that there is another library \"tweepy\" which has more number of stars on Gihub and which has more number of contributors. So I will prefer to use the tweepy"
      ]
    },
    {
      "cell_type": "code",
      "metadata": {
        "colab": {
          "base_uri": "https://localhost:8080/"
        },
        "id": "9QiQUpuNU0P4",
        "outputId": "a5a117de-da7d-4e59-c98a-1dd1fa185a9e"
      },
      "source": [
        "!pip uninstall python-twitter"
      ],
      "execution_count": 24,
      "outputs": [
        {
          "output_type": "stream",
          "text": [
            "Uninstalling python-twitter-3.5:\n",
            "  Would remove:\n",
            "    /usr/local/lib/python3.7/dist-packages/python_twitter-3.5.dist-info/*\n",
            "    /usr/local/lib/python3.7/dist-packages/twitter/*\n",
            "Proceed (y/n)? y\n",
            "  Successfully uninstalled python-twitter-3.5\n"
          ],
          "name": "stdout"
        }
      ]
    },
    {
      "cell_type": "code",
      "metadata": {
        "colab": {
          "base_uri": "https://localhost:8080/"
        },
        "id": "w4JmbfiqVQ4O",
        "outputId": "0f5d4c22-c8e9-451b-bee2-8a071a673af3"
      },
      "source": [
        "!pip install tweepy"
      ],
      "execution_count": 25,
      "outputs": [
        {
          "output_type": "stream",
          "text": [
            "Requirement already satisfied: tweepy in /usr/local/lib/python3.7/dist-packages (3.10.0)\n",
            "Requirement already satisfied: requests[socks]>=2.11.1 in /usr/local/lib/python3.7/dist-packages (from tweepy) (2.23.0)\n",
            "Requirement already satisfied: six>=1.10.0 in /usr/local/lib/python3.7/dist-packages (from tweepy) (1.15.0)\n",
            "Requirement already satisfied: requests-oauthlib>=0.7.0 in /usr/local/lib/python3.7/dist-packages (from tweepy) (1.3.0)\n",
            "Requirement already satisfied: urllib3!=1.25.0,!=1.25.1,<1.26,>=1.21.1 in /usr/local/lib/python3.7/dist-packages (from requests[socks]>=2.11.1->tweepy) (1.24.3)\n",
            "Requirement already satisfied: certifi>=2017.4.17 in /usr/local/lib/python3.7/dist-packages (from requests[socks]>=2.11.1->tweepy) (2020.12.5)\n",
            "Requirement already satisfied: idna<3,>=2.5 in /usr/local/lib/python3.7/dist-packages (from requests[socks]>=2.11.1->tweepy) (2.10)\n",
            "Requirement already satisfied: chardet<4,>=3.0.2 in /usr/local/lib/python3.7/dist-packages (from requests[socks]>=2.11.1->tweepy) (3.0.4)\n",
            "Requirement already satisfied: PySocks!=1.5.7,>=1.5.6; extra == \"socks\" in /usr/local/lib/python3.7/dist-packages (from requests[socks]>=2.11.1->tweepy) (1.7.1)\n",
            "Requirement already satisfied: oauthlib>=3.0.0 in /usr/local/lib/python3.7/dist-packages (from requests-oauthlib>=0.7.0->tweepy) (3.1.0)\n"
          ],
          "name": "stdout"
        }
      ]
    },
    {
      "cell_type": "markdown",
      "metadata": {
        "id": "77dYqWK3R2qB"
      },
      "source": [
        "Now lests import the library. For security reasons I will copy twitter API keys in a file and use it dynamically, so that keys are not displayed in code or in output. I will copy the keys in same APIKey.json file used in previous example."
      ]
    },
    {
      "cell_type": "code",
      "metadata": {
        "id": "nKqPlgthWnZz"
      },
      "source": [
        "with open('APIKey.json') as f:\n",
        "    keys = json.load(f)\n",
        "    omdbapi = keys['OMDBapi']\n",
        "    api_key = keys['twitter-api-key']\n",
        "    api_secret_key = keys['twitter-api-secret-key']\n",
        "    access_token = keys['twitter-access-token']\n",
        "    access_token_secret = keys['twitter-access-token-secret']\n"
      ],
      "execution_count": 26,
      "outputs": []
    },
    {
      "cell_type": "code",
      "metadata": {
        "colab": {
          "base_uri": "https://localhost:8080/"
        },
        "id": "Pya3zpmVSIOe",
        "outputId": "b37841e8-e5af-4eb9-f7b7-c584ceac8715"
      },
      "source": [
        "import tweepy\n",
        "\n",
        "# Authenticate to Twitter\n",
        "auth = tweepy.OAuthHandler(api_key, api_secret_key)\n",
        "auth.set_access_token(access_token,access_token_secret)\n",
        "\n",
        "api = tweepy.API(auth)\n",
        "\n",
        "try:\n",
        "    api.verify_credentials()\n",
        "    print(\"Authentication OK\")\n",
        "except:\n",
        "    print(\"Error during authentication\")"
      ],
      "execution_count": 27,
      "outputs": [
        {
          "output_type": "stream",
          "text": [
            "Authentication OK\n"
          ],
          "name": "stdout"
        }
      ]
    },
    {
      "cell_type": "markdown",
      "metadata": {
        "id": "63q2sem5YYqY"
      },
      "source": [
        "Fetching 10 most recent tweets for Bellevue University"
      ]
    },
    {
      "cell_type": "code",
      "metadata": {
        "colab": {
          "base_uri": "https://localhost:8080/"
        },
        "id": "zLBPITMDYf3Y",
        "outputId": "d12ec2e4-122c-4f9b-a88d-07e7e4d565f9"
      },
      "source": [
        "for tweet in api.search(q=\"Bellevue University\", lang=\"en\", rpp=10):\n",
        "    print(f\"{tweet.user.name} --> {tweet.text}\\n\")"
      ],
      "execution_count": 28,
      "outputs": [
        {
          "output_type": "stream",
          "text": [
            "ExpertsSky.com --> Bellevue University is a private university in Bellevue, Nebraska. It opened in 1966 and from the outset has focuse… https://t.co/fgokcD85hE\n",
            "\n",
            "Shannon Lovin --> @CalebLang22 @KeatonCandor Those students showed no class and were poor representatives of Bellevue University. Way… https://t.co/aqQ0Ox7r1O\n",
            "\n",
            "PSIVS --> RT @BellevueU: Donut give up on your dreams! 🍩🎓\n",
            "\n",
            "Congratulations to Hayley and all other soon-to-be Bellevue University graduates! 🎉\n",
            "\n",
            "#BUGr…\n",
            "\n",
            "Bellevue University --> Donut give up on your dreams! 🍩🎓\n",
            "\n",
            "Congratulations to Hayley and all other soon-to-be Bellevue University graduates!… https://t.co/MHglRSxR29\n",
            "\n",
            "BPWIowa --> Congratulations to Janice Brown, recipient of our first TRAILBLAZ-HER Award! She has been active on BPW local, regi… https://t.co/ltAXD2YR5D\n",
            "\n",
            "Dr. Monica Swahn --> RT @EbonyGloverPhD: In light of Mental Health Awareness Month, I'm excited to join this panel to discuss Mental Health in the Black Communi…\n",
            "\n",
            "Jazmine --> He demonstrated nearby Bellevue, Washington, Seattle and London: University of Bologna (or glossators) in the\n",
            "\n",
            "Gaby_Moreno --> Just posted a photo @ Bellevue University Lozier Professional Center https://t.co/gAB3WLmAmQ\n",
            "\n",
            "Wellstar College --> RT @EbonyGloverPhD: In light of Mental Health Awareness Month, I'm excited to join this panel to discuss Mental Health in the Black Communi…\n",
            "\n",
            "Cris Hay-Merchant, APR --> RT @BellevueU: \"The whole experience with Bellevue University has been an amazing journey &amp; I am thankful to all of those who were on this…\n",
            "\n",
            "Bellevue University --> \"The whole experience with Bellevue University has been an amazing journey &amp; I am thankful to all of those who were… https://t.co/JU8zuMGxvO\n",
            "\n",
            "Emily “Certified Healed Survivor” Schultz --> @ErinMHarding Bellevue University, near Omaha. I switched to communications with a digital marketing minor.\n",
            "\n",
            "Trish Siedlik --> RT @BellevueU: Bellevue University's main campus is located in Bellevue, Nebraska. However, we've got Bruins all over the world! Let us kno…\n",
            "\n",
            "BU-CorporateLearning --> RT @BellevueU: Bellevue University's main campus is located in Bellevue, Nebraska. However, we've got Bruins all over the world! Let us kno…\n",
            "\n",
            "Cris Hay-Merchant, APR --> Carroll Ensures @BellevueU Sets Standard for Supporting Military #Veterans https://t.co/4SSXkTfH3B\n",
            "\n"
          ],
          "name": "stdout"
        }
      ]
    },
    {
      "cell_type": "markdown",
      "metadata": {
        "id": "BbgOLWaSZZuI"
      },
      "source": [
        "Current hot topic I am following is court case between Apple and EPIC Games (Fortnite) for in-app purchases. Let me find 10 most recent tweets on that."
      ]
    },
    {
      "cell_type": "code",
      "metadata": {
        "colab": {
          "base_uri": "https://localhost:8080/"
        },
        "id": "IUh3tS2gZwYA",
        "outputId": "021c5b89-14ed-45c2-b0d3-935bc43b4318"
      },
      "source": [
        "for tweet in api.search(q=\"apple vs epic games\", lang=\"en\", rpp=10):\n",
        "    print(f\"{tweet.user.name} --> {tweet.text}\\n\")"
      ],
      "execution_count": 29,
      "outputs": [
        {
          "output_type": "stream",
          "text": [
            "Arshisallah --> RT @FortniteFunny: The Apple vs Epic Games lawsuit in a nutshell 🤣\n",
            "\n",
            "(📸: u/VisitorBR) https://t.co/DY62CoTcHy\n",
            "\n",
            "NCStories --> Court battle between Epic Games of Cary and Apple expected to wrap up on Monday. \n",
            "https://t.co/cGaU2TC0dv\n",
            "\n",
            "Зять ВВП ⓚⓞⓝⓢⓣⓐⓝⓣⓘⓝ --> RT @WSJ: Epic’s courtroom battle against Apple is expected to end Monday with the judge grilling each side about their cases https://t.co/S…\n",
            "\n",
            "Johnny Morris --> RT @JMoRichmondVA: @mlbtv Apple TV update = epic fail. Lag time from app launch to recognizing my acct, forced to join live vs starting gam…\n",
            "\n",
            "Ruth Van Derostyne --> Expert witnesses sparred over whether smartphones have comparable substitutes for playing videogames and the iPhone… https://t.co/rJhTEnK7ir\n",
            "\n",
            "Capital Journal --> Epic’s courtroom battle against Apple is expected to end Monday with the judge grilling each side about their cases  https://t.co/02BoHkOt3R\n",
            "\n",
            "Game From Scratch --> @CheOsana Well... Roblox is used to make experiences not games...\n",
            "\n",
            "(If you're following following Apple vs Epic law… https://t.co/PaZWD5CK3a\n",
            "\n",
            "Kate Milani --> Epic’s courtroom battle against Apple is expected to end Monday with the judge grilling each side about their cases… https://t.co/Ch9W37DyG0\n",
            "\n",
            "iOS最弱のwaninyo🐊 ≅フォロバ100 --> RT @AcerboLivio: Epic Games vs. Apple Trial Prepares for Closing Arguments https://t.co/1mHZ4KFRtQ\n",
            "\n",
            "Livio Andrea Acerbo --> Epic Games vs. Apple Trial Prepares for Closing Arguments https://t.co/1mHZ4KFRtQ\n",
            "\n",
            "Real_Infinity95 --> RT @WSJ: Epic’s courtroom battle against Apple is expected to end Monday with the judge grilling each side about their cases https://t.co/S…\n",
            "\n",
            "Marc Paradis --> Epic Games vs Apple Trial Prepares for Closing Arguments The Wall Street Journal\n",
            "\n",
            "Jama --> RT @NoCartridge: Patch Notes 2.23 - Ignominious Games Network ft. @ugarles One day late, sorry guys, producer must apologize/IGN, Palestine…\n",
            "\n",
            "Joe Peyronnin --> Important case to follow: https://t.co/okdiHEoC8U\n",
            "\n"
          ],
          "name": "stdout"
        }
      ]
    },
    {
      "cell_type": "markdown",
      "metadata": {
        "id": "OsQ1X8q8apF1"
      },
      "source": [
        "## 4 \n",
        "Using one of the datasets provided in Weeks 7 & 8, or a dataset of your own, choose 3 of the following visualizations to complete. You must submit via PDF along with your code. You are free to use Matplotlib, Seaborn or another package if you prefer.  \n",
        "a. Line  \n",
        "b. Scatter  \n",
        "c. Bar  \n",
        "d. Histogram  \n",
        "e. Density Plot  \n",
        "f. Pie Chart  "
      ]
    },
    {
      "cell_type": "markdown",
      "metadata": {
        "id": "WBUhofTu63pd"
      },
      "source": [
        "First I will plot scatterplot for sentiment analysis. For this purpose I will use TextBlob library used for NLP from tweet text."
      ]
    },
    {
      "cell_type": "code",
      "metadata": {
        "id": "orGtC4zg3lS3"
      },
      "source": [
        "from textblob import TextBlob\n",
        "import pandas as pd\n",
        "import matplotlib.pyplot as plt\n",
        "import seaborn as sns\n",
        "%matplotlib inline\n",
        "\n",
        "#Where the tweets are stored to be plotted\n",
        "polarity_list = []\n",
        "numbers_list = []\n",
        "number = 1\n",
        "# seraching for 100 tweets on topic.\n",
        "for tweet in tweepy.Cursor(api.search, \"apple vs epic games\", lang=\"en\").items(100):\n",
        "  try:\n",
        "      analysis = TextBlob(tweet.text)\n",
        "      analysis = analysis.sentiment\n",
        "      polarity = analysis.polarity\n",
        "      polarity_list.append(polarity)\n",
        "      numbers_list.append(number)\n",
        "      number = number + 1\n",
        "\n",
        "  except tweepy.TweepError as e:\n",
        "      print(e.reason)\n",
        "\n",
        "  except StopIteration:\n",
        "      break"
      ],
      "execution_count": 52,
      "outputs": []
    },
    {
      "cell_type": "code",
      "metadata": {
        "colab": {
          "base_uri": "https://localhost:8080/",
          "height": 295
        },
        "id": "5RNMhWmE5GZX",
        "outputId": "2f6d3a63-ad48-4d27-ef0d-7e72b1b45205"
      },
      "source": [
        "from datetime import datetime\n",
        "#Plotting\n",
        "axes = plt.gca()\n",
        "axes.set_ylim([-1, 2])\n",
        "\n",
        "plt.scatter(numbers_list, polarity_list)\n",
        "\n",
        "averagePolarity = (sum(polarity_list))/(len(polarity_list))\n",
        "averagePolarity = \"{0:.0f}%\".format(averagePolarity * 100)\n",
        "time  = datetime.now().strftime(\"At: %H:%M\\nOn: %m-%d-%y\")\n",
        "\n",
        "plt.text(0, 1.25, \"Average Sentiment:  \" + str(averagePolarity) + \"\\n\" + time, fontsize=12)\n",
        "\n",
        "plt.title(\"Sentiment of apple vs epic games on Twitter\")\n",
        "plt.xlabel(\"Number of Tweets\")\n",
        "plt.ylabel(\"Sentiment\")\n",
        "plt.show()"
      ],
      "execution_count": 53,
      "outputs": [
        {
          "output_type": "display_data",
          "data": {
            "image/png": "[encoded data removed]",
            "text/plain": [
              "<Figure size 432x288 with 1 Axes>"
            ]
          },
          "metadata": {
            "tags": [],
            "needs_background": "light"
          }
        }
      ]
    },
    {
      "cell_type": "code",
      "metadata": {
        "id": "540TAc0zcEbC"
      },
      "source": [
        "import pandas as pd\n",
        "\n",
        "my_demo_list = []\n",
        "for tweet in api.search(q=\"apple vs epic games\", lang=\"en\", count=50):\n",
        "    # print(f\"{tweet._json}\")\n",
        "    json_str = json.dumps(tweet._json)\n",
        "\n",
        "    #deserialise string into python object\n",
        "    each_dictionary = json.loads(json_str)\n",
        " \n",
        "    #print(json.dumps(parsed, indent=4, sort_keys=True))\n",
        "    \n",
        "    #for each_dictionary in all_data:\n",
        "    tweet_id = each_dictionary['user']['screen_name']\n",
        "    whole_tweet = each_dictionary['text']\n",
        "    only_url = whole_tweet[whole_tweet.find('https'):]\n",
        "    favorite_count = each_dictionary['favorite_count']\n",
        "    retweet_count = each_dictionary['retweet_count']\n",
        "    created_at = each_dictionary['created_at']\n",
        "    whole_source = each_dictionary['source']\n",
        "    only_device = whole_source[whole_source.find('rel=\"nofollow\">') + 15:-4]\n",
        "    source = only_device\n",
        "    retweeted_status = each_dictionary['retweeted_status'] = each_dictionary.get('retweeted_status', 'Original tweet')\n",
        "    if retweeted_status == 'Original tweet':\n",
        "        url = only_url\n",
        "    else:\n",
        "        retweeted_status = 'This is a retweet'\n",
        "        url = 'This is a retweet'\n",
        "\n",
        "    my_demo_list.append({'tweet_id': str(tweet_id),\n",
        "                          'favorite_count': int(favorite_count),\n",
        "                          'retweet_count': int(retweet_count),\n",
        "                          'url': url,\n",
        "                          'created_at': created_at,\n",
        "                          'source': source,\n",
        "                          'retweeted_status': retweeted_status,\n",
        "                        })\n",
        "\n",
        "tweet_df = pd.DataFrame(my_demo_list, columns = ['tweet_id', 'favorite_count', \n",
        "                                                       'retweet_count', 'created_at',\n",
        "                                                       'source', 'retweeted_status', 'url'])\n",
        "\n",
        "    "
      ],
      "execution_count": 54,
      "outputs": []
    },
    {
      "cell_type": "code",
      "metadata": {
        "colab": {
          "base_uri": "https://localhost:8080/",
          "height": 1000
        },
        "id": "pUxj0Bh6rNoF",
        "outputId": "cb8ffadf-dc5a-46ac-d1a0-ad5e36b1d802"
      },
      "source": [
        "tweet_df.head(100)"
      ],
      "execution_count": 55,
      "outputs": [
        {
          "output_type": "execute_result",
          "data": {
            "text/html": [
              "<div>\n",
              "<style scoped>\n",
              "    .dataframe tbody tr th:only-of-type {\n",
              "        vertical-align: middle;\n",
              "    }\n",
              "\n",
              "    .dataframe tbody tr th {\n",
              "        vertical-align: top;\n",
              "    }\n",
              "\n",
              "    .dataframe thead th {\n",
              "        text-align: right;\n",
              "    }\n",
              "</style>\n",
              "<table border=\"1\" class=\"dataframe\">\n",
              "  <thead>\n",
              "    <tr style=\"text-align: right;\">\n",
              "      <th></th>\n",
              "      <th>tweet_id</th>\n",
              "      <th>favorite_count</th>\n",
              "      <th>retweet_count</th>\n",
              "      <th>created_at</th>\n",
              "      <th>source</th>\n",
              "      <th>retweeted_status</th>\n",
              "      <th>url</th>\n",
              "    </tr>\n",
              "  </thead>\n",
              "  <tbody>\n",
              "    <tr>\n",
              "      <th>0</th>\n",
              "      <td>saraheneedleman</td>\n",
              "      <td>0</td>\n",
              "      <td>0</td>\n",
              "      <td>Sun May 23 16:13:00 +0000 2021</td>\n",
              "      <td>Twitter for iPhone</td>\n",
              "      <td>Original tweet</td>\n",
              "      <td>https://t.co/GBzSLgO31n</td>\n",
              "    </tr>\n",
              "    <tr>\n",
              "      <th>1</th>\n",
              "      <td>rwang0</td>\n",
              "      <td>0</td>\n",
              "      <td>0</td>\n",
              "      <td>Sun May 23 16:02:41 +0000 2021</td>\n",
              "      <td>Twitter Web App</td>\n",
              "      <td>Original tweet</td>\n",
              "      <td>https://t.co/iChdLzrxXo</td>\n",
              "    </tr>\n",
              "    <tr>\n",
              "      <th>2</th>\n",
              "      <td>Arshisallah1</td>\n",
              "      <td>0</td>\n",
              "      <td>197</td>\n",
              "      <td>Sun May 23 14:45:55 +0000 2021</td>\n",
              "      <td>Twitter for Android</td>\n",
              "      <td>This is a retweet</td>\n",
              "      <td>This is a retweet</td>\n",
              "    </tr>\n",
              "    <tr>\n",
              "      <th>3</th>\n",
              "      <td>NCStories</td>\n",
              "      <td>0</td>\n",
              "      <td>0</td>\n",
              "      <td>Sun May 23 14:45:00 +0000 2021</td>\n",
              "      <td>Twitter Web App</td>\n",
              "      <td>Original tweet</td>\n",
              "      <td>https://t.co/cGaU2TC0dv</td>\n",
              "    </tr>\n",
              "    <tr>\n",
              "      <th>4</th>\n",
              "      <td>KYablochkin</td>\n",
              "      <td>0</td>\n",
              "      <td>20</td>\n",
              "      <td>Sun May 23 14:32:09 +0000 2021</td>\n",
              "      <td>Twitter for Android</td>\n",
              "      <td>This is a retweet</td>\n",
              "      <td>This is a retweet</td>\n",
              "    </tr>\n",
              "    <tr>\n",
              "      <th>5</th>\n",
              "      <td>JMoRichmondVA</td>\n",
              "      <td>0</td>\n",
              "      <td>1</td>\n",
              "      <td>Sun May 23 14:22:38 +0000 2021</td>\n",
              "      <td>Twitter for iPad</td>\n",
              "      <td>This is a retweet</td>\n",
              "      <td>This is a retweet</td>\n",
              "    </tr>\n",
              "    <tr>\n",
              "      <th>6</th>\n",
              "      <td>ruth59185822</td>\n",
              "      <td>0</td>\n",
              "      <td>0</td>\n",
              "      <td>Sun May 23 14:03:11 +0000 2021</td>\n",
              "      <td>AdvisorStream v2</td>\n",
              "      <td>Original tweet</td>\n",
              "      <td>https://t.co/rJhTEnK7ir</td>\n",
              "    </tr>\n",
              "    <tr>\n",
              "      <th>7</th>\n",
              "      <td>WSJPolitics</td>\n",
              "      <td>2</td>\n",
              "      <td>0</td>\n",
              "      <td>Sun May 23 13:43:29 +0000 2021</td>\n",
              "      <td>SocialFlow</td>\n",
              "      <td>Original tweet</td>\n",
              "      <td>https://t.co/02BoHkOt3R</td>\n",
              "    </tr>\n",
              "    <tr>\n",
              "      <th>8</th>\n",
              "      <td>gamefromscratch</td>\n",
              "      <td>0</td>\n",
              "      <td>0</td>\n",
              "      <td>Sun May 23 13:37:29 +0000 2021</td>\n",
              "      <td>Twitter for Android</td>\n",
              "      <td>Original tweet</td>\n",
              "      <td>https://t.co/PaZWD5CK3a</td>\n",
              "    </tr>\n",
              "    <tr>\n",
              "      <th>9</th>\n",
              "      <td>KateMilani</td>\n",
              "      <td>0</td>\n",
              "      <td>0</td>\n",
              "      <td>Sun May 23 13:32:58 +0000 2021</td>\n",
              "      <td>Twitter Web App</td>\n",
              "      <td>Original tweet</td>\n",
              "      <td>https://t.co/Ch9W37DyG0</td>\n",
              "    </tr>\n",
              "    <tr>\n",
              "      <th>10</th>\n",
              "      <td>waninyo123</td>\n",
              "      <td>0</td>\n",
              "      <td>1</td>\n",
              "      <td>Sun May 23 13:23:34 +0000 2021</td>\n",
              "      <td>Twitter for iPhone</td>\n",
              "      <td>This is a retweet</td>\n",
              "      <td>This is a retweet</td>\n",
              "    </tr>\n",
              "    <tr>\n",
              "      <th>11</th>\n",
              "      <td>AcerboLivio</td>\n",
              "      <td>2</td>\n",
              "      <td>1</td>\n",
              "      <td>Sun May 23 13:09:05 +0000 2021</td>\n",
              "      <td>WordPress.com</td>\n",
              "      <td>Original tweet</td>\n",
              "      <td>https://t.co/1mHZ4KFRtQ</td>\n",
              "    </tr>\n",
              "    <tr>\n",
              "      <th>12</th>\n",
              "      <td>Real_Infinity95</td>\n",
              "      <td>0</td>\n",
              "      <td>20</td>\n",
              "      <td>Sun May 23 13:05:03 +0000 2021</td>\n",
              "      <td>Twitter for iPhone</td>\n",
              "      <td>This is a retweet</td>\n",
              "      <td>This is a retweet</td>\n",
              "    </tr>\n",
              "    <tr>\n",
              "      <th>13</th>\n",
              "      <td>nodoubtman</td>\n",
              "      <td>0</td>\n",
              "      <td>0</td>\n",
              "      <td>Sun May 23 13:00:36 +0000 2021</td>\n",
              "      <td>ThingTweet</td>\n",
              "      <td>Original tweet</td>\n",
              "      <td>l</td>\n",
              "    </tr>\n",
              "    <tr>\n",
              "      <th>14</th>\n",
              "      <td>Jazzy_Jama</td>\n",
              "      <td>0</td>\n",
              "      <td>3</td>\n",
              "      <td>Sun May 23 12:53:32 +0000 2021</td>\n",
              "      <td>Twitter Web App</td>\n",
              "      <td>This is a retweet</td>\n",
              "      <td>This is a retweet</td>\n",
              "    </tr>\n",
              "    <tr>\n",
              "      <th>15</th>\n",
              "      <td>joepeyronnin</td>\n",
              "      <td>0</td>\n",
              "      <td>0</td>\n",
              "      <td>Sun May 23 12:52:54 +0000 2021</td>\n",
              "      <td>Twitter for iPhone</td>\n",
              "      <td>Original tweet</td>\n",
              "      <td>https://t.co/okdiHEoC8U</td>\n",
              "    </tr>\n",
              "    <tr>\n",
              "      <th>16</th>\n",
              "      <td>DaviDiggz</td>\n",
              "      <td>0</td>\n",
              "      <td>20</td>\n",
              "      <td>Sun May 23 11:58:07 +0000 2021</td>\n",
              "      <td>Twitter for iPhone</td>\n",
              "      <td>This is a retweet</td>\n",
              "      <td>This is a retweet</td>\n",
              "    </tr>\n",
              "    <tr>\n",
              "      <th>17</th>\n",
              "      <td>RenaissanceTino</td>\n",
              "      <td>0</td>\n",
              "      <td>20</td>\n",
              "      <td>Sun May 23 11:50:30 +0000 2021</td>\n",
              "      <td>Twitter Web App</td>\n",
              "      <td>This is a retweet</td>\n",
              "      <td>This is a retweet</td>\n",
              "    </tr>\n",
              "    <tr>\n",
              "      <th>18</th>\n",
              "      <td>LNPDigital</td>\n",
              "      <td>0</td>\n",
              "      <td>20</td>\n",
              "      <td>Sun May 23 11:44:07 +0000 2021</td>\n",
              "      <td>Twitter Web App</td>\n",
              "      <td>This is a retweet</td>\n",
              "      <td>This is a retweet</td>\n",
              "    </tr>\n",
              "    <tr>\n",
              "      <th>19</th>\n",
              "      <td>sbotts1</td>\n",
              "      <td>0</td>\n",
              "      <td>1</td>\n",
              "      <td>Sun May 23 11:39:14 +0000 2021</td>\n",
              "      <td>Twitter for iPhone</td>\n",
              "      <td>This is a retweet</td>\n",
              "      <td>This is a retweet</td>\n",
              "    </tr>\n",
              "    <tr>\n",
              "      <th>20</th>\n",
              "      <td>Oreo52</td>\n",
              "      <td>0</td>\n",
              "      <td>20</td>\n",
              "      <td>Sun May 23 11:39:00 +0000 2021</td>\n",
              "      <td>Twitter Web App</td>\n",
              "      <td>This is a retweet</td>\n",
              "      <td>This is a retweet</td>\n",
              "    </tr>\n",
              "    <tr>\n",
              "      <th>21</th>\n",
              "      <td>Soul_in_Seoul</td>\n",
              "      <td>0</td>\n",
              "      <td>20</td>\n",
              "      <td>Sun May 23 11:35:06 +0000 2021</td>\n",
              "      <td>Twitter for iPhone</td>\n",
              "      <td>This is a retweet</td>\n",
              "      <td>This is a retweet</td>\n",
              "    </tr>\n",
              "    <tr>\n",
              "      <th>22</th>\n",
              "      <td>drichx2</td>\n",
              "      <td>0</td>\n",
              "      <td>20</td>\n",
              "      <td>Sun May 23 11:34:28 +0000 2021</td>\n",
              "      <td>Twitter for iPhone</td>\n",
              "      <td>This is a retweet</td>\n",
              "      <td>This is a retweet</td>\n",
              "    </tr>\n",
              "    <tr>\n",
              "      <th>23</th>\n",
              "      <td>Mastersson</td>\n",
              "      <td>0</td>\n",
              "      <td>20</td>\n",
              "      <td>Sun May 23 11:33:10 +0000 2021</td>\n",
              "      <td>Twitter Web App</td>\n",
              "      <td>This is a retweet</td>\n",
              "      <td>This is a retweet</td>\n",
              "    </tr>\n",
              "    <tr>\n",
              "      <th>24</th>\n",
              "      <td>wsj_once</td>\n",
              "      <td>0</td>\n",
              "      <td>20</td>\n",
              "      <td>Sun May 23 11:32:23 +0000 2021</td>\n",
              "      <td>node-once-tweet</td>\n",
              "      <td>This is a retweet</td>\n",
              "      <td>This is a retweet</td>\n",
              "    </tr>\n",
              "    <tr>\n",
              "      <th>25</th>\n",
              "      <td>apequenarinaldi</td>\n",
              "      <td>0</td>\n",
              "      <td>20</td>\n",
              "      <td>Sun May 23 11:31:54 +0000 2021</td>\n",
              "      <td>Twitter for Android</td>\n",
              "      <td>This is a retweet</td>\n",
              "      <td>This is a retweet</td>\n",
              "    </tr>\n",
              "    <tr>\n",
              "      <th>26</th>\n",
              "      <td>VBaus</td>\n",
              "      <td>0</td>\n",
              "      <td>20</td>\n",
              "      <td>Sun May 23 11:31:19 +0000 2021</td>\n",
              "      <td>Twitter for Android</td>\n",
              "      <td>This is a retweet</td>\n",
              "      <td>This is a retweet</td>\n",
              "    </tr>\n",
              "    <tr>\n",
              "      <th>27</th>\n",
              "      <td>FrankTs14829780</td>\n",
              "      <td>0</td>\n",
              "      <td>20</td>\n",
              "      <td>Sun May 23 11:31:04 +0000 2021</td>\n",
              "      <td>Twitter for iPhone</td>\n",
              "      <td>This is a retweet</td>\n",
              "      <td>This is a retweet</td>\n",
              "    </tr>\n",
              "    <tr>\n",
              "      <th>28</th>\n",
              "      <td>karasu_nuay</td>\n",
              "      <td>0</td>\n",
              "      <td>20</td>\n",
              "      <td>Sun May 23 11:31:01 +0000 2021</td>\n",
              "      <td>Twitter Web App</td>\n",
              "      <td>This is a retweet</td>\n",
              "      <td>This is a retweet</td>\n",
              "    </tr>\n",
              "    <tr>\n",
              "      <th>29</th>\n",
              "      <td>glitchbotio</td>\n",
              "      <td>0</td>\n",
              "      <td>20</td>\n",
              "      <td>Sun May 23 11:30:10 +0000 2021</td>\n",
              "      <td>Motivational App</td>\n",
              "      <td>This is a retweet</td>\n",
              "      <td>This is a retweet</td>\n",
              "    </tr>\n",
              "    <tr>\n",
              "      <th>30</th>\n",
              "      <td>WSJ</td>\n",
              "      <td>54</td>\n",
              "      <td>20</td>\n",
              "      <td>Sun May 23 11:30:05 +0000 2021</td>\n",
              "      <td>SocialFlow</td>\n",
              "      <td>Original tweet</td>\n",
              "      <td>https://t.co/Saq0WAikpO</td>\n",
              "    </tr>\n",
              "    <tr>\n",
              "      <th>31</th>\n",
              "      <td>News18Tech</td>\n",
              "      <td>1</td>\n",
              "      <td>0</td>\n",
              "      <td>Sun May 23 11:30:00 +0000 2021</td>\n",
              "      <td>TweetDeck</td>\n",
              "      <td>Original tweet</td>\n",
              "      <td>https://t.co/CgAYwhRL2i</td>\n",
              "    </tr>\n",
              "    <tr>\n",
              "      <th>32</th>\n",
              "      <td>SniffOutStocks</td>\n",
              "      <td>0</td>\n",
              "      <td>0</td>\n",
              "      <td>Sun May 23 11:22:03 +0000 2021</td>\n",
              "      <td>dlvr.it</td>\n",
              "      <td>Original tweet</td>\n",
              "      <td>https://t.co/t9SOtfntA9 https://t.co/ozXj0fFiRS</td>\n",
              "    </tr>\n",
              "    <tr>\n",
              "      <th>33</th>\n",
              "      <td>MrDewdney</td>\n",
              "      <td>0</td>\n",
              "      <td>0</td>\n",
              "      <td>Sun May 23 11:03:23 +0000 2021</td>\n",
              "      <td>AdvisorStream v2</td>\n",
              "      <td>Original tweet</td>\n",
              "      <td>https://t.co/fjev2KO9KU</td>\n",
              "    </tr>\n",
              "    <tr>\n",
              "      <th>34</th>\n",
              "      <td>Reporticdotin</td>\n",
              "      <td>0</td>\n",
              "      <td>0</td>\n",
              "      <td>Sun May 23 09:39:20 +0000 2021</td>\n",
              "      <td>ContentStudio.io</td>\n",
              "      <td>Original tweet</td>\n",
              "      <td>https://t.co/xjXvEyG4iA</td>\n",
              "    </tr>\n",
              "    <tr>\n",
              "      <th>35</th>\n",
              "      <td>UtopianKnightUK</td>\n",
              "      <td>0</td>\n",
              "      <td>0</td>\n",
              "      <td>Sun May 23 08:57:26 +0000 2021</td>\n",
              "      <td>Blog2Social APP</td>\n",
              "      <td>Original tweet</td>\n",
              "      <td>https://t.co/FUcVrFuL6H</td>\n",
              "    </tr>\n",
              "    <tr>\n",
              "      <th>36</th>\n",
              "      <td>BGRIndia</td>\n",
              "      <td>7</td>\n",
              "      <td>0</td>\n",
              "      <td>Sun May 23 07:41:39 +0000 2021</td>\n",
              "      <td>TweetDeck</td>\n",
              "      <td>Original tweet</td>\n",
              "      <td>https://t.co/NFT89I8k6c</td>\n",
              "    </tr>\n",
              "    <tr>\n",
              "      <th>37</th>\n",
              "      <td>TakaWael</td>\n",
              "      <td>0</td>\n",
              "      <td>0</td>\n",
              "      <td>Sun May 23 06:31:05 +0000 2021</td>\n",
              "      <td>Twitter Web App</td>\n",
              "      <td>Original tweet</td>\n",
              "      <td>https://t.co/lwEld0ybkK</td>\n",
              "    </tr>\n",
              "    <tr>\n",
              "      <th>38</th>\n",
              "      <td>DrUsmanQ</td>\n",
              "      <td>1</td>\n",
              "      <td>0</td>\n",
              "      <td>Sun May 23 06:19:34 +0000 2021</td>\n",
              "      <td>dlvr.it</td>\n",
              "      <td>Original tweet</td>\n",
              "      <td>https://t.co/QpP2sJY8Ef</td>\n",
              "    </tr>\n",
              "    <tr>\n",
              "      <th>39</th>\n",
              "      <td>News18Tech</td>\n",
              "      <td>1</td>\n",
              "      <td>1</td>\n",
              "      <td>Sun May 23 06:17:36 +0000 2021</td>\n",
              "      <td>TweetDeck</td>\n",
              "      <td>Original tweet</td>\n",
              "      <td>https://t.co/QPsKoDmBNv</td>\n",
              "    </tr>\n",
              "    <tr>\n",
              "      <th>40</th>\n",
              "      <td>CaligirlLeftie</td>\n",
              "      <td>0</td>\n",
              "      <td>2</td>\n",
              "      <td>Sun May 23 06:09:41 +0000 2021</td>\n",
              "      <td>Twitter for iPhone</td>\n",
              "      <td>This is a retweet</td>\n",
              "      <td>This is a retweet</td>\n",
              "    </tr>\n",
              "    <tr>\n",
              "      <th>41</th>\n",
              "      <td>Astincent</td>\n",
              "      <td>0</td>\n",
              "      <td>0</td>\n",
              "      <td>Sun May 23 05:14:22 +0000 2021</td>\n",
              "      <td>Twitter for iPhone</td>\n",
              "      <td>Original tweet</td>\n",
              "      <td>https://t.co/FxHQ9W2ztb</td>\n",
              "    </tr>\n",
              "    <tr>\n",
              "      <th>42</th>\n",
              "      <td>ZaqsTech</td>\n",
              "      <td>0</td>\n",
              "      <td>0</td>\n",
              "      <td>Sun May 23 05:00:30 +0000 2021</td>\n",
              "      <td>ZAQS Tech</td>\n",
              "      <td>Original tweet</td>\n",
              "      <td>https://t.co/tW2z1V2UNK</td>\n",
              "    </tr>\n",
              "    <tr>\n",
              "      <th>43</th>\n",
              "      <td>vijaya_telugu</td>\n",
              "      <td>0</td>\n",
              "      <td>0</td>\n",
              "      <td>Sun May 23 03:24:06 +0000 2021</td>\n",
              "      <td>Twitter for iPhone</td>\n",
              "      <td>Original tweet</td>\n",
              "      <td>https://t.co/w28Tg7Inih</td>\n",
              "    </tr>\n",
              "    <tr>\n",
              "      <th>44</th>\n",
              "      <td>aravinth_in</td>\n",
              "      <td>0</td>\n",
              "      <td>3</td>\n",
              "      <td>Sun May 23 02:12:35 +0000 2021</td>\n",
              "      <td>Twitter Web App</td>\n",
              "      <td>This is a retweet</td>\n",
              "      <td>This is a retweet</td>\n",
              "    </tr>\n",
              "    <tr>\n",
              "      <th>45</th>\n",
              "      <td>PhilDeCarolis</td>\n",
              "      <td>0</td>\n",
              "      <td>3</td>\n",
              "      <td>Sun May 23 02:05:28 +0000 2021</td>\n",
              "      <td>Twitter for iPhone</td>\n",
              "      <td>This is a retweet</td>\n",
              "      <td>This is a retweet</td>\n",
              "    </tr>\n",
              "    <tr>\n",
              "      <th>46</th>\n",
              "      <td>Eeprak20</td>\n",
              "      <td>0</td>\n",
              "      <td>3</td>\n",
              "      <td>Sun May 23 02:04:16 +0000 2021</td>\n",
              "      <td>Twitter for Android</td>\n",
              "      <td>This is a retweet</td>\n",
              "      <td>This is a retweet</td>\n",
              "    </tr>\n",
              "    <tr>\n",
              "      <th>47</th>\n",
              "      <td>EconomicTimes</td>\n",
              "      <td>17</td>\n",
              "      <td>3</td>\n",
              "      <td>Sun May 23 02:00:01 +0000 2021</td>\n",
              "      <td>TweetDeck</td>\n",
              "      <td>Original tweet</td>\n",
              "      <td>https://t.co/G3GNR7lUhG</td>\n",
              "    </tr>\n",
              "    <tr>\n",
              "      <th>48</th>\n",
              "      <td>mileskimball</td>\n",
              "      <td>2</td>\n",
              "      <td>0</td>\n",
              "      <td>Sat May 22 21:49:23 +0000 2021</td>\n",
              "      <td>Twitter Web App</td>\n",
              "      <td>Original tweet</td>\n",
              "      <td>https://t.co/dwFPvDbQP3</td>\n",
              "    </tr>\n",
              "  </tbody>\n",
              "</table>\n",
              "</div>"
            ],
            "text/plain": [
              "           tweet_id  ...                                              url\n",
              "0   saraheneedleman  ...                          https://t.co/GBzSLgO31n\n",
              "1            rwang0  ...                          https://t.co/iChdLzrxXo\n",
              "2      Arshisallah1  ...                                This is a retweet\n",
              "3         NCStories  ...                          https://t.co/cGaU2TC0dv\n",
              "4       KYablochkin  ...                                This is a retweet\n",
              "5     JMoRichmondVA  ...                                This is a retweet\n",
              "6      ruth59185822  ...                          https://t.co/rJhTEnK7ir\n",
              "7       WSJPolitics  ...                          https://t.co/02BoHkOt3R\n",
              "8   gamefromscratch  ...                          https://t.co/PaZWD5CK3a\n",
              "9        KateMilani  ...                          https://t.co/Ch9W37DyG0\n",
              "10       waninyo123  ...                                This is a retweet\n",
              "11      AcerboLivio  ...                          https://t.co/1mHZ4KFRtQ\n",
              "12  Real_Infinity95  ...                                This is a retweet\n",
              "13       nodoubtman  ...                                                l\n",
              "14       Jazzy_Jama  ...                                This is a retweet\n",
              "15     joepeyronnin  ...                          https://t.co/okdiHEoC8U\n",
              "16        DaviDiggz  ...                                This is a retweet\n",
              "17  RenaissanceTino  ...                                This is a retweet\n",
              "18       LNPDigital  ...                                This is a retweet\n",
              "19          sbotts1  ...                                This is a retweet\n",
              "20           Oreo52  ...                                This is a retweet\n",
              "21    Soul_in_Seoul  ...                                This is a retweet\n",
              "22          drichx2  ...                                This is a retweet\n",
              "23       Mastersson  ...                                This is a retweet\n",
              "24         wsj_once  ...                                This is a retweet\n",
              "25  apequenarinaldi  ...                                This is a retweet\n",
              "26            VBaus  ...                                This is a retweet\n",
              "27  FrankTs14829780  ...                                This is a retweet\n",
              "28      karasu_nuay  ...                                This is a retweet\n",
              "29      glitchbotio  ...                                This is a retweet\n",
              "30              WSJ  ...                          https://t.co/Saq0WAikpO\n",
              "31       News18Tech  ...                          https://t.co/CgAYwhRL2i\n",
              "32   SniffOutStocks  ...  https://t.co/t9SOtfntA9 https://t.co/ozXj0fFiRS\n",
              "33        MrDewdney  ...                          https://t.co/fjev2KO9KU\n",
              "34    Reporticdotin  ...                          https://t.co/xjXvEyG4iA\n",
              "35  UtopianKnightUK  ...                          https://t.co/FUcVrFuL6H\n",
              "36         BGRIndia  ...                          https://t.co/NFT89I8k6c\n",
              "37         TakaWael  ...                          https://t.co/lwEld0ybkK\n",
              "38         DrUsmanQ  ...                          https://t.co/QpP2sJY8Ef\n",
              "39       News18Tech  ...                          https://t.co/QPsKoDmBNv\n",
              "40   CaligirlLeftie  ...                                This is a retweet\n",
              "41        Astincent  ...                          https://t.co/FxHQ9W2ztb\n",
              "42         ZaqsTech  ...                          https://t.co/tW2z1V2UNK\n",
              "43    vijaya_telugu  ...                          https://t.co/w28Tg7Inih\n",
              "44      aravinth_in  ...                                This is a retweet\n",
              "45    PhilDeCarolis  ...                                This is a retweet\n",
              "46         Eeprak20  ...                                This is a retweet\n",
              "47    EconomicTimes  ...                          https://t.co/G3GNR7lUhG\n",
              "48     mileskimball  ...                          https://t.co/dwFPvDbQP3\n",
              "\n",
              "[49 rows x 7 columns]"
            ]
          },
          "metadata": {
            "tags": []
          },
          "execution_count": 55
        }
      ]
    },
    {
      "cell_type": "code",
      "metadata": {
        "colab": {
          "base_uri": "https://localhost:8080/",
          "height": 298
        },
        "id": "UKHkv7mNAULz",
        "outputId": "a68b10f5-995f-4c5c-955b-4a56633a79e6"
      },
      "source": [
        "sns.histplot(tweet_df['retweet_count'],kde=True)"
      ],
      "execution_count": 56,
      "outputs": [
        {
          "output_type": "execute_result",
          "data": {
            "text/plain": [
              "<matplotlib.axes._subplots.AxesSubplot at 0x7fdddd3109d0>"
            ]
          },
          "metadata": {
            "tags": []
          },
          "execution_count": 56
        },
        {
          "output_type": "display_data",
          "data": {
            "image/png": "[encoded data removed]",
            "text/plain": [
              "<Figure size 432x288 with 1 Axes>"
            ]
          },
          "metadata": {
            "tags": [],
            "needs_background": "light"
          }
        }
      ]
    },
    {
      "cell_type": "code",
      "metadata": {
        "colab": {
          "base_uri": "https://localhost:8080/"
        },
        "id": "xrEcVr2R78Km",
        "outputId": "5149e1fe-2017-4bfa-d1cf-3074bc415502"
      },
      "source": [
        "tweet_df['source'].unique()"
      ],
      "execution_count": 48,
      "outputs": [
        {
          "output_type": "execute_result",
          "data": {
            "text/plain": [
              "array(['Twitter Web App', 'Twitter for Android', 'Twitter for iPad',\n",
              "       'AdvisorStream v2', 'SocialFlow', 'Twitter for iPhone',\n",
              "       'WordPress.com', 'ThingTweet', 'node-once-tweet',\n",
              "       'Motivational App', 'TweetDeck', 'dlvr.it', 'ContentStudio.io',\n",
              "       'Blog2Social APP', 'ZAQS Tech'], dtype=object)"
            ]
          },
          "metadata": {
            "tags": []
          },
          "execution_count": 48
        }
      ]
    },
    {
      "cell_type": "code",
      "metadata": {
        "colab": {
          "base_uri": "https://localhost:8080/"
        },
        "id": "KfZKFgOT9wuF",
        "outputId": "170daa95-db0d-4ee1-a778-b747a4235a34"
      },
      "source": [
        "tweet_df['source'].value_counts()\n"
      ],
      "execution_count": 64,
      "outputs": [
        {
          "output_type": "execute_result",
          "data": {
            "text/plain": [
              "Twitter for iPhone     13\n",
              "Twitter Web App        12\n",
              "Twitter for Android     6\n",
              "TweetDeck               4\n",
              "SocialFlow              2\n",
              "AdvisorStream v2        2\n",
              "dlvr.it                 2\n",
              "WordPress.com           1\n",
              "Blog2Social APP         1\n",
              "ContentStudio.io        1\n",
              "Motivational App        1\n",
              "ZAQS Tech               1\n",
              "ThingTweet              1\n",
              "Twitter for iPad        1\n",
              "node-once-tweet         1\n",
              "Name: source, dtype: int64"
            ]
          },
          "metadata": {
            "tags": []
          },
          "execution_count": 64
        }
      ]
    },
    {
      "cell_type": "code",
      "metadata": {
        "colab": {
          "base_uri": "https://localhost:8080/",
          "height": 383
        },
        "id": "W5o1Uy6L_KK3",
        "outputId": "90573c12-9309-4ead-c159-8598e6d4dc5d"
      },
      "source": [
        "source_df= tweet_df['source'].value_counts().rename_axis('unique_sources').to_frame('counts')\n",
        "source_df.head(10)"
      ],
      "execution_count": 60,
      "outputs": [
        {
          "output_type": "execute_result",
          "data": {
            "text/html": [
              "<div>\n",
              "<style scoped>\n",
              "    .dataframe tbody tr th:only-of-type {\n",
              "        vertical-align: middle;\n",
              "    }\n",
              "\n",
              "    .dataframe tbody tr th {\n",
              "        vertical-align: top;\n",
              "    }\n",
              "\n",
              "    .dataframe thead th {\n",
              "        text-align: right;\n",
              "    }\n",
              "</style>\n",
              "<table border=\"1\" class=\"dataframe\">\n",
              "  <thead>\n",
              "    <tr style=\"text-align: right;\">\n",
              "      <th></th>\n",
              "      <th>counts</th>\n",
              "    </tr>\n",
              "    <tr>\n",
              "      <th>unique_sources</th>\n",
              "      <th></th>\n",
              "    </tr>\n",
              "  </thead>\n",
              "  <tbody>\n",
              "    <tr>\n",
              "      <th>Twitter for iPhone</th>\n",
              "      <td>13</td>\n",
              "    </tr>\n",
              "    <tr>\n",
              "      <th>Twitter Web App</th>\n",
              "      <td>12</td>\n",
              "    </tr>\n",
              "    <tr>\n",
              "      <th>Twitter for Android</th>\n",
              "      <td>6</td>\n",
              "    </tr>\n",
              "    <tr>\n",
              "      <th>TweetDeck</th>\n",
              "      <td>4</td>\n",
              "    </tr>\n",
              "    <tr>\n",
              "      <th>SocialFlow</th>\n",
              "      <td>2</td>\n",
              "    </tr>\n",
              "    <tr>\n",
              "      <th>AdvisorStream v2</th>\n",
              "      <td>2</td>\n",
              "    </tr>\n",
              "    <tr>\n",
              "      <th>dlvr.it</th>\n",
              "      <td>2</td>\n",
              "    </tr>\n",
              "    <tr>\n",
              "      <th>WordPress.com</th>\n",
              "      <td>1</td>\n",
              "    </tr>\n",
              "    <tr>\n",
              "      <th>Blog2Social APP</th>\n",
              "      <td>1</td>\n",
              "    </tr>\n",
              "    <tr>\n",
              "      <th>ContentStudio.io</th>\n",
              "      <td>1</td>\n",
              "    </tr>\n",
              "  </tbody>\n",
              "</table>\n",
              "</div>"
            ],
            "text/plain": [
              "                     counts\n",
              "unique_sources             \n",
              "Twitter for iPhone       13\n",
              "Twitter Web App          12\n",
              "Twitter for Android       6\n",
              "TweetDeck                 4\n",
              "SocialFlow                2\n",
              "AdvisorStream v2          2\n",
              "dlvr.it                   2\n",
              "WordPress.com             1\n",
              "Blog2Social APP           1\n",
              "ContentStudio.io          1"
            ]
          },
          "metadata": {
            "tags": []
          },
          "execution_count": 60
        }
      ]
    },
    {
      "cell_type": "code",
      "metadata": {
        "colab": {
          "base_uri": "https://localhost:8080/"
        },
        "id": "17TCD-0qEmqC",
        "outputId": "3e121438-74cc-47b5-fb23-cf7fc61d4990"
      },
      "source": [
        "source_dict = source_df.to_dict(orient='dict')\n",
        "source_dict\n"
      ],
      "execution_count": 74,
      "outputs": [
        {
          "output_type": "execute_result",
          "data": {
            "text/plain": [
              "{'counts': {'AdvisorStream v2': 2,\n",
              "  'Blog2Social APP': 1,\n",
              "  'ContentStudio.io': 1,\n",
              "  'Motivational App': 1,\n",
              "  'SocialFlow': 2,\n",
              "  'ThingTweet': 1,\n",
              "  'TweetDeck': 4,\n",
              "  'Twitter Web App': 12,\n",
              "  'Twitter for Android': 6,\n",
              "  'Twitter for iPad': 1,\n",
              "  'Twitter for iPhone': 13,\n",
              "  'WordPress.com': 1,\n",
              "  'ZAQS Tech': 1,\n",
              "  'dlvr.it': 2,\n",
              "  'node-once-tweet': 1}}"
            ]
          },
          "metadata": {
            "tags": []
          },
          "execution_count": 74
        }
      ]
    },
    {
      "cell_type": "code",
      "metadata": {
        "colab": {
          "base_uri": "https://localhost:8080/",
          "height": 374
        },
        "id": "PTEm10JnF2ko",
        "outputId": "5f13e432-53ee-41cf-e73b-8f7bc6020a2e"
      },
      "source": [
        "#Using matplotlib\n",
        "pie, ax = plt.subplots(figsize=[10,6])\n",
        "labels = list(source_dict['counts'].keys())\n",
        "labels\n",
        "plt.pie(x=source_dict['counts'].values(), autopct=\"%.1f%%\", labels=labels, pctdistance=0.5)\n",
        "plt.title(\"Tweets by Source\", fontsize=14);"
      ],
      "execution_count": 79,
      "outputs": [
        {
          "output_type": "display_data",
          "data": {
            "image/png": "[encoded data removed]",
            "text/plain": [
              "<Figure size 720x432 with 1 Axes>"
            ]
          },
          "metadata": {
            "tags": []
          }
        }
      ]
    }
  ]
}