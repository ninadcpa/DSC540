{
  "nbformat": 4,
  "nbformat_minor": 0,
  "metadata": {
    "colab": {
      "name": "Week_9_10_Exercise.ipynb",
      "provenance": [],
      "collapsed_sections": [],
      "toc_visible": true,
      "authorship_tag": "ABX9TyMwIDTDTJwDFQG13VRZBRUU",
      "include_colab_link": true
    },
    "kernelspec": {
      "name": "python3",
      "display_name": "Python 3"
    },
    "language_info": {
      "name": "python"
    }
  },
  "cells": [
    {
      "cell_type": "markdown",
      "metadata": {
        "id": "view-in-github",
        "colab_type": "text"
      },
      "source": [
        "<a href=\"https://colab.research.google.com/github/ninadcpa/DSC540/blob/main/Week_9_10_Exercise.ipynb\" target=\"_parent\"><img src=\"https://colab.research.google.com/assets/colab-badge.svg\" alt=\"Open In Colab\"/></a>"
      ]
    },
    {
      "cell_type": "markdown",
      "metadata": {
        "id": "2lGXvW3UwmAa"
      },
      "source": [
        "# DSC540 Week 7 and 8 Exercise\n",
        "@author Ninad Patkhedkar"
      ]
    },
    {
      "cell_type": "code",
      "metadata": {
        "colab": {
          "base_uri": "https://localhost:8080/"
        },
        "id": "aoIFAXAOwevd",
        "outputId": "99b6e1c5-28c8-414f-8773-3b1b9941e83a"
      },
      "source": [
        "from google.colab import drive\n",
        "import sys\n",
        "import os\n",
        "\n",
        "drive.mount('/content/drive')\n",
        "sys.path.append('/content/drive/MyDrive/Colab Notebooks/DSC540')\n",
        "os.chdir('/content/drive/MyDrive/Colab Notebooks/DSC540')"
      ],
      "execution_count": 1,
      "outputs": [
        {
          "output_type": "stream",
          "text": [
            "Mounted at /content/drive\n"
          ],
          "name": "stdout"
        }
      ]
    },
    {
      "cell_type": "markdown",
      "metadata": {
        "id": "6ZCMqN6axSrt"
      },
      "source": [
        "1. **Data Wrangling with Python: Activity 9, page 294**"
      ]
    },
    {
      "cell_type": "code",
      "metadata": {
        "id": "FuSHE96qxZaO"
      },
      "source": [
        "import urllib.request, urllib.parse, urllib.error\n",
        "import requests\n",
        "from bs4 import BeautifulSoup\n",
        "import ssl\n",
        "import re"
      ],
      "execution_count": 2,
      "outputs": []
    },
    {
      "cell_type": "code",
      "metadata": {
        "id": "Ir8Ym5kwyRbj"
      },
      "source": [
        "ctx = ssl.create_default_context()\n",
        "ctx.check_hostname = False\n",
        "ctx.verify_mode = ssl.CERT_NONE"
      ],
      "execution_count": 3,
      "outputs": []
    },
    {
      "cell_type": "code",
      "metadata": {
        "id": "1GyFLv2rz4c1"
      },
      "source": [
        "gutenberg_url = 'https://www.gutenberg.org/browse/scores/top'\n",
        "resp = requests.get(gutenberg_url)"
      ],
      "execution_count": 12,
      "outputs": []
    },
    {
      "cell_type": "code",
      "metadata": {
        "id": "SBBncI1fz_mI"
      },
      "source": [
        "# Following Linux standard, I will return 0 in case of successful request\n",
        "# And will return any non-zero number in case of failure (in this case non-zero number I chose is 255)\n",
        "def status_check(r):\n",
        "    if r.status_code==200:\n",
        "        print(\"Success!\")\n",
        "        return 0\n",
        "    else:\n",
        "        print(\"Failed!\")\n",
        "        return 255"
      ],
      "execution_count": 13,
      "outputs": []
    },
    {
      "cell_type": "code",
      "metadata": {
        "colab": {
          "base_uri": "https://localhost:8080/"
        },
        "id": "tka8oBB01Kx4",
        "outputId": "a7172bbd-7a3e-4bc5-87e5-4d1fdd16be27"
      },
      "source": [
        "status_check(resp)"
      ],
      "execution_count": 14,
      "outputs": [
        {
          "output_type": "stream",
          "text": [
            "Success!\n"
          ],
          "name": "stdout"
        },
        {
          "output_type": "execute_result",
          "data": {
            "text/plain": [
              "0"
            ]
          },
          "metadata": {
            "tags": []
          },
          "execution_count": 14
        }
      ]
    },
    {
      "cell_type": "code",
      "metadata": {
        "id": "_g9BZvhL1U-g"
      },
      "source": [
        "# soup = BeautifulSoup(resp.text)\n",
        "contents = resp.content.decode(resp.encoding)\n",
        "soup = BeautifulSoup(contents, 'html.parser')"
      ],
      "execution_count": 15,
      "outputs": []
    },
    {
      "cell_type": "code",
      "metadata": {
        "colab": {
          "base_uri": "https://localhost:8080/"
        },
        "id": "Ap2h5a3l1uQe",
        "outputId": "42fb22bb-5358-4e72-944e-1edb6f500356"
      },
      "source": [
        "# Empty list to hold all the http links in the HTML page\n",
        "lst_links=[]\n",
        "\n",
        "# Find all the anchor tags <a> and then link inside it\n",
        "for link in soup.find_all('a'):\n",
        "    #print(link.get('href'))\n",
        "    lst_links.append(link.get('href'))\n",
        "\n",
        "lst_links[:50]"
      ],
      "execution_count": 20,
      "outputs": [
        {
          "output_type": "execute_result",
          "data": {
            "text/plain": [
              "['/',\n",
              " '/about/',\n",
              " '/about/',\n",
              " '/policy/collection_development.html',\n",
              " '/about/contact_information.html',\n",
              " '/about/background/',\n",
              " '/policy/permission.html',\n",
              " '/policy/privacy_policy.html',\n",
              " '/policy/terms_of_use.html',\n",
              " '/ebooks/',\n",
              " '/ebooks/',\n",
              " '/ebooks/bookshelf/',\n",
              " '/browse/scores/top',\n",
              " '/ebooks/offline_catalogs.html',\n",
              " '/help/',\n",
              " '/help/',\n",
              " '/help/copyright.html',\n",
              " '/help/errata.html',\n",
              " '/help/file_formats.html',\n",
              " '/help/faq.html',\n",
              " '/policy/',\n",
              " '/help/public_domain_ebook_submission.html',\n",
              " '/help/submitting_your_own_work.html',\n",
              " '/help/mobile.html',\n",
              " '/attic/',\n",
              " '/donate/',\n",
              " '/donate/',\n",
              " '#books-last1',\n",
              " '#authors-last1',\n",
              " '#books-last7',\n",
              " '#authors-last7',\n",
              " '#books-last30',\n",
              " '#authors-last30',\n",
              " '/ebooks/84',\n",
              " '/ebooks/1342',\n",
              " '/ebooks/64317',\n",
              " '/ebooks/11',\n",
              " '/ebooks/98',\n",
              " '/ebooks/844',\n",
              " '/ebooks/2542',\n",
              " '/ebooks/174',\n",
              " '/ebooks/1661',\n",
              " '/ebooks/2701',\n",
              " '/ebooks/1250',\n",
              " '/ebooks/65387',\n",
              " '/ebooks/1260',\n",
              " '/ebooks/74',\n",
              " '/ebooks/2591',\n",
              " '/ebooks/43',\n",
              " '/ebooks/1952']"
            ]
          },
          "metadata": {
            "tags": []
          },
          "execution_count": 20
        }
      ]
    },
    {
      "cell_type": "code",
      "metadata": {
        "colab": {
          "base_uri": "https://localhost:8080/"
        },
        "id": "rooP5siN4GmJ",
        "outputId": "b0a52c46-0cae-42bf-8ab4-47ecc592e2d9"
      },
      "source": [
        "# Find index of item /ebooks/84\n",
        "index_of_first_book_link = lst_links.index('/ebooks/84')\n",
        "index_of_first_book_link"
      ],
      "execution_count": 21,
      "outputs": [
        {
          "output_type": "execute_result",
          "data": {
            "text/plain": [
              "33"
            ]
          },
          "metadata": {
            "tags": []
          },
          "execution_count": 21
        }
      ]
    },
    {
      "cell_type": "code",
      "metadata": {
        "id": "bahAHah83Q6k"
      },
      "source": [
        "booknum=[]\n",
        "for i in range(33,133):\n",
        "    link=lst_links[i]\n",
        "    link=link.strip()\n",
        "    # Regular expression to find the numeric digits in the link (href) string\n",
        "    n=re.findall('[0-9]+',link)\n",
        "    if len(n)==1:\n",
        "        # Append the filenumber casted as integer\n",
        "        booknum.append(int(n[0]))"
      ],
      "execution_count": 22,
      "outputs": []
    },
    {
      "cell_type": "code",
      "metadata": {
        "colab": {
          "base_uri": "https://localhost:8080/"
        },
        "id": "Buure7gH3bH9",
        "outputId": "2aaa0f61-f3cc-43de-da93-7ee889b79f10"
      },
      "source": [
        "print (\"\\nThe file numbers for the top 100 ebooks on Gutenberg are shown below\\n\"+\"-\"*70)\n",
        "print(booknum)"
      ],
      "execution_count": 23,
      "outputs": [
        {
          "output_type": "stream",
          "text": [
            "\n",
            "The file numbers for the top 100 ebooks on Gutenberg are shown below\n",
            "----------------------------------------------------------------------\n",
            "[84, 1342, 64317, 11, 98, 844, 2542, 174, 1661, 2701, 1250, 65387, 1260, 74, 2591, 43, 1952, 65384, 65386, 2852, 46, 120, 65388, 1080, 25344, 76, 5200, 345, 55, 219, 1400, 1727, 205, 16, 4300, 5740, 35899, 26184, 103, 57775, 32572, 236, 215, 65385, 65383, 2600, 158, 902, 2814, 514, 36, 65382, 45, 3825, 6130, 1232, 2500, 1184, 43453, 160, 996, 768, 244, 1497, 829, 2554, 730, 65381, 135, 203, 65392, 58585, 20228, 5739, 521, 100, 408, 41360, 16328, 57988, 27827, 65380, 1998, 113, 766, 209, 7128, 10148, 23, 3600, 65378, 30254, 19942, 65393, 41, 1837, 24737, 3207, 161, 4363]\n"
          ],
          "name": "stdout"
        }
      ]
    },
    {
      "cell_type": "code",
      "metadata": {
        "colab": {
          "base_uri": "https://localhost:8080/"
        },
        "id": "lCQODbGd4n2O",
        "outputId": "57694517-bdf6-48c0-c777-3b2538013da0"
      },
      "source": [
        "print(soup.text[:1500])"
      ],
      "execution_count": 26,
      "outputs": [
        {
          "output_type": "stream",
          "text": [
            "\n",
            "\n",
            "\n",
            "\n",
            "Top 100 | Project Gutenberg\n",
            "\n",
            "\n",
            "\n",
            "\n",
            "\n",
            "\n",
            "\n",
            "\n",
            "\n",
            "\n",
            "\n",
            "\n",
            "\n",
            "\n",
            "\n",
            "\n",
            "\n",
            "\n",
            "\n",
            "\n",
            "\n",
            "\n",
            "\n",
            "\n",
            "\n",
            "\n",
            "\n",
            "Menu▾\n",
            "\n",
            "\n",
            "\n",
            "About\n",
            "          ▾\n",
            "\n",
            "▾\n",
            "\n",
            "\n",
            "About Project Gutenberg\n",
            "Collection Development\n",
            "Contact Us\n",
            "History & Philosophy\n",
            "Permissions & License\n",
            "Privacy Policy\n",
            "Terms of Use\n",
            "\n",
            "\n",
            "\n",
            "Search and Browse\n",
            "      \t  ▾\n",
            "\n",
            "▾\n",
            "\n",
            "\n",
            "Book Search\n",
            "Bookshelves\n",
            "Frequently Downloaded\n",
            "Offline Catalogs\n",
            "\n",
            "\n",
            "\n",
            "Help\n",
            "          ▾\n",
            "\n",
            "▾\n",
            "\n",
            "\n",
            "All help topics →\n",
            "Copyright Procedures\n",
            "Errata, Fixes and Bug Reports\n",
            "File Formats\n",
            "Frequently Asked Questions\n",
            "Policies →\n",
            "Public Domain eBook Submission\n",
            "Submitting Your Own Work\n",
            "Tablets, Phones and eReaders\n",
            "The Attic →\n",
            "\n",
            "\n",
            "Donate\n",
            "\n",
            "\n",
            "\n",
            "\n",
            "\n",
            "\n",
            "\n",
            "\n",
            "\n",
            "\n",
            "Donation\n",
            "\n",
            "\n",
            "\n",
            "\n",
            "\n",
            "\n",
            "\n",
            "Frequently Viewed or Downloaded\n",
            "These listings are based on the number of times each eBook gets downloaded.\n",
            "      Multiple downloads from the same Internet address on the same day count as one download, and addresses that download more than 100 eBooks in a day are considered robots and are not counted.\n",
            "\n",
            "Downloaded Books\n",
            "2021-05-20162490\n",
            "last 7 days1082595\n",
            "last 30 days4870528\n",
            "\n",
            "\n",
            "\n",
            "Top 100 EBooks yesterday\n",
            "Top 100 Authors yesterday\n",
            "Top 100 EBooks last 7 days\n",
            "Top 100 Authors last 7 days\n",
            "Top 100 EBooks last 30 days\n",
            "Top 100 Authors last 30 days\n",
            "\n",
            "\n",
            "Top 100 EBooks yesterday\n",
            "\n",
            "Frankenstein; Or, The Modern Prometheus by Mary Wollstonecraft Shelley (2267)\n",
            "Pride and Prejudice by Jane Austen (1771)\n",
            "The Great Gatsby by F. Scott  Fitzgerald (1130)\n",
            "Alice's Adventures in Wonderland by Lewis Carroll (1007)\n",
            "A Tale of Two Cities by Charles Dickens (876)\n",
            "The Importance of Being Earnest: A Trivial Comedy for Seriou\n"
          ],
          "name": "stdout"
        }
      ]
    },
    {
      "cell_type": "code",
      "metadata": {
        "id": "eMe0QGND5Bcy"
      },
      "source": [
        "# Temp empty list of Ebook names\n",
        "lst_titles_temp=[]\n",
        "start_idx=soup.text.splitlines().index('Top 100 EBooks yesterday')"
      ],
      "execution_count": 27,
      "outputs": []
    },
    {
      "cell_type": "code",
      "metadata": {
        "id": "BT1zrel06ZMi"
      },
      "source": [
        "for i in range(100):\n",
        "    lst_titles_temp.append(soup.text.splitlines()[start_idx+2+i])"
      ],
      "execution_count": 28,
      "outputs": []
    },
    {
      "cell_type": "code",
      "metadata": {
        "id": "G2yTTPfo6eNa"
      },
      "source": [
        "lst_titles=[]\n",
        "for i in range(100):\n",
        "    id1,id2=re.match('^[a-zA-Z ]*',lst_titles_temp[i]).span()\n",
        "    lst_titles.append(lst_titles_temp[i][id1:id2])"
      ],
      "execution_count": 29,
      "outputs": []
    },
    {
      "cell_type": "code",
      "metadata": {
        "colab": {
          "base_uri": "https://localhost:8080/"
        },
        "id": "BHa7_gA16kyD",
        "outputId": "911a608e-1024-4a0b-9555-4b826b1f9715"
      },
      "source": [
        "for l in lst_titles:\n",
        "    print(l)"
      ],
      "execution_count": 30,
      "outputs": [
        {
          "output_type": "stream",
          "text": [
            "Top \n",
            "Top \n",
            "Top \n",
            "Top \n",
            "\n",
            "\n",
            "Top \n",
            "\n",
            "Frankenstein\n",
            "Pride and Prejudice by Jane Austen \n",
            "The Great Gatsby by F\n",
            "Alice\n",
            "A Tale of Two Cities by Charles Dickens \n",
            "The Importance of Being Earnest\n",
            "Et dukkehjem\n",
            "The Picture of Dorian Gray by Oscar Wilde \n",
            "The Adventures of Sherlock Holmes by Arthur Conan Doyle \n",
            "Moby Dick\n",
            "Anthem by Ayn Rand \n",
            "As Other Men Are by Dornford Yates \n",
            "Jane Eyre\n",
            "The Adventures of Tom Sawyer\n",
            "Grimms\n",
            "The Strange Case of Dr\n",
            "The Yellow Wallpaper by Charlotte Perkins Gilman \n",
            "And Five Were Foolish by Dornford Yates \n",
            "The Little French Girl by Anne Douglas Sedgwick \n",
            "The Hound of the Baskervilles by Arthur Conan Doyle \n",
            "A Christmas Carol in Prose\n",
            "Treasure Island by Robert Louis Stevenson \n",
            "Skid Row Pilot by Randall Garrett \n",
            "A Modest Proposal by Jonathan Swift \n",
            "The Scarlet Letter by Nathaniel Hawthorne \n",
            "Adventures of Huckleberry Finn by Mark Twain \n",
            "Metamorphosis by Franz Kafka \n",
            "Dracula by Bram Stoker \n",
            "The Wonderful Wizard of Oz by L\n",
            "Heart of Darkness by Joseph Conrad \n",
            "Great Expectations by Charles Dickens \n",
            "The Odyssey by Homer \n",
            "Walden\n",
            "Peter Pan by J\n",
            "Ulysses by James Joyce \n",
            "Tractatus Logico\n",
            "The Philippines a Century Hence by Jos\n",
            "Simple Sabotage Field Manual by United States\n",
            "Around the World in Eighty Days by Jules Verne \n",
            "Le jardin des supplices by Octave Mirbeau \n",
            "Hans Andersen\n",
            "The Jungle Book by Rudyard Kipling \n",
            "The Call of the Wild by Jack London \n",
            "Four Bells\n",
            "Diana of Kara\n",
            "War and Peace by graf Leo Tolstoy \n",
            "Emma by Jane Austen \n",
            "The Happy Prince\n",
            "Dubliners by James Joyce \n",
            "Little Women by Louisa May Alcott \n",
            "The War of the Worlds by H\n",
            "The Crimson West by Alex Philip \n",
            "Anne of Green Gables by L\n",
            "Pygmalion by Bernard Shaw \n",
            "The Iliad by Homer \n",
            "Il Principe\n",
            "Siddhartha by Hermann Hesse \n",
            "The Count of Monte Cristo\n",
            "A Pickle for the Knowing Ones by Timothy Dexter \n",
            "The Awakening\n",
            "Don Quixote by Miguel de Cervantes Saavedra \n",
            "Wuthering Heights by Emily Bront\n",
            "A Study in Scarlet by Arthur Conan Doyle \n",
            "The Republic by Plato \n",
            "Gulliver\n",
            "Prestuplenie i nakazanie\n",
            "Oliver Twist by Charles Dickens \n",
            "On Translating Homer by Matthew Arnold and Francis William Newman \n",
            "Les Mis\n",
            "Uncle Tom\n",
            "Roman Public Life by A\n",
            "The Prophet by Kahlil Gibran \n",
            "Noli Me Tangere by Jos\n",
            "Korean\n",
            "The Life and Adventures of Robinson Crusoe by Daniel Defoe \n",
            "The Complete Works of William Shakespeare by William Shakespeare \n",
            "The Souls of Black Folk by W\n",
            "Les formes e\n",
            "Beowulf\n",
            "A Son of the Soil by Mrs\n",
            "The Kama Sutra of Vatsyayana by Vatsyayana \n",
            "Washington the Soldier by Henry B\n",
            "Also sprach Zarathustra\n",
            "The Secret Garden by Frances Hodgson Burnett \n",
            "David Copperfield by Charles Dickens \n",
            "The Turn of the Screw by Henry James \n",
            "Indian Fairy Tales \n",
            "The Merry Adventures of Robin Hood by Howard Pyle \n",
            "Narrative of the Life of Frederick Douglass\n",
            "Essays of Michel de Montaigne \n",
            "Reality Unlimited by Robert Silverberg \n",
            "The Romance of Lust\n"
          ],
          "name": "stdout"
        }
      ]
    },
    {
      "cell_type": "markdown",
      "metadata": {
        "id": "giWZ1GJK80J2"
      },
      "source": [
        "2. **Data Wrangling with Python: Activity 10, page 295**\n",
        "\n",
        "I received key from omdbapi which is simple text. It is not JSON file. I copied it to APIKey.json file in same directory."
      ]
    },
    {
      "cell_type": "code",
      "metadata": {
        "id": "G7iHfkoH88Mc"
      },
      "source": [
        "import json\n",
        "\n",
        "with open('APIKey.json') as f:\n",
        "    keys = json.load(f)\n",
        "    omdbapi = keys['OMDBapi']"
      ],
      "execution_count": 32,
      "outputs": []
    },
    {
      "cell_type": "code",
      "metadata": {
        "id": "nABrxz-vB6yO"
      },
      "source": [
        "serviceurl = 'http://www.omdbapi.com/?'\n",
        "apikey = '&apikey='+omdbapi"
      ],
      "execution_count": 33,
      "outputs": []
    },
    {
      "cell_type": "code",
      "metadata": {
        "id": "yZNGfcchCDXE"
      },
      "source": [
        "def print_json(json_data):\n",
        "    list_keys=['Title', 'Year', 'Rated', 'Released', 'Runtime', 'Genre', 'Director', 'Writer', \n",
        "               'Actors', 'Plot', 'Language', 'Country', 'Awards', 'Ratings', \n",
        "               'Metascore', 'imdbRating', 'imdbVotes', 'imdbID']\n",
        "    print(\"-\"*50)\n",
        "    for k in list_keys:\n",
        "        if k in list(json_data.keys()):\n",
        "            print(f\"{k}: {json_data[k]}\")\n",
        "    print(\"-\"*50)"
      ],
      "execution_count": 34,
      "outputs": []
    },
    {
      "cell_type": "code",
      "metadata": {
        "id": "983Xt4EGCE-G"
      },
      "source": [
        "def save_poster(json_data):\n",
        "    import os\n",
        "    title = json_data['Title']\n",
        "    poster_url = json_data['Poster']\n",
        "    # Splits the poster url by '.' and picks up the last string as file extension\n",
        "    poster_file_extension=poster_url.split('.')[-1]\n",
        "    # Reads the image file from web\n",
        "    poster_data = urllib.request.urlopen(poster_url).read()\n",
        "        \n",
        "    savelocation=os.getcwd()+'\\\\'+'Posters'+'\\\\'\n",
        "    # Creates new directory if the directory does not exist. Otherwise, just use the existing path.\n",
        "    if not os.path.isdir(savelocation):\n",
        "        os.mkdir(savelocation)\n",
        "    \n",
        "    filename=savelocation+str(title)+'.'+poster_file_extension\n",
        "    f=open(filename,'wb')\n",
        "    f.write(poster_data)\n",
        "    f.close()"
      ],
      "execution_count": 35,
      "outputs": []
    },
    {
      "cell_type": "code",
      "metadata": {
        "id": "EMlix8C2CRdv"
      },
      "source": [
        "def search_movie(title):\n",
        "    try:\n",
        "        url = serviceurl + urllib.parse.urlencode({'t': str(title)})+apikey\n",
        "        print(f'Retrieving the data of \"{title}\" now... ')\n",
        "        print(url)\n",
        "        uh = urllib.request.urlopen(url)\n",
        "        data = uh.read()\n",
        "        json_data=json.loads(data)\n",
        "        \n",
        "        if json_data['Response']=='True':\n",
        "            print_json(json_data)\n",
        "            # Asks user whether to download the poster of the movie\n",
        "            if json_data['Poster']!='N/A':\n",
        "                save_poster(json_data)\n",
        "        else:\n",
        "            print(\"Error encountered: \",json_data['Error'])\n",
        "    \n",
        "    except urllib.error.URLError as e:\n",
        "        print(f\"ERROR: {e.reason}\")"
      ],
      "execution_count": 37,
      "outputs": []
    },
    {
      "cell_type": "code",
      "metadata": {
        "colab": {
          "base_uri": "https://localhost:8080/"
        },
        "id": "Jw5bdyguCLDT",
        "outputId": "6450d972-026e-49a9-e701-d9d97d7adda0"
      },
      "source": [
        "search_movie(\"Titanic\")"
      ],
      "execution_count": 38,
      "outputs": [
        {
          "output_type": "stream",
          "text": [
            "Retrieving the data of \"Titanic\" now... \n",
            "http://www.omdbapi.com/?t=Titanic&apikey=d7462ee5\n",
            "--------------------------------------------------\n",
            "Title: Titanic\n",
            "Year: 1997\n",
            "Rated: PG-13\n",
            "Released: 19 Dec 1997\n",
            "Runtime: 194 min\n",
            "Genre: Drama, Romance\n",
            "Director: James Cameron\n",
            "Writer: James Cameron\n",
            "Actors: Leonardo DiCaprio, Kate Winslet, Billy Zane, Kathy Bates\n",
            "Plot: A seventeen-year-old aristocrat falls in love with a kind but poor artist aboard the luxurious, ill-fated R.M.S. Titanic.\n",
            "Language: English, Swedish, Italian, French\n",
            "Country: USA, Mexico, Australia, Canada\n",
            "Awards: Won 11 Oscars. Another 114 wins & 83 nominations.\n",
            "Ratings: [{'Source': 'Internet Movie Database', 'Value': '7.8/10'}, {'Source': 'Rotten Tomatoes', 'Value': '89%'}, {'Source': 'Metacritic', 'Value': '75/100'}]\n",
            "Metascore: 75\n",
            "imdbRating: 7.8\n",
            "imdbVotes: 1,060,049\n",
            "imdbID: tt0120338\n",
            "--------------------------------------------------\n"
          ],
          "name": "stdout"
        }
      ]
    },
    {
      "cell_type": "code",
      "metadata": {
        "colab": {
          "base_uri": "https://localhost:8080/"
        },
        "id": "-HjrmqloCWPN",
        "outputId": "f2ece89e-068b-4b37-cbe1-f7c8e88d6a38"
      },
      "source": [
        "search_movie(\"Random_error\")"
      ],
      "execution_count": 39,
      "outputs": [
        {
          "output_type": "stream",
          "text": [
            "Retrieving the data of \"Random_error\" now... \n",
            "http://www.omdbapi.com/?t=Random_error&apikey=d7462ee5\n",
            "Error encountered:  Movie not found!\n"
          ],
          "name": "stdout"
        }
      ]
    }
  ]
}