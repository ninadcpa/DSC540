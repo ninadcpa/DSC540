{
  "nbformat": 4,
  "nbformat_minor": 0,
  "metadata": {
    "colab": {
      "name": "Final_Project.ipynb",
      "provenance": [],
      "collapsed_sections": [],
      "toc_visible": true,
      "authorship_tag": "ABX9TyME0KTpZme3+K7o9+/2ENH2",
      "include_colab_link": true
    },
    "kernelspec": {
      "name": "python3",
      "display_name": "Python 3"
    }
  },
  "cells": [
    {
      "cell_type": "markdown",
      "metadata": {
        "id": "view-in-github",
        "colab_type": "text"
      },
      "source": [
        "<a href=\"https://colab.research.google.com/github/ninadcpa/DSC540/blob/main/Final_Project.ipynb\" target=\"_parent\"><img src=\"https://colab.research.google.com/assets/colab-badge.svg\" alt=\"Open In Colab\"/></a>"
      ]
    },
    {
      "cell_type": "markdown",
      "metadata": {
        "id": "raw3X5gy43f6"
      },
      "source": [
        "# DSC540 - Data Wrangling - Final Project\n",
        "\n",
        "## Title - Public Justice System Expenditures and Crime Control effectiveness across US States\n",
        "\n",
        "@author Ninad Patkhedkar  \n",
        "@guide  Catherine Williams\n",
        "\n",
        "Term - Spring 2021  \n",
        "Bellevue Univeristy \n",
        "\n",
        "---\n",
        "\n"
      ]
    },
    {
      "cell_type": "markdown",
      "metadata": {
        "id": "KMqP0W0j4LEO"
      },
      "source": [
        "# Milesstone 1\n",
        "\n",
        "# Introduction\n",
        "> Effective Law and Order is one of the most important necessity of society. It has direct effect on living standard and crime rate in that area. The whole \"Law and Order\" aka Justice system consists of multiple functions which performs duties as below   \n",
        "\n",
        "> **Police Protection Services** - law enforcement, patrolling, traffic safety, parking meter read, animal warden etc. \n",
        "\n",
        "> **Judicial and Legal Services** - civil and criminal functions of courts, state’s attorneys, court reporters, register of wills etc. \n",
        "\n",
        "> **Correction Services** - prisons, reformatories, rehabilitation centers, parole boards, pardon boards etc. \n",
        "\n",
        "> To effectively govern any area, all these functions need resources i.e. people to perform duties and funding.\n",
        "\n",
        "In this project I will use public dataset about state wise employment and expenditures on various functions. I will also correlate state wise crime during same period. I will investigate and find more information about how effectively Justice and Legal system is managed in different states.  I will also try to find any correlation between population of state, expenses and number of employees etc. \n",
        "\n",
        "I will use 3 different sources of data \n",
        "\n",
        "# Dataset Sources  \n",
        "\n",
        "1. **Flat file**  - jeee16t03.csv\n",
        "Public dataset for fiscal 2016 from Bureau of Justice Statistics on Justice Expenditure - https://www.bjs.gov/content/pub/sheets/jeee16p.zip \n",
        "\n",
        "2. **Web Site**  \n",
        "Public dataset on Crime for fiscal 2016 from FBI - https://ucr.fbi.gov/crime-in-the-u.s/2016/crime-in-the-u.s.-2016/tables/table-3\n",
        "\n",
        "3. **API** \n",
        "Public dataset for fiscal 2016 from Bureau of Justice Statistics on Employee Extracts - https://data.world/usbjs/justice-expenditure-and-employment-2016/workspace/file?filename=jeee16t08.csv\n",
        "\n",
        "API Data is from same source as #1 i.e. Bureau of Justice Statistics. As requiremnet is to fetch data over API, the dataset is maintained on ***data.world***  and will be fetched in json form using ***requests*** library.\n",
        "\n",
        "\n",
        "\n",
        "```\n",
        "# sample linux command to fetch data in json format\n",
        "curl --request POST \\\n",
        "  --url \"https://api.data.world/v0/sql/ninadcpa/dsc540?includeTableSchema=true\" \\\n",
        "  --header \"Authorization: Bearer <api_token>\" \\\n",
        "  --header \"Accept: application/json\" \\\n",
        "  --data-urlencode 'query=SELECT * FROM jeee16t08'\n",
        "```\n",
        "\n",
        "For Definitions, Methodology and other information, refer detailed guide -  \n",
        "https://www.bjs.gov/content/pub/pdf/jeeeguide.pdf  \n",
        "https://ucr.fbi.gov/crime-in-the-u.s/2016/crime-in-the-u.s.-2016/tables/table-3/table-3-data-declaration.pdf\n",
        "\n",
        "# Data Prep\n",
        "\n",
        "All 3 datasets have common key of State name. It has one-to-one relationship across all 3 datasets.\n",
        " \n",
        "I will cleanup each data set and and create a consolidated dataset by \"State\" in this section. Here are few things I will perform as part of cleanup   \n",
        "\n",
        "* **Simplify column names by converting to lower case and spaces replaced by underscores**\n",
        "* **Rename long column names to short names e.g. population_2016_thousands to population_k**\n",
        "* **Remove records of Total federal govt, Local city govt, Municipality govt data and keep only State data**\n",
        "* **Remove records where population is not present**\n",
        "* **Trim State abbreviations from records i.e. Virginia (VA) -> Virginia** \n",
        "* **Join Datasets by using \"State\" as common key**\n",
        "  \n",
        "# Objective\n",
        "As part of this Project, I will try to find answer following questions​\n",
        "1. How state population affects overall cost and per capita cost?\n",
        "2. How number of employees in police protection services affect the cost of police protection? \n",
        "3. How number of employees in judicial and legal services affect the cost of judicial and legal functions?\n",
        "4. How number of employees in correction services affect the cost of correction functions?\n",
        "5. Which states are doing great job with overall crime control?\n",
        "6. What is relation between number of employees in police protection services and crime in the area?\n"
      ]
    },
    {
      "cell_type": "code",
      "metadata": {
        "colab": {
          "base_uri": "https://localhost:8080/"
        },
        "id": "XcCPt1C24Um3",
        "outputId": "d31d0be5-01aa-499b-ca1c-639cc426af1a"
      },
      "source": [
        "# This code is written for mounting code folder checked out from github on google drive\n",
        "# All project code will be maintained inside folder \"DSC540\"\n",
        "\n",
        "from google.colab import drive\n",
        "import sys\n",
        "import os\n",
        "\n",
        "drive.mount('/content/drive')\n",
        "sys.path.append('/content/drive/MyDrive/Colab Notebooks/DSC540')\n",
        "os.chdir('/content/drive/MyDrive/Colab Notebooks/DSC540')\n"
      ],
      "execution_count": 2,
      "outputs": [
        {
          "output_type": "stream",
          "text": [
            "Mounted at /content/drive\n"
          ],
          "name": "stdout"
        }
      ]
    },
    {
      "cell_type": "markdown",
      "metadata": {
        "id": "VxI9DC9liCKF"
      },
      "source": [
        "# Milestone 2\n",
        "\n",
        "Cleaning/Formatting Flat File Source\n",
        "Perform at least 5 data transformation and/or cleansing steps to your flat file data. For example:\n",
        "\n",
        "> Replace Headers  \n",
        "Format data into a more readable format  \n",
        "Identify outliers and bad data  \n",
        "Find duplicates  \n",
        "Fix casing or inconsistent values  \n",
        "Conduct Fuzzy Matching\n",
        "\n",
        "---\n",
        "\n",
        "I am using flat file in csv format \"jeee16t03.csv\" \n",
        "\n",
        "Lets load the file data in panda dataframe and check some records"
      ]
    },
    {
      "cell_type": "code",
      "metadata": {
        "colab": {
          "base_uri": "https://localhost:8080/",
          "height": 393
        },
        "id": "8qN5I3hsQuT7",
        "outputId": "969f2b98-31fe-4096-a13c-8a0fa420539f"
      },
      "source": [
        "import pandas as pd\n",
        "import numpy as np\n",
        "import matplotlib.pyplot as plt\n",
        "\n",
        "# Reading csv file into panda dataframe\n",
        "df_jee03 = pd.read_csv(\"jeee16t03.csv\")\n",
        "df_jee03.head(10)"
      ],
      "execution_count": 3,
      "outputs": [
        {
          "output_type": "execute_result",
          "data": {
            "text/html": [
              "<div>\n",
              "<style scoped>\n",
              "    .dataframe tbody tr th:only-of-type {\n",
              "        vertical-align: middle;\n",
              "    }\n",
              "\n",
              "    .dataframe tbody tr th {\n",
              "        vertical-align: top;\n",
              "    }\n",
              "\n",
              "    .dataframe thead th {\n",
              "        text-align: right;\n",
              "    }\n",
              "</style>\n",
              "<table border=\"1\" class=\"dataframe\">\n",
              "  <thead>\n",
              "    <tr style=\"text-align: right;\">\n",
              "      <th></th>\n",
              "      <th>State and type of government</th>\n",
              "      <th>Population 2016 thousands</th>\n",
              "      <th>Total direct expenditure</th>\n",
              "      <th>total justice system Amount</th>\n",
              "      <th>total justice system percent</th>\n",
              "      <th>Police protection Amount</th>\n",
              "      <th>police protection Percent</th>\n",
              "      <th>judician and legal Amount</th>\n",
              "      <th>judicial and legal Percent</th>\n",
              "      <th>corrections Amount</th>\n",
              "      <th>corrections Percent</th>\n",
              "    </tr>\n",
              "  </thead>\n",
              "  <tbody>\n",
              "    <tr>\n",
              "      <th>0</th>\n",
              "      <td>States-local, total</td>\n",
              "      <td>323071</td>\n",
              "      <td>3514583394</td>\n",
              "      <td>233483760</td>\n",
              "      <td>6.6</td>\n",
              "      <td>109210078</td>\n",
              "      <td>46.8</td>\n",
              "      <td>46256957</td>\n",
              "      <td>19.8</td>\n",
              "      <td>78016725</td>\n",
              "      <td>33.4</td>\n",
              "    </tr>\n",
              "    <tr>\n",
              "      <th>1</th>\n",
              "      <td>State</td>\n",
              "      <td>-</td>\n",
              "      <td>1692408177</td>\n",
              "      <td>86868791</td>\n",
              "      <td>5.1</td>\n",
              "      <td>15003016</td>\n",
              "      <td>17.3</td>\n",
              "      <td>22825679</td>\n",
              "      <td>26.3</td>\n",
              "      <td>49040096</td>\n",
              "      <td>56.5</td>\n",
              "    </tr>\n",
              "    <tr>\n",
              "      <th>2</th>\n",
              "      <td>Local, total</td>\n",
              "      <td>-</td>\n",
              "      <td>1822175217</td>\n",
              "      <td>146614969</td>\n",
              "      <td>8.0</td>\n",
              "      <td>94207062</td>\n",
              "      <td>64.3</td>\n",
              "      <td>23431278</td>\n",
              "      <td>16.0</td>\n",
              "      <td>28976629</td>\n",
              "      <td>19.8</td>\n",
              "    </tr>\n",
              "    <tr>\n",
              "      <th>3</th>\n",
              "      <td>Counties</td>\n",
              "      <td>-</td>\n",
              "      <td>394148057</td>\n",
              "      <td>71684805</td>\n",
              "      <td>18.2</td>\n",
              "      <td>29596808</td>\n",
              "      <td>41.3</td>\n",
              "      <td>17767223</td>\n",
              "      <td>24.8</td>\n",
              "      <td>24320774</td>\n",
              "      <td>33.9</td>\n",
              "    </tr>\n",
              "    <tr>\n",
              "      <th>4</th>\n",
              "      <td>Municipalities</td>\n",
              "      <td>-</td>\n",
              "      <td>583324970</td>\n",
              "      <td>69058355</td>\n",
              "      <td>11.8</td>\n",
              "      <td>59702889</td>\n",
              "      <td>86.5</td>\n",
              "      <td>5274743</td>\n",
              "      <td>7.6</td>\n",
              "      <td>4080723</td>\n",
              "      <td>5.9</td>\n",
              "    </tr>\n",
              "    <tr>\n",
              "      <th>5</th>\n",
              "      <td>Alabama (AL)</td>\n",
              "      <td>4865</td>\n",
              "      <td>45277563</td>\n",
              "      <td>2335599</td>\n",
              "      <td>5.2</td>\n",
              "      <td>1251270</td>\n",
              "      <td>53.6</td>\n",
              "      <td>362060</td>\n",
              "      <td>15.5</td>\n",
              "      <td>722269</td>\n",
              "      <td>30.9</td>\n",
              "    </tr>\n",
              "    <tr>\n",
              "      <th>6</th>\n",
              "      <td>AL State</td>\n",
              "      <td>-</td>\n",
              "      <td>23075269</td>\n",
              "      <td>870057</td>\n",
              "      <td>3.8</td>\n",
              "      <td>165168</td>\n",
              "      <td>19.0</td>\n",
              "      <td>200146</td>\n",
              "      <td>23.0</td>\n",
              "      <td>504743</td>\n",
              "      <td>58.0</td>\n",
              "    </tr>\n",
              "    <tr>\n",
              "      <th>7</th>\n",
              "      <td>AL Local, total</td>\n",
              "      <td>-</td>\n",
              "      <td>22202294</td>\n",
              "      <td>1465542</td>\n",
              "      <td>6.6</td>\n",
              "      <td>1086102</td>\n",
              "      <td>74.1</td>\n",
              "      <td>161914</td>\n",
              "      <td>11.0</td>\n",
              "      <td>217526</td>\n",
              "      <td>14.8</td>\n",
              "    </tr>\n",
              "    <tr>\n",
              "      <th>8</th>\n",
              "      <td>AL Counties</td>\n",
              "      <td>-</td>\n",
              "      <td>2244358</td>\n",
              "      <td>644571</td>\n",
              "      <td>28.7</td>\n",
              "      <td>358334</td>\n",
              "      <td>55.6</td>\n",
              "      <td>90688</td>\n",
              "      <td>14.1</td>\n",
              "      <td>195549</td>\n",
              "      <td>30.3</td>\n",
              "    </tr>\n",
              "    <tr>\n",
              "      <th>9</th>\n",
              "      <td>AL Municipalities</td>\n",
              "      <td>-</td>\n",
              "      <td>6596181</td>\n",
              "      <td>820971</td>\n",
              "      <td>12.4</td>\n",
              "      <td>727768</td>\n",
              "      <td>88.6</td>\n",
              "      <td>71226</td>\n",
              "      <td>8.7</td>\n",
              "      <td>21977</td>\n",
              "      <td>2.7</td>\n",
              "    </tr>\n",
              "  </tbody>\n",
              "</table>\n",
              "</div>"
            ],
            "text/plain": [
              "  State and type of government  ... corrections Percent\n",
              "0          States-local, total  ...                33.4\n",
              "1                        State  ...                56.5\n",
              "2                 Local, total  ...                19.8\n",
              "3                     Counties  ...                33.9\n",
              "4               Municipalities  ...                 5.9\n",
              "5                 Alabama (AL)  ...                30.9\n",
              "6                     AL State  ...                58.0\n",
              "7              AL Local, total  ...                14.8\n",
              "8                  AL Counties  ...                30.3\n",
              "9            AL Municipalities  ...                 2.7\n",
              "\n",
              "[10 rows x 11 columns]"
            ]
          },
          "metadata": {
            "tags": []
          },
          "execution_count": 3
        }
      ]
    },
    {
      "cell_type": "code",
      "metadata": {
        "colab": {
          "base_uri": "https://localhost:8080/"
        },
        "id": "vNTCpRfhR_Co",
        "outputId": "35af2bd5-4adf-4610-f40c-91c9fd77bbe5"
      },
      "source": [
        "df_jee03.shape"
      ],
      "execution_count": 4,
      "outputs": [
        {
          "output_type": "execute_result",
          "data": {
            "text/plain": [
              "(256, 11)"
            ]
          },
          "metadata": {
            "tags": []
          },
          "execution_count": 4
        }
      ]
    },
    {
      "cell_type": "markdown",
      "metadata": {
        "id": "KDjHEuxRjbjZ"
      },
      "source": [
        "Data contains 256 observationas and 11 variables.  \n",
        "Dataset contains records for fedral, state, local governments, muncipalties and counties. \n",
        "\n",
        "For this project, as state is common key field for all 3 datasets. Hence I will try to filter records only at state level.\n",
        "\n",
        "I will perform as part of cleanup  \n",
        "\n",
        "* **Simplify column names by converting to lower case and spaces replaced by underscores**\n",
        "* **Rename long column names to short names e.g. population_2016_thousands to population_k**\n",
        "* **Remove records of Total federal govt, Local city govt, Municipality govt data and keep only State data**\n",
        "* **Remove records where population is not present**\n",
        "* **Trim State abbreviations from records i.e. Virginia (VA) -> Virginia** "
      ]
    },
    {
      "cell_type": "code",
      "metadata": {
        "colab": {
          "base_uri": "https://localhost:8080/"
        },
        "id": "J_xm5GYhTefD",
        "outputId": "e331225e-f063-4c2f-ec9e-c9bc15f680cd"
      },
      "source": [
        "# remove spaces in columns name and replace with underscores\n",
        "df_jee03.columns = df_jee03.columns.str.replace(' ','_')\n",
        "df_jee03.columns"
      ],
      "execution_count": 5,
      "outputs": [
        {
          "output_type": "execute_result",
          "data": {
            "text/plain": [
              "Index(['State_and_type_of_government', 'Population_2016_thousands',\n",
              "       'Total_direct_expenditure', 'total_justice_system_Amount',\n",
              "       'total_justice_system_percent', 'Police_protection_Amount',\n",
              "       'police_protection_Percent_', 'judician_and_legal_Amount',\n",
              "       'judicial_and_legal_Percent', 'corrections_Amount',\n",
              "       'corrections_Percent'],\n",
              "      dtype='object')"
            ]
          },
          "metadata": {
            "tags": []
          },
          "execution_count": 5
        }
      ]
    },
    {
      "cell_type": "code",
      "metadata": {
        "colab": {
          "base_uri": "https://localhost:8080/"
        },
        "id": "L_hXjan6UzMp",
        "outputId": "abb32628-b8bb-4ee3-8e64-c98e2cb3244c"
      },
      "source": [
        "# changing all colunmn names to lower case\n",
        "df_jee03.rename(columns=str.lower, inplace=True)\n",
        "df_jee03.columns"
      ],
      "execution_count": 6,
      "outputs": [
        {
          "output_type": "execute_result",
          "data": {
            "text/plain": [
              "Index(['state_and_type_of_government', 'population_2016_thousands',\n",
              "       'total_direct_expenditure', 'total_justice_system_amount',\n",
              "       'total_justice_system_percent', 'police_protection_amount',\n",
              "       'police_protection_percent_', 'judician_and_legal_amount',\n",
              "       'judicial_and_legal_percent', 'corrections_amount',\n",
              "       'corrections_percent'],\n",
              "      dtype='object')"
            ]
          },
          "metadata": {
            "tags": []
          },
          "execution_count": 6
        }
      ]
    },
    {
      "cell_type": "code",
      "metadata": {
        "colab": {
          "base_uri": "https://localhost:8080/"
        },
        "id": "f4nFe16lT083",
        "outputId": "96fd7260-33e4-4b3f-a4e5-e78060d19d2c"
      },
      "source": [
        "# replace long column names to shorter ones\n",
        "df_jee03.rename(columns={\"state_and_type_of_government\" : \"state\", \"population_2016_thousands\": \"population_k\"},inplace=True)\n",
        "df_jee03.columns"
      ],
      "execution_count": 7,
      "outputs": [
        {
          "output_type": "execute_result",
          "data": {
            "text/plain": [
              "Index(['state', 'population_k', 'total_direct_expenditure',\n",
              "       'total_justice_system_amount', 'total_justice_system_percent',\n",
              "       'police_protection_amount', 'police_protection_percent_',\n",
              "       'judician_and_legal_amount', 'judicial_and_legal_percent',\n",
              "       'corrections_amount', 'corrections_percent'],\n",
              "      dtype='object')"
            ]
          },
          "metadata": {
            "tags": []
          },
          "execution_count": 7
        }
      ]
    },
    {
      "cell_type": "markdown",
      "metadata": {
        "id": "FgwhAvf231p3"
      },
      "source": [
        "One observation is that, population field is not populated for local, county or muncipalty governments. Hence if records with population value as empty ( \"-\" in this case) are dropped, we can automatically get only state level records."
      ]
    },
    {
      "cell_type": "code",
      "metadata": {
        "colab": {
          "base_uri": "https://localhost:8080/",
          "height": 532
        },
        "id": "G5Z8heKxV3u9",
        "outputId": "d1a337d3-58f2-4b2f-a465-1ca48cc270c5"
      },
      "source": [
        "# drop records where population value is missing\n",
        "df_jee03 = df_jee03[df_jee03['population_k'] != '-']\n",
        "df_jee03.head(10)"
      ],
      "execution_count": 8,
      "outputs": [
        {
          "output_type": "execute_result",
          "data": {
            "text/html": [
              "<div>\n",
              "<style scoped>\n",
              "    .dataframe tbody tr th:only-of-type {\n",
              "        vertical-align: middle;\n",
              "    }\n",
              "\n",
              "    .dataframe tbody tr th {\n",
              "        vertical-align: top;\n",
              "    }\n",
              "\n",
              "    .dataframe thead th {\n",
              "        text-align: right;\n",
              "    }\n",
              "</style>\n",
              "<table border=\"1\" class=\"dataframe\">\n",
              "  <thead>\n",
              "    <tr style=\"text-align: right;\">\n",
              "      <th></th>\n",
              "      <th>state</th>\n",
              "      <th>population_k</th>\n",
              "      <th>total_direct_expenditure</th>\n",
              "      <th>total_justice_system_amount</th>\n",
              "      <th>total_justice_system_percent</th>\n",
              "      <th>police_protection_amount</th>\n",
              "      <th>police_protection_percent_</th>\n",
              "      <th>judician_and_legal_amount</th>\n",
              "      <th>judicial_and_legal_percent</th>\n",
              "      <th>corrections_amount</th>\n",
              "      <th>corrections_percent</th>\n",
              "    </tr>\n",
              "  </thead>\n",
              "  <tbody>\n",
              "    <tr>\n",
              "      <th>0</th>\n",
              "      <td>States-local, total</td>\n",
              "      <td>323071</td>\n",
              "      <td>3514583394</td>\n",
              "      <td>233483760</td>\n",
              "      <td>6.6</td>\n",
              "      <td>109210078</td>\n",
              "      <td>46.8</td>\n",
              "      <td>46256957</td>\n",
              "      <td>19.8</td>\n",
              "      <td>78016725</td>\n",
              "      <td>33.4</td>\n",
              "    </tr>\n",
              "    <tr>\n",
              "      <th>5</th>\n",
              "      <td>Alabama (AL)</td>\n",
              "      <td>4865</td>\n",
              "      <td>45277563</td>\n",
              "      <td>2335599</td>\n",
              "      <td>5.2</td>\n",
              "      <td>1251270</td>\n",
              "      <td>53.6</td>\n",
              "      <td>362060</td>\n",
              "      <td>15.5</td>\n",
              "      <td>722269</td>\n",
              "      <td>30.9</td>\n",
              "    </tr>\n",
              "    <tr>\n",
              "      <th>10</th>\n",
              "      <td>Alaska (AK)</td>\n",
              "      <td>742</td>\n",
              "      <td>15808697</td>\n",
              "      <td>962214</td>\n",
              "      <td>6.1</td>\n",
              "      <td>370209</td>\n",
              "      <td>38.5</td>\n",
              "      <td>254000</td>\n",
              "      <td>26.4</td>\n",
              "      <td>338005</td>\n",
              "      <td>35.1</td>\n",
              "    </tr>\n",
              "    <tr>\n",
              "      <th>15</th>\n",
              "      <td>Arizona (AZ)</td>\n",
              "      <td>6945</td>\n",
              "      <td>58975013</td>\n",
              "      <td>4929687</td>\n",
              "      <td>8.4</td>\n",
              "      <td>2261558</td>\n",
              "      <td>45.9</td>\n",
              "      <td>983419</td>\n",
              "      <td>19.9</td>\n",
              "      <td>1684710</td>\n",
              "      <td>34.2</td>\n",
              "    </tr>\n",
              "    <tr>\n",
              "      <th>20</th>\n",
              "      <td>Arkansas (AR)</td>\n",
              "      <td>2990</td>\n",
              "      <td>27299957</td>\n",
              "      <td>1507133</td>\n",
              "      <td>5.5</td>\n",
              "      <td>691059</td>\n",
              "      <td>45.9</td>\n",
              "      <td>220343</td>\n",
              "      <td>14.6</td>\n",
              "      <td>595731</td>\n",
              "      <td>39.5</td>\n",
              "    </tr>\n",
              "    <tr>\n",
              "      <th>25</th>\n",
              "      <td>California (CA)</td>\n",
              "      <td>39209</td>\n",
              "      <td>532948138</td>\n",
              "      <td>41714177</td>\n",
              "      <td>7.8</td>\n",
              "      <td>17570133</td>\n",
              "      <td>42.1</td>\n",
              "      <td>8675761</td>\n",
              "      <td>20.8</td>\n",
              "      <td>15468283</td>\n",
              "      <td>37.1</td>\n",
              "    </tr>\n",
              "    <tr>\n",
              "      <th>30</th>\n",
              "      <td>Colorado (CO)</td>\n",
              "      <td>5541</td>\n",
              "      <td>57293994</td>\n",
              "      <td>3940585</td>\n",
              "      <td>6.9</td>\n",
              "      <td>1873320</td>\n",
              "      <td>47.5</td>\n",
              "      <td>754162</td>\n",
              "      <td>19.1</td>\n",
              "      <td>1313103</td>\n",
              "      <td>33.3</td>\n",
              "    </tr>\n",
              "    <tr>\n",
              "      <th>35</th>\n",
              "      <td>Connecticut (CT)</td>\n",
              "      <td>3579</td>\n",
              "      <td>45649898</td>\n",
              "      <td>2748059</td>\n",
              "      <td>6.0</td>\n",
              "      <td>1236997</td>\n",
              "      <td>45.0</td>\n",
              "      <td>826903</td>\n",
              "      <td>30.1</td>\n",
              "      <td>684159</td>\n",
              "      <td>24.9</td>\n",
              "    </tr>\n",
              "    <tr>\n",
              "      <th>39</th>\n",
              "      <td>Delaware (DE)</td>\n",
              "      <td>949</td>\n",
              "      <td>11413711</td>\n",
              "      <td>864358</td>\n",
              "      <td>7.6</td>\n",
              "      <td>348027</td>\n",
              "      <td>40.3</td>\n",
              "      <td>207990</td>\n",
              "      <td>24.1</td>\n",
              "      <td>308341</td>\n",
              "      <td>35.7</td>\n",
              "    </tr>\n",
              "    <tr>\n",
              "      <th>44</th>\n",
              "      <td>District of Columbia</td>\n",
              "      <td>687</td>\n",
              "      <td>16593661</td>\n",
              "      <td>870775</td>\n",
              "      <td>5.2</td>\n",
              "      <td>593345</td>\n",
              "      <td>68.1</td>\n",
              "      <td>132515</td>\n",
              "      <td>15.2</td>\n",
              "      <td>144915</td>\n",
              "      <td>16.6</td>\n",
              "    </tr>\n",
              "  </tbody>\n",
              "</table>\n",
              "</div>"
            ],
            "text/plain": [
              "                   state population_k  ...  corrections_amount  corrections_percent\n",
              "0    States-local, total       323071  ...            78016725                 33.4\n",
              "5           Alabama (AL)         4865  ...              722269                 30.9\n",
              "10           Alaska (AK)          742  ...              338005                 35.1\n",
              "15          Arizona (AZ)         6945  ...             1684710                 34.2\n",
              "20         Arkansas (AR)         2990  ...              595731                 39.5\n",
              "25       California (CA)        39209  ...            15468283                 37.1\n",
              "30         Colorado (CO)         5541  ...             1313103                 33.3\n",
              "35      Connecticut (CT)         3579  ...              684159                 24.9\n",
              "39         Delaware (DE)          949  ...              308341                 35.7\n",
              "44  District of Columbia          687  ...              144915                 16.6\n",
              "\n",
              "[10 rows x 11 columns]"
            ]
          },
          "metadata": {
            "tags": []
          },
          "execution_count": 8
        }
      ]
    },
    {
      "cell_type": "code",
      "metadata": {
        "colab": {
          "base_uri": "https://localhost:8080/"
        },
        "id": "vmDkYPxrYFVB",
        "outputId": "bb52c41d-d8ac-408d-c63a-0fc80b777151"
      },
      "source": [
        "# Check if any of the column contains missing value NaN\n",
        "df_jee03.isna().sum(axis=0)"
      ],
      "execution_count": 9,
      "outputs": [
        {
          "output_type": "execute_result",
          "data": {
            "text/plain": [
              "state                           0\n",
              "population_k                    0\n",
              "total_direct_expenditure        0\n",
              "total_justice_system_amount     0\n",
              "total_justice_system_percent    0\n",
              "police_protection_amount        0\n",
              "police_protection_percent_      0\n",
              "judician_and_legal_amount       0\n",
              "judicial_and_legal_percent      0\n",
              "corrections_amount              0\n",
              "corrections_percent             0\n",
              "dtype: int64"
            ]
          },
          "metadata": {
            "tags": []
          },
          "execution_count": 9
        }
      ]
    },
    {
      "cell_type": "code",
      "metadata": {
        "colab": {
          "base_uri": "https://localhost:8080/"
        },
        "id": "NLk_uWnPZkTf",
        "outputId": "dabae3b6-bf55-4868-a9ec-edcbf85c7f94"
      },
      "source": [
        "# Check if any of the column contains NULL value\n",
        "df_jee03.isnull().sum(axis=0)"
      ],
      "execution_count": 18,
      "outputs": [
        {
          "output_type": "execute_result",
          "data": {
            "text/plain": [
              "state                           0\n",
              "population_k                    0\n",
              "total_direct_expenditure        0\n",
              "total_justice_system_amount     0\n",
              "total_justice_system_percent    0\n",
              "police_protection_amount        0\n",
              "police_protection_percent_      0\n",
              "judician_and_legal_amount       0\n",
              "judicial_and_legal_percent      0\n",
              "corrections_amount              0\n",
              "corrections_percent             0\n",
              "dtype: int64"
            ]
          },
          "metadata": {
            "tags": []
          },
          "execution_count": 18
        }
      ]
    },
    {
      "cell_type": "markdown",
      "metadata": {
        "id": "AY-NueDvZVX4"
      },
      "source": [
        "None of the column containes any missing or null value."
      ]
    },
    {
      "cell_type": "code",
      "metadata": {
        "colab": {
          "base_uri": "https://localhost:8080/"
        },
        "id": "E1hzd7Jh4eNp",
        "outputId": "078ba515-045b-480b-9009-2949934dd30d"
      },
      "source": [
        "df_jee03.shape"
      ],
      "execution_count": 10,
      "outputs": [
        {
          "output_type": "execute_result",
          "data": {
            "text/plain": [
              "(52, 11)"
            ]
          },
          "metadata": {
            "tags": []
          },
          "execution_count": 10
        }
      ]
    },
    {
      "cell_type": "code",
      "metadata": {
        "colab": {
          "base_uri": "https://localhost:8080/",
          "height": 532
        },
        "id": "7nJHkcp5YMCF",
        "outputId": "275d21e6-d27f-4eab-b3b3-0ad1104998aa"
      },
      "source": [
        "# Reset index from 0 as records are dropped.\n",
        "df_jee03.reset_index(drop=True, inplace=True)\n",
        "df_jee03.head(10)"
      ],
      "execution_count": 11,
      "outputs": [
        {
          "output_type": "execute_result",
          "data": {
            "text/html": [
              "<div>\n",
              "<style scoped>\n",
              "    .dataframe tbody tr th:only-of-type {\n",
              "        vertical-align: middle;\n",
              "    }\n",
              "\n",
              "    .dataframe tbody tr th {\n",
              "        vertical-align: top;\n",
              "    }\n",
              "\n",
              "    .dataframe thead th {\n",
              "        text-align: right;\n",
              "    }\n",
              "</style>\n",
              "<table border=\"1\" class=\"dataframe\">\n",
              "  <thead>\n",
              "    <tr style=\"text-align: right;\">\n",
              "      <th></th>\n",
              "      <th>state</th>\n",
              "      <th>population_k</th>\n",
              "      <th>total_direct_expenditure</th>\n",
              "      <th>total_justice_system_amount</th>\n",
              "      <th>total_justice_system_percent</th>\n",
              "      <th>police_protection_amount</th>\n",
              "      <th>police_protection_percent_</th>\n",
              "      <th>judician_and_legal_amount</th>\n",
              "      <th>judicial_and_legal_percent</th>\n",
              "      <th>corrections_amount</th>\n",
              "      <th>corrections_percent</th>\n",
              "    </tr>\n",
              "  </thead>\n",
              "  <tbody>\n",
              "    <tr>\n",
              "      <th>0</th>\n",
              "      <td>States-local, total</td>\n",
              "      <td>323071</td>\n",
              "      <td>3514583394</td>\n",
              "      <td>233483760</td>\n",
              "      <td>6.6</td>\n",
              "      <td>109210078</td>\n",
              "      <td>46.8</td>\n",
              "      <td>46256957</td>\n",
              "      <td>19.8</td>\n",
              "      <td>78016725</td>\n",
              "      <td>33.4</td>\n",
              "    </tr>\n",
              "    <tr>\n",
              "      <th>1</th>\n",
              "      <td>Alabama (AL)</td>\n",
              "      <td>4865</td>\n",
              "      <td>45277563</td>\n",
              "      <td>2335599</td>\n",
              "      <td>5.2</td>\n",
              "      <td>1251270</td>\n",
              "      <td>53.6</td>\n",
              "      <td>362060</td>\n",
              "      <td>15.5</td>\n",
              "      <td>722269</td>\n",
              "      <td>30.9</td>\n",
              "    </tr>\n",
              "    <tr>\n",
              "      <th>2</th>\n",
              "      <td>Alaska (AK)</td>\n",
              "      <td>742</td>\n",
              "      <td>15808697</td>\n",
              "      <td>962214</td>\n",
              "      <td>6.1</td>\n",
              "      <td>370209</td>\n",
              "      <td>38.5</td>\n",
              "      <td>254000</td>\n",
              "      <td>26.4</td>\n",
              "      <td>338005</td>\n",
              "      <td>35.1</td>\n",
              "    </tr>\n",
              "    <tr>\n",
              "      <th>3</th>\n",
              "      <td>Arizona (AZ)</td>\n",
              "      <td>6945</td>\n",
              "      <td>58975013</td>\n",
              "      <td>4929687</td>\n",
              "      <td>8.4</td>\n",
              "      <td>2261558</td>\n",
              "      <td>45.9</td>\n",
              "      <td>983419</td>\n",
              "      <td>19.9</td>\n",
              "      <td>1684710</td>\n",
              "      <td>34.2</td>\n",
              "    </tr>\n",
              "    <tr>\n",
              "      <th>4</th>\n",
              "      <td>Arkansas (AR)</td>\n",
              "      <td>2990</td>\n",
              "      <td>27299957</td>\n",
              "      <td>1507133</td>\n",
              "      <td>5.5</td>\n",
              "      <td>691059</td>\n",
              "      <td>45.9</td>\n",
              "      <td>220343</td>\n",
              "      <td>14.6</td>\n",
              "      <td>595731</td>\n",
              "      <td>39.5</td>\n",
              "    </tr>\n",
              "    <tr>\n",
              "      <th>5</th>\n",
              "      <td>California (CA)</td>\n",
              "      <td>39209</td>\n",
              "      <td>532948138</td>\n",
              "      <td>41714177</td>\n",
              "      <td>7.8</td>\n",
              "      <td>17570133</td>\n",
              "      <td>42.1</td>\n",
              "      <td>8675761</td>\n",
              "      <td>20.8</td>\n",
              "      <td>15468283</td>\n",
              "      <td>37.1</td>\n",
              "    </tr>\n",
              "    <tr>\n",
              "      <th>6</th>\n",
              "      <td>Colorado (CO)</td>\n",
              "      <td>5541</td>\n",
              "      <td>57293994</td>\n",
              "      <td>3940585</td>\n",
              "      <td>6.9</td>\n",
              "      <td>1873320</td>\n",
              "      <td>47.5</td>\n",
              "      <td>754162</td>\n",
              "      <td>19.1</td>\n",
              "      <td>1313103</td>\n",
              "      <td>33.3</td>\n",
              "    </tr>\n",
              "    <tr>\n",
              "      <th>7</th>\n",
              "      <td>Connecticut (CT)</td>\n",
              "      <td>3579</td>\n",
              "      <td>45649898</td>\n",
              "      <td>2748059</td>\n",
              "      <td>6.0</td>\n",
              "      <td>1236997</td>\n",
              "      <td>45.0</td>\n",
              "      <td>826903</td>\n",
              "      <td>30.1</td>\n",
              "      <td>684159</td>\n",
              "      <td>24.9</td>\n",
              "    </tr>\n",
              "    <tr>\n",
              "      <th>8</th>\n",
              "      <td>Delaware (DE)</td>\n",
              "      <td>949</td>\n",
              "      <td>11413711</td>\n",
              "      <td>864358</td>\n",
              "      <td>7.6</td>\n",
              "      <td>348027</td>\n",
              "      <td>40.3</td>\n",
              "      <td>207990</td>\n",
              "      <td>24.1</td>\n",
              "      <td>308341</td>\n",
              "      <td>35.7</td>\n",
              "    </tr>\n",
              "    <tr>\n",
              "      <th>9</th>\n",
              "      <td>District of Columbia</td>\n",
              "      <td>687</td>\n",
              "      <td>16593661</td>\n",
              "      <td>870775</td>\n",
              "      <td>5.2</td>\n",
              "      <td>593345</td>\n",
              "      <td>68.1</td>\n",
              "      <td>132515</td>\n",
              "      <td>15.2</td>\n",
              "      <td>144915</td>\n",
              "      <td>16.6</td>\n",
              "    </tr>\n",
              "  </tbody>\n",
              "</table>\n",
              "</div>"
            ],
            "text/plain": [
              "                  state population_k  ...  corrections_amount  corrections_percent\n",
              "0   States-local, total       323071  ...            78016725                 33.4\n",
              "1          Alabama (AL)         4865  ...              722269                 30.9\n",
              "2           Alaska (AK)          742  ...              338005                 35.1\n",
              "3          Arizona (AZ)         6945  ...             1684710                 34.2\n",
              "4         Arkansas (AR)         2990  ...              595731                 39.5\n",
              "5       California (CA)        39209  ...            15468283                 37.1\n",
              "6         Colorado (CO)         5541  ...             1313103                 33.3\n",
              "7      Connecticut (CT)         3579  ...              684159                 24.9\n",
              "8         Delaware (DE)          949  ...              308341                 35.7\n",
              "9  District of Columbia          687  ...              144915                 16.6\n",
              "\n",
              "[10 rows x 11 columns]"
            ]
          },
          "metadata": {
            "tags": []
          },
          "execution_count": 11
        }
      ]
    },
    {
      "cell_type": "code",
      "metadata": {
        "colab": {
          "base_uri": "https://localhost:8080/",
          "height": 515
        },
        "id": "iHmc9TrNZzhw",
        "outputId": "1b9a28f7-a3d8-4468-bf09-2cb428e5d630"
      },
      "source": [
        "# delete first index as its not state level record\n",
        "df_jee03.drop(index=0,inplace=True)\n",
        "df_jee03.head(10)"
      ],
      "execution_count": 12,
      "outputs": [
        {
          "output_type": "execute_result",
          "data": {
            "text/html": [
              "<div>\n",
              "<style scoped>\n",
              "    .dataframe tbody tr th:only-of-type {\n",
              "        vertical-align: middle;\n",
              "    }\n",
              "\n",
              "    .dataframe tbody tr th {\n",
              "        vertical-align: top;\n",
              "    }\n",
              "\n",
              "    .dataframe thead th {\n",
              "        text-align: right;\n",
              "    }\n",
              "</style>\n",
              "<table border=\"1\" class=\"dataframe\">\n",
              "  <thead>\n",
              "    <tr style=\"text-align: right;\">\n",
              "      <th></th>\n",
              "      <th>state</th>\n",
              "      <th>population_k</th>\n",
              "      <th>total_direct_expenditure</th>\n",
              "      <th>total_justice_system_amount</th>\n",
              "      <th>total_justice_system_percent</th>\n",
              "      <th>police_protection_amount</th>\n",
              "      <th>police_protection_percent_</th>\n",
              "      <th>judician_and_legal_amount</th>\n",
              "      <th>judicial_and_legal_percent</th>\n",
              "      <th>corrections_amount</th>\n",
              "      <th>corrections_percent</th>\n",
              "    </tr>\n",
              "  </thead>\n",
              "  <tbody>\n",
              "    <tr>\n",
              "      <th>1</th>\n",
              "      <td>Alabama (AL)</td>\n",
              "      <td>4865</td>\n",
              "      <td>45277563</td>\n",
              "      <td>2335599</td>\n",
              "      <td>5.2</td>\n",
              "      <td>1251270</td>\n",
              "      <td>53.6</td>\n",
              "      <td>362060</td>\n",
              "      <td>15.5</td>\n",
              "      <td>722269</td>\n",
              "      <td>30.9</td>\n",
              "    </tr>\n",
              "    <tr>\n",
              "      <th>2</th>\n",
              "      <td>Alaska (AK)</td>\n",
              "      <td>742</td>\n",
              "      <td>15808697</td>\n",
              "      <td>962214</td>\n",
              "      <td>6.1</td>\n",
              "      <td>370209</td>\n",
              "      <td>38.5</td>\n",
              "      <td>254000</td>\n",
              "      <td>26.4</td>\n",
              "      <td>338005</td>\n",
              "      <td>35.1</td>\n",
              "    </tr>\n",
              "    <tr>\n",
              "      <th>3</th>\n",
              "      <td>Arizona (AZ)</td>\n",
              "      <td>6945</td>\n",
              "      <td>58975013</td>\n",
              "      <td>4929687</td>\n",
              "      <td>8.4</td>\n",
              "      <td>2261558</td>\n",
              "      <td>45.9</td>\n",
              "      <td>983419</td>\n",
              "      <td>19.9</td>\n",
              "      <td>1684710</td>\n",
              "      <td>34.2</td>\n",
              "    </tr>\n",
              "    <tr>\n",
              "      <th>4</th>\n",
              "      <td>Arkansas (AR)</td>\n",
              "      <td>2990</td>\n",
              "      <td>27299957</td>\n",
              "      <td>1507133</td>\n",
              "      <td>5.5</td>\n",
              "      <td>691059</td>\n",
              "      <td>45.9</td>\n",
              "      <td>220343</td>\n",
              "      <td>14.6</td>\n",
              "      <td>595731</td>\n",
              "      <td>39.5</td>\n",
              "    </tr>\n",
              "    <tr>\n",
              "      <th>5</th>\n",
              "      <td>California (CA)</td>\n",
              "      <td>39209</td>\n",
              "      <td>532948138</td>\n",
              "      <td>41714177</td>\n",
              "      <td>7.8</td>\n",
              "      <td>17570133</td>\n",
              "      <td>42.1</td>\n",
              "      <td>8675761</td>\n",
              "      <td>20.8</td>\n",
              "      <td>15468283</td>\n",
              "      <td>37.1</td>\n",
              "    </tr>\n",
              "    <tr>\n",
              "      <th>6</th>\n",
              "      <td>Colorado (CO)</td>\n",
              "      <td>5541</td>\n",
              "      <td>57293994</td>\n",
              "      <td>3940585</td>\n",
              "      <td>6.9</td>\n",
              "      <td>1873320</td>\n",
              "      <td>47.5</td>\n",
              "      <td>754162</td>\n",
              "      <td>19.1</td>\n",
              "      <td>1313103</td>\n",
              "      <td>33.3</td>\n",
              "    </tr>\n",
              "    <tr>\n",
              "      <th>7</th>\n",
              "      <td>Connecticut (CT)</td>\n",
              "      <td>3579</td>\n",
              "      <td>45649898</td>\n",
              "      <td>2748059</td>\n",
              "      <td>6.0</td>\n",
              "      <td>1236997</td>\n",
              "      <td>45.0</td>\n",
              "      <td>826903</td>\n",
              "      <td>30.1</td>\n",
              "      <td>684159</td>\n",
              "      <td>24.9</td>\n",
              "    </tr>\n",
              "    <tr>\n",
              "      <th>8</th>\n",
              "      <td>Delaware (DE)</td>\n",
              "      <td>949</td>\n",
              "      <td>11413711</td>\n",
              "      <td>864358</td>\n",
              "      <td>7.6</td>\n",
              "      <td>348027</td>\n",
              "      <td>40.3</td>\n",
              "      <td>207990</td>\n",
              "      <td>24.1</td>\n",
              "      <td>308341</td>\n",
              "      <td>35.7</td>\n",
              "    </tr>\n",
              "    <tr>\n",
              "      <th>9</th>\n",
              "      <td>District of Columbia</td>\n",
              "      <td>687</td>\n",
              "      <td>16593661</td>\n",
              "      <td>870775</td>\n",
              "      <td>5.2</td>\n",
              "      <td>593345</td>\n",
              "      <td>68.1</td>\n",
              "      <td>132515</td>\n",
              "      <td>15.2</td>\n",
              "      <td>144915</td>\n",
              "      <td>16.6</td>\n",
              "    </tr>\n",
              "    <tr>\n",
              "      <th>10</th>\n",
              "      <td>Florida (FL)</td>\n",
              "      <td>20630</td>\n",
              "      <td>167229459</td>\n",
              "      <td>14463341</td>\n",
              "      <td>8.6</td>\n",
              "      <td>7848477</td>\n",
              "      <td>54.3</td>\n",
              "      <td>2366274</td>\n",
              "      <td>16.4</td>\n",
              "      <td>4248590</td>\n",
              "      <td>29.4</td>\n",
              "    </tr>\n",
              "  </tbody>\n",
              "</table>\n",
              "</div>"
            ],
            "text/plain": [
              "                   state population_k  ...  corrections_amount  corrections_percent\n",
              "1           Alabama (AL)         4865  ...              722269                 30.9\n",
              "2            Alaska (AK)          742  ...              338005                 35.1\n",
              "3           Arizona (AZ)         6945  ...             1684710                 34.2\n",
              "4          Arkansas (AR)         2990  ...              595731                 39.5\n",
              "5        California (CA)        39209  ...            15468283                 37.1\n",
              "6          Colorado (CO)         5541  ...             1313103                 33.3\n",
              "7       Connecticut (CT)         3579  ...              684159                 24.9\n",
              "8          Delaware (DE)          949  ...              308341                 35.7\n",
              "9   District of Columbia          687  ...              144915                 16.6\n",
              "10          Florida (FL)        20630  ...             4248590                 29.4\n",
              "\n",
              "[10 rows x 11 columns]"
            ]
          },
          "metadata": {
            "tags": []
          },
          "execution_count": 12
        }
      ]
    },
    {
      "cell_type": "code",
      "metadata": {
        "colab": {
          "base_uri": "https://localhost:8080/"
        },
        "id": "wr1FFJ0qaK5N",
        "outputId": "65b04a7c-7e4a-4382-cbb9-eafd7f600d2f"
      },
      "source": [
        "# check the data type of each field\n",
        "df_jee03.dtypes"
      ],
      "execution_count": 13,
      "outputs": [
        {
          "output_type": "execute_result",
          "data": {
            "text/plain": [
              "state                            object\n",
              "population_k                     object\n",
              "total_direct_expenditure          int64\n",
              "total_justice_system_amount       int64\n",
              "total_justice_system_percent    float64\n",
              "police_protection_amount          int64\n",
              "police_protection_percent_      float64\n",
              "judician_and_legal_amount         int64\n",
              "judicial_and_legal_percent      float64\n",
              "corrections_amount                int64\n",
              "corrections_percent             float64\n",
              "dtype: object"
            ]
          },
          "metadata": {
            "tags": []
          },
          "execution_count": 13
        }
      ]
    },
    {
      "cell_type": "code",
      "metadata": {
        "colab": {
          "base_uri": "https://localhost:8080/"
        },
        "id": "bfDWoCR8a2vP",
        "outputId": "9ecdb922-6c7a-44fa-b535-80678cb41b90"
      },
      "source": [
        "# coverting population_k to numeric type\n",
        "df_jee03['population_k'] = df_jee03['population_k'].apply(pd.to_numeric)\n",
        "df_jee03.dtypes"
      ],
      "execution_count": 14,
      "outputs": [
        {
          "output_type": "execute_result",
          "data": {
            "text/plain": [
              "state                            object\n",
              "population_k                      int64\n",
              "total_direct_expenditure          int64\n",
              "total_justice_system_amount       int64\n",
              "total_justice_system_percent    float64\n",
              "police_protection_amount          int64\n",
              "police_protection_percent_      float64\n",
              "judician_and_legal_amount         int64\n",
              "judicial_and_legal_percent      float64\n",
              "corrections_amount                int64\n",
              "corrections_percent             float64\n",
              "dtype: object"
            ]
          },
          "metadata": {
            "tags": []
          },
          "execution_count": 14
        }
      ]
    },
    {
      "cell_type": "code",
      "metadata": {
        "id": "IAjDw3mbcFK-"
      },
      "source": [
        "import re\n",
        "# Remove any any text starting from parenthisis \"(\"\" to end using regex\n",
        "df_jee03['state'] = df_jee03['state'].apply(lambda x: re.sub(\"\\\\(.*\", \"\",x))"
      ],
      "execution_count": 15,
      "outputs": []
    },
    {
      "cell_type": "code",
      "metadata": {
        "colab": {
          "base_uri": "https://localhost:8080/"
        },
        "id": "bDGN7kT8fXou",
        "outputId": "03f581c6-f131-4ead-fab8-165416b6b4b0"
      },
      "source": [
        "df_jee03['state'].head()"
      ],
      "execution_count": 16,
      "outputs": [
        {
          "output_type": "execute_result",
          "data": {
            "text/plain": [
              "1       Alabama \n",
              "2        Alaska \n",
              "3       Arizona \n",
              "4      Arkansas \n",
              "5    California \n",
              "Name: state, dtype: object"
            ]
          },
          "metadata": {
            "tags": []
          },
          "execution_count": 16
        }
      ]
    },
    {
      "cell_type": "code",
      "metadata": {
        "colab": {
          "base_uri": "https://localhost:8080/"
        },
        "id": "xPKlJKCAgK4k",
        "outputId": "7240b4a0-a1eb-49fa-f904-93e6b694d3c8"
      },
      "source": [
        "# Removing any leading and trailing spaces and coverting state names to uppercase\n",
        "df_jee03['state'] = df_jee03['state'].str.strip()\n",
        "df_jee03['state'] = df_jee03['state'].str.upper()\n",
        "df_jee03['state'].head()"
      ],
      "execution_count": 17,
      "outputs": [
        {
          "output_type": "execute_result",
          "data": {
            "text/plain": [
              "1       ALABAMA\n",
              "2        ALASKA\n",
              "3       ARIZONA\n",
              "4      ARKANSAS\n",
              "5    CALIFORNIA\n",
              "Name: state, dtype: object"
            ]
          },
          "metadata": {
            "tags": []
          },
          "execution_count": 17
        }
      ]
    }
  ]
}