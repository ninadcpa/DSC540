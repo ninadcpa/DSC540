{
  "nbformat": 4,
  "nbformat_minor": 0,
  "metadata": {
    "colab": {
      "name": "Final_Project.ipynb",
      "provenance": [],
      "collapsed_sections": [],
      "toc_visible": true,
      "authorship_tag": "ABX9TyNBDW1Bj3ZeKXkINGGqs+H1",
      "include_colab_link": true
    },
    "kernelspec": {
      "name": "python3",
      "display_name": "Python 3"
    }
  },
  "cells": [
    {
      "cell_type": "markdown",
      "metadata": {
        "id": "view-in-github",
        "colab_type": "text"
      },
      "source": [
        "<a href=\"https://colab.research.google.com/github/ninadcpa/DSC540/blob/main/Final_Project.ipynb\" target=\"_parent\"><img src=\"https://colab.research.google.com/assets/colab-badge.svg\" alt=\"Open In Colab\"/></a>"
      ]
    },
    {
      "cell_type": "markdown",
      "metadata": {
        "id": "raw3X5gy43f6"
      },
      "source": [
        "# DSC540 - Data Wrangling - Final Project\n",
        "\n",
        "## Title - Public Justice System Expenditures and Crime Control effectiveness across US States\n",
        "\n",
        "@author Ninad Patkhedkar  \n",
        "@guide  Catherine Williams\n",
        "\n",
        "Term - Spring 2021  \n",
        "Bellevue Univeristy \n",
        "\n",
        "---\n",
        "\n"
      ]
    },
    {
      "cell_type": "markdown",
      "metadata": {
        "id": "KMqP0W0j4LEO"
      },
      "source": [
        "# Milesstone 1\n",
        "\n",
        "# Introduction\n",
        "> Effective Law and Order is one of the most important necessity of society. It has direct effect on living standard and crime rate in that area. The whole \"Law and Order\" aka Justice system consists of multiple functions which performs duties as below   \n",
        "\n",
        "> **Police Protection Services** - law enforcement, patrolling, traffic safety, parking meter read, animal warden etc. \n",
        "\n",
        "> **Judicial and Legal Services** - civil and criminal functions of courts, state’s attorneys, court reporters, register of wills etc. \n",
        "\n",
        "> **Correction Services** - prisons, reformatories, rehabilitation centers, parole boards, pardon boards etc. \n",
        "\n",
        "> To effectively govern any area, all these functions need resources i.e. people to perform duties and funding.\n",
        "\n",
        "In this project I will use public dataset about state wise employment and expenditures on various functions. I will also correlate state wise crime during same period. I will investigate and find more information about how effectively Justice and Legal system is managed in different states.  I will also try to find any correlation between population of state, expenses and number of employees etc. \n",
        "\n",
        "I will use 3 different sources of data \n",
        "\n",
        "# Dataset Sources  \n",
        "\n",
        "1. **Flat file**  - jeee16t03.csv\n",
        "Public dataset for fiscal 2016 from Bureau of Justice Statistics on Justice Expenditure - https://www.bjs.gov/content/pub/sheets/jeee16p.zip \n",
        "\n",
        "2. **Web Site**  \n",
        "Public dataset on Crime for fiscal 2016 from FBI - https://ucr.fbi.gov/crime-in-the-u.s/2016/crime-in-the-u.s.-2016/tables/table-3\n",
        "\n",
        "3. **API** \n",
        "Public dataset for fiscal 2016 from Bureau of Justice Statistics on Employee Extracts - https://data.world/usbjs/justice-expenditure-and-employment-2016/workspace/file?filename=jeee16t08.csv\n",
        "\n",
        "API Data is from same source as #1 i.e. Bureau of Justice Statistics. As requiremnet is to fetch data over API, the dataset is maintained on ***data.world***  and will be fetched in json form using ***requests*** library.\n",
        "\n",
        "\n",
        "\n",
        "```\n",
        "# sample linux command to fetch data in json format\n",
        "curl --request POST \\\n",
        "  --url \"https://api.data.world/v0/sql/ninadcpa/dsc540?includeTableSchema=true\" \\\n",
        "  --header \"Authorization: Bearer <api_token>\" \\\n",
        "  --header \"Accept: application/json\" \\\n",
        "  --data-urlencode 'query=SELECT * FROM jeee16t08'\n",
        "```\n",
        "\n",
        "For Definitions, Methodology and other information, refer detailed guide -  \n",
        "https://www.bjs.gov/content/pub/pdf/jeeeguide.pdf  \n",
        "https://ucr.fbi.gov/crime-in-the-u.s/2016/crime-in-the-u.s.-2016/tables/table-3/table-3-data-declaration.pdf\n",
        "\n",
        "# Data Prep\n",
        "\n",
        "All 3 datasets have common key of State name. It has one-to-one relationship across all 3 datasets.\n",
        " \n",
        "I will cleanup each data set and and create a consolidated dataset by \"State\" in this section. Here are few things I will perform as part of cleanup   \n",
        "\n",
        "* **Simplify column names by converting to lower case and spaces replaced by underscores**\n",
        "* **Rename long column names to short names e.g. population_2016_thousands to population_k**\n",
        "* **Remove records of Total federal govt, Local city govt, Municipality govt data and keep only State data**\n",
        "* **Remove records where population is not present**\n",
        "* **Trim State abbreviations from records i.e. Virginia (VA) -> Virginia** \n",
        "* **Join Datasets by using \"State\" as common key**\n",
        "  \n",
        "# Objective\n",
        "As part of this Project, I will try to find answer following questions​\n",
        "1. How state population affects overall cost and per capita cost?\n",
        "2. How number of employees in police protection services affect the cost of police protection? \n",
        "3. How number of employees in judicial and legal services affect the cost of judicial and legal functions?\n",
        "4. How number of employees in correction services affect the cost of correction functions?\n",
        "5. Which states are doing great job with overall crime control?\n",
        "6. What is relation between number of employees in police protection services and crime in the area?\n"
      ]
    },
    {
      "cell_type": "code",
      "metadata": {
        "colab": {
          "base_uri": "https://localhost:8080/"
        },
        "id": "XcCPt1C24Um3",
        "outputId": "0e013682-c1a6-4be3-b665-40cb5b5e3669"
      },
      "source": [
        "# This code is written for mounting code folder checked out from github on google drive\n",
        "# All project code will be maintained inside folder \"DSC540\"\n",
        "\n",
        "from google.colab import drive\n",
        "import sys\n",
        "import os\n",
        "\n",
        "drive.mount('/content/drive')\n",
        "sys.path.append('/content/drive/MyDrive/Colab Notebooks/DSC540')\n",
        "os.chdir('/content/drive/MyDrive/Colab Notebooks/DSC540')\n"
      ],
      "execution_count": null,
      "outputs": [
        {
          "output_type": "stream",
          "text": [
            "Mounted at /content/drive\n"
          ],
          "name": "stdout"
        }
      ]
    },
    {
      "cell_type": "markdown",
      "metadata": {
        "id": "VxI9DC9liCKF"
      },
      "source": [
        "# Milestone 2\n",
        "\n",
        "Cleaning/Formatting Flat File Source\n",
        "Perform at least 5 data transformation and/or cleansing steps to your flat file data. For example:\n",
        "\n",
        "> Replace Headers  \n",
        "Format data into a more readable format  \n",
        "Identify outliers and bad data  \n",
        "Find duplicates  \n",
        "Fix casing or inconsistent values  \n",
        "Conduct Fuzzy Matching\n",
        "\n",
        "---\n",
        "\n",
        "I am using flat file in csv format \"jeee16t03.csv\" \n",
        "\n",
        "Lets load the file data in panda dataframe and check some records"
      ]
    },
    {
      "cell_type": "code",
      "metadata": {
        "colab": {
          "base_uri": "https://localhost:8080/",
          "height": 472
        },
        "id": "8qN5I3hsQuT7",
        "outputId": "90c40f3d-cb96-49c7-cdb6-c0e7f3a3e657"
      },
      "source": [
        "import pandas as pd\n",
        "import numpy as np\n",
        "import matplotlib.pyplot as plt\n",
        "\n",
        "# Reading csv file into panda dataframe\n",
        "df_jee03 = pd.read_csv(\"jeee16t03.csv\")\n",
        "df_jee03.head(10)"
      ],
      "execution_count": null,
      "outputs": [
        {
          "output_type": "execute_result",
          "data": {
            "text/html": [
              "<div>\n",
              "<style scoped>\n",
              "    .dataframe tbody tr th:only-of-type {\n",
              "        vertical-align: middle;\n",
              "    }\n",
              "\n",
              "    .dataframe tbody tr th {\n",
              "        vertical-align: top;\n",
              "    }\n",
              "\n",
              "    .dataframe thead th {\n",
              "        text-align: right;\n",
              "    }\n",
              "</style>\n",
              "<table border=\"1\" class=\"dataframe\">\n",
              "  <thead>\n",
              "    <tr style=\"text-align: right;\">\n",
              "      <th></th>\n",
              "      <th>State and type of government</th>\n",
              "      <th>Population 2016 thousands</th>\n",
              "      <th>Total direct expenditure</th>\n",
              "      <th>total justice system Amount</th>\n",
              "      <th>total justice system percent</th>\n",
              "      <th>Police protection Amount</th>\n",
              "      <th>police protection Percent</th>\n",
              "      <th>judician and legal Amount</th>\n",
              "      <th>judicial and legal Percent</th>\n",
              "      <th>corrections Amount</th>\n",
              "      <th>corrections Percent</th>\n",
              "    </tr>\n",
              "  </thead>\n",
              "  <tbody>\n",
              "    <tr>\n",
              "      <th>0</th>\n",
              "      <td>States-local, total</td>\n",
              "      <td>323071</td>\n",
              "      <td>3514583394</td>\n",
              "      <td>233483760</td>\n",
              "      <td>6.6</td>\n",
              "      <td>109210078</td>\n",
              "      <td>46.8</td>\n",
              "      <td>46256957</td>\n",
              "      <td>19.8</td>\n",
              "      <td>78016725</td>\n",
              "      <td>33.4</td>\n",
              "    </tr>\n",
              "    <tr>\n",
              "      <th>1</th>\n",
              "      <td>State</td>\n",
              "      <td>-</td>\n",
              "      <td>1692408177</td>\n",
              "      <td>86868791</td>\n",
              "      <td>5.1</td>\n",
              "      <td>15003016</td>\n",
              "      <td>17.3</td>\n",
              "      <td>22825679</td>\n",
              "      <td>26.3</td>\n",
              "      <td>49040096</td>\n",
              "      <td>56.5</td>\n",
              "    </tr>\n",
              "    <tr>\n",
              "      <th>2</th>\n",
              "      <td>Local, total</td>\n",
              "      <td>-</td>\n",
              "      <td>1822175217</td>\n",
              "      <td>146614969</td>\n",
              "      <td>8.0</td>\n",
              "      <td>94207062</td>\n",
              "      <td>64.3</td>\n",
              "      <td>23431278</td>\n",
              "      <td>16.0</td>\n",
              "      <td>28976629</td>\n",
              "      <td>19.8</td>\n",
              "    </tr>\n",
              "    <tr>\n",
              "      <th>3</th>\n",
              "      <td>Counties</td>\n",
              "      <td>-</td>\n",
              "      <td>394148057</td>\n",
              "      <td>71684805</td>\n",
              "      <td>18.2</td>\n",
              "      <td>29596808</td>\n",
              "      <td>41.3</td>\n",
              "      <td>17767223</td>\n",
              "      <td>24.8</td>\n",
              "      <td>24320774</td>\n",
              "      <td>33.9</td>\n",
              "    </tr>\n",
              "    <tr>\n",
              "      <th>4</th>\n",
              "      <td>Municipalities</td>\n",
              "      <td>-</td>\n",
              "      <td>583324970</td>\n",
              "      <td>69058355</td>\n",
              "      <td>11.8</td>\n",
              "      <td>59702889</td>\n",
              "      <td>86.5</td>\n",
              "      <td>5274743</td>\n",
              "      <td>7.6</td>\n",
              "      <td>4080723</td>\n",
              "      <td>5.9</td>\n",
              "    </tr>\n",
              "    <tr>\n",
              "      <th>5</th>\n",
              "      <td>Alabama (AL)</td>\n",
              "      <td>4865</td>\n",
              "      <td>45277563</td>\n",
              "      <td>2335599</td>\n",
              "      <td>5.2</td>\n",
              "      <td>1251270</td>\n",
              "      <td>53.6</td>\n",
              "      <td>362060</td>\n",
              "      <td>15.5</td>\n",
              "      <td>722269</td>\n",
              "      <td>30.9</td>\n",
              "    </tr>\n",
              "    <tr>\n",
              "      <th>6</th>\n",
              "      <td>AL State</td>\n",
              "      <td>-</td>\n",
              "      <td>23075269</td>\n",
              "      <td>870057</td>\n",
              "      <td>3.8</td>\n",
              "      <td>165168</td>\n",
              "      <td>19.0</td>\n",
              "      <td>200146</td>\n",
              "      <td>23.0</td>\n",
              "      <td>504743</td>\n",
              "      <td>58.0</td>\n",
              "    </tr>\n",
              "    <tr>\n",
              "      <th>7</th>\n",
              "      <td>AL Local, total</td>\n",
              "      <td>-</td>\n",
              "      <td>22202294</td>\n",
              "      <td>1465542</td>\n",
              "      <td>6.6</td>\n",
              "      <td>1086102</td>\n",
              "      <td>74.1</td>\n",
              "      <td>161914</td>\n",
              "      <td>11.0</td>\n",
              "      <td>217526</td>\n",
              "      <td>14.8</td>\n",
              "    </tr>\n",
              "    <tr>\n",
              "      <th>8</th>\n",
              "      <td>AL Counties</td>\n",
              "      <td>-</td>\n",
              "      <td>2244358</td>\n",
              "      <td>644571</td>\n",
              "      <td>28.7</td>\n",
              "      <td>358334</td>\n",
              "      <td>55.6</td>\n",
              "      <td>90688</td>\n",
              "      <td>14.1</td>\n",
              "      <td>195549</td>\n",
              "      <td>30.3</td>\n",
              "    </tr>\n",
              "    <tr>\n",
              "      <th>9</th>\n",
              "      <td>AL Municipalities</td>\n",
              "      <td>-</td>\n",
              "      <td>6596181</td>\n",
              "      <td>820971</td>\n",
              "      <td>12.4</td>\n",
              "      <td>727768</td>\n",
              "      <td>88.6</td>\n",
              "      <td>71226</td>\n",
              "      <td>8.7</td>\n",
              "      <td>21977</td>\n",
              "      <td>2.7</td>\n",
              "    </tr>\n",
              "  </tbody>\n",
              "</table>\n",
              "</div>"
            ],
            "text/plain": [
              "  State and type of government  ... corrections Percent\n",
              "0          States-local, total  ...                33.4\n",
              "1                        State  ...                56.5\n",
              "2                 Local, total  ...                19.8\n",
              "3                     Counties  ...                33.9\n",
              "4               Municipalities  ...                 5.9\n",
              "5                 Alabama (AL)  ...                30.9\n",
              "6                     AL State  ...                58.0\n",
              "7              AL Local, total  ...                14.8\n",
              "8                  AL Counties  ...                30.3\n",
              "9            AL Municipalities  ...                 2.7\n",
              "\n",
              "[10 rows x 11 columns]"
            ]
          },
          "metadata": {
            "tags": []
          },
          "execution_count": 2
        }
      ]
    },
    {
      "cell_type": "code",
      "metadata": {
        "colab": {
          "base_uri": "https://localhost:8080/"
        },
        "id": "vNTCpRfhR_Co",
        "outputId": "deb67160-b57b-498a-eebb-f3db933af5e6"
      },
      "source": [
        "df_jee03.shape"
      ],
      "execution_count": null,
      "outputs": [
        {
          "output_type": "execute_result",
          "data": {
            "text/plain": [
              "(256, 11)"
            ]
          },
          "metadata": {
            "tags": []
          },
          "execution_count": 3
        }
      ]
    },
    {
      "cell_type": "markdown",
      "metadata": {
        "id": "KDjHEuxRjbjZ"
      },
      "source": [
        "Data contains 256 observationas and 11 variables.  \n",
        "Dataset contains records for fedral, state, local governments, muncipalties and counties. \n",
        "\n",
        "For this project, as state is common key field for all 3 datasets. Hence I will try to filter records only at state level.\n",
        "\n",
        "I will perform as part of cleanup  \n",
        "\n",
        "* **Simplify column names by converting to lower case and spaces replaced by underscores**\n",
        "* **Rename long column names to short names e.g. population_2016_thousands to population_k**\n",
        "* **Remove records of Total federal govt, Local city govt, Municipality govt data and keep only State data**\n",
        "* **Remove records where population is not present**\n",
        "* **Trim State abbreviations from records i.e. Virginia (VA) -> Virginia** "
      ]
    },
    {
      "cell_type": "code",
      "metadata": {
        "colab": {
          "base_uri": "https://localhost:8080/"
        },
        "id": "J_xm5GYhTefD",
        "outputId": "16fe8984-ee23-47d4-a30d-e6c222ae180e"
      },
      "source": [
        "# remove spaces in columns name and replace with underscores\n",
        "df_jee03.columns = df_jee03.columns.str.replace(' ','_')\n",
        "df_jee03.columns"
      ],
      "execution_count": null,
      "outputs": [
        {
          "output_type": "execute_result",
          "data": {
            "text/plain": [
              "Index(['State_and_type_of_government', 'Population_2016_thousands',\n",
              "       'Total_direct_expenditure', 'total_justice_system_Amount',\n",
              "       'total_justice_system_percent', 'Police_protection_Amount',\n",
              "       'police_protection_Percent_', 'judician_and_legal_Amount',\n",
              "       'judicial_and_legal_Percent', 'corrections_Amount',\n",
              "       'corrections_Percent'],\n",
              "      dtype='object')"
            ]
          },
          "metadata": {
            "tags": []
          },
          "execution_count": 4
        }
      ]
    },
    {
      "cell_type": "code",
      "metadata": {
        "colab": {
          "base_uri": "https://localhost:8080/"
        },
        "id": "L_hXjan6UzMp",
        "outputId": "b038504f-70df-44af-c017-a1b627b74e04"
      },
      "source": [
        "# changing all colunmn names to lower case\n",
        "df_jee03.rename(columns=str.lower, inplace=True)\n",
        "df_jee03.columns"
      ],
      "execution_count": null,
      "outputs": [
        {
          "output_type": "execute_result",
          "data": {
            "text/plain": [
              "Index(['state_and_type_of_government', 'population_2016_thousands',\n",
              "       'total_direct_expenditure', 'total_justice_system_amount',\n",
              "       'total_justice_system_percent', 'police_protection_amount',\n",
              "       'police_protection_percent_', 'judician_and_legal_amount',\n",
              "       'judicial_and_legal_percent', 'corrections_amount',\n",
              "       'corrections_percent'],\n",
              "      dtype='object')"
            ]
          },
          "metadata": {
            "tags": []
          },
          "execution_count": 5
        }
      ]
    },
    {
      "cell_type": "code",
      "metadata": {
        "colab": {
          "base_uri": "https://localhost:8080/"
        },
        "id": "f4nFe16lT083",
        "outputId": "9376a2be-b588-462e-d808-eb4c29fb720f"
      },
      "source": [
        "# replace long column names to shorter ones\n",
        "df_jee03.rename(columns={\"state_and_type_of_government\" : \"state\", \"population_2016_thousands\": \"population_k\"},inplace=True)\n",
        "df_jee03.columns"
      ],
      "execution_count": null,
      "outputs": [
        {
          "output_type": "execute_result",
          "data": {
            "text/plain": [
              "Index(['state', 'population_k', 'total_direct_expenditure',\n",
              "       'total_justice_system_amount', 'total_justice_system_percent',\n",
              "       'police_protection_amount', 'police_protection_percent_',\n",
              "       'judician_and_legal_amount', 'judicial_and_legal_percent',\n",
              "       'corrections_amount', 'corrections_percent'],\n",
              "      dtype='object')"
            ]
          },
          "metadata": {
            "tags": []
          },
          "execution_count": 6
        }
      ]
    },
    {
      "cell_type": "markdown",
      "metadata": {
        "id": "FgwhAvf231p3"
      },
      "source": [
        "One observation is that, population field is not populated for local, county or muncipalty governments. Hence if records with population value as empty ( \"-\" in this case) are dropped, we can automatically get only state level records."
      ]
    },
    {
      "cell_type": "code",
      "metadata": {
        "colab": {
          "base_uri": "https://localhost:8080/",
          "height": 522
        },
        "id": "G5Z8heKxV3u9",
        "outputId": "15119eec-5719-4d3a-f6d5-89a8c0bf5465"
      },
      "source": [
        "# drop records where population value is missing\n",
        "df_jee03 = df_jee03[df_jee03['population_k'] != '-']\n",
        "df_jee03.head(10)"
      ],
      "execution_count": null,
      "outputs": [
        {
          "output_type": "execute_result",
          "data": {
            "text/html": [
              "<div>\n",
              "<style scoped>\n",
              "    .dataframe tbody tr th:only-of-type {\n",
              "        vertical-align: middle;\n",
              "    }\n",
              "\n",
              "    .dataframe tbody tr th {\n",
              "        vertical-align: top;\n",
              "    }\n",
              "\n",
              "    .dataframe thead th {\n",
              "        text-align: right;\n",
              "    }\n",
              "</style>\n",
              "<table border=\"1\" class=\"dataframe\">\n",
              "  <thead>\n",
              "    <tr style=\"text-align: right;\">\n",
              "      <th></th>\n",
              "      <th>state</th>\n",
              "      <th>population_k</th>\n",
              "      <th>total_direct_expenditure</th>\n",
              "      <th>total_justice_system_amount</th>\n",
              "      <th>total_justice_system_percent</th>\n",
              "      <th>police_protection_amount</th>\n",
              "      <th>police_protection_percent_</th>\n",
              "      <th>judician_and_legal_amount</th>\n",
              "      <th>judicial_and_legal_percent</th>\n",
              "      <th>corrections_amount</th>\n",
              "      <th>corrections_percent</th>\n",
              "    </tr>\n",
              "  </thead>\n",
              "  <tbody>\n",
              "    <tr>\n",
              "      <th>0</th>\n",
              "      <td>States-local, total</td>\n",
              "      <td>323071</td>\n",
              "      <td>3514583394</td>\n",
              "      <td>233483760</td>\n",
              "      <td>6.6</td>\n",
              "      <td>109210078</td>\n",
              "      <td>46.8</td>\n",
              "      <td>46256957</td>\n",
              "      <td>19.8</td>\n",
              "      <td>78016725</td>\n",
              "      <td>33.4</td>\n",
              "    </tr>\n",
              "    <tr>\n",
              "      <th>5</th>\n",
              "      <td>Alabama (AL)</td>\n",
              "      <td>4865</td>\n",
              "      <td>45277563</td>\n",
              "      <td>2335599</td>\n",
              "      <td>5.2</td>\n",
              "      <td>1251270</td>\n",
              "      <td>53.6</td>\n",
              "      <td>362060</td>\n",
              "      <td>15.5</td>\n",
              "      <td>722269</td>\n",
              "      <td>30.9</td>\n",
              "    </tr>\n",
              "    <tr>\n",
              "      <th>10</th>\n",
              "      <td>Alaska (AK)</td>\n",
              "      <td>742</td>\n",
              "      <td>15808697</td>\n",
              "      <td>962214</td>\n",
              "      <td>6.1</td>\n",
              "      <td>370209</td>\n",
              "      <td>38.5</td>\n",
              "      <td>254000</td>\n",
              "      <td>26.4</td>\n",
              "      <td>338005</td>\n",
              "      <td>35.1</td>\n",
              "    </tr>\n",
              "    <tr>\n",
              "      <th>15</th>\n",
              "      <td>Arizona (AZ)</td>\n",
              "      <td>6945</td>\n",
              "      <td>58975013</td>\n",
              "      <td>4929687</td>\n",
              "      <td>8.4</td>\n",
              "      <td>2261558</td>\n",
              "      <td>45.9</td>\n",
              "      <td>983419</td>\n",
              "      <td>19.9</td>\n",
              "      <td>1684710</td>\n",
              "      <td>34.2</td>\n",
              "    </tr>\n",
              "    <tr>\n",
              "      <th>20</th>\n",
              "      <td>Arkansas (AR)</td>\n",
              "      <td>2990</td>\n",
              "      <td>27299957</td>\n",
              "      <td>1507133</td>\n",
              "      <td>5.5</td>\n",
              "      <td>691059</td>\n",
              "      <td>45.9</td>\n",
              "      <td>220343</td>\n",
              "      <td>14.6</td>\n",
              "      <td>595731</td>\n",
              "      <td>39.5</td>\n",
              "    </tr>\n",
              "    <tr>\n",
              "      <th>25</th>\n",
              "      <td>California (CA)</td>\n",
              "      <td>39209</td>\n",
              "      <td>532948138</td>\n",
              "      <td>41714177</td>\n",
              "      <td>7.8</td>\n",
              "      <td>17570133</td>\n",
              "      <td>42.1</td>\n",
              "      <td>8675761</td>\n",
              "      <td>20.8</td>\n",
              "      <td>15468283</td>\n",
              "      <td>37.1</td>\n",
              "    </tr>\n",
              "    <tr>\n",
              "      <th>30</th>\n",
              "      <td>Colorado (CO)</td>\n",
              "      <td>5541</td>\n",
              "      <td>57293994</td>\n",
              "      <td>3940585</td>\n",
              "      <td>6.9</td>\n",
              "      <td>1873320</td>\n",
              "      <td>47.5</td>\n",
              "      <td>754162</td>\n",
              "      <td>19.1</td>\n",
              "      <td>1313103</td>\n",
              "      <td>33.3</td>\n",
              "    </tr>\n",
              "    <tr>\n",
              "      <th>35</th>\n",
              "      <td>Connecticut (CT)</td>\n",
              "      <td>3579</td>\n",
              "      <td>45649898</td>\n",
              "      <td>2748059</td>\n",
              "      <td>6.0</td>\n",
              "      <td>1236997</td>\n",
              "      <td>45.0</td>\n",
              "      <td>826903</td>\n",
              "      <td>30.1</td>\n",
              "      <td>684159</td>\n",
              "      <td>24.9</td>\n",
              "    </tr>\n",
              "    <tr>\n",
              "      <th>39</th>\n",
              "      <td>Delaware (DE)</td>\n",
              "      <td>949</td>\n",
              "      <td>11413711</td>\n",
              "      <td>864358</td>\n",
              "      <td>7.6</td>\n",
              "      <td>348027</td>\n",
              "      <td>40.3</td>\n",
              "      <td>207990</td>\n",
              "      <td>24.1</td>\n",
              "      <td>308341</td>\n",
              "      <td>35.7</td>\n",
              "    </tr>\n",
              "    <tr>\n",
              "      <th>44</th>\n",
              "      <td>District of Columbia</td>\n",
              "      <td>687</td>\n",
              "      <td>16593661</td>\n",
              "      <td>870775</td>\n",
              "      <td>5.2</td>\n",
              "      <td>593345</td>\n",
              "      <td>68.1</td>\n",
              "      <td>132515</td>\n",
              "      <td>15.2</td>\n",
              "      <td>144915</td>\n",
              "      <td>16.6</td>\n",
              "    </tr>\n",
              "  </tbody>\n",
              "</table>\n",
              "</div>"
            ],
            "text/plain": [
              "                   state population_k  ...  corrections_amount  corrections_percent\n",
              "0    States-local, total       323071  ...            78016725                 33.4\n",
              "5           Alabama (AL)         4865  ...              722269                 30.9\n",
              "10           Alaska (AK)          742  ...              338005                 35.1\n",
              "15          Arizona (AZ)         6945  ...             1684710                 34.2\n",
              "20         Arkansas (AR)         2990  ...              595731                 39.5\n",
              "25       California (CA)        39209  ...            15468283                 37.1\n",
              "30         Colorado (CO)         5541  ...             1313103                 33.3\n",
              "35      Connecticut (CT)         3579  ...              684159                 24.9\n",
              "39         Delaware (DE)          949  ...              308341                 35.7\n",
              "44  District of Columbia          687  ...              144915                 16.6\n",
              "\n",
              "[10 rows x 11 columns]"
            ]
          },
          "metadata": {
            "tags": []
          },
          "execution_count": 7
        }
      ]
    },
    {
      "cell_type": "code",
      "metadata": {
        "colab": {
          "base_uri": "https://localhost:8080/"
        },
        "id": "vmDkYPxrYFVB",
        "outputId": "7f9b830e-0871-496a-d088-029b1b0c1875"
      },
      "source": [
        "# Check if any of the column contains missing value NaN\n",
        "df_jee03.isna().sum(axis=0)"
      ],
      "execution_count": null,
      "outputs": [
        {
          "output_type": "execute_result",
          "data": {
            "text/plain": [
              "state                           0\n",
              "population_k                    0\n",
              "total_direct_expenditure        0\n",
              "total_justice_system_amount     0\n",
              "total_justice_system_percent    0\n",
              "police_protection_amount        0\n",
              "police_protection_percent_      0\n",
              "judician_and_legal_amount       0\n",
              "judicial_and_legal_percent      0\n",
              "corrections_amount              0\n",
              "corrections_percent             0\n",
              "dtype: int64"
            ]
          },
          "metadata": {
            "tags": []
          },
          "execution_count": 8
        }
      ]
    },
    {
      "cell_type": "code",
      "metadata": {
        "colab": {
          "base_uri": "https://localhost:8080/"
        },
        "id": "NLk_uWnPZkTf",
        "outputId": "22abf006-9fdd-4c40-e3a2-40cb4d88634e"
      },
      "source": [
        "# Check if any of the column contains NULL value\n",
        "df_jee03.isnull().sum(axis=0)"
      ],
      "execution_count": null,
      "outputs": [
        {
          "output_type": "execute_result",
          "data": {
            "text/plain": [
              "state                           0\n",
              "population_k                    0\n",
              "total_direct_expenditure        0\n",
              "total_justice_system_amount     0\n",
              "total_justice_system_percent    0\n",
              "police_protection_amount        0\n",
              "police_protection_percent_      0\n",
              "judician_and_legal_amount       0\n",
              "judicial_and_legal_percent      0\n",
              "corrections_amount              0\n",
              "corrections_percent             0\n",
              "dtype: int64"
            ]
          },
          "metadata": {
            "tags": []
          },
          "execution_count": 9
        }
      ]
    },
    {
      "cell_type": "markdown",
      "metadata": {
        "id": "AY-NueDvZVX4"
      },
      "source": [
        "None of the column containes any missing or null value."
      ]
    },
    {
      "cell_type": "code",
      "metadata": {
        "colab": {
          "base_uri": "https://localhost:8080/"
        },
        "id": "E1hzd7Jh4eNp",
        "outputId": "2e0e560e-b98a-4902-dae8-e1f9673ba23a"
      },
      "source": [
        "df_jee03.shape"
      ],
      "execution_count": null,
      "outputs": [
        {
          "output_type": "execute_result",
          "data": {
            "text/plain": [
              "(52, 11)"
            ]
          },
          "metadata": {
            "tags": []
          },
          "execution_count": 10
        }
      ]
    },
    {
      "cell_type": "code",
      "metadata": {
        "colab": {
          "base_uri": "https://localhost:8080/",
          "height": 522
        },
        "id": "7nJHkcp5YMCF",
        "outputId": "e651b238-586a-422e-9034-f83ef215c577"
      },
      "source": [
        "# Reset index from 0 as records are dropped.\n",
        "df_jee03.reset_index(drop=True, inplace=True)\n",
        "df_jee03.head(10)"
      ],
      "execution_count": null,
      "outputs": [
        {
          "output_type": "execute_result",
          "data": {
            "text/html": [
              "<div>\n",
              "<style scoped>\n",
              "    .dataframe tbody tr th:only-of-type {\n",
              "        vertical-align: middle;\n",
              "    }\n",
              "\n",
              "    .dataframe tbody tr th {\n",
              "        vertical-align: top;\n",
              "    }\n",
              "\n",
              "    .dataframe thead th {\n",
              "        text-align: right;\n",
              "    }\n",
              "</style>\n",
              "<table border=\"1\" class=\"dataframe\">\n",
              "  <thead>\n",
              "    <tr style=\"text-align: right;\">\n",
              "      <th></th>\n",
              "      <th>state</th>\n",
              "      <th>population_k</th>\n",
              "      <th>total_direct_expenditure</th>\n",
              "      <th>total_justice_system_amount</th>\n",
              "      <th>total_justice_system_percent</th>\n",
              "      <th>police_protection_amount</th>\n",
              "      <th>police_protection_percent_</th>\n",
              "      <th>judician_and_legal_amount</th>\n",
              "      <th>judicial_and_legal_percent</th>\n",
              "      <th>corrections_amount</th>\n",
              "      <th>corrections_percent</th>\n",
              "    </tr>\n",
              "  </thead>\n",
              "  <tbody>\n",
              "    <tr>\n",
              "      <th>0</th>\n",
              "      <td>States-local, total</td>\n",
              "      <td>323071</td>\n",
              "      <td>3514583394</td>\n",
              "      <td>233483760</td>\n",
              "      <td>6.6</td>\n",
              "      <td>109210078</td>\n",
              "      <td>46.8</td>\n",
              "      <td>46256957</td>\n",
              "      <td>19.8</td>\n",
              "      <td>78016725</td>\n",
              "      <td>33.4</td>\n",
              "    </tr>\n",
              "    <tr>\n",
              "      <th>1</th>\n",
              "      <td>Alabama (AL)</td>\n",
              "      <td>4865</td>\n",
              "      <td>45277563</td>\n",
              "      <td>2335599</td>\n",
              "      <td>5.2</td>\n",
              "      <td>1251270</td>\n",
              "      <td>53.6</td>\n",
              "      <td>362060</td>\n",
              "      <td>15.5</td>\n",
              "      <td>722269</td>\n",
              "      <td>30.9</td>\n",
              "    </tr>\n",
              "    <tr>\n",
              "      <th>2</th>\n",
              "      <td>Alaska (AK)</td>\n",
              "      <td>742</td>\n",
              "      <td>15808697</td>\n",
              "      <td>962214</td>\n",
              "      <td>6.1</td>\n",
              "      <td>370209</td>\n",
              "      <td>38.5</td>\n",
              "      <td>254000</td>\n",
              "      <td>26.4</td>\n",
              "      <td>338005</td>\n",
              "      <td>35.1</td>\n",
              "    </tr>\n",
              "    <tr>\n",
              "      <th>3</th>\n",
              "      <td>Arizona (AZ)</td>\n",
              "      <td>6945</td>\n",
              "      <td>58975013</td>\n",
              "      <td>4929687</td>\n",
              "      <td>8.4</td>\n",
              "      <td>2261558</td>\n",
              "      <td>45.9</td>\n",
              "      <td>983419</td>\n",
              "      <td>19.9</td>\n",
              "      <td>1684710</td>\n",
              "      <td>34.2</td>\n",
              "    </tr>\n",
              "    <tr>\n",
              "      <th>4</th>\n",
              "      <td>Arkansas (AR)</td>\n",
              "      <td>2990</td>\n",
              "      <td>27299957</td>\n",
              "      <td>1507133</td>\n",
              "      <td>5.5</td>\n",
              "      <td>691059</td>\n",
              "      <td>45.9</td>\n",
              "      <td>220343</td>\n",
              "      <td>14.6</td>\n",
              "      <td>595731</td>\n",
              "      <td>39.5</td>\n",
              "    </tr>\n",
              "    <tr>\n",
              "      <th>5</th>\n",
              "      <td>California (CA)</td>\n",
              "      <td>39209</td>\n",
              "      <td>532948138</td>\n",
              "      <td>41714177</td>\n",
              "      <td>7.8</td>\n",
              "      <td>17570133</td>\n",
              "      <td>42.1</td>\n",
              "      <td>8675761</td>\n",
              "      <td>20.8</td>\n",
              "      <td>15468283</td>\n",
              "      <td>37.1</td>\n",
              "    </tr>\n",
              "    <tr>\n",
              "      <th>6</th>\n",
              "      <td>Colorado (CO)</td>\n",
              "      <td>5541</td>\n",
              "      <td>57293994</td>\n",
              "      <td>3940585</td>\n",
              "      <td>6.9</td>\n",
              "      <td>1873320</td>\n",
              "      <td>47.5</td>\n",
              "      <td>754162</td>\n",
              "      <td>19.1</td>\n",
              "      <td>1313103</td>\n",
              "      <td>33.3</td>\n",
              "    </tr>\n",
              "    <tr>\n",
              "      <th>7</th>\n",
              "      <td>Connecticut (CT)</td>\n",
              "      <td>3579</td>\n",
              "      <td>45649898</td>\n",
              "      <td>2748059</td>\n",
              "      <td>6.0</td>\n",
              "      <td>1236997</td>\n",
              "      <td>45.0</td>\n",
              "      <td>826903</td>\n",
              "      <td>30.1</td>\n",
              "      <td>684159</td>\n",
              "      <td>24.9</td>\n",
              "    </tr>\n",
              "    <tr>\n",
              "      <th>8</th>\n",
              "      <td>Delaware (DE)</td>\n",
              "      <td>949</td>\n",
              "      <td>11413711</td>\n",
              "      <td>864358</td>\n",
              "      <td>7.6</td>\n",
              "      <td>348027</td>\n",
              "      <td>40.3</td>\n",
              "      <td>207990</td>\n",
              "      <td>24.1</td>\n",
              "      <td>308341</td>\n",
              "      <td>35.7</td>\n",
              "    </tr>\n",
              "    <tr>\n",
              "      <th>9</th>\n",
              "      <td>District of Columbia</td>\n",
              "      <td>687</td>\n",
              "      <td>16593661</td>\n",
              "      <td>870775</td>\n",
              "      <td>5.2</td>\n",
              "      <td>593345</td>\n",
              "      <td>68.1</td>\n",
              "      <td>132515</td>\n",
              "      <td>15.2</td>\n",
              "      <td>144915</td>\n",
              "      <td>16.6</td>\n",
              "    </tr>\n",
              "  </tbody>\n",
              "</table>\n",
              "</div>"
            ],
            "text/plain": [
              "                  state population_k  ...  corrections_amount  corrections_percent\n",
              "0   States-local, total       323071  ...            78016725                 33.4\n",
              "1          Alabama (AL)         4865  ...              722269                 30.9\n",
              "2           Alaska (AK)          742  ...              338005                 35.1\n",
              "3          Arizona (AZ)         6945  ...             1684710                 34.2\n",
              "4         Arkansas (AR)         2990  ...              595731                 39.5\n",
              "5       California (CA)        39209  ...            15468283                 37.1\n",
              "6         Colorado (CO)         5541  ...             1313103                 33.3\n",
              "7      Connecticut (CT)         3579  ...              684159                 24.9\n",
              "8         Delaware (DE)          949  ...              308341                 35.7\n",
              "9  District of Columbia          687  ...              144915                 16.6\n",
              "\n",
              "[10 rows x 11 columns]"
            ]
          },
          "metadata": {
            "tags": []
          },
          "execution_count": 11
        }
      ]
    },
    {
      "cell_type": "code",
      "metadata": {
        "colab": {
          "base_uri": "https://localhost:8080/",
          "height": 505
        },
        "id": "iHmc9TrNZzhw",
        "outputId": "296ee0e6-ff4c-4b0d-fc09-166e63d52758"
      },
      "source": [
        "# delete first index as its not state level record\n",
        "df_jee03.drop(index=0,inplace=True)\n",
        "df_jee03.head(10)"
      ],
      "execution_count": null,
      "outputs": [
        {
          "output_type": "execute_result",
          "data": {
            "text/html": [
              "<div>\n",
              "<style scoped>\n",
              "    .dataframe tbody tr th:only-of-type {\n",
              "        vertical-align: middle;\n",
              "    }\n",
              "\n",
              "    .dataframe tbody tr th {\n",
              "        vertical-align: top;\n",
              "    }\n",
              "\n",
              "    .dataframe thead th {\n",
              "        text-align: right;\n",
              "    }\n",
              "</style>\n",
              "<table border=\"1\" class=\"dataframe\">\n",
              "  <thead>\n",
              "    <tr style=\"text-align: right;\">\n",
              "      <th></th>\n",
              "      <th>state</th>\n",
              "      <th>population_k</th>\n",
              "      <th>total_direct_expenditure</th>\n",
              "      <th>total_justice_system_amount</th>\n",
              "      <th>total_justice_system_percent</th>\n",
              "      <th>police_protection_amount</th>\n",
              "      <th>police_protection_percent_</th>\n",
              "      <th>judician_and_legal_amount</th>\n",
              "      <th>judicial_and_legal_percent</th>\n",
              "      <th>corrections_amount</th>\n",
              "      <th>corrections_percent</th>\n",
              "    </tr>\n",
              "  </thead>\n",
              "  <tbody>\n",
              "    <tr>\n",
              "      <th>1</th>\n",
              "      <td>Alabama (AL)</td>\n",
              "      <td>4865</td>\n",
              "      <td>45277563</td>\n",
              "      <td>2335599</td>\n",
              "      <td>5.2</td>\n",
              "      <td>1251270</td>\n",
              "      <td>53.6</td>\n",
              "      <td>362060</td>\n",
              "      <td>15.5</td>\n",
              "      <td>722269</td>\n",
              "      <td>30.9</td>\n",
              "    </tr>\n",
              "    <tr>\n",
              "      <th>2</th>\n",
              "      <td>Alaska (AK)</td>\n",
              "      <td>742</td>\n",
              "      <td>15808697</td>\n",
              "      <td>962214</td>\n",
              "      <td>6.1</td>\n",
              "      <td>370209</td>\n",
              "      <td>38.5</td>\n",
              "      <td>254000</td>\n",
              "      <td>26.4</td>\n",
              "      <td>338005</td>\n",
              "      <td>35.1</td>\n",
              "    </tr>\n",
              "    <tr>\n",
              "      <th>3</th>\n",
              "      <td>Arizona (AZ)</td>\n",
              "      <td>6945</td>\n",
              "      <td>58975013</td>\n",
              "      <td>4929687</td>\n",
              "      <td>8.4</td>\n",
              "      <td>2261558</td>\n",
              "      <td>45.9</td>\n",
              "      <td>983419</td>\n",
              "      <td>19.9</td>\n",
              "      <td>1684710</td>\n",
              "      <td>34.2</td>\n",
              "    </tr>\n",
              "    <tr>\n",
              "      <th>4</th>\n",
              "      <td>Arkansas (AR)</td>\n",
              "      <td>2990</td>\n",
              "      <td>27299957</td>\n",
              "      <td>1507133</td>\n",
              "      <td>5.5</td>\n",
              "      <td>691059</td>\n",
              "      <td>45.9</td>\n",
              "      <td>220343</td>\n",
              "      <td>14.6</td>\n",
              "      <td>595731</td>\n",
              "      <td>39.5</td>\n",
              "    </tr>\n",
              "    <tr>\n",
              "      <th>5</th>\n",
              "      <td>California (CA)</td>\n",
              "      <td>39209</td>\n",
              "      <td>532948138</td>\n",
              "      <td>41714177</td>\n",
              "      <td>7.8</td>\n",
              "      <td>17570133</td>\n",
              "      <td>42.1</td>\n",
              "      <td>8675761</td>\n",
              "      <td>20.8</td>\n",
              "      <td>15468283</td>\n",
              "      <td>37.1</td>\n",
              "    </tr>\n",
              "    <tr>\n",
              "      <th>6</th>\n",
              "      <td>Colorado (CO)</td>\n",
              "      <td>5541</td>\n",
              "      <td>57293994</td>\n",
              "      <td>3940585</td>\n",
              "      <td>6.9</td>\n",
              "      <td>1873320</td>\n",
              "      <td>47.5</td>\n",
              "      <td>754162</td>\n",
              "      <td>19.1</td>\n",
              "      <td>1313103</td>\n",
              "      <td>33.3</td>\n",
              "    </tr>\n",
              "    <tr>\n",
              "      <th>7</th>\n",
              "      <td>Connecticut (CT)</td>\n",
              "      <td>3579</td>\n",
              "      <td>45649898</td>\n",
              "      <td>2748059</td>\n",
              "      <td>6.0</td>\n",
              "      <td>1236997</td>\n",
              "      <td>45.0</td>\n",
              "      <td>826903</td>\n",
              "      <td>30.1</td>\n",
              "      <td>684159</td>\n",
              "      <td>24.9</td>\n",
              "    </tr>\n",
              "    <tr>\n",
              "      <th>8</th>\n",
              "      <td>Delaware (DE)</td>\n",
              "      <td>949</td>\n",
              "      <td>11413711</td>\n",
              "      <td>864358</td>\n",
              "      <td>7.6</td>\n",
              "      <td>348027</td>\n",
              "      <td>40.3</td>\n",
              "      <td>207990</td>\n",
              "      <td>24.1</td>\n",
              "      <td>308341</td>\n",
              "      <td>35.7</td>\n",
              "    </tr>\n",
              "    <tr>\n",
              "      <th>9</th>\n",
              "      <td>District of Columbia</td>\n",
              "      <td>687</td>\n",
              "      <td>16593661</td>\n",
              "      <td>870775</td>\n",
              "      <td>5.2</td>\n",
              "      <td>593345</td>\n",
              "      <td>68.1</td>\n",
              "      <td>132515</td>\n",
              "      <td>15.2</td>\n",
              "      <td>144915</td>\n",
              "      <td>16.6</td>\n",
              "    </tr>\n",
              "    <tr>\n",
              "      <th>10</th>\n",
              "      <td>Florida (FL)</td>\n",
              "      <td>20630</td>\n",
              "      <td>167229459</td>\n",
              "      <td>14463341</td>\n",
              "      <td>8.6</td>\n",
              "      <td>7848477</td>\n",
              "      <td>54.3</td>\n",
              "      <td>2366274</td>\n",
              "      <td>16.4</td>\n",
              "      <td>4248590</td>\n",
              "      <td>29.4</td>\n",
              "    </tr>\n",
              "  </tbody>\n",
              "</table>\n",
              "</div>"
            ],
            "text/plain": [
              "                   state population_k  ...  corrections_amount  corrections_percent\n",
              "1           Alabama (AL)         4865  ...              722269                 30.9\n",
              "2            Alaska (AK)          742  ...              338005                 35.1\n",
              "3           Arizona (AZ)         6945  ...             1684710                 34.2\n",
              "4          Arkansas (AR)         2990  ...              595731                 39.5\n",
              "5        California (CA)        39209  ...            15468283                 37.1\n",
              "6          Colorado (CO)         5541  ...             1313103                 33.3\n",
              "7       Connecticut (CT)         3579  ...              684159                 24.9\n",
              "8          Delaware (DE)          949  ...              308341                 35.7\n",
              "9   District of Columbia          687  ...              144915                 16.6\n",
              "10          Florida (FL)        20630  ...             4248590                 29.4\n",
              "\n",
              "[10 rows x 11 columns]"
            ]
          },
          "metadata": {
            "tags": []
          },
          "execution_count": 12
        }
      ]
    },
    {
      "cell_type": "code",
      "metadata": {
        "colab": {
          "base_uri": "https://localhost:8080/"
        },
        "id": "wr1FFJ0qaK5N",
        "outputId": "3e7ceb43-2bee-48d8-cc72-a6d18972b0f8"
      },
      "source": [
        "# check the data type of each field\n",
        "df_jee03.dtypes"
      ],
      "execution_count": null,
      "outputs": [
        {
          "output_type": "execute_result",
          "data": {
            "text/plain": [
              "state                            object\n",
              "population_k                     object\n",
              "total_direct_expenditure          int64\n",
              "total_justice_system_amount       int64\n",
              "total_justice_system_percent    float64\n",
              "police_protection_amount          int64\n",
              "police_protection_percent_      float64\n",
              "judician_and_legal_amount         int64\n",
              "judicial_and_legal_percent      float64\n",
              "corrections_amount                int64\n",
              "corrections_percent             float64\n",
              "dtype: object"
            ]
          },
          "metadata": {
            "tags": []
          },
          "execution_count": 13
        }
      ]
    },
    {
      "cell_type": "code",
      "metadata": {
        "colab": {
          "base_uri": "https://localhost:8080/"
        },
        "id": "bfDWoCR8a2vP",
        "outputId": "32dfe6db-d798-4891-f990-642d006ae2a2"
      },
      "source": [
        "# coverting population_k to numeric type\n",
        "df_jee03['population_k'] = df_jee03['population_k'].apply(pd.to_numeric)\n",
        "df_jee03.dtypes"
      ],
      "execution_count": null,
      "outputs": [
        {
          "output_type": "execute_result",
          "data": {
            "text/plain": [
              "state                            object\n",
              "population_k                      int64\n",
              "total_direct_expenditure          int64\n",
              "total_justice_system_amount       int64\n",
              "total_justice_system_percent    float64\n",
              "police_protection_amount          int64\n",
              "police_protection_percent_      float64\n",
              "judician_and_legal_amount         int64\n",
              "judicial_and_legal_percent      float64\n",
              "corrections_amount                int64\n",
              "corrections_percent             float64\n",
              "dtype: object"
            ]
          },
          "metadata": {
            "tags": []
          },
          "execution_count": 14
        }
      ]
    },
    {
      "cell_type": "code",
      "metadata": {
        "id": "IAjDw3mbcFK-"
      },
      "source": [
        "import re\n",
        "# Remove any any text starting from parenthisis \"(\"\" to end using regex\n",
        "df_jee03['state'] = df_jee03['state'].apply(lambda x: re.sub(\"\\\\(.*\", \"\",x))"
      ],
      "execution_count": null,
      "outputs": []
    },
    {
      "cell_type": "code",
      "metadata": {
        "colab": {
          "base_uri": "https://localhost:8080/"
        },
        "id": "bDGN7kT8fXou",
        "outputId": "afa1a482-2379-443c-9482-b4653fab94be"
      },
      "source": [
        "df_jee03['state'].head()"
      ],
      "execution_count": null,
      "outputs": [
        {
          "output_type": "execute_result",
          "data": {
            "text/plain": [
              "1       Alabama \n",
              "2        Alaska \n",
              "3       Arizona \n",
              "4      Arkansas \n",
              "5    California \n",
              "Name: state, dtype: object"
            ]
          },
          "metadata": {
            "tags": []
          },
          "execution_count": 16
        }
      ]
    },
    {
      "cell_type": "code",
      "metadata": {
        "colab": {
          "base_uri": "https://localhost:8080/"
        },
        "id": "xPKlJKCAgK4k",
        "outputId": "c65c1f5a-12ca-4b5f-d35e-29aaf9366688"
      },
      "source": [
        "# Removing any leading and trailing spaces and coverting state names to uppercase\n",
        "df_jee03['state'] = df_jee03['state'].str.strip()\n",
        "df_jee03['state'] = df_jee03['state'].str.upper()\n",
        "df_jee03['state'].head()"
      ],
      "execution_count": null,
      "outputs": [
        {
          "output_type": "execute_result",
          "data": {
            "text/plain": [
              "1       ALABAMA\n",
              "2        ALASKA\n",
              "3       ARIZONA\n",
              "4      ARKANSAS\n",
              "5    CALIFORNIA\n",
              "Name: state, dtype: object"
            ]
          },
          "metadata": {
            "tags": []
          },
          "execution_count": 17
        }
      ]
    },
    {
      "cell_type": "markdown",
      "metadata": {
        "id": "vIYJ0gwKUrAH"
      },
      "source": [
        "# Milestone 3\n",
        "\n",
        "Cleaning/Formatting Website Data\n",
        "Perform at least 5 data transformation and/or cleansing steps to your website data. For example:\n",
        "* Replace Headers\n",
        "* Format data into a more readable format\n",
        "* Identify outliers and bad data\n",
        "* Find duplicates\n",
        "* Fix casing or inconsistent values\n",
        "* Conduct Fuzzy Matching\n",
        "\n",
        "For WebSite data source I have chose  Public dataset on Crime for fiscal 2016 from FBI - https://ucr.fbi.gov/crime-in-the-u.s/2016/crime-in-the-u.s.-2016/tables/table-3\n",
        "\n",
        "Lets fetch this data. I will use beautiful soup library to scrape that data."
      ]
    },
    {
      "cell_type": "code",
      "metadata": {
        "colab": {
          "base_uri": "https://localhost:8080/"
        },
        "id": "qNjnhYtfV97-",
        "outputId": "e4f59cc2-1684-4417-ea77-123f642066ce"
      },
      "source": [
        "from bs4 import BeautifulSoup\n",
        "import requests\n",
        "\n",
        "resp = requests.get(\"https://ucr.fbi.gov/crime-in-the-u.s/2016/crime-in-the-u.s.-2016/tables/table-3\")\n",
        "respTxt = resp.text\n",
        "# printing first 500 characters of html page\n",
        "print(respTxt[:500])"
      ],
      "execution_count": null,
      "outputs": [
        {
          "output_type": "stream",
          "text": [
            "<!DOCTYPE html PUBLIC \"-//W3C//DTD XHTML 1.0 Transitional//EN\" \"http://www.w3.org/TR/xhtml1/DTD/xhtml1-transitional.dtd\"><html xmlns=\"http://www.w3.org/1999/xhtml\" lang=\"en-us\" xml:lang=\"en-us\">\n",
            "<head>\n",
            "<base href=\"https://ucr.fbi.gov/crime-in-the-u.s/2016/crime-in-the-u.s.-2016/tables/table-3/table-3.xls\" /><title>FBI — Table 3</title>\n",
            "<meta charset=\"utf-8\" />\n",
            "<meta http-equiv=\"x-ua-compatible\" content=\"ie=edge\" />\n",
            "\n",
            "<link rel=\"shortcut icon\" type=\"image/x-icon\" href=\"img/favicon.ico\" />\n",
            "<link re\n"
          ],
          "name": "stdout"
        }
      ]
    },
    {
      "cell_type": "code",
      "metadata": {
        "id": "12RVn3Eray9Q"
      },
      "source": [
        "soup = BeautifulSoup(respTxt)"
      ],
      "execution_count": null,
      "outputs": []
    },
    {
      "cell_type": "markdown",
      "metadata": {
        "id": "umBcUAJHbsFk"
      },
      "source": [
        "Inspecting the web page in chrome developer view shows that the table where data is present has CSS class as \"data\". Hence filtering the table with css tag."
      ]
    },
    {
      "cell_type": "code",
      "metadata": {
        "id": "RhIEb7i4b8Cf"
      },
      "source": [
        "data_table = soup.find(\"table\", {\"class\": \"data\"})"
      ],
      "execution_count": null,
      "outputs": []
    },
    {
      "cell_type": "code",
      "metadata": {
        "colab": {
          "base_uri": "https://localhost:8080/"
        },
        "id": "aMC2N06bdgBE",
        "outputId": "e57482e7-fa9c-4709-d69a-77e49fae3c65"
      },
      "source": [
        "# The field names of data are in row within <thead> html tag.\n",
        "# Extracting fields names which will be used as column names in datafarme\n",
        "headers = data_table.thead.findAll('tr', recursive=False)[0]\n",
        "column_names = [th.text for th in headers.findAll('th')]\n",
        "column_names"
      ],
      "execution_count": null,
      "outputs": [
        {
          "output_type": "execute_result",
          "data": {
            "text/plain": [
              "['\\nState',\n",
              " '\\nArea',\n",
              " '\\n',\n",
              " '\\nPopulation',\n",
              " '\\nViolentcrime1',\n",
              " '\\nMurder and nonnegligent manslaughter',\n",
              " '\\nRape(reviseddefinition2) ',\n",
              " '\\nRape(legacydefinition3)',\n",
              " '\\nRobbery',\n",
              " '\\nAggravated assault',\n",
              " '\\nProperty crime',\n",
              " '\\nBurglary',\n",
              " '\\nLarceny-theft',\n",
              " '\\nMotor vehicle theft']"
            ]
          },
          "metadata": {
            "tags": []
          },
          "execution_count": 21
        }
      ]
    },
    {
      "cell_type": "markdown",
      "metadata": {
        "id": "XTP3h5jdfYJf"
      },
      "source": [
        "Column names contains extra \\n at the begining. I will perform following cleanup on column names\n",
        "* Remove \"\\n\" from the begining of name\n",
        "* Replace spaces \" \" and parentheis \"(\" and dashes \"-\" with _ (underscores)\n",
        "* Change the case of names to lowercase   "
      ]
    },
    {
      "cell_type": "markdown",
      "metadata": {
        "id": "Eb7sTXO6g_vE"
      },
      "source": [
        ""
      ]
    },
    {
      "cell_type": "code",
      "metadata": {
        "colab": {
          "base_uri": "https://localhost:8080/"
        },
        "id": "CbD8gCm1hggF",
        "outputId": "2ba5d145-daaa-4dd6-fd1e-d68d7db2074e"
      },
      "source": [
        "def naming_convention(name):\n",
        "   char_to_replace = {\n",
        "       \" \":\"_\",\n",
        "       \"-\":\"_\",\n",
        "       \"(\":\"_\",\n",
        "       \")\":\"_\"\n",
        "   }\n",
        "   better_name = name.strip().lower()\n",
        "   # Replace string place holders according to values in dictionary \n",
        "   better_name = better_name.translate(str.maketrans(char_to_replace))\n",
        "   return better_name.rstrip('_')\n",
        "\n",
        "new_column_names = [naming_convention(x) for x in column_names]\n",
        "new_column_names"
      ],
      "execution_count": null,
      "outputs": [
        {
          "output_type": "execute_result",
          "data": {
            "text/plain": [
              "['state',\n",
              " 'area',\n",
              " '',\n",
              " 'population',\n",
              " 'violentcrime1',\n",
              " 'murder_and_nonnegligent_manslaughter',\n",
              " 'rape_reviseddefinition2',\n",
              " 'rape_legacydefinition3',\n",
              " 'robbery',\n",
              " 'aggravated_assault',\n",
              " 'property_crime',\n",
              " 'burglary',\n",
              " 'larceny_theft',\n",
              " 'motor_vehicle_theft']"
            ]
          },
          "metadata": {
            "tags": []
          },
          "execution_count": 22
        }
      ]
    },
    {
      "cell_type": "markdown",
      "metadata": {
        "id": "GNywqZP_qCOJ"
      },
      "source": [
        "Some of the key observations looking at the HTML page of website\n",
        "* The data is not plain tabular\n",
        "* The data contains lot of hierachial elements\n",
        "* The 2nd column \"Area\" shows different scoped values i.e. Metropolitan area, cities outside metropolitan area and Non-metropolitan counties. At the bottom it shows state Total which is of our interest \n",
        "* The 3rd column of HTML is more of remark kind of column with some information\n",
        "\n",
        "\n"
      ]
    },
    {
      "cell_type": "code",
      "metadata": {
        "colab": {
          "base_uri": "https://localhost:8080/"
        },
        "id": "jkqklX0YHi1m",
        "outputId": "1b38f497-efb4-4707-cfb6-717a6e57aa8a"
      },
      "source": [
        "# Removing empty column and Area column from list\n",
        "invalid_columns = {'area',''}\n",
        "new_column_names = [ele for ele in new_column_names if ele not in invalid_columns]\n",
        "new_column_names"
      ],
      "execution_count": null,
      "outputs": [
        {
          "output_type": "execute_result",
          "data": {
            "text/plain": [
              "['state',\n",
              " 'population',\n",
              " 'violentcrime1',\n",
              " 'murder_and_nonnegligent_manslaughter',\n",
              " 'rape_reviseddefinition2',\n",
              " 'rape_legacydefinition3',\n",
              " 'robbery',\n",
              " 'aggravated_assault',\n",
              " 'property_crime',\n",
              " 'burglary',\n",
              " 'larceny_theft',\n",
              " 'motor_vehicle_theft']"
            ]
          },
          "metadata": {
            "tags": []
          },
          "execution_count": 63
        }
      ]
    },
    {
      "cell_type": "markdown",
      "metadata": {
        "id": "BBOzVyF6HkOR"
      },
      "source": [
        "Looking very carefully for data extraction purpose, I can conclude that\n",
        "* Each state name is inside <b> tags i.e <b>ALABAMA</b> and so on\n",
        "* Final data of our interest is in BOLD (i.e. stylesheet class name bold)"
      ]
    },
    {
      "cell_type": "code",
      "metadata": {
        "colab": {
          "base_uri": "https://localhost:8080/"
        },
        "id": "uiDFyDtRy0NN",
        "outputId": "0fb189d5-0670-4b76-aedc-c20fdaac1284"
      },
      "source": [
        "b_list = data_table.tbody.findAll('b')\n",
        "state_list = list(map(lambda x: x.text,b_list))\n",
        "state_list[:10]"
      ],
      "execution_count": null,
      "outputs": [
        {
          "output_type": "execute_result",
          "data": {
            "text/plain": [
              "['ALABAMA',\n",
              " 'State Total',\n",
              " '',\n",
              " 'ALASKA',\n",
              " 'State Total',\n",
              " '',\n",
              " 'ARIZONA',\n",
              " 'State Total',\n",
              " '',\n",
              " 'ARKANSAS']"
            ]
          },
          "metadata": {
            "tags": []
          },
          "execution_count": 56
        }
      ]
    },
    {
      "cell_type": "markdown",
      "metadata": {
        "id": "kyrRK_KZE6FV"
      },
      "source": [
        "There are lot of invalid values in State list. Lets identify the invalid name patterns and clean up the list."
      ]
    },
    {
      "cell_type": "code",
      "metadata": {
        "colab": {
          "base_uri": "https://localhost:8080/"
        },
        "id": "byjIbIPIEyo1",
        "outputId": "28575dfc-cc25-42cb-b48e-c9a03d381fc2"
      },
      "source": [
        "invalid_vals = {'',' ','State Total','Total','1','2','3','4','5','6','7','8','9','0'}\n",
        "state_names = [ele for ele in state_list if ele not in invalid_vals]\n",
        "state_names"
      ],
      "execution_count": null,
      "outputs": [
        {
          "output_type": "execute_result",
          "data": {
            "text/plain": [
              "['ALABAMA',\n",
              " 'ALASKA',\n",
              " 'ARIZONA',\n",
              " 'ARKANSAS',\n",
              " 'CALIFORNIA',\n",
              " 'COLORADO',\n",
              " 'CONNECTICUT',\n",
              " 'DELAWARE',\n",
              " 'DISTRICT OF COLUMBIA',\n",
              " 'FLORIDA',\n",
              " 'GEORGIA',\n",
              " 'HAWAII',\n",
              " 'IDAHO',\n",
              " 'ILLINOIS',\n",
              " 'INDIANA',\n",
              " 'IOWA',\n",
              " 'KANSAS',\n",
              " 'KENTUCKY',\n",
              " 'LOUISIANA',\n",
              " 'MAINE',\n",
              " 'MARYLAND',\n",
              " 'MASSACHUSETTS',\n",
              " 'MICHIGAN',\n",
              " 'MINNESOTA',\n",
              " 'MISSISSIPPI',\n",
              " 'MISSOURI',\n",
              " 'MONTANA',\n",
              " 'NEBRASKA',\n",
              " 'NEVADA',\n",
              " 'NEW HAMPSHIRE',\n",
              " 'NEW JERSEY',\n",
              " 'NEW MEXICO',\n",
              " 'NEW YORK',\n",
              " 'NORTH CAROLINA',\n",
              " 'NORTH DAKOTA',\n",
              " 'OHIO',\n",
              " 'OKLAHOMA',\n",
              " 'OREGON',\n",
              " 'PENNSYLVANIA',\n",
              " 'PUERTO RICO',\n",
              " 'RHODE ISLAND',\n",
              " 'SOUTH CAROLINA',\n",
              " 'SOUTH DAKOTA',\n",
              " 'TENNESSEE',\n",
              " 'TEXAS',\n",
              " 'UTAH',\n",
              " 'VERMONT',\n",
              " 'VIRGINIA',\n",
              " 'WASHINGTON',\n",
              " 'WEST VIRGINIA',\n",
              " 'WISCONSIN',\n",
              " 'WYOMING']"
            ]
          },
          "metadata": {
            "tags": []
          },
          "execution_count": 79
        }
      ]
    },
    {
      "cell_type": "code",
      "metadata": {
        "colab": {
          "base_uri": "https://localhost:8080/",
          "height": 201
        },
        "id": "-zgBk8E0hYT8",
        "outputId": "4238c309-51b0-445b-916f-5585588788f7"
      },
      "source": [
        "state_df = pd.DataFrame(state_names)\n",
        "state_df.head()"
      ],
      "execution_count": 101,
      "outputs": [
        {
          "output_type": "execute_result",
          "data": {
            "text/html": [
              "<div>\n",
              "<style scoped>\n",
              "    .dataframe tbody tr th:only-of-type {\n",
              "        vertical-align: middle;\n",
              "    }\n",
              "\n",
              "    .dataframe tbody tr th {\n",
              "        vertical-align: top;\n",
              "    }\n",
              "\n",
              "    .dataframe thead th {\n",
              "        text-align: right;\n",
              "    }\n",
              "</style>\n",
              "<table border=\"1\" class=\"dataframe\">\n",
              "  <thead>\n",
              "    <tr style=\"text-align: right;\">\n",
              "      <th></th>\n",
              "      <th>0</th>\n",
              "    </tr>\n",
              "  </thead>\n",
              "  <tbody>\n",
              "    <tr>\n",
              "      <th>0</th>\n",
              "      <td>ALABAMA</td>\n",
              "    </tr>\n",
              "    <tr>\n",
              "      <th>1</th>\n",
              "      <td>ALASKA</td>\n",
              "    </tr>\n",
              "    <tr>\n",
              "      <th>2</th>\n",
              "      <td>ARIZONA</td>\n",
              "    </tr>\n",
              "    <tr>\n",
              "      <th>3</th>\n",
              "      <td>ARKANSAS</td>\n",
              "    </tr>\n",
              "    <tr>\n",
              "      <th>4</th>\n",
              "      <td>CALIFORNIA</td>\n",
              "    </tr>\n",
              "  </tbody>\n",
              "</table>\n",
              "</div>"
            ],
            "text/plain": [
              "            0\n",
              "0     ALABAMA\n",
              "1      ALASKA\n",
              "2     ARIZONA\n",
              "3    ARKANSAS\n",
              "4  CALIFORNIA"
            ]
          },
          "metadata": {
            "tags": []
          },
          "execution_count": 101
        }
      ]
    },
    {
      "cell_type": "markdown",
      "metadata": {
        "id": "iPiTlwWBF_9P"
      },
      "source": [
        "Now lets extract the values of our interest i.e. State level total values.\n",
        "\n",
        "Those values are in stylesheet bold."
      ]
    },
    {
      "cell_type": "code",
      "metadata": {
        "colab": {
          "base_uri": "https://localhost:8080/"
        },
        "id": "Qgp252Bezfid",
        "outputId": "e940e877-e6cc-4fdf-bf4f-b4d133bb9998"
      },
      "source": [
        "bold_list = data_table.tbody.findAll('td', {\"class\": \"bold\"})\n",
        "values_list = list(map(lambda x: x.text.strip(),bold_list))\n",
        "values_list[:11]"
      ],
      "execution_count": null,
      "outputs": [
        {
          "output_type": "execute_result",
          "data": {
            "text/plain": [
              "['4,863,300',\n",
              " '25,886',\n",
              " '407',\n",
              " '1,916',\n",
              " '1,385',\n",
              " '4,686',\n",
              " '18,877',\n",
              " '143,362',\n",
              " '34,065',\n",
              " '97,574',\n",
              " '11,723']"
            ]
          },
          "metadata": {
            "tags": []
          },
          "execution_count": 70
        }
      ]
    },
    {
      "cell_type": "markdown",
      "metadata": {
        "id": "GgJtYXbYJTg-"
      },
      "source": [
        "These values are in business number format with commas. Let's convert it to numneric format"
      ]
    },
    {
      "cell_type": "code",
      "metadata": {
        "colab": {
          "base_uri": "https://localhost:8080/"
        },
        "id": "-jQqz8dVKPlp",
        "outputId": "cb69edf1-f20a-48ca-f653-78625257ce16"
      },
      "source": [
        "import locale\n",
        "locale.setlocale(locale.LC_ALL, 'en_US.UTF8')\n",
        "values_list1 = list(map(lambda x: locale.atoi(x),values_list))\n",
        "values_list1[-11:]\n"
      ],
      "execution_count": null,
      "outputs": [
        {
          "output_type": "execute_result",
          "data": {
            "text/plain": [
              "[585501, 1430, 20, 205, 150, 59, 1146, 11460, 1771, 8889, 800]"
            ]
          },
          "metadata": {
            "tags": []
          },
          "execution_count": 75
        }
      ]
    },
    {
      "cell_type": "markdown",
      "metadata": {
        "id": "sSraJWnAUpGI"
      },
      "source": [
        "**To my surprise, there is issue with entry for VERMONT state. **\n",
        "Property crime value at state level is not in Bold. This causing all values after that getting indexed in correctly.\n",
        "\n",
        "I am unable to find any programmatic way for handling this as the data on web page is not exactly tabular. I found the discrepancy by visual inspection which is fine in this case as data is limited. However it may not e possible to fix this kind of issue if have large dataset.\n",
        "\n",
        "In this case manually fixing the value by inserting at that index. The value I need to insert is 10602"
      ]
    },
    {
      "cell_type": "code",
      "metadata": {
        "colab": {
          "base_uri": "https://localhost:8080/"
        },
        "id": "1Co7VDYrYeDN",
        "outputId": "db9634da-04c2-4a1a-c2dd-aab7348901a7"
      },
      "source": [
        "print(f\" Index of value 691 {values_list1.index(691)} and index of value {values_list1.index(2103)}\")"
      ],
      "execution_count": null,
      "outputs": [
        {
          "output_type": "stream",
          "text": [
            " Index of value 691 512 and index of value 513\n"
          ],
          "name": "stdout"
        }
      ]
    },
    {
      "cell_type": "code",
      "metadata": {
        "colab": {
          "base_uri": "https://localhost:8080/"
        },
        "id": "stgo9ZrAZF2n",
        "outputId": "b61e20cd-db6b-4280-c64a-99a639a001c9"
      },
      "source": [
        "values_list1.insert(513,10602)\n",
        "len(values_list1)"
      ],
      "execution_count": null,
      "outputs": [
        {
          "output_type": "execute_result",
          "data": {
            "text/plain": [
              "572"
            ]
          },
          "metadata": {
            "tags": []
          },
          "execution_count": 85
        }
      ]
    },
    {
      "cell_type": "markdown",
      "metadata": {
        "id": "frCIDRBxdxU2"
      },
      "source": [
        "For each state there are 11 field values. (Same as 11 columns created earlier)\n",
        "\n",
        "So there are 52 states data i.e rows and 11 field values."
      ]
    },
    {
      "cell_type": "code",
      "metadata": {
        "id": "RPHk_j9XOdYQ"
      },
      "source": [
        "fbi_data = np.array(values_list1).reshape(52,11)\n"
      ],
      "execution_count": 96,
      "outputs": []
    },
    {
      "cell_type": "markdown",
      "metadata": {
        "id": "w5sk1J4feHrk"
      },
      "source": [
        "Lets create a panda dataframe from this data."
      ]
    },
    {
      "cell_type": "markdown",
      "metadata": {
        "id": "OoZ3oCPcHL7h"
      },
      "source": [
        ""
      ]
    },
    {
      "cell_type": "code",
      "metadata": {
        "colab": {
          "base_uri": "https://localhost:8080/",
          "height": 201
        },
        "id": "eEK0NJcTYjER",
        "outputId": "7a926518-2e84-4ae0-ae0a-74227b300438"
      },
      "source": [
        "crime_data_df = pd.DataFrame(fbi_data)\n",
        "crime_data_df.head()\n",
        "    "
      ],
      "execution_count": 102,
      "outputs": [
        {
          "output_type": "execute_result",
          "data": {
            "text/html": [
              "<div>\n",
              "<style scoped>\n",
              "    .dataframe tbody tr th:only-of-type {\n",
              "        vertical-align: middle;\n",
              "    }\n",
              "\n",
              "    .dataframe tbody tr th {\n",
              "        vertical-align: top;\n",
              "    }\n",
              "\n",
              "    .dataframe thead th {\n",
              "        text-align: right;\n",
              "    }\n",
              "</style>\n",
              "<table border=\"1\" class=\"dataframe\">\n",
              "  <thead>\n",
              "    <tr style=\"text-align: right;\">\n",
              "      <th></th>\n",
              "      <th>0</th>\n",
              "      <th>1</th>\n",
              "      <th>2</th>\n",
              "      <th>3</th>\n",
              "      <th>4</th>\n",
              "      <th>5</th>\n",
              "      <th>6</th>\n",
              "      <th>7</th>\n",
              "      <th>8</th>\n",
              "      <th>9</th>\n",
              "      <th>10</th>\n",
              "    </tr>\n",
              "  </thead>\n",
              "  <tbody>\n",
              "    <tr>\n",
              "      <th>0</th>\n",
              "      <td>4863300</td>\n",
              "      <td>25886</td>\n",
              "      <td>407</td>\n",
              "      <td>1916</td>\n",
              "      <td>1385</td>\n",
              "      <td>4686</td>\n",
              "      <td>18877</td>\n",
              "      <td>143362</td>\n",
              "      <td>34065</td>\n",
              "      <td>97574</td>\n",
              "      <td>11723</td>\n",
              "    </tr>\n",
              "    <tr>\n",
              "      <th>1</th>\n",
              "      <td>741894</td>\n",
              "      <td>5966</td>\n",
              "      <td>52</td>\n",
              "      <td>1053</td>\n",
              "      <td>757</td>\n",
              "      <td>850</td>\n",
              "      <td>4011</td>\n",
              "      <td>24876</td>\n",
              "      <td>4053</td>\n",
              "      <td>17766</td>\n",
              "      <td>3057</td>\n",
              "    </tr>\n",
              "    <tr>\n",
              "      <th>2</th>\n",
              "      <td>6931071</td>\n",
              "      <td>32583</td>\n",
              "      <td>380</td>\n",
              "      <td>3290</td>\n",
              "      <td>2452</td>\n",
              "      <td>7055</td>\n",
              "      <td>21858</td>\n",
              "      <td>206432</td>\n",
              "      <td>37736</td>\n",
              "      <td>150275</td>\n",
              "      <td>18421</td>\n",
              "    </tr>\n",
              "    <tr>\n",
              "      <th>3</th>\n",
              "      <td>2988248</td>\n",
              "      <td>16461</td>\n",
              "      <td>216</td>\n",
              "      <td>2143</td>\n",
              "      <td>1545</td>\n",
              "      <td>2120</td>\n",
              "      <td>11982</td>\n",
              "      <td>97673</td>\n",
              "      <td>23771</td>\n",
              "      <td>66747</td>\n",
              "      <td>7155</td>\n",
              "    </tr>\n",
              "    <tr>\n",
              "      <th>4</th>\n",
              "      <td>39250017</td>\n",
              "      <td>174796</td>\n",
              "      <td>1930</td>\n",
              "      <td>13702</td>\n",
              "      <td>10149</td>\n",
              "      <td>54789</td>\n",
              "      <td>104375</td>\n",
              "      <td>1002070</td>\n",
              "      <td>188304</td>\n",
              "      <td>637010</td>\n",
              "      <td>176756</td>\n",
              "    </tr>\n",
              "  </tbody>\n",
              "</table>\n",
              "</div>"
            ],
            "text/plain": [
              "         0       1     2      3   ...       7       8       9       10\n",
              "0   4863300   25886   407   1916  ...   143362   34065   97574   11723\n",
              "1    741894    5966    52   1053  ...    24876    4053   17766    3057\n",
              "2   6931071   32583   380   3290  ...   206432   37736  150275   18421\n",
              "3   2988248   16461   216   2143  ...    97673   23771   66747    7155\n",
              "4  39250017  174796  1930  13702  ...  1002070  188304  637010  176756\n",
              "\n",
              "[5 rows x 11 columns]"
            ]
          },
          "metadata": {
            "tags": []
          },
          "execution_count": 102
        }
      ]
    },
    {
      "cell_type": "markdown",
      "metadata": {
        "id": "LBJd6DARgjP_"
      },
      "source": [
        "Now I will concat state dataframe to this crime_data dataframe"
      ]
    },
    {
      "cell_type": "code",
      "metadata": {
        "colab": {
          "base_uri": "https://localhost:8080/",
          "height": 221
        },
        "id": "9rGkQKm5gqge",
        "outputId": "79f83d29-eccf-4f9d-8164-20435a00410d"
      },
      "source": [
        "fbi_df = pd.concat([state_df,crime_data_df],axis=1)\n",
        "fbi_df.head()"
      ],
      "execution_count": 103,
      "outputs": [
        {
          "output_type": "execute_result",
          "data": {
            "text/html": [
              "<div>\n",
              "<style scoped>\n",
              "    .dataframe tbody tr th:only-of-type {\n",
              "        vertical-align: middle;\n",
              "    }\n",
              "\n",
              "    .dataframe tbody tr th {\n",
              "        vertical-align: top;\n",
              "    }\n",
              "\n",
              "    .dataframe thead th {\n",
              "        text-align: right;\n",
              "    }\n",
              "</style>\n",
              "<table border=\"1\" class=\"dataframe\">\n",
              "  <thead>\n",
              "    <tr style=\"text-align: right;\">\n",
              "      <th></th>\n",
              "      <th>0</th>\n",
              "      <th>0</th>\n",
              "      <th>1</th>\n",
              "      <th>2</th>\n",
              "      <th>3</th>\n",
              "      <th>4</th>\n",
              "      <th>5</th>\n",
              "      <th>6</th>\n",
              "      <th>7</th>\n",
              "      <th>8</th>\n",
              "      <th>9</th>\n",
              "      <th>10</th>\n",
              "    </tr>\n",
              "  </thead>\n",
              "  <tbody>\n",
              "    <tr>\n",
              "      <th>0</th>\n",
              "      <td>ALABAMA</td>\n",
              "      <td>4863300</td>\n",
              "      <td>25886</td>\n",
              "      <td>407</td>\n",
              "      <td>1916</td>\n",
              "      <td>1385</td>\n",
              "      <td>4686</td>\n",
              "      <td>18877</td>\n",
              "      <td>143362</td>\n",
              "      <td>34065</td>\n",
              "      <td>97574</td>\n",
              "      <td>11723</td>\n",
              "    </tr>\n",
              "    <tr>\n",
              "      <th>1</th>\n",
              "      <td>ALASKA</td>\n",
              "      <td>741894</td>\n",
              "      <td>5966</td>\n",
              "      <td>52</td>\n",
              "      <td>1053</td>\n",
              "      <td>757</td>\n",
              "      <td>850</td>\n",
              "      <td>4011</td>\n",
              "      <td>24876</td>\n",
              "      <td>4053</td>\n",
              "      <td>17766</td>\n",
              "      <td>3057</td>\n",
              "    </tr>\n",
              "    <tr>\n",
              "      <th>2</th>\n",
              "      <td>ARIZONA</td>\n",
              "      <td>6931071</td>\n",
              "      <td>32583</td>\n",
              "      <td>380</td>\n",
              "      <td>3290</td>\n",
              "      <td>2452</td>\n",
              "      <td>7055</td>\n",
              "      <td>21858</td>\n",
              "      <td>206432</td>\n",
              "      <td>37736</td>\n",
              "      <td>150275</td>\n",
              "      <td>18421</td>\n",
              "    </tr>\n",
              "    <tr>\n",
              "      <th>3</th>\n",
              "      <td>ARKANSAS</td>\n",
              "      <td>2988248</td>\n",
              "      <td>16461</td>\n",
              "      <td>216</td>\n",
              "      <td>2143</td>\n",
              "      <td>1545</td>\n",
              "      <td>2120</td>\n",
              "      <td>11982</td>\n",
              "      <td>97673</td>\n",
              "      <td>23771</td>\n",
              "      <td>66747</td>\n",
              "      <td>7155</td>\n",
              "    </tr>\n",
              "    <tr>\n",
              "      <th>4</th>\n",
              "      <td>CALIFORNIA</td>\n",
              "      <td>39250017</td>\n",
              "      <td>174796</td>\n",
              "      <td>1930</td>\n",
              "      <td>13702</td>\n",
              "      <td>10149</td>\n",
              "      <td>54789</td>\n",
              "      <td>104375</td>\n",
              "      <td>1002070</td>\n",
              "      <td>188304</td>\n",
              "      <td>637010</td>\n",
              "      <td>176756</td>\n",
              "    </tr>\n",
              "  </tbody>\n",
              "</table>\n",
              "</div>"
            ],
            "text/plain": [
              "           0         0       1     2   ...       7       8       9       10\n",
              "0     ALABAMA   4863300   25886   407  ...   143362   34065   97574   11723\n",
              "1      ALASKA    741894    5966    52  ...    24876    4053   17766    3057\n",
              "2     ARIZONA   6931071   32583   380  ...   206432   37736  150275   18421\n",
              "3    ARKANSAS   2988248   16461   216  ...    97673   23771   66747    7155\n",
              "4  CALIFORNIA  39250017  174796  1930  ...  1002070  188304  637010  176756\n",
              "\n",
              "[5 rows x 12 columns]"
            ]
          },
          "metadata": {
            "tags": []
          },
          "execution_count": 103
        }
      ]
    },
    {
      "cell_type": "markdown",
      "metadata": {
        "id": "FnJVDlkxkV2g"
      },
      "source": [
        "Now we will add the column names for each data field."
      ]
    },
    {
      "cell_type": "code",
      "metadata": {
        "id": "FHs3_x5ORhQv",
        "colab": {
          "base_uri": "https://localhost:8080/",
          "height": 221
        },
        "outputId": "7fda9fef-6000-432e-97c1-7876b383e346"
      },
      "source": [
        "fbi_df.columns = new_column_names\n",
        "fbi_df.head()"
      ],
      "execution_count": 105,
      "outputs": [
        {
          "output_type": "execute_result",
          "data": {
            "text/html": [
              "<div>\n",
              "<style scoped>\n",
              "    .dataframe tbody tr th:only-of-type {\n",
              "        vertical-align: middle;\n",
              "    }\n",
              "\n",
              "    .dataframe tbody tr th {\n",
              "        vertical-align: top;\n",
              "    }\n",
              "\n",
              "    .dataframe thead th {\n",
              "        text-align: right;\n",
              "    }\n",
              "</style>\n",
              "<table border=\"1\" class=\"dataframe\">\n",
              "  <thead>\n",
              "    <tr style=\"text-align: right;\">\n",
              "      <th></th>\n",
              "      <th>state</th>\n",
              "      <th>population</th>\n",
              "      <th>violentcrime1</th>\n",
              "      <th>murder_and_nonnegligent_manslaughter</th>\n",
              "      <th>rape_reviseddefinition2</th>\n",
              "      <th>rape_legacydefinition3</th>\n",
              "      <th>robbery</th>\n",
              "      <th>aggravated_assault</th>\n",
              "      <th>property_crime</th>\n",
              "      <th>burglary</th>\n",
              "      <th>larceny_theft</th>\n",
              "      <th>motor_vehicle_theft</th>\n",
              "    </tr>\n",
              "  </thead>\n",
              "  <tbody>\n",
              "    <tr>\n",
              "      <th>0</th>\n",
              "      <td>ALABAMA</td>\n",
              "      <td>4863300</td>\n",
              "      <td>25886</td>\n",
              "      <td>407</td>\n",
              "      <td>1916</td>\n",
              "      <td>1385</td>\n",
              "      <td>4686</td>\n",
              "      <td>18877</td>\n",
              "      <td>143362</td>\n",
              "      <td>34065</td>\n",
              "      <td>97574</td>\n",
              "      <td>11723</td>\n",
              "    </tr>\n",
              "    <tr>\n",
              "      <th>1</th>\n",
              "      <td>ALASKA</td>\n",
              "      <td>741894</td>\n",
              "      <td>5966</td>\n",
              "      <td>52</td>\n",
              "      <td>1053</td>\n",
              "      <td>757</td>\n",
              "      <td>850</td>\n",
              "      <td>4011</td>\n",
              "      <td>24876</td>\n",
              "      <td>4053</td>\n",
              "      <td>17766</td>\n",
              "      <td>3057</td>\n",
              "    </tr>\n",
              "    <tr>\n",
              "      <th>2</th>\n",
              "      <td>ARIZONA</td>\n",
              "      <td>6931071</td>\n",
              "      <td>32583</td>\n",
              "      <td>380</td>\n",
              "      <td>3290</td>\n",
              "      <td>2452</td>\n",
              "      <td>7055</td>\n",
              "      <td>21858</td>\n",
              "      <td>206432</td>\n",
              "      <td>37736</td>\n",
              "      <td>150275</td>\n",
              "      <td>18421</td>\n",
              "    </tr>\n",
              "    <tr>\n",
              "      <th>3</th>\n",
              "      <td>ARKANSAS</td>\n",
              "      <td>2988248</td>\n",
              "      <td>16461</td>\n",
              "      <td>216</td>\n",
              "      <td>2143</td>\n",
              "      <td>1545</td>\n",
              "      <td>2120</td>\n",
              "      <td>11982</td>\n",
              "      <td>97673</td>\n",
              "      <td>23771</td>\n",
              "      <td>66747</td>\n",
              "      <td>7155</td>\n",
              "    </tr>\n",
              "    <tr>\n",
              "      <th>4</th>\n",
              "      <td>CALIFORNIA</td>\n",
              "      <td>39250017</td>\n",
              "      <td>174796</td>\n",
              "      <td>1930</td>\n",
              "      <td>13702</td>\n",
              "      <td>10149</td>\n",
              "      <td>54789</td>\n",
              "      <td>104375</td>\n",
              "      <td>1002070</td>\n",
              "      <td>188304</td>\n",
              "      <td>637010</td>\n",
              "      <td>176756</td>\n",
              "    </tr>\n",
              "  </tbody>\n",
              "</table>\n",
              "</div>"
            ],
            "text/plain": [
              "        state  population  ...  larceny_theft  motor_vehicle_theft\n",
              "0     ALABAMA     4863300  ...          97574                11723\n",
              "1      ALASKA      741894  ...          17766                 3057\n",
              "2     ARIZONA     6931071  ...         150275                18421\n",
              "3    ARKANSAS     2988248  ...          66747                 7155\n",
              "4  CALIFORNIA    39250017  ...         637010               176756\n",
              "\n",
              "[5 rows x 12 columns]"
            ]
          },
          "metadata": {
            "tags": []
          },
          "execution_count": 105
        }
      ]
    },
    {
      "cell_type": "markdown",
      "metadata": {
        "id": "jUTUfSLbkclA"
      },
      "source": [
        "Now we will check for any missing data."
      ]
    },
    {
      "cell_type": "code",
      "metadata": {
        "id": "i9CswmiXuN1f",
        "colab": {
          "base_uri": "https://localhost:8080/"
        },
        "outputId": "07513f1f-f9e3-4f49-b9b1-983b6c9032b4"
      },
      "source": [
        "# Check if any of the column contains missing value NaN\n",
        "fbi_df.isna().sum(axis=0)"
      ],
      "execution_count": 106,
      "outputs": [
        {
          "output_type": "execute_result",
          "data": {
            "text/plain": [
              "state                                   0\n",
              "population                              0\n",
              "violentcrime1                           0\n",
              "murder_and_nonnegligent_manslaughter    0\n",
              "rape_reviseddefinition2                 0\n",
              "rape_legacydefinition3                  0\n",
              "robbery                                 0\n",
              "aggravated_assault                      0\n",
              "property_crime                          0\n",
              "burglary                                0\n",
              "larceny_theft                           0\n",
              "motor_vehicle_theft                     0\n",
              "dtype: int64"
            ]
          },
          "metadata": {
            "tags": []
          },
          "execution_count": 106
        }
      ]
    },
    {
      "cell_type": "markdown",
      "metadata": {
        "id": "8b2SqusRkn0-"
      },
      "source": [
        "Thats good, there is no missing data."
      ]
    }
  ]
}