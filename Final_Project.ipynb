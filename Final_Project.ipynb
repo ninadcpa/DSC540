{
  "nbformat": 4,
  "nbformat_minor": 0,
  "metadata": {
    "colab": {
      "name": "Final_Project.ipynb",
      "provenance": [],
      "collapsed_sections": [],
      "toc_visible": true,
      "authorship_tag": "ABX9TyOXeYPgeSN1o9kZepHqYzY7",
      "include_colab_link": true
    },
    "kernelspec": {
      "name": "python3",
      "display_name": "Python 3"
    }
  },
  "cells": [
    {
      "cell_type": "markdown",
      "metadata": {
        "id": "view-in-github",
        "colab_type": "text"
      },
      "source": [
        "<a href=\"https://colab.research.google.com/github/ninadcpa/DSC540/blob/main/Final_Project.ipynb\" target=\"_parent\"><img src=\"https://colab.research.google.com/assets/colab-badge.svg\" alt=\"Open In Colab\"/></a>"
      ]
    },
    {
      "cell_type": "markdown",
      "metadata": {
        "id": "raw3X5gy43f6"
      },
      "source": [
        "# DSC540 - Data Wrangling - Final Project\n",
        "\n",
        "## Title - Public Justice System Expenditures and Crime Control effectiveness across US States\n",
        "\n",
        "@author Ninad Patkhedkar  \n",
        "@guide  Catherine Williams\n",
        "\n",
        "Term - Spring 2021  \n",
        "Bellevue Univeristy \n",
        "\n",
        "---\n",
        "\n"
      ]
    },
    {
      "cell_type": "markdown",
      "metadata": {
        "id": "KMqP0W0j4LEO"
      },
      "source": [
        "# Milesstone 1\n",
        "\n",
        "# Introduction\n",
        "> Effective Law and Order is one of the most important necessity of society. It has direct effect on living standard and crime rate in that area. The whole \"Law and Order\" aka Justice system consists of multiple functions which performs duties as below   \n",
        "\n",
        "> **Police Protection Services** - law enforcement, patrolling, traffic safety, parking meter read, animal warden etc. \n",
        "\n",
        "> **Judicial and Legal Services** - civil and criminal functions of courts, state’s attorneys, court reporters, register of wills etc. \n",
        "\n",
        "> **Correction Services** - prisons, reformatories, rehabilitation centers, parole boards, pardon boards etc. \n",
        "\n",
        "> To effectively govern any area, all these functions need resources i.e. people to perform duties and funding.\n",
        "\n",
        "In this project I will use public dataset about state wise employment and expenditures on various functions. I will also correlate state wise crime during same period. I will investigate and find more information about how effectively Justice and Legal system is managed in different states.  I will also try to find any correlation between population of state, expenses and number of employees etc. \n",
        "\n",
        "I will use 3 different sources of data \n",
        "\n",
        "# Dataset Sources  \n",
        "\n",
        "1. **Flat file**  - jeee16t03.csv\n",
        "Public dataset for fiscal 2016 from Bureau of Justice Statistics on Justice Expenditure - https://www.bjs.gov/content/pub/sheets/jeee16p.zip \n",
        "\n",
        "2. **Web Site**  \n",
        "Public dataset on Crime for fiscal 2016 from FBI - https://ucr.fbi.gov/crime-in-the-u.s/2016/crime-in-the-u.s.-2016/tables/table-3\n",
        "\n",
        "3. **API** \n",
        "Public dataset for fiscal 2016 from Bureau of Justice Statistics on Employee Extracts - https://data.world/usbjs/justice-expenditure-and-employment-2016/workspace/file?filename=jeee16t08.csv\n",
        "\n",
        "API Data is from same source as #1 i.e. Bureau of Justice Statistics. As requiremnet is to fetch data over API, the dataset is maintained on ***data.world***  and will be fetched in json form using ***requests*** library.\n",
        "\n",
        "\n",
        "\n",
        "```\n",
        "# sample linux command to fetch data in json format\n",
        "curl --request POST \\\n",
        "  --url \"https://api.data.world/v0/sql/ninadcpa/dsc540?includeTableSchema=true\" \\\n",
        "  --header \"Authorization: Bearer <api_token>\" \\\n",
        "  --header \"Accept: application/json\" \\\n",
        "  --data-urlencode 'query=SELECT * FROM jeee16t08'\n",
        "```\n",
        "\n",
        "For Definitions, Methodology and other information, refer detailed guide -  \n",
        "https://www.bjs.gov/content/pub/pdf/jeeeguide.pdf  \n",
        "https://ucr.fbi.gov/crime-in-the-u.s/2016/crime-in-the-u.s.-2016/tables/table-3/table-3-data-declaration.pdf\n",
        "\n",
        "# Data Prep\n",
        "\n",
        "All 3 datasets have common key of State name. It has one-to-one relationship across all 3 datasets.\n",
        " \n",
        "I will cleanup each data set and and create a consolidated dataset by \"State\" in this section. Here are few things I will perform as part of cleanup   \n",
        "\n",
        "* **Simplify column names by converting to lower case and spaces replaced by underscores**\n",
        "* **Rename long column names to short names e.g. population_2016_thousands to population_k**\n",
        "* **Remove records of Total federal govt, Local city govt, Municipality govt data and keep only State data**\n",
        "* **Remove records where population is not present**\n",
        "* **Trim State abbreviations from records i.e. Virginia (VA) -> Virginia** \n",
        "* **Join Datasets by using \"State\" as common key**\n",
        "  \n",
        "# Objective\n",
        "As part of this Project, I will try to find answer following questions​\n",
        "1. How state population affects overall cost and per capita cost?\n",
        "2. How number of employees in police protection services affect the cost of police protection? \n",
        "3. How number of employees in judicial and legal services affect the cost of judicial and legal functions?\n",
        "4. How number of employees in correction services affect the cost of correction functions?\n",
        "5. Which states are doing great job with overall crime control?\n",
        "6. What is relation between number of employees in police protection services and crime in the area?\n"
      ]
    },
    {
      "cell_type": "code",
      "metadata": {
        "colab": {
          "base_uri": "https://localhost:8080/"
        },
        "id": "XcCPt1C24Um3",
        "outputId": "fe34e082-ab7d-4f2a-b6e9-9081385d1d46"
      },
      "source": [
        "# This code is written for mounting code folder checked out from github on google drive\n",
        "# All project code will be maintained inside folder \"DSC540\"\n",
        "\n",
        "from google.colab import drive\n",
        "import sys\n",
        "import os\n",
        "\n",
        "drive.mount('/content/drive')\n",
        "sys.path.append('/content/drive/MyDrive/Colab Notebooks/DSC540')\n",
        "os.chdir('/content/drive/MyDrive/Colab Notebooks/DSC540')\n"
      ],
      "execution_count": 1,
      "outputs": [
        {
          "output_type": "stream",
          "text": [
            "Drive already mounted at /content/drive; to attempt to forcibly remount, call drive.mount(\"/content/drive\", force_remount=True).\n"
          ],
          "name": "stdout"
        }
      ]
    },
    {
      "cell_type": "markdown",
      "metadata": {
        "id": "VxI9DC9liCKF"
      },
      "source": [
        "# Milestone 2\n",
        "\n",
        "Cleaning/Formatting Flat File Source\n",
        "Perform at least 5 data transformation and/or cleansing steps to your flat file data. For example:\n",
        "\n",
        "> Replace Headers  \n",
        "Format data into a more readable format  \n",
        "Identify outliers and bad data  \n",
        "Find duplicates  \n",
        "Fix casing or inconsistent values  \n",
        "Conduct Fuzzy Matching\n",
        "\n",
        "---\n",
        "\n",
        "I am using flat file in csv format \"jeee16t03.csv\" \n",
        "\n",
        "Lets load the file data in panda dataframe and check some records"
      ]
    },
    {
      "cell_type": "code",
      "metadata": {
        "colab": {
          "base_uri": "https://localhost:8080/",
          "height": 472
        },
        "id": "8qN5I3hsQuT7",
        "outputId": "b1bec4a2-68f4-40fa-fd7b-74ec552b33b9"
      },
      "source": [
        "import pandas as pd\n",
        "import numpy as np\n",
        "\n",
        "import warnings\n",
        "warnings.filterwarnings('ignore', category=FutureWarning)\n",
        "\n",
        "\n",
        "# Reading csv file into panda dataframe\n",
        "df_jee03 = pd.read_csv(\"jeee16t03.csv\")\n",
        "df_jee03.head(10)"
      ],
      "execution_count": 2,
      "outputs": [
        {
          "output_type": "execute_result",
          "data": {
            "text/html": [
              "<div>\n",
              "<style scoped>\n",
              "    .dataframe tbody tr th:only-of-type {\n",
              "        vertical-align: middle;\n",
              "    }\n",
              "\n",
              "    .dataframe tbody tr th {\n",
              "        vertical-align: top;\n",
              "    }\n",
              "\n",
              "    .dataframe thead th {\n",
              "        text-align: right;\n",
              "    }\n",
              "</style>\n",
              "<table border=\"1\" class=\"dataframe\">\n",
              "  <thead>\n",
              "    <tr style=\"text-align: right;\">\n",
              "      <th></th>\n",
              "      <th>State and type of government</th>\n",
              "      <th>Population 2016 thousands</th>\n",
              "      <th>Total direct expenditure</th>\n",
              "      <th>total justice system Amount</th>\n",
              "      <th>total justice system percent</th>\n",
              "      <th>Police protection Amount</th>\n",
              "      <th>police protection Percent</th>\n",
              "      <th>judician and legal Amount</th>\n",
              "      <th>judicial and legal Percent</th>\n",
              "      <th>corrections Amount</th>\n",
              "      <th>corrections Percent</th>\n",
              "    </tr>\n",
              "  </thead>\n",
              "  <tbody>\n",
              "    <tr>\n",
              "      <th>0</th>\n",
              "      <td>States-local, total</td>\n",
              "      <td>323071</td>\n",
              "      <td>3514583394</td>\n",
              "      <td>233483760</td>\n",
              "      <td>6.6</td>\n",
              "      <td>109210078</td>\n",
              "      <td>46.8</td>\n",
              "      <td>46256957</td>\n",
              "      <td>19.8</td>\n",
              "      <td>78016725</td>\n",
              "      <td>33.4</td>\n",
              "    </tr>\n",
              "    <tr>\n",
              "      <th>1</th>\n",
              "      <td>State</td>\n",
              "      <td>-</td>\n",
              "      <td>1692408177</td>\n",
              "      <td>86868791</td>\n",
              "      <td>5.1</td>\n",
              "      <td>15003016</td>\n",
              "      <td>17.3</td>\n",
              "      <td>22825679</td>\n",
              "      <td>26.3</td>\n",
              "      <td>49040096</td>\n",
              "      <td>56.5</td>\n",
              "    </tr>\n",
              "    <tr>\n",
              "      <th>2</th>\n",
              "      <td>Local, total</td>\n",
              "      <td>-</td>\n",
              "      <td>1822175217</td>\n",
              "      <td>146614969</td>\n",
              "      <td>8.0</td>\n",
              "      <td>94207062</td>\n",
              "      <td>64.3</td>\n",
              "      <td>23431278</td>\n",
              "      <td>16.0</td>\n",
              "      <td>28976629</td>\n",
              "      <td>19.8</td>\n",
              "    </tr>\n",
              "    <tr>\n",
              "      <th>3</th>\n",
              "      <td>Counties</td>\n",
              "      <td>-</td>\n",
              "      <td>394148057</td>\n",
              "      <td>71684805</td>\n",
              "      <td>18.2</td>\n",
              "      <td>29596808</td>\n",
              "      <td>41.3</td>\n",
              "      <td>17767223</td>\n",
              "      <td>24.8</td>\n",
              "      <td>24320774</td>\n",
              "      <td>33.9</td>\n",
              "    </tr>\n",
              "    <tr>\n",
              "      <th>4</th>\n",
              "      <td>Municipalities</td>\n",
              "      <td>-</td>\n",
              "      <td>583324970</td>\n",
              "      <td>69058355</td>\n",
              "      <td>11.8</td>\n",
              "      <td>59702889</td>\n",
              "      <td>86.5</td>\n",
              "      <td>5274743</td>\n",
              "      <td>7.6</td>\n",
              "      <td>4080723</td>\n",
              "      <td>5.9</td>\n",
              "    </tr>\n",
              "    <tr>\n",
              "      <th>5</th>\n",
              "      <td>Alabama (AL)</td>\n",
              "      <td>4865</td>\n",
              "      <td>45277563</td>\n",
              "      <td>2335599</td>\n",
              "      <td>5.2</td>\n",
              "      <td>1251270</td>\n",
              "      <td>53.6</td>\n",
              "      <td>362060</td>\n",
              "      <td>15.5</td>\n",
              "      <td>722269</td>\n",
              "      <td>30.9</td>\n",
              "    </tr>\n",
              "    <tr>\n",
              "      <th>6</th>\n",
              "      <td>AL State</td>\n",
              "      <td>-</td>\n",
              "      <td>23075269</td>\n",
              "      <td>870057</td>\n",
              "      <td>3.8</td>\n",
              "      <td>165168</td>\n",
              "      <td>19.0</td>\n",
              "      <td>200146</td>\n",
              "      <td>23.0</td>\n",
              "      <td>504743</td>\n",
              "      <td>58.0</td>\n",
              "    </tr>\n",
              "    <tr>\n",
              "      <th>7</th>\n",
              "      <td>AL Local, total</td>\n",
              "      <td>-</td>\n",
              "      <td>22202294</td>\n",
              "      <td>1465542</td>\n",
              "      <td>6.6</td>\n",
              "      <td>1086102</td>\n",
              "      <td>74.1</td>\n",
              "      <td>161914</td>\n",
              "      <td>11.0</td>\n",
              "      <td>217526</td>\n",
              "      <td>14.8</td>\n",
              "    </tr>\n",
              "    <tr>\n",
              "      <th>8</th>\n",
              "      <td>AL Counties</td>\n",
              "      <td>-</td>\n",
              "      <td>2244358</td>\n",
              "      <td>644571</td>\n",
              "      <td>28.7</td>\n",
              "      <td>358334</td>\n",
              "      <td>55.6</td>\n",
              "      <td>90688</td>\n",
              "      <td>14.1</td>\n",
              "      <td>195549</td>\n",
              "      <td>30.3</td>\n",
              "    </tr>\n",
              "    <tr>\n",
              "      <th>9</th>\n",
              "      <td>AL Municipalities</td>\n",
              "      <td>-</td>\n",
              "      <td>6596181</td>\n",
              "      <td>820971</td>\n",
              "      <td>12.4</td>\n",
              "      <td>727768</td>\n",
              "      <td>88.6</td>\n",
              "      <td>71226</td>\n",
              "      <td>8.7</td>\n",
              "      <td>21977</td>\n",
              "      <td>2.7</td>\n",
              "    </tr>\n",
              "  </tbody>\n",
              "</table>\n",
              "</div>"
            ],
            "text/plain": [
              "  State and type of government  ... corrections Percent\n",
              "0          States-local, total  ...                33.4\n",
              "1                        State  ...                56.5\n",
              "2                 Local, total  ...                19.8\n",
              "3                     Counties  ...                33.9\n",
              "4               Municipalities  ...                 5.9\n",
              "5                 Alabama (AL)  ...                30.9\n",
              "6                     AL State  ...                58.0\n",
              "7              AL Local, total  ...                14.8\n",
              "8                  AL Counties  ...                30.3\n",
              "9            AL Municipalities  ...                 2.7\n",
              "\n",
              "[10 rows x 11 columns]"
            ]
          },
          "metadata": {
            "tags": []
          },
          "execution_count": 2
        }
      ]
    },
    {
      "cell_type": "code",
      "metadata": {
        "colab": {
          "base_uri": "https://localhost:8080/"
        },
        "id": "vNTCpRfhR_Co",
        "outputId": "237ca5cf-d5a8-46d1-e462-2883a8af3fad"
      },
      "source": [
        "df_jee03.shape"
      ],
      "execution_count": 3,
      "outputs": [
        {
          "output_type": "execute_result",
          "data": {
            "text/plain": [
              "(256, 11)"
            ]
          },
          "metadata": {
            "tags": []
          },
          "execution_count": 3
        }
      ]
    },
    {
      "cell_type": "markdown",
      "metadata": {
        "id": "KDjHEuxRjbjZ"
      },
      "source": [
        "Data contains 256 observationas and 11 variables.  \n",
        "Dataset contains records for fedral, state, local governments, muncipalties and counties. \n",
        "\n",
        "For this project, as state is common key field for all 3 datasets. Hence I will try to filter records only at state level.\n",
        "\n",
        "I will perform as part of cleanup  \n",
        "\n",
        "* **Simplify column names by converting to lower case and spaces replaced by underscores**\n",
        "* **Rename long column names to short names e.g. population_2016_thousands to population_k**\n",
        "* **Remove records of Total federal govt, Local city govt, Municipality govt data and keep only State data**\n",
        "* **Remove records where population is not present**\n",
        "* **Trim State abbreviations from records i.e. Virginia (VA) -> Virginia** "
      ]
    },
    {
      "cell_type": "code",
      "metadata": {
        "colab": {
          "base_uri": "https://localhost:8080/"
        },
        "id": "J_xm5GYhTefD",
        "outputId": "46030fe7-424d-49fb-a5d5-e2f912d9a2c4"
      },
      "source": [
        "# remove spaces in columns name and replace with underscores\n",
        "df_jee03.columns = df_jee03.columns.str.replace(' ','_')\n",
        "df_jee03.columns"
      ],
      "execution_count": 4,
      "outputs": [
        {
          "output_type": "execute_result",
          "data": {
            "text/plain": [
              "Index(['State_and_type_of_government', 'Population_2016_thousands',\n",
              "       'Total_direct_expenditure', 'total_justice_system_Amount',\n",
              "       'total_justice_system_percent', 'Police_protection_Amount',\n",
              "       'police_protection_Percent_', 'judician_and_legal_Amount',\n",
              "       'judicial_and_legal_Percent', 'corrections_Amount',\n",
              "       'corrections_Percent'],\n",
              "      dtype='object')"
            ]
          },
          "metadata": {
            "tags": []
          },
          "execution_count": 4
        }
      ]
    },
    {
      "cell_type": "code",
      "metadata": {
        "colab": {
          "base_uri": "https://localhost:8080/"
        },
        "id": "L_hXjan6UzMp",
        "outputId": "09cf81a9-cda3-41e3-e7d6-32114d3fcd69"
      },
      "source": [
        "# changing all colunmn names to lower case\n",
        "df_jee03.rename(columns=str.lower, inplace=True)\n",
        "df_jee03.columns"
      ],
      "execution_count": 5,
      "outputs": [
        {
          "output_type": "execute_result",
          "data": {
            "text/plain": [
              "Index(['state_and_type_of_government', 'population_2016_thousands',\n",
              "       'total_direct_expenditure', 'total_justice_system_amount',\n",
              "       'total_justice_system_percent', 'police_protection_amount',\n",
              "       'police_protection_percent_', 'judician_and_legal_amount',\n",
              "       'judicial_and_legal_percent', 'corrections_amount',\n",
              "       'corrections_percent'],\n",
              "      dtype='object')"
            ]
          },
          "metadata": {
            "tags": []
          },
          "execution_count": 5
        }
      ]
    },
    {
      "cell_type": "code",
      "metadata": {
        "colab": {
          "base_uri": "https://localhost:8080/"
        },
        "id": "f4nFe16lT083",
        "outputId": "2d708669-3e86-46d8-8b2f-c33f3ee40833"
      },
      "source": [
        "# replace long column names to shorter ones\n",
        "df_jee03.rename(columns={\"state_and_type_of_government\" : \"state\", \"population_2016_thousands\": \"population_k\"},inplace=True)\n",
        "df_jee03.columns"
      ],
      "execution_count": 6,
      "outputs": [
        {
          "output_type": "execute_result",
          "data": {
            "text/plain": [
              "Index(['state', 'population_k', 'total_direct_expenditure',\n",
              "       'total_justice_system_amount', 'total_justice_system_percent',\n",
              "       'police_protection_amount', 'police_protection_percent_',\n",
              "       'judician_and_legal_amount', 'judicial_and_legal_percent',\n",
              "       'corrections_amount', 'corrections_percent'],\n",
              "      dtype='object')"
            ]
          },
          "metadata": {
            "tags": []
          },
          "execution_count": 6
        }
      ]
    },
    {
      "cell_type": "markdown",
      "metadata": {
        "id": "FgwhAvf231p3"
      },
      "source": [
        "One observation is that, population field is not populated for local, county or muncipalty governments. Hence if records with population value as empty ( \"-\" in this case) are dropped, we can automatically get only state level records."
      ]
    },
    {
      "cell_type": "code",
      "metadata": {
        "colab": {
          "base_uri": "https://localhost:8080/",
          "height": 522
        },
        "id": "G5Z8heKxV3u9",
        "outputId": "3acaeef7-4cd1-4a10-8c18-3597f86c8dc8"
      },
      "source": [
        "# drop records where population value is missing\n",
        "df_jee03 = df_jee03[df_jee03['population_k'] != '-']\n",
        "df_jee03.head(10)"
      ],
      "execution_count": 7,
      "outputs": [
        {
          "output_type": "execute_result",
          "data": {
            "text/html": [
              "<div>\n",
              "<style scoped>\n",
              "    .dataframe tbody tr th:only-of-type {\n",
              "        vertical-align: middle;\n",
              "    }\n",
              "\n",
              "    .dataframe tbody tr th {\n",
              "        vertical-align: top;\n",
              "    }\n",
              "\n",
              "    .dataframe thead th {\n",
              "        text-align: right;\n",
              "    }\n",
              "</style>\n",
              "<table border=\"1\" class=\"dataframe\">\n",
              "  <thead>\n",
              "    <tr style=\"text-align: right;\">\n",
              "      <th></th>\n",
              "      <th>state</th>\n",
              "      <th>population_k</th>\n",
              "      <th>total_direct_expenditure</th>\n",
              "      <th>total_justice_system_amount</th>\n",
              "      <th>total_justice_system_percent</th>\n",
              "      <th>police_protection_amount</th>\n",
              "      <th>police_protection_percent_</th>\n",
              "      <th>judician_and_legal_amount</th>\n",
              "      <th>judicial_and_legal_percent</th>\n",
              "      <th>corrections_amount</th>\n",
              "      <th>corrections_percent</th>\n",
              "    </tr>\n",
              "  </thead>\n",
              "  <tbody>\n",
              "    <tr>\n",
              "      <th>0</th>\n",
              "      <td>States-local, total</td>\n",
              "      <td>323071</td>\n",
              "      <td>3514583394</td>\n",
              "      <td>233483760</td>\n",
              "      <td>6.6</td>\n",
              "      <td>109210078</td>\n",
              "      <td>46.8</td>\n",
              "      <td>46256957</td>\n",
              "      <td>19.8</td>\n",
              "      <td>78016725</td>\n",
              "      <td>33.4</td>\n",
              "    </tr>\n",
              "    <tr>\n",
              "      <th>5</th>\n",
              "      <td>Alabama (AL)</td>\n",
              "      <td>4865</td>\n",
              "      <td>45277563</td>\n",
              "      <td>2335599</td>\n",
              "      <td>5.2</td>\n",
              "      <td>1251270</td>\n",
              "      <td>53.6</td>\n",
              "      <td>362060</td>\n",
              "      <td>15.5</td>\n",
              "      <td>722269</td>\n",
              "      <td>30.9</td>\n",
              "    </tr>\n",
              "    <tr>\n",
              "      <th>10</th>\n",
              "      <td>Alaska (AK)</td>\n",
              "      <td>742</td>\n",
              "      <td>15808697</td>\n",
              "      <td>962214</td>\n",
              "      <td>6.1</td>\n",
              "      <td>370209</td>\n",
              "      <td>38.5</td>\n",
              "      <td>254000</td>\n",
              "      <td>26.4</td>\n",
              "      <td>338005</td>\n",
              "      <td>35.1</td>\n",
              "    </tr>\n",
              "    <tr>\n",
              "      <th>15</th>\n",
              "      <td>Arizona (AZ)</td>\n",
              "      <td>6945</td>\n",
              "      <td>58975013</td>\n",
              "      <td>4929687</td>\n",
              "      <td>8.4</td>\n",
              "      <td>2261558</td>\n",
              "      <td>45.9</td>\n",
              "      <td>983419</td>\n",
              "      <td>19.9</td>\n",
              "      <td>1684710</td>\n",
              "      <td>34.2</td>\n",
              "    </tr>\n",
              "    <tr>\n",
              "      <th>20</th>\n",
              "      <td>Arkansas (AR)</td>\n",
              "      <td>2990</td>\n",
              "      <td>27299957</td>\n",
              "      <td>1507133</td>\n",
              "      <td>5.5</td>\n",
              "      <td>691059</td>\n",
              "      <td>45.9</td>\n",
              "      <td>220343</td>\n",
              "      <td>14.6</td>\n",
              "      <td>595731</td>\n",
              "      <td>39.5</td>\n",
              "    </tr>\n",
              "    <tr>\n",
              "      <th>25</th>\n",
              "      <td>California (CA)</td>\n",
              "      <td>39209</td>\n",
              "      <td>532948138</td>\n",
              "      <td>41714177</td>\n",
              "      <td>7.8</td>\n",
              "      <td>17570133</td>\n",
              "      <td>42.1</td>\n",
              "      <td>8675761</td>\n",
              "      <td>20.8</td>\n",
              "      <td>15468283</td>\n",
              "      <td>37.1</td>\n",
              "    </tr>\n",
              "    <tr>\n",
              "      <th>30</th>\n",
              "      <td>Colorado (CO)</td>\n",
              "      <td>5541</td>\n",
              "      <td>57293994</td>\n",
              "      <td>3940585</td>\n",
              "      <td>6.9</td>\n",
              "      <td>1873320</td>\n",
              "      <td>47.5</td>\n",
              "      <td>754162</td>\n",
              "      <td>19.1</td>\n",
              "      <td>1313103</td>\n",
              "      <td>33.3</td>\n",
              "    </tr>\n",
              "    <tr>\n",
              "      <th>35</th>\n",
              "      <td>Connecticut (CT)</td>\n",
              "      <td>3579</td>\n",
              "      <td>45649898</td>\n",
              "      <td>2748059</td>\n",
              "      <td>6.0</td>\n",
              "      <td>1236997</td>\n",
              "      <td>45.0</td>\n",
              "      <td>826903</td>\n",
              "      <td>30.1</td>\n",
              "      <td>684159</td>\n",
              "      <td>24.9</td>\n",
              "    </tr>\n",
              "    <tr>\n",
              "      <th>39</th>\n",
              "      <td>Delaware (DE)</td>\n",
              "      <td>949</td>\n",
              "      <td>11413711</td>\n",
              "      <td>864358</td>\n",
              "      <td>7.6</td>\n",
              "      <td>348027</td>\n",
              "      <td>40.3</td>\n",
              "      <td>207990</td>\n",
              "      <td>24.1</td>\n",
              "      <td>308341</td>\n",
              "      <td>35.7</td>\n",
              "    </tr>\n",
              "    <tr>\n",
              "      <th>44</th>\n",
              "      <td>District of Columbia</td>\n",
              "      <td>687</td>\n",
              "      <td>16593661</td>\n",
              "      <td>870775</td>\n",
              "      <td>5.2</td>\n",
              "      <td>593345</td>\n",
              "      <td>68.1</td>\n",
              "      <td>132515</td>\n",
              "      <td>15.2</td>\n",
              "      <td>144915</td>\n",
              "      <td>16.6</td>\n",
              "    </tr>\n",
              "  </tbody>\n",
              "</table>\n",
              "</div>"
            ],
            "text/plain": [
              "                   state population_k  ...  corrections_amount  corrections_percent\n",
              "0    States-local, total       323071  ...            78016725                 33.4\n",
              "5           Alabama (AL)         4865  ...              722269                 30.9\n",
              "10           Alaska (AK)          742  ...              338005                 35.1\n",
              "15          Arizona (AZ)         6945  ...             1684710                 34.2\n",
              "20         Arkansas (AR)         2990  ...              595731                 39.5\n",
              "25       California (CA)        39209  ...            15468283                 37.1\n",
              "30         Colorado (CO)         5541  ...             1313103                 33.3\n",
              "35      Connecticut (CT)         3579  ...              684159                 24.9\n",
              "39         Delaware (DE)          949  ...              308341                 35.7\n",
              "44  District of Columbia          687  ...              144915                 16.6\n",
              "\n",
              "[10 rows x 11 columns]"
            ]
          },
          "metadata": {
            "tags": []
          },
          "execution_count": 7
        }
      ]
    },
    {
      "cell_type": "code",
      "metadata": {
        "colab": {
          "base_uri": "https://localhost:8080/"
        },
        "id": "vmDkYPxrYFVB",
        "outputId": "8ae097ed-f9f9-45ac-ac27-9627c026f2fb"
      },
      "source": [
        "# Check if any of the column contains missing value NaN\n",
        "df_jee03.isna().sum(axis=0)"
      ],
      "execution_count": 8,
      "outputs": [
        {
          "output_type": "execute_result",
          "data": {
            "text/plain": [
              "state                           0\n",
              "population_k                    0\n",
              "total_direct_expenditure        0\n",
              "total_justice_system_amount     0\n",
              "total_justice_system_percent    0\n",
              "police_protection_amount        0\n",
              "police_protection_percent_      0\n",
              "judician_and_legal_amount       0\n",
              "judicial_and_legal_percent      0\n",
              "corrections_amount              0\n",
              "corrections_percent             0\n",
              "dtype: int64"
            ]
          },
          "metadata": {
            "tags": []
          },
          "execution_count": 8
        }
      ]
    },
    {
      "cell_type": "code",
      "metadata": {
        "colab": {
          "base_uri": "https://localhost:8080/"
        },
        "id": "NLk_uWnPZkTf",
        "outputId": "376b09fa-6918-433d-ddcd-7713fe63ee05"
      },
      "source": [
        "# Check if any of the column contains NULL value\n",
        "df_jee03.isnull().sum(axis=0)"
      ],
      "execution_count": 9,
      "outputs": [
        {
          "output_type": "execute_result",
          "data": {
            "text/plain": [
              "state                           0\n",
              "population_k                    0\n",
              "total_direct_expenditure        0\n",
              "total_justice_system_amount     0\n",
              "total_justice_system_percent    0\n",
              "police_protection_amount        0\n",
              "police_protection_percent_      0\n",
              "judician_and_legal_amount       0\n",
              "judicial_and_legal_percent      0\n",
              "corrections_amount              0\n",
              "corrections_percent             0\n",
              "dtype: int64"
            ]
          },
          "metadata": {
            "tags": []
          },
          "execution_count": 9
        }
      ]
    },
    {
      "cell_type": "markdown",
      "metadata": {
        "id": "AY-NueDvZVX4"
      },
      "source": [
        "None of the column containes any missing or null value."
      ]
    },
    {
      "cell_type": "code",
      "metadata": {
        "colab": {
          "base_uri": "https://localhost:8080/"
        },
        "id": "E1hzd7Jh4eNp",
        "outputId": "e142a405-cb47-4475-caa7-9996ce1c0597"
      },
      "source": [
        "df_jee03.shape"
      ],
      "execution_count": 10,
      "outputs": [
        {
          "output_type": "execute_result",
          "data": {
            "text/plain": [
              "(52, 11)"
            ]
          },
          "metadata": {
            "tags": []
          },
          "execution_count": 10
        }
      ]
    },
    {
      "cell_type": "code",
      "metadata": {
        "colab": {
          "base_uri": "https://localhost:8080/",
          "height": 522
        },
        "id": "7nJHkcp5YMCF",
        "outputId": "8836bb4c-91a9-4455-918f-ebff6b552a26"
      },
      "source": [
        "# Reset index from 0 as records are dropped.\n",
        "df_jee03.reset_index(drop=True, inplace=True)\n",
        "df_jee03.head(10)"
      ],
      "execution_count": 11,
      "outputs": [
        {
          "output_type": "execute_result",
          "data": {
            "text/html": [
              "<div>\n",
              "<style scoped>\n",
              "    .dataframe tbody tr th:only-of-type {\n",
              "        vertical-align: middle;\n",
              "    }\n",
              "\n",
              "    .dataframe tbody tr th {\n",
              "        vertical-align: top;\n",
              "    }\n",
              "\n",
              "    .dataframe thead th {\n",
              "        text-align: right;\n",
              "    }\n",
              "</style>\n",
              "<table border=\"1\" class=\"dataframe\">\n",
              "  <thead>\n",
              "    <tr style=\"text-align: right;\">\n",
              "      <th></th>\n",
              "      <th>state</th>\n",
              "      <th>population_k</th>\n",
              "      <th>total_direct_expenditure</th>\n",
              "      <th>total_justice_system_amount</th>\n",
              "      <th>total_justice_system_percent</th>\n",
              "      <th>police_protection_amount</th>\n",
              "      <th>police_protection_percent_</th>\n",
              "      <th>judician_and_legal_amount</th>\n",
              "      <th>judicial_and_legal_percent</th>\n",
              "      <th>corrections_amount</th>\n",
              "      <th>corrections_percent</th>\n",
              "    </tr>\n",
              "  </thead>\n",
              "  <tbody>\n",
              "    <tr>\n",
              "      <th>0</th>\n",
              "      <td>States-local, total</td>\n",
              "      <td>323071</td>\n",
              "      <td>3514583394</td>\n",
              "      <td>233483760</td>\n",
              "      <td>6.6</td>\n",
              "      <td>109210078</td>\n",
              "      <td>46.8</td>\n",
              "      <td>46256957</td>\n",
              "      <td>19.8</td>\n",
              "      <td>78016725</td>\n",
              "      <td>33.4</td>\n",
              "    </tr>\n",
              "    <tr>\n",
              "      <th>1</th>\n",
              "      <td>Alabama (AL)</td>\n",
              "      <td>4865</td>\n",
              "      <td>45277563</td>\n",
              "      <td>2335599</td>\n",
              "      <td>5.2</td>\n",
              "      <td>1251270</td>\n",
              "      <td>53.6</td>\n",
              "      <td>362060</td>\n",
              "      <td>15.5</td>\n",
              "      <td>722269</td>\n",
              "      <td>30.9</td>\n",
              "    </tr>\n",
              "    <tr>\n",
              "      <th>2</th>\n",
              "      <td>Alaska (AK)</td>\n",
              "      <td>742</td>\n",
              "      <td>15808697</td>\n",
              "      <td>962214</td>\n",
              "      <td>6.1</td>\n",
              "      <td>370209</td>\n",
              "      <td>38.5</td>\n",
              "      <td>254000</td>\n",
              "      <td>26.4</td>\n",
              "      <td>338005</td>\n",
              "      <td>35.1</td>\n",
              "    </tr>\n",
              "    <tr>\n",
              "      <th>3</th>\n",
              "      <td>Arizona (AZ)</td>\n",
              "      <td>6945</td>\n",
              "      <td>58975013</td>\n",
              "      <td>4929687</td>\n",
              "      <td>8.4</td>\n",
              "      <td>2261558</td>\n",
              "      <td>45.9</td>\n",
              "      <td>983419</td>\n",
              "      <td>19.9</td>\n",
              "      <td>1684710</td>\n",
              "      <td>34.2</td>\n",
              "    </tr>\n",
              "    <tr>\n",
              "      <th>4</th>\n",
              "      <td>Arkansas (AR)</td>\n",
              "      <td>2990</td>\n",
              "      <td>27299957</td>\n",
              "      <td>1507133</td>\n",
              "      <td>5.5</td>\n",
              "      <td>691059</td>\n",
              "      <td>45.9</td>\n",
              "      <td>220343</td>\n",
              "      <td>14.6</td>\n",
              "      <td>595731</td>\n",
              "      <td>39.5</td>\n",
              "    </tr>\n",
              "    <tr>\n",
              "      <th>5</th>\n",
              "      <td>California (CA)</td>\n",
              "      <td>39209</td>\n",
              "      <td>532948138</td>\n",
              "      <td>41714177</td>\n",
              "      <td>7.8</td>\n",
              "      <td>17570133</td>\n",
              "      <td>42.1</td>\n",
              "      <td>8675761</td>\n",
              "      <td>20.8</td>\n",
              "      <td>15468283</td>\n",
              "      <td>37.1</td>\n",
              "    </tr>\n",
              "    <tr>\n",
              "      <th>6</th>\n",
              "      <td>Colorado (CO)</td>\n",
              "      <td>5541</td>\n",
              "      <td>57293994</td>\n",
              "      <td>3940585</td>\n",
              "      <td>6.9</td>\n",
              "      <td>1873320</td>\n",
              "      <td>47.5</td>\n",
              "      <td>754162</td>\n",
              "      <td>19.1</td>\n",
              "      <td>1313103</td>\n",
              "      <td>33.3</td>\n",
              "    </tr>\n",
              "    <tr>\n",
              "      <th>7</th>\n",
              "      <td>Connecticut (CT)</td>\n",
              "      <td>3579</td>\n",
              "      <td>45649898</td>\n",
              "      <td>2748059</td>\n",
              "      <td>6.0</td>\n",
              "      <td>1236997</td>\n",
              "      <td>45.0</td>\n",
              "      <td>826903</td>\n",
              "      <td>30.1</td>\n",
              "      <td>684159</td>\n",
              "      <td>24.9</td>\n",
              "    </tr>\n",
              "    <tr>\n",
              "      <th>8</th>\n",
              "      <td>Delaware (DE)</td>\n",
              "      <td>949</td>\n",
              "      <td>11413711</td>\n",
              "      <td>864358</td>\n",
              "      <td>7.6</td>\n",
              "      <td>348027</td>\n",
              "      <td>40.3</td>\n",
              "      <td>207990</td>\n",
              "      <td>24.1</td>\n",
              "      <td>308341</td>\n",
              "      <td>35.7</td>\n",
              "    </tr>\n",
              "    <tr>\n",
              "      <th>9</th>\n",
              "      <td>District of Columbia</td>\n",
              "      <td>687</td>\n",
              "      <td>16593661</td>\n",
              "      <td>870775</td>\n",
              "      <td>5.2</td>\n",
              "      <td>593345</td>\n",
              "      <td>68.1</td>\n",
              "      <td>132515</td>\n",
              "      <td>15.2</td>\n",
              "      <td>144915</td>\n",
              "      <td>16.6</td>\n",
              "    </tr>\n",
              "  </tbody>\n",
              "</table>\n",
              "</div>"
            ],
            "text/plain": [
              "                  state population_k  ...  corrections_amount  corrections_percent\n",
              "0   States-local, total       323071  ...            78016725                 33.4\n",
              "1          Alabama (AL)         4865  ...              722269                 30.9\n",
              "2           Alaska (AK)          742  ...              338005                 35.1\n",
              "3          Arizona (AZ)         6945  ...             1684710                 34.2\n",
              "4         Arkansas (AR)         2990  ...              595731                 39.5\n",
              "5       California (CA)        39209  ...            15468283                 37.1\n",
              "6         Colorado (CO)         5541  ...             1313103                 33.3\n",
              "7      Connecticut (CT)         3579  ...              684159                 24.9\n",
              "8         Delaware (DE)          949  ...              308341                 35.7\n",
              "9  District of Columbia          687  ...              144915                 16.6\n",
              "\n",
              "[10 rows x 11 columns]"
            ]
          },
          "metadata": {
            "tags": []
          },
          "execution_count": 11
        }
      ]
    },
    {
      "cell_type": "code",
      "metadata": {
        "colab": {
          "base_uri": "https://localhost:8080/",
          "height": 505
        },
        "id": "iHmc9TrNZzhw",
        "outputId": "d5b41a7c-5907-4bd0-87ba-9a7b94898d7d"
      },
      "source": [
        "# delete first index as its not state level record\n",
        "df_jee03.drop(index=0,inplace=True)\n",
        "df_jee03.head(10)"
      ],
      "execution_count": 12,
      "outputs": [
        {
          "output_type": "execute_result",
          "data": {
            "text/html": [
              "<div>\n",
              "<style scoped>\n",
              "    .dataframe tbody tr th:only-of-type {\n",
              "        vertical-align: middle;\n",
              "    }\n",
              "\n",
              "    .dataframe tbody tr th {\n",
              "        vertical-align: top;\n",
              "    }\n",
              "\n",
              "    .dataframe thead th {\n",
              "        text-align: right;\n",
              "    }\n",
              "</style>\n",
              "<table border=\"1\" class=\"dataframe\">\n",
              "  <thead>\n",
              "    <tr style=\"text-align: right;\">\n",
              "      <th></th>\n",
              "      <th>state</th>\n",
              "      <th>population_k</th>\n",
              "      <th>total_direct_expenditure</th>\n",
              "      <th>total_justice_system_amount</th>\n",
              "      <th>total_justice_system_percent</th>\n",
              "      <th>police_protection_amount</th>\n",
              "      <th>police_protection_percent_</th>\n",
              "      <th>judician_and_legal_amount</th>\n",
              "      <th>judicial_and_legal_percent</th>\n",
              "      <th>corrections_amount</th>\n",
              "      <th>corrections_percent</th>\n",
              "    </tr>\n",
              "  </thead>\n",
              "  <tbody>\n",
              "    <tr>\n",
              "      <th>1</th>\n",
              "      <td>Alabama (AL)</td>\n",
              "      <td>4865</td>\n",
              "      <td>45277563</td>\n",
              "      <td>2335599</td>\n",
              "      <td>5.2</td>\n",
              "      <td>1251270</td>\n",
              "      <td>53.6</td>\n",
              "      <td>362060</td>\n",
              "      <td>15.5</td>\n",
              "      <td>722269</td>\n",
              "      <td>30.9</td>\n",
              "    </tr>\n",
              "    <tr>\n",
              "      <th>2</th>\n",
              "      <td>Alaska (AK)</td>\n",
              "      <td>742</td>\n",
              "      <td>15808697</td>\n",
              "      <td>962214</td>\n",
              "      <td>6.1</td>\n",
              "      <td>370209</td>\n",
              "      <td>38.5</td>\n",
              "      <td>254000</td>\n",
              "      <td>26.4</td>\n",
              "      <td>338005</td>\n",
              "      <td>35.1</td>\n",
              "    </tr>\n",
              "    <tr>\n",
              "      <th>3</th>\n",
              "      <td>Arizona (AZ)</td>\n",
              "      <td>6945</td>\n",
              "      <td>58975013</td>\n",
              "      <td>4929687</td>\n",
              "      <td>8.4</td>\n",
              "      <td>2261558</td>\n",
              "      <td>45.9</td>\n",
              "      <td>983419</td>\n",
              "      <td>19.9</td>\n",
              "      <td>1684710</td>\n",
              "      <td>34.2</td>\n",
              "    </tr>\n",
              "    <tr>\n",
              "      <th>4</th>\n",
              "      <td>Arkansas (AR)</td>\n",
              "      <td>2990</td>\n",
              "      <td>27299957</td>\n",
              "      <td>1507133</td>\n",
              "      <td>5.5</td>\n",
              "      <td>691059</td>\n",
              "      <td>45.9</td>\n",
              "      <td>220343</td>\n",
              "      <td>14.6</td>\n",
              "      <td>595731</td>\n",
              "      <td>39.5</td>\n",
              "    </tr>\n",
              "    <tr>\n",
              "      <th>5</th>\n",
              "      <td>California (CA)</td>\n",
              "      <td>39209</td>\n",
              "      <td>532948138</td>\n",
              "      <td>41714177</td>\n",
              "      <td>7.8</td>\n",
              "      <td>17570133</td>\n",
              "      <td>42.1</td>\n",
              "      <td>8675761</td>\n",
              "      <td>20.8</td>\n",
              "      <td>15468283</td>\n",
              "      <td>37.1</td>\n",
              "    </tr>\n",
              "    <tr>\n",
              "      <th>6</th>\n",
              "      <td>Colorado (CO)</td>\n",
              "      <td>5541</td>\n",
              "      <td>57293994</td>\n",
              "      <td>3940585</td>\n",
              "      <td>6.9</td>\n",
              "      <td>1873320</td>\n",
              "      <td>47.5</td>\n",
              "      <td>754162</td>\n",
              "      <td>19.1</td>\n",
              "      <td>1313103</td>\n",
              "      <td>33.3</td>\n",
              "    </tr>\n",
              "    <tr>\n",
              "      <th>7</th>\n",
              "      <td>Connecticut (CT)</td>\n",
              "      <td>3579</td>\n",
              "      <td>45649898</td>\n",
              "      <td>2748059</td>\n",
              "      <td>6.0</td>\n",
              "      <td>1236997</td>\n",
              "      <td>45.0</td>\n",
              "      <td>826903</td>\n",
              "      <td>30.1</td>\n",
              "      <td>684159</td>\n",
              "      <td>24.9</td>\n",
              "    </tr>\n",
              "    <tr>\n",
              "      <th>8</th>\n",
              "      <td>Delaware (DE)</td>\n",
              "      <td>949</td>\n",
              "      <td>11413711</td>\n",
              "      <td>864358</td>\n",
              "      <td>7.6</td>\n",
              "      <td>348027</td>\n",
              "      <td>40.3</td>\n",
              "      <td>207990</td>\n",
              "      <td>24.1</td>\n",
              "      <td>308341</td>\n",
              "      <td>35.7</td>\n",
              "    </tr>\n",
              "    <tr>\n",
              "      <th>9</th>\n",
              "      <td>District of Columbia</td>\n",
              "      <td>687</td>\n",
              "      <td>16593661</td>\n",
              "      <td>870775</td>\n",
              "      <td>5.2</td>\n",
              "      <td>593345</td>\n",
              "      <td>68.1</td>\n",
              "      <td>132515</td>\n",
              "      <td>15.2</td>\n",
              "      <td>144915</td>\n",
              "      <td>16.6</td>\n",
              "    </tr>\n",
              "    <tr>\n",
              "      <th>10</th>\n",
              "      <td>Florida (FL)</td>\n",
              "      <td>20630</td>\n",
              "      <td>167229459</td>\n",
              "      <td>14463341</td>\n",
              "      <td>8.6</td>\n",
              "      <td>7848477</td>\n",
              "      <td>54.3</td>\n",
              "      <td>2366274</td>\n",
              "      <td>16.4</td>\n",
              "      <td>4248590</td>\n",
              "      <td>29.4</td>\n",
              "    </tr>\n",
              "  </tbody>\n",
              "</table>\n",
              "</div>"
            ],
            "text/plain": [
              "                   state population_k  ...  corrections_amount  corrections_percent\n",
              "1           Alabama (AL)         4865  ...              722269                 30.9\n",
              "2            Alaska (AK)          742  ...              338005                 35.1\n",
              "3           Arizona (AZ)         6945  ...             1684710                 34.2\n",
              "4          Arkansas (AR)         2990  ...              595731                 39.5\n",
              "5        California (CA)        39209  ...            15468283                 37.1\n",
              "6          Colorado (CO)         5541  ...             1313103                 33.3\n",
              "7       Connecticut (CT)         3579  ...              684159                 24.9\n",
              "8          Delaware (DE)          949  ...              308341                 35.7\n",
              "9   District of Columbia          687  ...              144915                 16.6\n",
              "10          Florida (FL)        20630  ...             4248590                 29.4\n",
              "\n",
              "[10 rows x 11 columns]"
            ]
          },
          "metadata": {
            "tags": []
          },
          "execution_count": 12
        }
      ]
    },
    {
      "cell_type": "code",
      "metadata": {
        "colab": {
          "base_uri": "https://localhost:8080/"
        },
        "id": "wr1FFJ0qaK5N",
        "outputId": "b9a65ef9-0216-4491-c33f-6e8541921817"
      },
      "source": [
        "# check the data type of each field\n",
        "df_jee03.dtypes"
      ],
      "execution_count": 13,
      "outputs": [
        {
          "output_type": "execute_result",
          "data": {
            "text/plain": [
              "state                            object\n",
              "population_k                     object\n",
              "total_direct_expenditure          int64\n",
              "total_justice_system_amount       int64\n",
              "total_justice_system_percent    float64\n",
              "police_protection_amount          int64\n",
              "police_protection_percent_      float64\n",
              "judician_and_legal_amount         int64\n",
              "judicial_and_legal_percent      float64\n",
              "corrections_amount                int64\n",
              "corrections_percent             float64\n",
              "dtype: object"
            ]
          },
          "metadata": {
            "tags": []
          },
          "execution_count": 13
        }
      ]
    },
    {
      "cell_type": "code",
      "metadata": {
        "colab": {
          "base_uri": "https://localhost:8080/"
        },
        "id": "bfDWoCR8a2vP",
        "outputId": "398a592c-c6c6-4f72-e0f6-00d1d7bb3e85"
      },
      "source": [
        "# coverting population_k to numeric type\n",
        "df_jee03['population_k'] = df_jee03['population_k'].apply(pd.to_numeric)\n",
        "df_jee03.dtypes"
      ],
      "execution_count": 14,
      "outputs": [
        {
          "output_type": "execute_result",
          "data": {
            "text/plain": [
              "state                            object\n",
              "population_k                      int64\n",
              "total_direct_expenditure          int64\n",
              "total_justice_system_amount       int64\n",
              "total_justice_system_percent    float64\n",
              "police_protection_amount          int64\n",
              "police_protection_percent_      float64\n",
              "judician_and_legal_amount         int64\n",
              "judicial_and_legal_percent      float64\n",
              "corrections_amount                int64\n",
              "corrections_percent             float64\n",
              "dtype: object"
            ]
          },
          "metadata": {
            "tags": []
          },
          "execution_count": 14
        }
      ]
    },
    {
      "cell_type": "code",
      "metadata": {
        "id": "IAjDw3mbcFK-"
      },
      "source": [
        "import re\n",
        "# Remove any any text starting from parenthisis \"(\"\" to end using regex\n",
        "df_jee03['state'] = df_jee03['state'].apply(lambda x: re.sub(\"\\\\(.*\", \"\",x))"
      ],
      "execution_count": 15,
      "outputs": []
    },
    {
      "cell_type": "code",
      "metadata": {
        "colab": {
          "base_uri": "https://localhost:8080/"
        },
        "id": "bDGN7kT8fXou",
        "outputId": "517b7dd8-28bd-4934-ecdf-e60ab62fbcea"
      },
      "source": [
        "df_jee03['state'].head()"
      ],
      "execution_count": 16,
      "outputs": [
        {
          "output_type": "execute_result",
          "data": {
            "text/plain": [
              "1       Alabama \n",
              "2        Alaska \n",
              "3       Arizona \n",
              "4      Arkansas \n",
              "5    California \n",
              "Name: state, dtype: object"
            ]
          },
          "metadata": {
            "tags": []
          },
          "execution_count": 16
        }
      ]
    },
    {
      "cell_type": "code",
      "metadata": {
        "colab": {
          "base_uri": "https://localhost:8080/"
        },
        "id": "xPKlJKCAgK4k",
        "outputId": "682b0096-59fd-4760-d992-ef1aa9958f5c"
      },
      "source": [
        "# Removing any leading and trailing spaces and coverting state names to uppercase\n",
        "df_jee03['state'] = df_jee03['state'].str.strip()\n",
        "df_jee03['state'] = df_jee03['state'].str.upper()\n",
        "df_jee03['state'].head()"
      ],
      "execution_count": 17,
      "outputs": [
        {
          "output_type": "execute_result",
          "data": {
            "text/plain": [
              "1       ALABAMA\n",
              "2        ALASKA\n",
              "3       ARIZONA\n",
              "4      ARKANSAS\n",
              "5    CALIFORNIA\n",
              "Name: state, dtype: object"
            ]
          },
          "metadata": {
            "tags": []
          },
          "execution_count": 17
        }
      ]
    },
    {
      "cell_type": "markdown",
      "metadata": {
        "id": "vIYJ0gwKUrAH"
      },
      "source": [
        "# Milestone 3\n",
        "\n",
        "Cleaning/Formatting Website Data\n",
        "Perform at least 5 data transformation and/or cleansing steps to your website data. For example:\n",
        "* Replace Headers\n",
        "* Format data into a more readable format\n",
        "* Identify outliers and bad data\n",
        "* Find duplicates\n",
        "* Fix casing or inconsistent values\n",
        "* Conduct Fuzzy Matching\n",
        "\n",
        "For WebSite data source I have chosen  Public dataset on Crime for fiscal 2016 from FBI - https://ucr.fbi.gov/crime-in-the-u.s/2016/crime-in-the-u.s.-2016/tables/table-3\n",
        "\n",
        "Let's fetch this data. I will use beautiful soup library to scrape that data."
      ]
    },
    {
      "cell_type": "code",
      "metadata": {
        "colab": {
          "base_uri": "https://localhost:8080/"
        },
        "id": "qNjnhYtfV97-",
        "outputId": "23f8fc99-3955-4337-a53e-523dd63ee9f2"
      },
      "source": [
        "from bs4 import BeautifulSoup\n",
        "import requests\n",
        "\n",
        "resp = requests.get(\"https://ucr.fbi.gov/crime-in-the-u.s/2016/crime-in-the-u.s.-2016/tables/table-3\")\n",
        "respTxt = resp.text\n",
        "# printing first 500 characters of html page\n",
        "print(respTxt[:500])"
      ],
      "execution_count": 18,
      "outputs": [
        {
          "output_type": "stream",
          "text": [
            "<!DOCTYPE html PUBLIC \"-//W3C//DTD XHTML 1.0 Transitional//EN\" \"http://www.w3.org/TR/xhtml1/DTD/xhtml1-transitional.dtd\"><html xmlns=\"http://www.w3.org/1999/xhtml\" lang=\"en-us\" xml:lang=\"en-us\">\n",
            "<head>\n",
            "<base href=\"https://ucr.fbi.gov/crime-in-the-u.s/2016/crime-in-the-u.s.-2016/tables/table-3/table-3.xls\" /><title>FBI — Table 3</title>\n",
            "<meta charset=\"utf-8\" />\n",
            "<meta http-equiv=\"x-ua-compatible\" content=\"ie=edge\" />\n",
            "\n",
            "<link rel=\"shortcut icon\" type=\"image/x-icon\" href=\"img/favicon.ico\" />\n",
            "<link re\n"
          ],
          "name": "stdout"
        }
      ]
    },
    {
      "cell_type": "code",
      "metadata": {
        "id": "12RVn3Eray9Q"
      },
      "source": [
        "# Load the HTML dom structure in soup library which will parse the elements\n",
        "soup = BeautifulSoup(respTxt)"
      ],
      "execution_count": 19,
      "outputs": []
    },
    {
      "cell_type": "markdown",
      "metadata": {
        "id": "umBcUAJHbsFk"
      },
      "source": [
        "Inspecting the web page in chrome developer view shows that the table where data is present has CSS class as \"data\". Hence filtering the table with css tag."
      ]
    },
    {
      "cell_type": "code",
      "metadata": {
        "id": "RhIEb7i4b8Cf",
        "colab": {
          "base_uri": "https://localhost:8080/"
        },
        "outputId": "0cba92d7-9b79-419d-e57c-c4e02e35c146"
      },
      "source": [
        "data_table = soup.find(\"table\", {\"class\": \"data\"})\n",
        "# The field names of data are in row within <thead> html tag.\n",
        "# Extracting fields names which will be used as column names in datafarme\n",
        "headers = data_table.thead.findAll('tr', recursive=False)[0]\n",
        "column_names = [th.text for th in headers.findAll('th')]\n",
        "column_names"
      ],
      "execution_count": 20,
      "outputs": [
        {
          "output_type": "execute_result",
          "data": {
            "text/plain": [
              "['\\nState',\n",
              " '\\nArea',\n",
              " '\\n',\n",
              " '\\nPopulation',\n",
              " '\\nViolentcrime1',\n",
              " '\\nMurder and nonnegligent manslaughter',\n",
              " '\\nRape(reviseddefinition2) ',\n",
              " '\\nRape(legacydefinition3)',\n",
              " '\\nRobbery',\n",
              " '\\nAggravated assault',\n",
              " '\\nProperty crime',\n",
              " '\\nBurglary',\n",
              " '\\nLarceny-theft',\n",
              " '\\nMotor vehicle theft']"
            ]
          },
          "metadata": {
            "tags": []
          },
          "execution_count": 20
        }
      ]
    },
    {
      "cell_type": "markdown",
      "metadata": {
        "id": "XTP3h5jdfYJf"
      },
      "source": [
        "Column names contains extra \\n at the begining. I will perform following cleanup on column names\n",
        "* Remove \"\\n\" from the begining of name\n",
        "* Replace spaces \" \" and parentheis \"(\" and dashes \"-\" with _ (underscores)\n",
        "* Change the case of names to lowercase   "
      ]
    },
    {
      "cell_type": "markdown",
      "metadata": {
        "id": "Eb7sTXO6g_vE"
      },
      "source": [
        ""
      ]
    },
    {
      "cell_type": "code",
      "metadata": {
        "colab": {
          "base_uri": "https://localhost:8080/"
        },
        "id": "CbD8gCm1hggF",
        "outputId": "018e227e-ff7e-4730-b4c1-4d0cb896bdb8"
      },
      "source": [
        "# This function will change the parameter passed to follow naming standard\n",
        "def naming_convention(name):\n",
        "   char_to_replace = {\n",
        "       \" \":\"_\",\n",
        "       \"-\":\"_\",\n",
        "       \"(\":\"_\",\n",
        "       \")\":\"_\"\n",
        "   }\n",
        "   # strip method will remove \\n and any leading/trailing whitespaces\n",
        "   better_name = name.strip().lower()\n",
        "   # Replace string place holders according to values in dictionary \n",
        "   better_name = better_name.translate(str.maketrans(char_to_replace))\n",
        "   return better_name.rstrip('_')\n",
        "\n",
        "new_column_names = [naming_convention(x) for x in column_names]\n",
        "new_column_names"
      ],
      "execution_count": 21,
      "outputs": [
        {
          "output_type": "execute_result",
          "data": {
            "text/plain": [
              "['state',\n",
              " 'area',\n",
              " '',\n",
              " 'population',\n",
              " 'violentcrime1',\n",
              " 'murder_and_nonnegligent_manslaughter',\n",
              " 'rape_reviseddefinition2',\n",
              " 'rape_legacydefinition3',\n",
              " 'robbery',\n",
              " 'aggravated_assault',\n",
              " 'property_crime',\n",
              " 'burglary',\n",
              " 'larceny_theft',\n",
              " 'motor_vehicle_theft']"
            ]
          },
          "metadata": {
            "tags": []
          },
          "execution_count": 21
        }
      ]
    },
    {
      "cell_type": "markdown",
      "metadata": {
        "id": "4uCfgo5TQh4o"
      },
      "source": [
        "The 2nd column \"Area\" shows different scoped values i.e. Metropolitan area, cities outside metropolitan area and Non-metropolitan counties. At the bottom it shows state Total which is of our interest"
      ]
    },
    {
      "cell_type": "code",
      "metadata": {
        "colab": {
          "base_uri": "https://localhost:8080/"
        },
        "id": "jkqklX0YHi1m",
        "outputId": "0fcc9656-5aef-446d-f747-c0a529ed5974"
      },
      "source": [
        "# Removing empty column and Area column from list\n",
        "invalid_columns = ['area','']\n",
        "new_column_names = [ele for ele in new_column_names if ele not in invalid_columns]\n",
        "new_column_names"
      ],
      "execution_count": 22,
      "outputs": [
        {
          "output_type": "execute_result",
          "data": {
            "text/plain": [
              "['state',\n",
              " 'population',\n",
              " 'violentcrime1',\n",
              " 'murder_and_nonnegligent_manslaughter',\n",
              " 'rape_reviseddefinition2',\n",
              " 'rape_legacydefinition3',\n",
              " 'robbery',\n",
              " 'aggravated_assault',\n",
              " 'property_crime',\n",
              " 'burglary',\n",
              " 'larceny_theft',\n",
              " 'motor_vehicle_theft']"
            ]
          },
          "metadata": {
            "tags": []
          },
          "execution_count": 22
        }
      ]
    },
    {
      "cell_type": "markdown",
      "metadata": {
        "id": "GNywqZP_qCOJ"
      },
      "source": [
        "**Some of the key observations looking at the HTML page of website**\n",
        "* The data is not plain tabular\n",
        "* The data contains lot of hierachial elements \n",
        "* The 3rd column of HTML is more of remark kind of column with some information. I won't use that column as I am only interested in total State level values\n",
        "\n",
        "\n"
      ]
    },
    {
      "cell_type": "markdown",
      "metadata": {
        "id": "BBOzVyF6HkOR"
      },
      "source": [
        "Looking very carefully for data extraction purpose, I can conclude that\n",
        "* Each state name is inside \\<b> tags i.e \\<b>ALABAMA\\</b> and so on\n",
        "* Final data of our interest is in **BOLD** (i.e. stylesheet class name **bold**)"
      ]
    },
    {
      "cell_type": "code",
      "metadata": {
        "colab": {
          "base_uri": "https://localhost:8080/"
        },
        "id": "uiDFyDtRy0NN",
        "outputId": "343d1323-145d-43a5-8ab6-1be656e39bfd"
      },
      "source": [
        "# Finding all <b> elements inside <tbody> \n",
        "b_list = data_table.tbody.findAll('b')\n",
        "state_list = list(map(lambda x: x.text,b_list))\n",
        "state_list[:10]"
      ],
      "execution_count": 23,
      "outputs": [
        {
          "output_type": "execute_result",
          "data": {
            "text/plain": [
              "['ALABAMA',\n",
              " 'State Total',\n",
              " '',\n",
              " 'ALASKA',\n",
              " 'State Total',\n",
              " '',\n",
              " 'ARIZONA',\n",
              " 'State Total',\n",
              " '',\n",
              " 'ARKANSAS']"
            ]
          },
          "metadata": {
            "tags": []
          },
          "execution_count": 23
        }
      ]
    },
    {
      "cell_type": "markdown",
      "metadata": {
        "id": "kyrRK_KZE6FV"
      },
      "source": [
        "There are lot of invalid values in State list. Lets identify the invalid name patterns and clean up the list."
      ]
    },
    {
      "cell_type": "code",
      "metadata": {
        "colab": {
          "base_uri": "https://localhost:8080/"
        },
        "id": "byjIbIPIEyo1",
        "outputId": "e3136208-ce46-4987-9900-9075dc1c7c93"
      },
      "source": [
        "# Removing invalid values identified in manual inspection\n",
        "# TODO - Find better way to identify valid State list and delete all other values\n",
        "invalid_vals = ['',' ','State Total','Total','1','2','3','4','5','6','7','8','9','0']\n",
        "state_names = [ele for ele in state_list if ele not in invalid_vals]\n",
        "state_names"
      ],
      "execution_count": 24,
      "outputs": [
        {
          "output_type": "execute_result",
          "data": {
            "text/plain": [
              "['ALABAMA',\n",
              " 'ALASKA',\n",
              " 'ARIZONA',\n",
              " 'ARKANSAS',\n",
              " 'CALIFORNIA',\n",
              " 'COLORADO',\n",
              " 'CONNECTICUT',\n",
              " 'DELAWARE',\n",
              " 'DISTRICT OF COLUMBIA',\n",
              " 'FLORIDA',\n",
              " 'GEORGIA',\n",
              " 'HAWAII',\n",
              " 'IDAHO',\n",
              " 'ILLINOIS',\n",
              " 'INDIANA',\n",
              " 'IOWA',\n",
              " 'KANSAS',\n",
              " 'KENTUCKY',\n",
              " 'LOUISIANA',\n",
              " 'MAINE',\n",
              " 'MARYLAND',\n",
              " 'MASSACHUSETTS',\n",
              " 'MICHIGAN',\n",
              " 'MINNESOTA',\n",
              " 'MISSISSIPPI',\n",
              " 'MISSOURI',\n",
              " 'MONTANA',\n",
              " 'NEBRASKA',\n",
              " 'NEVADA',\n",
              " 'NEW HAMPSHIRE',\n",
              " 'NEW JERSEY',\n",
              " 'NEW MEXICO',\n",
              " 'NEW YORK',\n",
              " 'NORTH CAROLINA',\n",
              " 'NORTH DAKOTA',\n",
              " 'OHIO',\n",
              " 'OKLAHOMA',\n",
              " 'OREGON',\n",
              " 'PENNSYLVANIA',\n",
              " 'PUERTO RICO',\n",
              " 'RHODE ISLAND',\n",
              " 'SOUTH CAROLINA',\n",
              " 'SOUTH DAKOTA',\n",
              " 'TENNESSEE',\n",
              " 'TEXAS',\n",
              " 'UTAH',\n",
              " 'VERMONT',\n",
              " 'VIRGINIA',\n",
              " 'WASHINGTON',\n",
              " 'WEST VIRGINIA',\n",
              " 'WISCONSIN',\n",
              " 'WYOMING']"
            ]
          },
          "metadata": {
            "tags": []
          },
          "execution_count": 24
        }
      ]
    },
    {
      "cell_type": "code",
      "metadata": {
        "colab": {
          "base_uri": "https://localhost:8080/",
          "height": 201
        },
        "id": "-zgBk8E0hYT8",
        "outputId": "b738a91b-7cbf-46a3-fb68-3c179e6da78b"
      },
      "source": [
        "# Creating state dataframe\n",
        "state_df = pd.DataFrame(state_names)\n",
        "state_df.head()"
      ],
      "execution_count": 25,
      "outputs": [
        {
          "output_type": "execute_result",
          "data": {
            "text/html": [
              "<div>\n",
              "<style scoped>\n",
              "    .dataframe tbody tr th:only-of-type {\n",
              "        vertical-align: middle;\n",
              "    }\n",
              "\n",
              "    .dataframe tbody tr th {\n",
              "        vertical-align: top;\n",
              "    }\n",
              "\n",
              "    .dataframe thead th {\n",
              "        text-align: right;\n",
              "    }\n",
              "</style>\n",
              "<table border=\"1\" class=\"dataframe\">\n",
              "  <thead>\n",
              "    <tr style=\"text-align: right;\">\n",
              "      <th></th>\n",
              "      <th>0</th>\n",
              "    </tr>\n",
              "  </thead>\n",
              "  <tbody>\n",
              "    <tr>\n",
              "      <th>0</th>\n",
              "      <td>ALABAMA</td>\n",
              "    </tr>\n",
              "    <tr>\n",
              "      <th>1</th>\n",
              "      <td>ALASKA</td>\n",
              "    </tr>\n",
              "    <tr>\n",
              "      <th>2</th>\n",
              "      <td>ARIZONA</td>\n",
              "    </tr>\n",
              "    <tr>\n",
              "      <th>3</th>\n",
              "      <td>ARKANSAS</td>\n",
              "    </tr>\n",
              "    <tr>\n",
              "      <th>4</th>\n",
              "      <td>CALIFORNIA</td>\n",
              "    </tr>\n",
              "  </tbody>\n",
              "</table>\n",
              "</div>"
            ],
            "text/plain": [
              "            0\n",
              "0     ALABAMA\n",
              "1      ALASKA\n",
              "2     ARIZONA\n",
              "3    ARKANSAS\n",
              "4  CALIFORNIA"
            ]
          },
          "metadata": {
            "tags": []
          },
          "execution_count": 25
        }
      ]
    },
    {
      "cell_type": "markdown",
      "metadata": {
        "id": "iPiTlwWBF_9P"
      },
      "source": [
        "Now lets extract the values of our interest i.e. **State level total values**.\n",
        "\n",
        "Careful inspection in chrome browser showed that state level values are in stylesheet \"bold\". Thats why those appear in bold on web page."
      ]
    },
    {
      "cell_type": "code",
      "metadata": {
        "colab": {
          "base_uri": "https://localhost:8080/"
        },
        "id": "Qgp252Bezfid",
        "outputId": "d9c387ff-e6ca-4159-9cd2-15f24150a1e4"
      },
      "source": [
        "# Extracting all elements with stylesheet class bold\n",
        "bold_list = data_table.tbody.findAll('td', {\"class\": \"bold\"})\n",
        "# Extracting text value from elements\n",
        "values_list = list(map(lambda x: x.text.strip(),bold_list))\n",
        "# printing only 1st record field values\n",
        "values_list[:11]"
      ],
      "execution_count": 26,
      "outputs": [
        {
          "output_type": "execute_result",
          "data": {
            "text/plain": [
              "['4,863,300',\n",
              " '25,886',\n",
              " '407',\n",
              " '1,916',\n",
              " '1,385',\n",
              " '4,686',\n",
              " '18,877',\n",
              " '143,362',\n",
              " '34,065',\n",
              " '97,574',\n",
              " '11,723']"
            ]
          },
          "metadata": {
            "tags": []
          },
          "execution_count": 26
        }
      ]
    },
    {
      "cell_type": "markdown",
      "metadata": {
        "id": "GgJtYXbYJTg-"
      },
      "source": [
        "These values are in business number format with commas. Let's convert it to numneric format"
      ]
    },
    {
      "cell_type": "code",
      "metadata": {
        "colab": {
          "base_uri": "https://localhost:8080/"
        },
        "id": "-jQqz8dVKPlp",
        "outputId": "92a7f57d-64c6-4c52-eeca-f54ed17f0b44"
      },
      "source": [
        "import locale\n",
        "locale.setlocale(locale.LC_ALL, 'en_US.UTF8')\n",
        "values_list1 = list(map(lambda x: locale.atof(x),values_list))\n",
        "# printing last row values after conversion\n",
        "values_list1[-11:]\n"
      ],
      "execution_count": 27,
      "outputs": [
        {
          "output_type": "execute_result",
          "data": {
            "text/plain": [
              "[585501.0,\n",
              " 1430.0,\n",
              " 20.0,\n",
              " 205.0,\n",
              " 150.0,\n",
              " 59.0,\n",
              " 1146.0,\n",
              " 11460.0,\n",
              " 1771.0,\n",
              " 8889.0,\n",
              " 800.0]"
            ]
          },
          "metadata": {
            "tags": []
          },
          "execution_count": 27
        }
      ]
    },
    {
      "cell_type": "markdown",
      "metadata": {
        "id": "sSraJWnAUpGI"
      },
      "source": [
        "**To my surprise, there is issue with entry for VERMONT state.**  \n",
        "*Property crime* field value at state level is not in Bold. This is causing all values after that getting indexed in correctly.\n",
        "\n",
        "I am unable to find any programmatic way for handling this type of issue as the data on web page is not exactly tabular. I found the discrepancy by visual inspection which is fine in this case as data is limited. However it may not be possible to fix this kind of issue if have large dataset.\n",
        "\n",
        "In this case manually fixing the value by inserting correct value at that index. The value I need to insert is 10602"
      ]
    },
    {
      "cell_type": "code",
      "metadata": {
        "colab": {
          "base_uri": "https://localhost:8080/"
        },
        "id": "1Co7VDYrYeDN",
        "outputId": "cd6a9c90-0a62-4cdd-dc8a-349f19004b53"
      },
      "source": [
        "# Finding index value of adjecent elements where correct value needs to be inserted. \n",
        "print(f\" Index of value 691 {values_list1.index(691)} and index of value {values_list1.index(2103)}\")"
      ],
      "execution_count": 28,
      "outputs": [
        {
          "output_type": "stream",
          "text": [
            " Index of value 691 512 and index of value 513\n"
          ],
          "name": "stdout"
        }
      ]
    },
    {
      "cell_type": "code",
      "metadata": {
        "colab": {
          "base_uri": "https://localhost:8080/"
        },
        "id": "stgo9ZrAZF2n",
        "outputId": "2f057a1f-29d9-46b5-c84c-7652ee5c64ed"
      },
      "source": [
        "values_list1.insert(513,10602)\n",
        "len(values_list1)"
      ],
      "execution_count": 29,
      "outputs": [
        {
          "output_type": "execute_result",
          "data": {
            "text/plain": [
              "572"
            ]
          },
          "metadata": {
            "tags": []
          },
          "execution_count": 29
        }
      ]
    },
    {
      "cell_type": "markdown",
      "metadata": {
        "id": "frCIDRBxdxU2"
      },
      "source": [
        "For each state there are 11 field values.\n",
        "\n",
        "So there are 52 states data i.e rows and 11 field values."
      ]
    },
    {
      "cell_type": "code",
      "metadata": {
        "id": "RPHk_j9XOdYQ"
      },
      "source": [
        "# Creating numpy array and setting its dimension\n",
        "fbi_data = np.array(values_list1,dtype='float64').reshape(52,11)"
      ],
      "execution_count": 30,
      "outputs": []
    },
    {
      "cell_type": "markdown",
      "metadata": {
        "id": "w5sk1J4feHrk"
      },
      "source": [
        "Lets create a panda dataframe from this data."
      ]
    },
    {
      "cell_type": "code",
      "metadata": {
        "colab": {
          "base_uri": "https://localhost:8080/",
          "height": 221
        },
        "id": "eEK0NJcTYjER",
        "outputId": "d7f69d32-77e2-4d32-9217-13f8eee42b61"
      },
      "source": [
        "crime_data_df = pd.DataFrame(fbi_data)\n",
        "crime_data_df.head()\n",
        "    "
      ],
      "execution_count": 31,
      "outputs": [
        {
          "output_type": "execute_result",
          "data": {
            "text/html": [
              "<div>\n",
              "<style scoped>\n",
              "    .dataframe tbody tr th:only-of-type {\n",
              "        vertical-align: middle;\n",
              "    }\n",
              "\n",
              "    .dataframe tbody tr th {\n",
              "        vertical-align: top;\n",
              "    }\n",
              "\n",
              "    .dataframe thead th {\n",
              "        text-align: right;\n",
              "    }\n",
              "</style>\n",
              "<table border=\"1\" class=\"dataframe\">\n",
              "  <thead>\n",
              "    <tr style=\"text-align: right;\">\n",
              "      <th></th>\n",
              "      <th>0</th>\n",
              "      <th>1</th>\n",
              "      <th>2</th>\n",
              "      <th>3</th>\n",
              "      <th>4</th>\n",
              "      <th>5</th>\n",
              "      <th>6</th>\n",
              "      <th>7</th>\n",
              "      <th>8</th>\n",
              "      <th>9</th>\n",
              "      <th>10</th>\n",
              "    </tr>\n",
              "  </thead>\n",
              "  <tbody>\n",
              "    <tr>\n",
              "      <th>0</th>\n",
              "      <td>4863300.0</td>\n",
              "      <td>25886.0</td>\n",
              "      <td>407.0</td>\n",
              "      <td>1916.0</td>\n",
              "      <td>1385.0</td>\n",
              "      <td>4686.0</td>\n",
              "      <td>18877.0</td>\n",
              "      <td>143362.0</td>\n",
              "      <td>34065.0</td>\n",
              "      <td>97574.0</td>\n",
              "      <td>11723.0</td>\n",
              "    </tr>\n",
              "    <tr>\n",
              "      <th>1</th>\n",
              "      <td>741894.0</td>\n",
              "      <td>5966.0</td>\n",
              "      <td>52.0</td>\n",
              "      <td>1053.0</td>\n",
              "      <td>757.0</td>\n",
              "      <td>850.0</td>\n",
              "      <td>4011.0</td>\n",
              "      <td>24876.0</td>\n",
              "      <td>4053.0</td>\n",
              "      <td>17766.0</td>\n",
              "      <td>3057.0</td>\n",
              "    </tr>\n",
              "    <tr>\n",
              "      <th>2</th>\n",
              "      <td>6931071.0</td>\n",
              "      <td>32583.0</td>\n",
              "      <td>380.0</td>\n",
              "      <td>3290.0</td>\n",
              "      <td>2452.0</td>\n",
              "      <td>7055.0</td>\n",
              "      <td>21858.0</td>\n",
              "      <td>206432.0</td>\n",
              "      <td>37736.0</td>\n",
              "      <td>150275.0</td>\n",
              "      <td>18421.0</td>\n",
              "    </tr>\n",
              "    <tr>\n",
              "      <th>3</th>\n",
              "      <td>2988248.0</td>\n",
              "      <td>16461.0</td>\n",
              "      <td>216.0</td>\n",
              "      <td>2143.0</td>\n",
              "      <td>1545.0</td>\n",
              "      <td>2120.0</td>\n",
              "      <td>11982.0</td>\n",
              "      <td>97673.0</td>\n",
              "      <td>23771.0</td>\n",
              "      <td>66747.0</td>\n",
              "      <td>7155.0</td>\n",
              "    </tr>\n",
              "    <tr>\n",
              "      <th>4</th>\n",
              "      <td>39250017.0</td>\n",
              "      <td>174796.0</td>\n",
              "      <td>1930.0</td>\n",
              "      <td>13702.0</td>\n",
              "      <td>10149.0</td>\n",
              "      <td>54789.0</td>\n",
              "      <td>104375.0</td>\n",
              "      <td>1002070.0</td>\n",
              "      <td>188304.0</td>\n",
              "      <td>637010.0</td>\n",
              "      <td>176756.0</td>\n",
              "    </tr>\n",
              "  </tbody>\n",
              "</table>\n",
              "</div>"
            ],
            "text/plain": [
              "           0         1       2   ...        8         9         10\n",
              "0   4863300.0   25886.0   407.0  ...   34065.0   97574.0   11723.0\n",
              "1    741894.0    5966.0    52.0  ...    4053.0   17766.0    3057.0\n",
              "2   6931071.0   32583.0   380.0  ...   37736.0  150275.0   18421.0\n",
              "3   2988248.0   16461.0   216.0  ...   23771.0   66747.0    7155.0\n",
              "4  39250017.0  174796.0  1930.0  ...  188304.0  637010.0  176756.0\n",
              "\n",
              "[5 rows x 11 columns]"
            ]
          },
          "metadata": {
            "tags": []
          },
          "execution_count": 31
        }
      ]
    },
    {
      "cell_type": "markdown",
      "metadata": {
        "id": "LBJd6DARgjP_"
      },
      "source": [
        "Now I will concat state dataframe to this crime_data dataframe side by side"
      ]
    },
    {
      "cell_type": "code",
      "metadata": {
        "colab": {
          "base_uri": "https://localhost:8080/",
          "height": 221
        },
        "id": "9rGkQKm5gqge",
        "outputId": "1b382d48-cf50-4447-cd29-bbf8e0351b75"
      },
      "source": [
        "fbi_df = pd.concat([state_df,crime_data_df],axis=1)\n",
        "fbi_df.head()"
      ],
      "execution_count": 32,
      "outputs": [
        {
          "output_type": "execute_result",
          "data": {
            "text/html": [
              "<div>\n",
              "<style scoped>\n",
              "    .dataframe tbody tr th:only-of-type {\n",
              "        vertical-align: middle;\n",
              "    }\n",
              "\n",
              "    .dataframe tbody tr th {\n",
              "        vertical-align: top;\n",
              "    }\n",
              "\n",
              "    .dataframe thead th {\n",
              "        text-align: right;\n",
              "    }\n",
              "</style>\n",
              "<table border=\"1\" class=\"dataframe\">\n",
              "  <thead>\n",
              "    <tr style=\"text-align: right;\">\n",
              "      <th></th>\n",
              "      <th>0</th>\n",
              "      <th>0</th>\n",
              "      <th>1</th>\n",
              "      <th>2</th>\n",
              "      <th>3</th>\n",
              "      <th>4</th>\n",
              "      <th>5</th>\n",
              "      <th>6</th>\n",
              "      <th>7</th>\n",
              "      <th>8</th>\n",
              "      <th>9</th>\n",
              "      <th>10</th>\n",
              "    </tr>\n",
              "  </thead>\n",
              "  <tbody>\n",
              "    <tr>\n",
              "      <th>0</th>\n",
              "      <td>ALABAMA</td>\n",
              "      <td>4863300.0</td>\n",
              "      <td>25886.0</td>\n",
              "      <td>407.0</td>\n",
              "      <td>1916.0</td>\n",
              "      <td>1385.0</td>\n",
              "      <td>4686.0</td>\n",
              "      <td>18877.0</td>\n",
              "      <td>143362.0</td>\n",
              "      <td>34065.0</td>\n",
              "      <td>97574.0</td>\n",
              "      <td>11723.0</td>\n",
              "    </tr>\n",
              "    <tr>\n",
              "      <th>1</th>\n",
              "      <td>ALASKA</td>\n",
              "      <td>741894.0</td>\n",
              "      <td>5966.0</td>\n",
              "      <td>52.0</td>\n",
              "      <td>1053.0</td>\n",
              "      <td>757.0</td>\n",
              "      <td>850.0</td>\n",
              "      <td>4011.0</td>\n",
              "      <td>24876.0</td>\n",
              "      <td>4053.0</td>\n",
              "      <td>17766.0</td>\n",
              "      <td>3057.0</td>\n",
              "    </tr>\n",
              "    <tr>\n",
              "      <th>2</th>\n",
              "      <td>ARIZONA</td>\n",
              "      <td>6931071.0</td>\n",
              "      <td>32583.0</td>\n",
              "      <td>380.0</td>\n",
              "      <td>3290.0</td>\n",
              "      <td>2452.0</td>\n",
              "      <td>7055.0</td>\n",
              "      <td>21858.0</td>\n",
              "      <td>206432.0</td>\n",
              "      <td>37736.0</td>\n",
              "      <td>150275.0</td>\n",
              "      <td>18421.0</td>\n",
              "    </tr>\n",
              "    <tr>\n",
              "      <th>3</th>\n",
              "      <td>ARKANSAS</td>\n",
              "      <td>2988248.0</td>\n",
              "      <td>16461.0</td>\n",
              "      <td>216.0</td>\n",
              "      <td>2143.0</td>\n",
              "      <td>1545.0</td>\n",
              "      <td>2120.0</td>\n",
              "      <td>11982.0</td>\n",
              "      <td>97673.0</td>\n",
              "      <td>23771.0</td>\n",
              "      <td>66747.0</td>\n",
              "      <td>7155.0</td>\n",
              "    </tr>\n",
              "    <tr>\n",
              "      <th>4</th>\n",
              "      <td>CALIFORNIA</td>\n",
              "      <td>39250017.0</td>\n",
              "      <td>174796.0</td>\n",
              "      <td>1930.0</td>\n",
              "      <td>13702.0</td>\n",
              "      <td>10149.0</td>\n",
              "      <td>54789.0</td>\n",
              "      <td>104375.0</td>\n",
              "      <td>1002070.0</td>\n",
              "      <td>188304.0</td>\n",
              "      <td>637010.0</td>\n",
              "      <td>176756.0</td>\n",
              "    </tr>\n",
              "  </tbody>\n",
              "</table>\n",
              "</div>"
            ],
            "text/plain": [
              "           0           0         1   ...        8         9         10\n",
              "0     ALABAMA   4863300.0   25886.0  ...   34065.0   97574.0   11723.0\n",
              "1      ALASKA    741894.0    5966.0  ...    4053.0   17766.0    3057.0\n",
              "2     ARIZONA   6931071.0   32583.0  ...   37736.0  150275.0   18421.0\n",
              "3    ARKANSAS   2988248.0   16461.0  ...   23771.0   66747.0    7155.0\n",
              "4  CALIFORNIA  39250017.0  174796.0  ...  188304.0  637010.0  176756.0\n",
              "\n",
              "[5 rows x 12 columns]"
            ]
          },
          "metadata": {
            "tags": []
          },
          "execution_count": 32
        }
      ]
    },
    {
      "cell_type": "markdown",
      "metadata": {
        "id": "FnJVDlkxkV2g"
      },
      "source": [
        "Now we will add the column names for each data field."
      ]
    },
    {
      "cell_type": "code",
      "metadata": {
        "id": "FHs3_x5ORhQv",
        "colab": {
          "base_uri": "https://localhost:8080/",
          "height": 221
        },
        "outputId": "17d36fea-c953-4371-93b9-be595a311d3f"
      },
      "source": [
        "fbi_df.columns = new_column_names\n",
        "fbi_df.head()"
      ],
      "execution_count": 33,
      "outputs": [
        {
          "output_type": "execute_result",
          "data": {
            "text/html": [
              "<div>\n",
              "<style scoped>\n",
              "    .dataframe tbody tr th:only-of-type {\n",
              "        vertical-align: middle;\n",
              "    }\n",
              "\n",
              "    .dataframe tbody tr th {\n",
              "        vertical-align: top;\n",
              "    }\n",
              "\n",
              "    .dataframe thead th {\n",
              "        text-align: right;\n",
              "    }\n",
              "</style>\n",
              "<table border=\"1\" class=\"dataframe\">\n",
              "  <thead>\n",
              "    <tr style=\"text-align: right;\">\n",
              "      <th></th>\n",
              "      <th>state</th>\n",
              "      <th>population</th>\n",
              "      <th>violentcrime1</th>\n",
              "      <th>murder_and_nonnegligent_manslaughter</th>\n",
              "      <th>rape_reviseddefinition2</th>\n",
              "      <th>rape_legacydefinition3</th>\n",
              "      <th>robbery</th>\n",
              "      <th>aggravated_assault</th>\n",
              "      <th>property_crime</th>\n",
              "      <th>burglary</th>\n",
              "      <th>larceny_theft</th>\n",
              "      <th>motor_vehicle_theft</th>\n",
              "    </tr>\n",
              "  </thead>\n",
              "  <tbody>\n",
              "    <tr>\n",
              "      <th>0</th>\n",
              "      <td>ALABAMA</td>\n",
              "      <td>4863300.0</td>\n",
              "      <td>25886.0</td>\n",
              "      <td>407.0</td>\n",
              "      <td>1916.0</td>\n",
              "      <td>1385.0</td>\n",
              "      <td>4686.0</td>\n",
              "      <td>18877.0</td>\n",
              "      <td>143362.0</td>\n",
              "      <td>34065.0</td>\n",
              "      <td>97574.0</td>\n",
              "      <td>11723.0</td>\n",
              "    </tr>\n",
              "    <tr>\n",
              "      <th>1</th>\n",
              "      <td>ALASKA</td>\n",
              "      <td>741894.0</td>\n",
              "      <td>5966.0</td>\n",
              "      <td>52.0</td>\n",
              "      <td>1053.0</td>\n",
              "      <td>757.0</td>\n",
              "      <td>850.0</td>\n",
              "      <td>4011.0</td>\n",
              "      <td>24876.0</td>\n",
              "      <td>4053.0</td>\n",
              "      <td>17766.0</td>\n",
              "      <td>3057.0</td>\n",
              "    </tr>\n",
              "    <tr>\n",
              "      <th>2</th>\n",
              "      <td>ARIZONA</td>\n",
              "      <td>6931071.0</td>\n",
              "      <td>32583.0</td>\n",
              "      <td>380.0</td>\n",
              "      <td>3290.0</td>\n",
              "      <td>2452.0</td>\n",
              "      <td>7055.0</td>\n",
              "      <td>21858.0</td>\n",
              "      <td>206432.0</td>\n",
              "      <td>37736.0</td>\n",
              "      <td>150275.0</td>\n",
              "      <td>18421.0</td>\n",
              "    </tr>\n",
              "    <tr>\n",
              "      <th>3</th>\n",
              "      <td>ARKANSAS</td>\n",
              "      <td>2988248.0</td>\n",
              "      <td>16461.0</td>\n",
              "      <td>216.0</td>\n",
              "      <td>2143.0</td>\n",
              "      <td>1545.0</td>\n",
              "      <td>2120.0</td>\n",
              "      <td>11982.0</td>\n",
              "      <td>97673.0</td>\n",
              "      <td>23771.0</td>\n",
              "      <td>66747.0</td>\n",
              "      <td>7155.0</td>\n",
              "    </tr>\n",
              "    <tr>\n",
              "      <th>4</th>\n",
              "      <td>CALIFORNIA</td>\n",
              "      <td>39250017.0</td>\n",
              "      <td>174796.0</td>\n",
              "      <td>1930.0</td>\n",
              "      <td>13702.0</td>\n",
              "      <td>10149.0</td>\n",
              "      <td>54789.0</td>\n",
              "      <td>104375.0</td>\n",
              "      <td>1002070.0</td>\n",
              "      <td>188304.0</td>\n",
              "      <td>637010.0</td>\n",
              "      <td>176756.0</td>\n",
              "    </tr>\n",
              "  </tbody>\n",
              "</table>\n",
              "</div>"
            ],
            "text/plain": [
              "        state  population  ...  larceny_theft  motor_vehicle_theft\n",
              "0     ALABAMA   4863300.0  ...        97574.0              11723.0\n",
              "1      ALASKA    741894.0  ...        17766.0               3057.0\n",
              "2     ARIZONA   6931071.0  ...       150275.0              18421.0\n",
              "3    ARKANSAS   2988248.0  ...        66747.0               7155.0\n",
              "4  CALIFORNIA  39250017.0  ...       637010.0             176756.0\n",
              "\n",
              "[5 rows x 12 columns]"
            ]
          },
          "metadata": {
            "tags": []
          },
          "execution_count": 33
        }
      ]
    },
    {
      "cell_type": "markdown",
      "metadata": {
        "id": "jUTUfSLbkclA"
      },
      "source": [
        "Now we will check for any missing data."
      ]
    },
    {
      "cell_type": "code",
      "metadata": {
        "id": "i9CswmiXuN1f",
        "colab": {
          "base_uri": "https://localhost:8080/"
        },
        "outputId": "d5355104-5e7c-46a3-cb99-20c76c0a4653"
      },
      "source": [
        "# Check if any of the column contains missing value NaN\n",
        "fbi_df.isna().sum(axis=0)"
      ],
      "execution_count": 34,
      "outputs": [
        {
          "output_type": "execute_result",
          "data": {
            "text/plain": [
              "state                                   0\n",
              "population                              0\n",
              "violentcrime1                           0\n",
              "murder_and_nonnegligent_manslaughter    0\n",
              "rape_reviseddefinition2                 0\n",
              "rape_legacydefinition3                  0\n",
              "robbery                                 0\n",
              "aggravated_assault                      0\n",
              "property_crime                          0\n",
              "burglary                                0\n",
              "larceny_theft                           0\n",
              "motor_vehicle_theft                     0\n",
              "dtype: int64"
            ]
          },
          "metadata": {
            "tags": []
          },
          "execution_count": 34
        }
      ]
    },
    {
      "cell_type": "markdown",
      "metadata": {
        "id": "8b2SqusRkn0-"
      },
      "source": [
        "Thats good, there is no missing data.\n",
        "Now let's combine the datasets created in Milestone1 and Milestone2 "
      ]
    },
    {
      "cell_type": "code",
      "metadata": {
        "colab": {
          "base_uri": "https://localhost:8080/"
        },
        "id": "67e6qUqFmP0G",
        "outputId": "94d57611-b40d-4163-9ebe-ef8c3e831d99"
      },
      "source": [
        "mst1_mst2_combine_df = pd.merge(df_jee03,fbi_df,how='inner',on='state')\n",
        "mst1_mst2_combine_df.info()"
      ],
      "execution_count": 35,
      "outputs": [
        {
          "output_type": "stream",
          "text": [
            "<class 'pandas.core.frame.DataFrame'>\n",
            "Int64Index: 51 entries, 0 to 50\n",
            "Data columns (total 22 columns):\n",
            " #   Column                                Non-Null Count  Dtype  \n",
            "---  ------                                --------------  -----  \n",
            " 0   state                                 51 non-null     object \n",
            " 1   population_k                          51 non-null     int64  \n",
            " 2   total_direct_expenditure              51 non-null     int64  \n",
            " 3   total_justice_system_amount           51 non-null     int64  \n",
            " 4   total_justice_system_percent          51 non-null     float64\n",
            " 5   police_protection_amount              51 non-null     int64  \n",
            " 6   police_protection_percent_            51 non-null     float64\n",
            " 7   judician_and_legal_amount             51 non-null     int64  \n",
            " 8   judicial_and_legal_percent            51 non-null     float64\n",
            " 9   corrections_amount                    51 non-null     int64  \n",
            " 10  corrections_percent                   51 non-null     float64\n",
            " 11  population                            51 non-null     float64\n",
            " 12  violentcrime1                         51 non-null     float64\n",
            " 13  murder_and_nonnegligent_manslaughter  51 non-null     float64\n",
            " 14  rape_reviseddefinition2               51 non-null     float64\n",
            " 15  rape_legacydefinition3                51 non-null     float64\n",
            " 16  robbery                               51 non-null     float64\n",
            " 17  aggravated_assault                    51 non-null     float64\n",
            " 18  property_crime                        51 non-null     float64\n",
            " 19  burglary                              51 non-null     float64\n",
            " 20  larceny_theft                         51 non-null     float64\n",
            " 21  motor_vehicle_theft                   51 non-null     float64\n",
            "dtypes: float64(15), int64(6), object(1)\n",
            "memory usage: 9.2+ KB\n"
          ],
          "name": "stdout"
        }
      ]
    },
    {
      "cell_type": "code",
      "metadata": {
        "colab": {
          "base_uri": "https://localhost:8080/",
          "height": 221
        },
        "id": "IJGlrU4RWM0F",
        "outputId": "c364c52d-5bad-4f99-87a0-21d69bc3adb3"
      },
      "source": [
        "mst1_mst2_combine_df.head()"
      ],
      "execution_count": 36,
      "outputs": [
        {
          "output_type": "execute_result",
          "data": {
            "text/html": [
              "<div>\n",
              "<style scoped>\n",
              "    .dataframe tbody tr th:only-of-type {\n",
              "        vertical-align: middle;\n",
              "    }\n",
              "\n",
              "    .dataframe tbody tr th {\n",
              "        vertical-align: top;\n",
              "    }\n",
              "\n",
              "    .dataframe thead th {\n",
              "        text-align: right;\n",
              "    }\n",
              "</style>\n",
              "<table border=\"1\" class=\"dataframe\">\n",
              "  <thead>\n",
              "    <tr style=\"text-align: right;\">\n",
              "      <th></th>\n",
              "      <th>state</th>\n",
              "      <th>population_k</th>\n",
              "      <th>total_direct_expenditure</th>\n",
              "      <th>total_justice_system_amount</th>\n",
              "      <th>total_justice_system_percent</th>\n",
              "      <th>police_protection_amount</th>\n",
              "      <th>police_protection_percent_</th>\n",
              "      <th>judician_and_legal_amount</th>\n",
              "      <th>judicial_and_legal_percent</th>\n",
              "      <th>corrections_amount</th>\n",
              "      <th>corrections_percent</th>\n",
              "      <th>population</th>\n",
              "      <th>violentcrime1</th>\n",
              "      <th>murder_and_nonnegligent_manslaughter</th>\n",
              "      <th>rape_reviseddefinition2</th>\n",
              "      <th>rape_legacydefinition3</th>\n",
              "      <th>robbery</th>\n",
              "      <th>aggravated_assault</th>\n",
              "      <th>property_crime</th>\n",
              "      <th>burglary</th>\n",
              "      <th>larceny_theft</th>\n",
              "      <th>motor_vehicle_theft</th>\n",
              "    </tr>\n",
              "  </thead>\n",
              "  <tbody>\n",
              "    <tr>\n",
              "      <th>0</th>\n",
              "      <td>ALABAMA</td>\n",
              "      <td>4865</td>\n",
              "      <td>45277563</td>\n",
              "      <td>2335599</td>\n",
              "      <td>5.2</td>\n",
              "      <td>1251270</td>\n",
              "      <td>53.6</td>\n",
              "      <td>362060</td>\n",
              "      <td>15.5</td>\n",
              "      <td>722269</td>\n",
              "      <td>30.9</td>\n",
              "      <td>4863300.0</td>\n",
              "      <td>25886.0</td>\n",
              "      <td>407.0</td>\n",
              "      <td>1916.0</td>\n",
              "      <td>1385.0</td>\n",
              "      <td>4686.0</td>\n",
              "      <td>18877.0</td>\n",
              "      <td>143362.0</td>\n",
              "      <td>34065.0</td>\n",
              "      <td>97574.0</td>\n",
              "      <td>11723.0</td>\n",
              "    </tr>\n",
              "    <tr>\n",
              "      <th>1</th>\n",
              "      <td>ALASKA</td>\n",
              "      <td>742</td>\n",
              "      <td>15808697</td>\n",
              "      <td>962214</td>\n",
              "      <td>6.1</td>\n",
              "      <td>370209</td>\n",
              "      <td>38.5</td>\n",
              "      <td>254000</td>\n",
              "      <td>26.4</td>\n",
              "      <td>338005</td>\n",
              "      <td>35.1</td>\n",
              "      <td>741894.0</td>\n",
              "      <td>5966.0</td>\n",
              "      <td>52.0</td>\n",
              "      <td>1053.0</td>\n",
              "      <td>757.0</td>\n",
              "      <td>850.0</td>\n",
              "      <td>4011.0</td>\n",
              "      <td>24876.0</td>\n",
              "      <td>4053.0</td>\n",
              "      <td>17766.0</td>\n",
              "      <td>3057.0</td>\n",
              "    </tr>\n",
              "    <tr>\n",
              "      <th>2</th>\n",
              "      <td>ARIZONA</td>\n",
              "      <td>6945</td>\n",
              "      <td>58975013</td>\n",
              "      <td>4929687</td>\n",
              "      <td>8.4</td>\n",
              "      <td>2261558</td>\n",
              "      <td>45.9</td>\n",
              "      <td>983419</td>\n",
              "      <td>19.9</td>\n",
              "      <td>1684710</td>\n",
              "      <td>34.2</td>\n",
              "      <td>6931071.0</td>\n",
              "      <td>32583.0</td>\n",
              "      <td>380.0</td>\n",
              "      <td>3290.0</td>\n",
              "      <td>2452.0</td>\n",
              "      <td>7055.0</td>\n",
              "      <td>21858.0</td>\n",
              "      <td>206432.0</td>\n",
              "      <td>37736.0</td>\n",
              "      <td>150275.0</td>\n",
              "      <td>18421.0</td>\n",
              "    </tr>\n",
              "    <tr>\n",
              "      <th>3</th>\n",
              "      <td>ARKANSAS</td>\n",
              "      <td>2990</td>\n",
              "      <td>27299957</td>\n",
              "      <td>1507133</td>\n",
              "      <td>5.5</td>\n",
              "      <td>691059</td>\n",
              "      <td>45.9</td>\n",
              "      <td>220343</td>\n",
              "      <td>14.6</td>\n",
              "      <td>595731</td>\n",
              "      <td>39.5</td>\n",
              "      <td>2988248.0</td>\n",
              "      <td>16461.0</td>\n",
              "      <td>216.0</td>\n",
              "      <td>2143.0</td>\n",
              "      <td>1545.0</td>\n",
              "      <td>2120.0</td>\n",
              "      <td>11982.0</td>\n",
              "      <td>97673.0</td>\n",
              "      <td>23771.0</td>\n",
              "      <td>66747.0</td>\n",
              "      <td>7155.0</td>\n",
              "    </tr>\n",
              "    <tr>\n",
              "      <th>4</th>\n",
              "      <td>CALIFORNIA</td>\n",
              "      <td>39209</td>\n",
              "      <td>532948138</td>\n",
              "      <td>41714177</td>\n",
              "      <td>7.8</td>\n",
              "      <td>17570133</td>\n",
              "      <td>42.1</td>\n",
              "      <td>8675761</td>\n",
              "      <td>20.8</td>\n",
              "      <td>15468283</td>\n",
              "      <td>37.1</td>\n",
              "      <td>39250017.0</td>\n",
              "      <td>174796.0</td>\n",
              "      <td>1930.0</td>\n",
              "      <td>13702.0</td>\n",
              "      <td>10149.0</td>\n",
              "      <td>54789.0</td>\n",
              "      <td>104375.0</td>\n",
              "      <td>1002070.0</td>\n",
              "      <td>188304.0</td>\n",
              "      <td>637010.0</td>\n",
              "      <td>176756.0</td>\n",
              "    </tr>\n",
              "  </tbody>\n",
              "</table>\n",
              "</div>"
            ],
            "text/plain": [
              "        state  population_k  ...  larceny_theft  motor_vehicle_theft\n",
              "0     ALABAMA          4865  ...        97574.0              11723.0\n",
              "1      ALASKA           742  ...        17766.0               3057.0\n",
              "2     ARIZONA          6945  ...       150275.0              18421.0\n",
              "3    ARKANSAS          2990  ...        66747.0               7155.0\n",
              "4  CALIFORNIA         39209  ...       637010.0             176756.0\n",
              "\n",
              "[5 rows x 22 columns]"
            ]
          },
          "metadata": {
            "tags": []
          },
          "execution_count": 36
        }
      ]
    },
    {
      "cell_type": "code",
      "metadata": {
        "id": "1-TxUeDnWgNe",
        "colab": {
          "base_uri": "https://localhost:8080/"
        },
        "outputId": "a607917a-a761-4215-9e92-993ca5cc3c9c"
      },
      "source": [
        "mst1_mst2_combine_df.shape"
      ],
      "execution_count": 37,
      "outputs": [
        {
          "output_type": "execute_result",
          "data": {
            "text/plain": [
              "(51, 22)"
            ]
          },
          "metadata": {
            "tags": []
          },
          "execution_count": 37
        }
      ]
    },
    {
      "cell_type": "markdown",
      "metadata": {
        "id": "2jdPoniOXkhm"
      },
      "source": [
        "# Milestone 4\n",
        "\n",
        "Connecting to an API/Pulling in the Data and Cleaning/Formatting\n",
        "Perform at least 5 data transformation and/or cleansing steps to your API data. For example:\n",
        "* Replace Headers\n",
        "* Format data into a more readable format\n",
        "* Identify outliers and bad data\n",
        "* Find duplicates\n",
        "* Fix casing or inconsistent values\n",
        "* Conduct Fuzzy Matching\n",
        "\n",
        "For API data source I will use Public dataset for fiscal 2016 from Bureau of Justice Statistics on Employee Extracts - https://data.world/usbjs/justice-expenditure-and-employment-2016/workspace/file?filename=jeee16t08.csv\n",
        "\n",
        "I will fetch API data in json format. Data is maintained at data.world and I have generated access token\n"
      ]
    },
    {
      "cell_type": "markdown",
      "metadata": {
        "id": "baT84gv_bC_i"
      },
      "source": [
        "I am keeping the API token in json file for security reasons so that it is not printed or displayed in notebook.\n",
        "\n",
        "Hence API token needs to be read from json file"
      ]
    },
    {
      "cell_type": "code",
      "metadata": {
        "id": "h_Pjzx27bYP8"
      },
      "source": [
        "import json\n",
        "with open('APIKey.json') as f:\n",
        "    keys = json.load(f)\n",
        "    data_world_api_token = keys['data-world-token']"
      ],
      "execution_count": 38,
      "outputs": []
    },
    {
      "cell_type": "markdown",
      "metadata": {
        "id": "259nMZ_Fdqw_"
      },
      "source": [
        "Now lets fetch the data from data-world API endpoint. \n",
        "I will fetch data in json format.\n"
      ]
    },
    {
      "cell_type": "code",
      "metadata": {
        "id": "SADR6N98ZrWH"
      },
      "source": [
        "\n",
        "# header values to be passed in HTTP POST request\n",
        "# fetch data in json format\n",
        "headers = {\n",
        "    \"Content-type\":\"application/json\",\n",
        "    \"Accept\":\"application/json\",\n",
        "    \"Authorization\":data_world_api_token\n",
        "}\n",
        "# requests payload to be posted in HTTP post request\n",
        "data = {\"query\":\"SELECT * FROM jeee16t08\"}\n",
        "# endpoint URL for fecthing data from\n",
        "url = \"https://api.data.world/v0/sql/ninadcpa/dsc540?includeTableSchema=true\"\n",
        "resp = requests.post(url,headers=headers,json=data)\n",
        "json_data = json.loads(resp.text)\n"
      ],
      "execution_count": 39,
      "outputs": []
    },
    {
      "cell_type": "markdown",
      "metadata": {
        "id": "k5psu5yIeEc0"
      },
      "source": [
        "The returned object is list of json objects.\n",
        "\n",
        "Pandas api provide json_normalize method which takes care of handling rows of json to flat table. I will use the same method"
      ]
    },
    {
      "cell_type": "code",
      "metadata": {
        "colab": {
          "base_uri": "https://localhost:8080/",
          "height": 373
        },
        "id": "Z4Wz9KHGd92L",
        "outputId": "9d600e8a-a3d3-4bdf-f4c2-bc152eb62691"
      },
      "source": [
        "# Normalize semi-structured JSON data into a flat table.\n",
        "\n",
        "df_jee08=pd.df = pd.json_normalize(json_data)\n",
        "df_jee08.head(10)"
      ],
      "execution_count": 40,
      "outputs": [
        {
          "output_type": "execute_result",
          "data": {
            "text/html": [
              "<div>\n",
              "<style scoped>\n",
              "    .dataframe tbody tr th:only-of-type {\n",
              "        vertical-align: middle;\n",
              "    }\n",
              "\n",
              "    .dataframe tbody tr th {\n",
              "        vertical-align: top;\n",
              "    }\n",
              "\n",
              "    .dataframe thead th {\n",
              "        text-align: right;\n",
              "    }\n",
              "</style>\n",
              "<table border=\"1\" class=\"dataframe\">\n",
              "  <thead>\n",
              "    <tr style=\"text-align: right;\">\n",
              "      <th></th>\n",
              "      <th>state</th>\n",
              "      <th>us_state</th>\n",
              "      <th>population_2016</th>\n",
              "      <th>total_justice_system_pc</th>\n",
              "      <th>police_protection_pc</th>\n",
              "      <th>judicial_and_legal_pc</th>\n",
              "      <th>corrections_pc</th>\n",
              "      <th>total_justice_system_employment</th>\n",
              "      <th>police_protection_total_employment</th>\n",
              "      <th>police_protection_sworn_only_employment</th>\n",
              "      <th>judicial_and_legal_employment</th>\n",
              "      <th>corrections_employment</th>\n",
              "    </tr>\n",
              "  </thead>\n",
              "  <tbody>\n",
              "    <tr>\n",
              "      <th>0</th>\n",
              "      <td>Total</td>\n",
              "      <td>None</td>\n",
              "      <td>323071342</td>\n",
              "      <td>722.70</td>\n",
              "      <td>338.04</td>\n",
              "      <td>143.18</td>\n",
              "      <td>241.48</td>\n",
              "      <td>63.12</td>\n",
              "      <td>28.51</td>\n",
              "      <td>21.73</td>\n",
              "      <td>12.83</td>\n",
              "      <td>21.78</td>\n",
              "    </tr>\n",
              "    <tr>\n",
              "      <th>1</th>\n",
              "      <td>Alabama</td>\n",
              "      <td>Alabama</td>\n",
              "      <td>4864745</td>\n",
              "      <td>480.11</td>\n",
              "      <td>257.21</td>\n",
              "      <td>74.43</td>\n",
              "      <td>148.47</td>\n",
              "      <td>55.43</td>\n",
              "      <td>29.08</td>\n",
              "      <td>23.00</td>\n",
              "      <td>9.73</td>\n",
              "      <td>16.62</td>\n",
              "    </tr>\n",
              "    <tr>\n",
              "      <th>2</th>\n",
              "      <td>Florida</td>\n",
              "      <td>Florida</td>\n",
              "      <td>20629982</td>\n",
              "      <td>701.08</td>\n",
              "      <td>380.44</td>\n",
              "      <td>114.70</td>\n",
              "      <td>205.94</td>\n",
              "      <td>64.42</td>\n",
              "      <td>29.69</td>\n",
              "      <td>19.78</td>\n",
              "      <td>15.12</td>\n",
              "      <td>19.61</td>\n",
              "    </tr>\n",
              "    <tr>\n",
              "      <th>3</th>\n",
              "      <td>Georgia</td>\n",
              "      <td>Georgia</td>\n",
              "      <td>10304763</td>\n",
              "      <td>568.02</td>\n",
              "      <td>263.81</td>\n",
              "      <td>117.93</td>\n",
              "      <td>186.28</td>\n",
              "      <td>66.31</td>\n",
              "      <td>26.65</td>\n",
              "      <td>21.33</td>\n",
              "      <td>13.89</td>\n",
              "      <td>25.77</td>\n",
              "    </tr>\n",
              "    <tr>\n",
              "      <th>4</th>\n",
              "      <td>Hawaii</td>\n",
              "      <td>Hawaii</td>\n",
              "      <td>1428105</td>\n",
              "      <td>679.89</td>\n",
              "      <td>321.41</td>\n",
              "      <td>206.21</td>\n",
              "      <td>152.27</td>\n",
              "      <td>68.62</td>\n",
              "      <td>28.54</td>\n",
              "      <td>22.12</td>\n",
              "      <td>23.58</td>\n",
              "      <td>16.50</td>\n",
              "    </tr>\n",
              "    <tr>\n",
              "      <th>5</th>\n",
              "      <td>Idaho</td>\n",
              "      <td>Idaho</td>\n",
              "      <td>1682930</td>\n",
              "      <td>593.95</td>\n",
              "      <td>271.63</td>\n",
              "      <td>118.67</td>\n",
              "      <td>203.64</td>\n",
              "      <td>61.64</td>\n",
              "      <td>24.05</td>\n",
              "      <td>16.55</td>\n",
              "      <td>13.14</td>\n",
              "      <td>24.44</td>\n",
              "    </tr>\n",
              "    <tr>\n",
              "      <th>6</th>\n",
              "      <td>Illinois</td>\n",
              "      <td>Illinois</td>\n",
              "      <td>12826895</td>\n",
              "      <td>671.84</td>\n",
              "      <td>406.65</td>\n",
              "      <td>120.78</td>\n",
              "      <td>144.41</td>\n",
              "      <td>60.34</td>\n",
              "      <td>31.95</td>\n",
              "      <td>25.49</td>\n",
              "      <td>10.68</td>\n",
              "      <td>17.71</td>\n",
              "    </tr>\n",
              "    <tr>\n",
              "      <th>7</th>\n",
              "      <td>Indiana</td>\n",
              "      <td>Indiana</td>\n",
              "      <td>6633344</td>\n",
              "      <td>450.08</td>\n",
              "      <td>189.20</td>\n",
              "      <td>86.20</td>\n",
              "      <td>174.68</td>\n",
              "      <td>53.15</td>\n",
              "      <td>23.61</td>\n",
              "      <td>17.99</td>\n",
              "      <td>11.39</td>\n",
              "      <td>18.14</td>\n",
              "    </tr>\n",
              "    <tr>\n",
              "      <th>8</th>\n",
              "      <td>Iowa</td>\n",
              "      <td>Iowa</td>\n",
              "      <td>3131785</td>\n",
              "      <td>504.91</td>\n",
              "      <td>248.60</td>\n",
              "      <td>114.46</td>\n",
              "      <td>141.86</td>\n",
              "      <td>47.08</td>\n",
              "      <td>22.95</td>\n",
              "      <td>17.32</td>\n",
              "      <td>10.15</td>\n",
              "      <td>13.98</td>\n",
              "    </tr>\n",
              "    <tr>\n",
              "      <th>9</th>\n",
              "      <td>Kansas</td>\n",
              "      <td>Kansas</td>\n",
              "      <td>2911263</td>\n",
              "      <td>564.97</td>\n",
              "      <td>274.42</td>\n",
              "      <td>113.44</td>\n",
              "      <td>177.11</td>\n",
              "      <td>66.26</td>\n",
              "      <td>31.24</td>\n",
              "      <td>22.14</td>\n",
              "      <td>13.23</td>\n",
              "      <td>21.79</td>\n",
              "    </tr>\n",
              "  </tbody>\n",
              "</table>\n",
              "</div>"
            ],
            "text/plain": [
              "      state  us_state  ...  judicial_and_legal_employment  corrections_employment\n",
              "0     Total      None  ...                          12.83                   21.78\n",
              "1   Alabama   Alabama  ...                           9.73                   16.62\n",
              "2   Florida   Florida  ...                          15.12                   19.61\n",
              "3   Georgia   Georgia  ...                          13.89                   25.77\n",
              "4    Hawaii    Hawaii  ...                          23.58                   16.50\n",
              "5     Idaho     Idaho  ...                          13.14                   24.44\n",
              "6  Illinois  Illinois  ...                          10.68                   17.71\n",
              "7   Indiana   Indiana  ...                          11.39                   18.14\n",
              "8      Iowa      Iowa  ...                          10.15                   13.98\n",
              "9    Kansas    Kansas  ...                          13.23                   21.79\n",
              "\n",
              "[10 rows x 12 columns]"
            ]
          },
          "metadata": {
            "tags": []
          },
          "execution_count": 40
        }
      ]
    },
    {
      "cell_type": "code",
      "metadata": {
        "colab": {
          "base_uri": "https://localhost:8080/"
        },
        "id": "QhJ_lvnowb6k",
        "outputId": "9d28144d-ae8d-478c-feb7-d0bb85a55055"
      },
      "source": [
        "df_jee08.shape"
      ],
      "execution_count": 41,
      "outputs": [
        {
          "output_type": "execute_result",
          "data": {
            "text/plain": [
              "(52, 12)"
            ]
          },
          "metadata": {
            "tags": []
          },
          "execution_count": 41
        }
      ]
    },
    {
      "cell_type": "markdown",
      "metadata": {
        "id": "HsFoU_25vStL"
      },
      "source": [
        "First row of the data is for Total of all states.\n",
        "\n",
        "As I am interested in only state level records, let's delete first record which signifies \"Total\""
      ]
    },
    {
      "cell_type": "code",
      "metadata": {
        "colab": {
          "base_uri": "https://localhost:8080/"
        },
        "id": "QNFKp-a4r5Mm",
        "outputId": "759bbc53-627c-4852-8985-7f9be35fc57a"
      },
      "source": [
        "df_jee08.drop(axis=0,index=0,inplace=True)\n",
        "df_jee08.shape"
      ],
      "execution_count": 42,
      "outputs": [
        {
          "output_type": "execute_result",
          "data": {
            "text/plain": [
              "(51, 12)"
            ]
          },
          "metadata": {
            "tags": []
          },
          "execution_count": 42
        }
      ]
    },
    {
      "cell_type": "markdown",
      "metadata": {
        "id": "UPhs4Zn3wo2j"
      },
      "source": [
        "I noticed that in dataframe there are 2 columns \"state\" and \"us_state\" which represent same thing. I will drop duplicate column us_state"
      ]
    },
    {
      "cell_type": "code",
      "metadata": {
        "colab": {
          "base_uri": "https://localhost:8080/"
        },
        "id": "-fUXzD5nxBSF",
        "outputId": "490a81c9-b389-4eb0-a3db-d5a341878e0f"
      },
      "source": [
        "df_jee08.drop(axis=1,columns=['us_state'],inplace=True)\n",
        "df_jee08.shape"
      ],
      "execution_count": 43,
      "outputs": [
        {
          "output_type": "execute_result",
          "data": {
            "text/plain": [
              "(51, 11)"
            ]
          },
          "metadata": {
            "tags": []
          },
          "execution_count": 43
        }
      ]
    },
    {
      "cell_type": "markdown",
      "metadata": {
        "id": "KNZ_uvfPxTHF"
      },
      "source": [
        "Now I will change the state name to upper case."
      ]
    },
    {
      "cell_type": "code",
      "metadata": {
        "colab": {
          "base_uri": "https://localhost:8080/",
          "height": 221
        },
        "id": "_7_WcGsrxRyF",
        "outputId": "afe5603e-fa1f-4ed9-c2ea-46aa8a3c940e"
      },
      "source": [
        "df_jee08['state'] = df_jee08['state'].str.strip()\n",
        "df_jee08['state'] = df_jee08['state'].str.upper()\n",
        "df_jee08.head()"
      ],
      "execution_count": 44,
      "outputs": [
        {
          "output_type": "execute_result",
          "data": {
            "text/html": [
              "<div>\n",
              "<style scoped>\n",
              "    .dataframe tbody tr th:only-of-type {\n",
              "        vertical-align: middle;\n",
              "    }\n",
              "\n",
              "    .dataframe tbody tr th {\n",
              "        vertical-align: top;\n",
              "    }\n",
              "\n",
              "    .dataframe thead th {\n",
              "        text-align: right;\n",
              "    }\n",
              "</style>\n",
              "<table border=\"1\" class=\"dataframe\">\n",
              "  <thead>\n",
              "    <tr style=\"text-align: right;\">\n",
              "      <th></th>\n",
              "      <th>state</th>\n",
              "      <th>population_2016</th>\n",
              "      <th>total_justice_system_pc</th>\n",
              "      <th>police_protection_pc</th>\n",
              "      <th>judicial_and_legal_pc</th>\n",
              "      <th>corrections_pc</th>\n",
              "      <th>total_justice_system_employment</th>\n",
              "      <th>police_protection_total_employment</th>\n",
              "      <th>police_protection_sworn_only_employment</th>\n",
              "      <th>judicial_and_legal_employment</th>\n",
              "      <th>corrections_employment</th>\n",
              "    </tr>\n",
              "  </thead>\n",
              "  <tbody>\n",
              "    <tr>\n",
              "      <th>1</th>\n",
              "      <td>ALABAMA</td>\n",
              "      <td>4864745</td>\n",
              "      <td>480.11</td>\n",
              "      <td>257.21</td>\n",
              "      <td>74.43</td>\n",
              "      <td>148.47</td>\n",
              "      <td>55.43</td>\n",
              "      <td>29.08</td>\n",
              "      <td>23.00</td>\n",
              "      <td>9.73</td>\n",
              "      <td>16.62</td>\n",
              "    </tr>\n",
              "    <tr>\n",
              "      <th>2</th>\n",
              "      <td>FLORIDA</td>\n",
              "      <td>20629982</td>\n",
              "      <td>701.08</td>\n",
              "      <td>380.44</td>\n",
              "      <td>114.70</td>\n",
              "      <td>205.94</td>\n",
              "      <td>64.42</td>\n",
              "      <td>29.69</td>\n",
              "      <td>19.78</td>\n",
              "      <td>15.12</td>\n",
              "      <td>19.61</td>\n",
              "    </tr>\n",
              "    <tr>\n",
              "      <th>3</th>\n",
              "      <td>GEORGIA</td>\n",
              "      <td>10304763</td>\n",
              "      <td>568.02</td>\n",
              "      <td>263.81</td>\n",
              "      <td>117.93</td>\n",
              "      <td>186.28</td>\n",
              "      <td>66.31</td>\n",
              "      <td>26.65</td>\n",
              "      <td>21.33</td>\n",
              "      <td>13.89</td>\n",
              "      <td>25.77</td>\n",
              "    </tr>\n",
              "    <tr>\n",
              "      <th>4</th>\n",
              "      <td>HAWAII</td>\n",
              "      <td>1428105</td>\n",
              "      <td>679.89</td>\n",
              "      <td>321.41</td>\n",
              "      <td>206.21</td>\n",
              "      <td>152.27</td>\n",
              "      <td>68.62</td>\n",
              "      <td>28.54</td>\n",
              "      <td>22.12</td>\n",
              "      <td>23.58</td>\n",
              "      <td>16.50</td>\n",
              "    </tr>\n",
              "    <tr>\n",
              "      <th>5</th>\n",
              "      <td>IDAHO</td>\n",
              "      <td>1682930</td>\n",
              "      <td>593.95</td>\n",
              "      <td>271.63</td>\n",
              "      <td>118.67</td>\n",
              "      <td>203.64</td>\n",
              "      <td>61.64</td>\n",
              "      <td>24.05</td>\n",
              "      <td>16.55</td>\n",
              "      <td>13.14</td>\n",
              "      <td>24.44</td>\n",
              "    </tr>\n",
              "  </tbody>\n",
              "</table>\n",
              "</div>"
            ],
            "text/plain": [
              "     state  ...  corrections_employment\n",
              "1  ALABAMA  ...                   16.62\n",
              "2  FLORIDA  ...                   19.61\n",
              "3  GEORGIA  ...                   25.77\n",
              "4   HAWAII  ...                   16.50\n",
              "5    IDAHO  ...                   24.44\n",
              "\n",
              "[5 rows x 11 columns]"
            ]
          },
          "metadata": {
            "tags": []
          },
          "execution_count": 44
        }
      ]
    },
    {
      "cell_type": "markdown",
      "metadata": {
        "id": "mRtykCGGyXQr"
      },
      "source": [
        "Check if dataframe contains any missing values or NaN"
      ]
    },
    {
      "cell_type": "code",
      "metadata": {
        "colab": {
          "base_uri": "https://localhost:8080/"
        },
        "id": "x89ry-2GyJ7t",
        "outputId": "339246b2-235e-4160-bbea-20d5b00100a1"
      },
      "source": [
        "# Check if any of the column contains missing value NaN\n",
        "df_jee08.isna().sum(axis=0)"
      ],
      "execution_count": 45,
      "outputs": [
        {
          "output_type": "execute_result",
          "data": {
            "text/plain": [
              "state                                      0\n",
              "population_2016                            0\n",
              "total_justice_system_pc                    0\n",
              "police_protection_pc                       0\n",
              "judicial_and_legal_pc                      0\n",
              "corrections_pc                             0\n",
              "total_justice_system_employment            0\n",
              "police_protection_total_employment         0\n",
              "police_protection_sworn_only_employment    0\n",
              "judicial_and_legal_employment              0\n",
              "corrections_employment                     0\n",
              "dtype: int64"
            ]
          },
          "metadata": {
            "tags": []
          },
          "execution_count": 45
        }
      ]
    },
    {
      "cell_type": "markdown",
      "metadata": {
        "id": "R6e38aO82U8u"
      },
      "source": [
        "Let's merge all 3 dataframes to form one dataframe."
      ]
    },
    {
      "cell_type": "code",
      "metadata": {
        "colab": {
          "base_uri": "https://localhost:8080/"
        },
        "id": "DaR6vvM8zFNG",
        "outputId": "6de9c45b-866e-423c-b357-d9ccf631a24b"
      },
      "source": [
        "combined_df = pd.merge(mst1_mst2_combine_df,df_jee08,how='inner',on='state')\n",
        "combined_df.info()"
      ],
      "execution_count": 46,
      "outputs": [
        {
          "output_type": "stream",
          "text": [
            "<class 'pandas.core.frame.DataFrame'>\n",
            "Int64Index: 51 entries, 0 to 50\n",
            "Data columns (total 32 columns):\n",
            " #   Column                                   Non-Null Count  Dtype  \n",
            "---  ------                                   --------------  -----  \n",
            " 0   state                                    51 non-null     object \n",
            " 1   population_k                             51 non-null     int64  \n",
            " 2   total_direct_expenditure                 51 non-null     int64  \n",
            " 3   total_justice_system_amount              51 non-null     int64  \n",
            " 4   total_justice_system_percent             51 non-null     float64\n",
            " 5   police_protection_amount                 51 non-null     int64  \n",
            " 6   police_protection_percent_               51 non-null     float64\n",
            " 7   judician_and_legal_amount                51 non-null     int64  \n",
            " 8   judicial_and_legal_percent               51 non-null     float64\n",
            " 9   corrections_amount                       51 non-null     int64  \n",
            " 10  corrections_percent                      51 non-null     float64\n",
            " 11  population                               51 non-null     float64\n",
            " 12  violentcrime1                            51 non-null     float64\n",
            " 13  murder_and_nonnegligent_manslaughter     51 non-null     float64\n",
            " 14  rape_reviseddefinition2                  51 non-null     float64\n",
            " 15  rape_legacydefinition3                   51 non-null     float64\n",
            " 16  robbery                                  51 non-null     float64\n",
            " 17  aggravated_assault                       51 non-null     float64\n",
            " 18  property_crime                           51 non-null     float64\n",
            " 19  burglary                                 51 non-null     float64\n",
            " 20  larceny_theft                            51 non-null     float64\n",
            " 21  motor_vehicle_theft                      51 non-null     float64\n",
            " 22  population_2016                          51 non-null     int64  \n",
            " 23  total_justice_system_pc                  51 non-null     float64\n",
            " 24  police_protection_pc                     51 non-null     float64\n",
            " 25  judicial_and_legal_pc                    51 non-null     float64\n",
            " 26  corrections_pc                           51 non-null     float64\n",
            " 27  total_justice_system_employment          51 non-null     float64\n",
            " 28  police_protection_total_employment       51 non-null     float64\n",
            " 29  police_protection_sworn_only_employment  51 non-null     float64\n",
            " 30  judicial_and_legal_employment            51 non-null     float64\n",
            " 31  corrections_employment                   51 non-null     float64\n",
            "dtypes: float64(24), int64(7), object(1)\n",
            "memory usage: 13.1+ KB\n"
          ],
          "name": "stdout"
        }
      ]
    },
    {
      "cell_type": "code",
      "metadata": {
        "colab": {
          "base_uri": "https://localhost:8080/",
          "height": 221
        },
        "id": "1IIPg1Wi2RJw",
        "outputId": "4514c694-bcd2-4bab-daff-e05e050b04bc"
      },
      "source": [
        "combined_df.head()"
      ],
      "execution_count": 47,
      "outputs": [
        {
          "output_type": "execute_result",
          "data": {
            "text/html": [
              "<div>\n",
              "<style scoped>\n",
              "    .dataframe tbody tr th:only-of-type {\n",
              "        vertical-align: middle;\n",
              "    }\n",
              "\n",
              "    .dataframe tbody tr th {\n",
              "        vertical-align: top;\n",
              "    }\n",
              "\n",
              "    .dataframe thead th {\n",
              "        text-align: right;\n",
              "    }\n",
              "</style>\n",
              "<table border=\"1\" class=\"dataframe\">\n",
              "  <thead>\n",
              "    <tr style=\"text-align: right;\">\n",
              "      <th></th>\n",
              "      <th>state</th>\n",
              "      <th>population_k</th>\n",
              "      <th>total_direct_expenditure</th>\n",
              "      <th>total_justice_system_amount</th>\n",
              "      <th>total_justice_system_percent</th>\n",
              "      <th>police_protection_amount</th>\n",
              "      <th>police_protection_percent_</th>\n",
              "      <th>judician_and_legal_amount</th>\n",
              "      <th>judicial_and_legal_percent</th>\n",
              "      <th>corrections_amount</th>\n",
              "      <th>corrections_percent</th>\n",
              "      <th>population</th>\n",
              "      <th>violentcrime1</th>\n",
              "      <th>murder_and_nonnegligent_manslaughter</th>\n",
              "      <th>rape_reviseddefinition2</th>\n",
              "      <th>rape_legacydefinition3</th>\n",
              "      <th>robbery</th>\n",
              "      <th>aggravated_assault</th>\n",
              "      <th>property_crime</th>\n",
              "      <th>burglary</th>\n",
              "      <th>larceny_theft</th>\n",
              "      <th>motor_vehicle_theft</th>\n",
              "      <th>population_2016</th>\n",
              "      <th>total_justice_system_pc</th>\n",
              "      <th>police_protection_pc</th>\n",
              "      <th>judicial_and_legal_pc</th>\n",
              "      <th>corrections_pc</th>\n",
              "      <th>total_justice_system_employment</th>\n",
              "      <th>police_protection_total_employment</th>\n",
              "      <th>police_protection_sworn_only_employment</th>\n",
              "      <th>judicial_and_legal_employment</th>\n",
              "      <th>corrections_employment</th>\n",
              "    </tr>\n",
              "  </thead>\n",
              "  <tbody>\n",
              "    <tr>\n",
              "      <th>0</th>\n",
              "      <td>ALABAMA</td>\n",
              "      <td>4865</td>\n",
              "      <td>45277563</td>\n",
              "      <td>2335599</td>\n",
              "      <td>5.2</td>\n",
              "      <td>1251270</td>\n",
              "      <td>53.6</td>\n",
              "      <td>362060</td>\n",
              "      <td>15.5</td>\n",
              "      <td>722269</td>\n",
              "      <td>30.9</td>\n",
              "      <td>4863300.0</td>\n",
              "      <td>25886.0</td>\n",
              "      <td>407.0</td>\n",
              "      <td>1916.0</td>\n",
              "      <td>1385.0</td>\n",
              "      <td>4686.0</td>\n",
              "      <td>18877.0</td>\n",
              "      <td>143362.0</td>\n",
              "      <td>34065.0</td>\n",
              "      <td>97574.0</td>\n",
              "      <td>11723.0</td>\n",
              "      <td>4864745</td>\n",
              "      <td>480.11</td>\n",
              "      <td>257.21</td>\n",
              "      <td>74.43</td>\n",
              "      <td>148.47</td>\n",
              "      <td>55.43</td>\n",
              "      <td>29.08</td>\n",
              "      <td>23.00</td>\n",
              "      <td>9.73</td>\n",
              "      <td>16.62</td>\n",
              "    </tr>\n",
              "    <tr>\n",
              "      <th>1</th>\n",
              "      <td>ALASKA</td>\n",
              "      <td>742</td>\n",
              "      <td>15808697</td>\n",
              "      <td>962214</td>\n",
              "      <td>6.1</td>\n",
              "      <td>370209</td>\n",
              "      <td>38.5</td>\n",
              "      <td>254000</td>\n",
              "      <td>26.4</td>\n",
              "      <td>338005</td>\n",
              "      <td>35.1</td>\n",
              "      <td>741894.0</td>\n",
              "      <td>5966.0</td>\n",
              "      <td>52.0</td>\n",
              "      <td>1053.0</td>\n",
              "      <td>757.0</td>\n",
              "      <td>850.0</td>\n",
              "      <td>4011.0</td>\n",
              "      <td>24876.0</td>\n",
              "      <td>4053.0</td>\n",
              "      <td>17766.0</td>\n",
              "      <td>3057.0</td>\n",
              "      <td>741504</td>\n",
              "      <td>1297.65</td>\n",
              "      <td>499.27</td>\n",
              "      <td>342.55</td>\n",
              "      <td>455.84</td>\n",
              "      <td>77.18</td>\n",
              "      <td>25.68</td>\n",
              "      <td>15.58</td>\n",
              "      <td>20.08</td>\n",
              "      <td>31.42</td>\n",
              "    </tr>\n",
              "    <tr>\n",
              "      <th>2</th>\n",
              "      <td>ARIZONA</td>\n",
              "      <td>6945</td>\n",
              "      <td>58975013</td>\n",
              "      <td>4929687</td>\n",
              "      <td>8.4</td>\n",
              "      <td>2261558</td>\n",
              "      <td>45.9</td>\n",
              "      <td>983419</td>\n",
              "      <td>19.9</td>\n",
              "      <td>1684710</td>\n",
              "      <td>34.2</td>\n",
              "      <td>6931071.0</td>\n",
              "      <td>32583.0</td>\n",
              "      <td>380.0</td>\n",
              "      <td>3290.0</td>\n",
              "      <td>2452.0</td>\n",
              "      <td>7055.0</td>\n",
              "      <td>21858.0</td>\n",
              "      <td>206432.0</td>\n",
              "      <td>37736.0</td>\n",
              "      <td>150275.0</td>\n",
              "      <td>18421.0</td>\n",
              "      <td>6945452</td>\n",
              "      <td>709.77</td>\n",
              "      <td>325.62</td>\n",
              "      <td>141.59</td>\n",
              "      <td>242.56</td>\n",
              "      <td>66.07</td>\n",
              "      <td>28.30</td>\n",
              "      <td>20.43</td>\n",
              "      <td>15.91</td>\n",
              "      <td>21.85</td>\n",
              "    </tr>\n",
              "    <tr>\n",
              "      <th>3</th>\n",
              "      <td>ARKANSAS</td>\n",
              "      <td>2990</td>\n",
              "      <td>27299957</td>\n",
              "      <td>1507133</td>\n",
              "      <td>5.5</td>\n",
              "      <td>691059</td>\n",
              "      <td>45.9</td>\n",
              "      <td>220343</td>\n",
              "      <td>14.6</td>\n",
              "      <td>595731</td>\n",
              "      <td>39.5</td>\n",
              "      <td>2988248.0</td>\n",
              "      <td>16461.0</td>\n",
              "      <td>216.0</td>\n",
              "      <td>2143.0</td>\n",
              "      <td>1545.0</td>\n",
              "      <td>2120.0</td>\n",
              "      <td>11982.0</td>\n",
              "      <td>97673.0</td>\n",
              "      <td>23771.0</td>\n",
              "      <td>66747.0</td>\n",
              "      <td>7155.0</td>\n",
              "      <td>2990410</td>\n",
              "      <td>503.99</td>\n",
              "      <td>231.09</td>\n",
              "      <td>73.68</td>\n",
              "      <td>199.21</td>\n",
              "      <td>68.44</td>\n",
              "      <td>29.50</td>\n",
              "      <td>22.11</td>\n",
              "      <td>11.52</td>\n",
              "      <td>27.41</td>\n",
              "    </tr>\n",
              "    <tr>\n",
              "      <th>4</th>\n",
              "      <td>CALIFORNIA</td>\n",
              "      <td>39209</td>\n",
              "      <td>532948138</td>\n",
              "      <td>41714177</td>\n",
              "      <td>7.8</td>\n",
              "      <td>17570133</td>\n",
              "      <td>42.1</td>\n",
              "      <td>8675761</td>\n",
              "      <td>20.8</td>\n",
              "      <td>15468283</td>\n",
              "      <td>37.1</td>\n",
              "      <td>39250017.0</td>\n",
              "      <td>174796.0</td>\n",
              "      <td>1930.0</td>\n",
              "      <td>13702.0</td>\n",
              "      <td>10149.0</td>\n",
              "      <td>54789.0</td>\n",
              "      <td>104375.0</td>\n",
              "      <td>1002070.0</td>\n",
              "      <td>188304.0</td>\n",
              "      <td>637010.0</td>\n",
              "      <td>176756.0</td>\n",
              "      <td>39209127</td>\n",
              "      <td>1063.89</td>\n",
              "      <td>448.11</td>\n",
              "      <td>221.27</td>\n",
              "      <td>394.51</td>\n",
              "      <td>59.85</td>\n",
              "      <td>25.65</td>\n",
              "      <td>18.27</td>\n",
              "      <td>11.31</td>\n",
              "      <td>22.89</td>\n",
              "    </tr>\n",
              "  </tbody>\n",
              "</table>\n",
              "</div>"
            ],
            "text/plain": [
              "        state  ...  corrections_employment\n",
              "0     ALABAMA  ...                   16.62\n",
              "1      ALASKA  ...                   31.42\n",
              "2     ARIZONA  ...                   21.85\n",
              "3    ARKANSAS  ...                   27.41\n",
              "4  CALIFORNIA  ...                   22.89\n",
              "\n",
              "[5 rows x 32 columns]"
            ]
          },
          "metadata": {
            "tags": []
          },
          "execution_count": 47
        }
      ]
    },
    {
      "cell_type": "markdown",
      "metadata": {
        "id": "78gnWYtPn80d"
      },
      "source": [
        "# Milestone 5\n",
        "\n",
        "Merging the Data and Storing in a Database/Visualizing Data\n",
        "Now that you have cleaned and transformed your 3 datasets, you need to load them into a database. You can choose what kind of database (SQLLite or MySQL, Postgre SQL are all free options). You will want to load each dataset into SQL Lite as an individual table and then you must join the datasets together in Python into 1 dataset.  \n",
        "\n",
        "Once all the data is merged together in your database, create 5 visualizations that demonstrate the data you have cleansed. You should have at least 2 visualizations that have data from more than one source (meaning, if you have 3 tables, you must have visualizations that span across 2 of the tables – you are also welcome to use your consolidated dataset that you created in the previous step, if you do that, you have met this requirement)."
      ]
    },
    {
      "cell_type": "markdown",
      "metadata": {
        "id": "pJjKRqXmoWiQ"
      },
      "source": [
        "First of all, we will store all dataframes in SQLLite db file."
      ]
    },
    {
      "cell_type": "code",
      "metadata": {
        "id": "SnAabG30p8tM"
      },
      "source": [
        "import sqlite3\n",
        "\n",
        "#conn = sqlite3.connect(\"justicesystem.db\")\n",
        "# Using in-memory database\n",
        "conn = sqlite3.connect(':memory:')\n",
        "# check if connection is successful by creating cursor\n",
        "def chk_conn(conn):\n",
        "    try:\n",
        "      conn.cursor()\n",
        "      return True\n",
        "    except Exception as ex:\n",
        "      return False"
      ],
      "execution_count": 48,
      "outputs": []
    },
    {
      "cell_type": "code",
      "metadata": {
        "colab": {
          "base_uri": "https://localhost:8080/"
        },
        "id": "MglPnI4HqhDP",
        "outputId": "6752493c-2fd0-4217-b95e-bcbc19c35a89"
      },
      "source": [
        "print(chk_conn(conn))"
      ],
      "execution_count": 49,
      "outputs": [
        {
          "output_type": "stream",
          "text": [
            "True\n"
          ],
          "name": "stdout"
        }
      ]
    },
    {
      "cell_type": "code",
      "metadata": {
        "colab": {
          "base_uri": "https://localhost:8080/",
          "height": 221
        },
        "id": "FbaWxpN-qxnf",
        "outputId": "abad8cff-3335-4e35-ecf5-c9a3eccbe0f0"
      },
      "source": [
        "# Storing first dataset dataframe to \"js_expenditure\" table\n",
        "df_jee03.to_sql(name='js_expenditure', con=conn, index=False)\n",
        "p2 = pd.read_sql('select * from js_expenditure', conn)\n",
        "p2.head(5)"
      ],
      "execution_count": 50,
      "outputs": [
        {
          "output_type": "execute_result",
          "data": {
            "text/html": [
              "<div>\n",
              "<style scoped>\n",
              "    .dataframe tbody tr th:only-of-type {\n",
              "        vertical-align: middle;\n",
              "    }\n",
              "\n",
              "    .dataframe tbody tr th {\n",
              "        vertical-align: top;\n",
              "    }\n",
              "\n",
              "    .dataframe thead th {\n",
              "        text-align: right;\n",
              "    }\n",
              "</style>\n",
              "<table border=\"1\" class=\"dataframe\">\n",
              "  <thead>\n",
              "    <tr style=\"text-align: right;\">\n",
              "      <th></th>\n",
              "      <th>state</th>\n",
              "      <th>population_k</th>\n",
              "      <th>total_direct_expenditure</th>\n",
              "      <th>total_justice_system_amount</th>\n",
              "      <th>total_justice_system_percent</th>\n",
              "      <th>police_protection_amount</th>\n",
              "      <th>police_protection_percent_</th>\n",
              "      <th>judician_and_legal_amount</th>\n",
              "      <th>judicial_and_legal_percent</th>\n",
              "      <th>corrections_amount</th>\n",
              "      <th>corrections_percent</th>\n",
              "    </tr>\n",
              "  </thead>\n",
              "  <tbody>\n",
              "    <tr>\n",
              "      <th>0</th>\n",
              "      <td>ALABAMA</td>\n",
              "      <td>4865</td>\n",
              "      <td>45277563</td>\n",
              "      <td>2335599</td>\n",
              "      <td>5.2</td>\n",
              "      <td>1251270</td>\n",
              "      <td>53.6</td>\n",
              "      <td>362060</td>\n",
              "      <td>15.5</td>\n",
              "      <td>722269</td>\n",
              "      <td>30.9</td>\n",
              "    </tr>\n",
              "    <tr>\n",
              "      <th>1</th>\n",
              "      <td>ALASKA</td>\n",
              "      <td>742</td>\n",
              "      <td>15808697</td>\n",
              "      <td>962214</td>\n",
              "      <td>6.1</td>\n",
              "      <td>370209</td>\n",
              "      <td>38.5</td>\n",
              "      <td>254000</td>\n",
              "      <td>26.4</td>\n",
              "      <td>338005</td>\n",
              "      <td>35.1</td>\n",
              "    </tr>\n",
              "    <tr>\n",
              "      <th>2</th>\n",
              "      <td>ARIZONA</td>\n",
              "      <td>6945</td>\n",
              "      <td>58975013</td>\n",
              "      <td>4929687</td>\n",
              "      <td>8.4</td>\n",
              "      <td>2261558</td>\n",
              "      <td>45.9</td>\n",
              "      <td>983419</td>\n",
              "      <td>19.9</td>\n",
              "      <td>1684710</td>\n",
              "      <td>34.2</td>\n",
              "    </tr>\n",
              "    <tr>\n",
              "      <th>3</th>\n",
              "      <td>ARKANSAS</td>\n",
              "      <td>2990</td>\n",
              "      <td>27299957</td>\n",
              "      <td>1507133</td>\n",
              "      <td>5.5</td>\n",
              "      <td>691059</td>\n",
              "      <td>45.9</td>\n",
              "      <td>220343</td>\n",
              "      <td>14.6</td>\n",
              "      <td>595731</td>\n",
              "      <td>39.5</td>\n",
              "    </tr>\n",
              "    <tr>\n",
              "      <th>4</th>\n",
              "      <td>CALIFORNIA</td>\n",
              "      <td>39209</td>\n",
              "      <td>532948138</td>\n",
              "      <td>41714177</td>\n",
              "      <td>7.8</td>\n",
              "      <td>17570133</td>\n",
              "      <td>42.1</td>\n",
              "      <td>8675761</td>\n",
              "      <td>20.8</td>\n",
              "      <td>15468283</td>\n",
              "      <td>37.1</td>\n",
              "    </tr>\n",
              "  </tbody>\n",
              "</table>\n",
              "</div>"
            ],
            "text/plain": [
              "        state  population_k  ...  corrections_amount  corrections_percent\n",
              "0     ALABAMA          4865  ...              722269                 30.9\n",
              "1      ALASKA           742  ...              338005                 35.1\n",
              "2     ARIZONA          6945  ...             1684710                 34.2\n",
              "3    ARKANSAS          2990  ...              595731                 39.5\n",
              "4  CALIFORNIA         39209  ...            15468283                 37.1\n",
              "\n",
              "[5 rows x 11 columns]"
            ]
          },
          "metadata": {
            "tags": []
          },
          "execution_count": 50
        }
      ]
    },
    {
      "cell_type": "markdown",
      "metadata": {
        "id": "d7HABBpcsoca"
      },
      "source": [
        "# Storing second dataset dataframe to \"fbi_crimes\" table\n",
        "p3 = pd.read_sql('select c.violentcrime1,c.murder_and_nonnegligent_manslaughter,c.rape_reviseddefinition2,c.rape_legacydefinition3,c.robbery,c.aggravated_assault,c.property_crime,c.burglary,c.larceny_theft,c.motor_vehicle_theft from fbi_crimes as c', conn)\n",
        "p3.head(5)"
      ]
    },
    {
      "cell_type": "code",
      "metadata": {
        "colab": {
          "base_uri": "https://localhost:8080/",
          "height": 221
        },
        "id": "vIgM-wZSg7LK",
        "outputId": "5afe6900-4fba-4fc2-df05-4ef936724b12"
      },
      "source": [
        "# Storing second dataset dataframe to \"fbi_crimes\" table\n",
        "fbi_df.to_sql(name='fbi_crimes', con=conn, index=False)\n",
        "p3 = pd.read_sql('select * from fbi_crimes', conn)\n",
        "p3.head(5)"
      ],
      "execution_count": 51,
      "outputs": [
        {
          "output_type": "execute_result",
          "data": {
            "text/html": [
              "<div>\n",
              "<style scoped>\n",
              "    .dataframe tbody tr th:only-of-type {\n",
              "        vertical-align: middle;\n",
              "    }\n",
              "\n",
              "    .dataframe tbody tr th {\n",
              "        vertical-align: top;\n",
              "    }\n",
              "\n",
              "    .dataframe thead th {\n",
              "        text-align: right;\n",
              "    }\n",
              "</style>\n",
              "<table border=\"1\" class=\"dataframe\">\n",
              "  <thead>\n",
              "    <tr style=\"text-align: right;\">\n",
              "      <th></th>\n",
              "      <th>state</th>\n",
              "      <th>population</th>\n",
              "      <th>violentcrime1</th>\n",
              "      <th>murder_and_nonnegligent_manslaughter</th>\n",
              "      <th>rape_reviseddefinition2</th>\n",
              "      <th>rape_legacydefinition3</th>\n",
              "      <th>robbery</th>\n",
              "      <th>aggravated_assault</th>\n",
              "      <th>property_crime</th>\n",
              "      <th>burglary</th>\n",
              "      <th>larceny_theft</th>\n",
              "      <th>motor_vehicle_theft</th>\n",
              "    </tr>\n",
              "  </thead>\n",
              "  <tbody>\n",
              "    <tr>\n",
              "      <th>0</th>\n",
              "      <td>ALABAMA</td>\n",
              "      <td>4863300.0</td>\n",
              "      <td>25886.0</td>\n",
              "      <td>407.0</td>\n",
              "      <td>1916.0</td>\n",
              "      <td>1385.0</td>\n",
              "      <td>4686.0</td>\n",
              "      <td>18877.0</td>\n",
              "      <td>143362.0</td>\n",
              "      <td>34065.0</td>\n",
              "      <td>97574.0</td>\n",
              "      <td>11723.0</td>\n",
              "    </tr>\n",
              "    <tr>\n",
              "      <th>1</th>\n",
              "      <td>ALASKA</td>\n",
              "      <td>741894.0</td>\n",
              "      <td>5966.0</td>\n",
              "      <td>52.0</td>\n",
              "      <td>1053.0</td>\n",
              "      <td>757.0</td>\n",
              "      <td>850.0</td>\n",
              "      <td>4011.0</td>\n",
              "      <td>24876.0</td>\n",
              "      <td>4053.0</td>\n",
              "      <td>17766.0</td>\n",
              "      <td>3057.0</td>\n",
              "    </tr>\n",
              "    <tr>\n",
              "      <th>2</th>\n",
              "      <td>ARIZONA</td>\n",
              "      <td>6931071.0</td>\n",
              "      <td>32583.0</td>\n",
              "      <td>380.0</td>\n",
              "      <td>3290.0</td>\n",
              "      <td>2452.0</td>\n",
              "      <td>7055.0</td>\n",
              "      <td>21858.0</td>\n",
              "      <td>206432.0</td>\n",
              "      <td>37736.0</td>\n",
              "      <td>150275.0</td>\n",
              "      <td>18421.0</td>\n",
              "    </tr>\n",
              "    <tr>\n",
              "      <th>3</th>\n",
              "      <td>ARKANSAS</td>\n",
              "      <td>2988248.0</td>\n",
              "      <td>16461.0</td>\n",
              "      <td>216.0</td>\n",
              "      <td>2143.0</td>\n",
              "      <td>1545.0</td>\n",
              "      <td>2120.0</td>\n",
              "      <td>11982.0</td>\n",
              "      <td>97673.0</td>\n",
              "      <td>23771.0</td>\n",
              "      <td>66747.0</td>\n",
              "      <td>7155.0</td>\n",
              "    </tr>\n",
              "    <tr>\n",
              "      <th>4</th>\n",
              "      <td>CALIFORNIA</td>\n",
              "      <td>39250017.0</td>\n",
              "      <td>174796.0</td>\n",
              "      <td>1930.0</td>\n",
              "      <td>13702.0</td>\n",
              "      <td>10149.0</td>\n",
              "      <td>54789.0</td>\n",
              "      <td>104375.0</td>\n",
              "      <td>1002070.0</td>\n",
              "      <td>188304.0</td>\n",
              "      <td>637010.0</td>\n",
              "      <td>176756.0</td>\n",
              "    </tr>\n",
              "  </tbody>\n",
              "</table>\n",
              "</div>"
            ],
            "text/plain": [
              "        state  population  ...  larceny_theft  motor_vehicle_theft\n",
              "0     ALABAMA   4863300.0  ...        97574.0              11723.0\n",
              "1      ALASKA    741894.0  ...        17766.0               3057.0\n",
              "2     ARIZONA   6931071.0  ...       150275.0              18421.0\n",
              "3    ARKANSAS   2988248.0  ...        66747.0               7155.0\n",
              "4  CALIFORNIA  39250017.0  ...       637010.0             176756.0\n",
              "\n",
              "[5 rows x 12 columns]"
            ]
          },
          "metadata": {
            "tags": []
          },
          "execution_count": 51
        }
      ]
    },
    {
      "cell_type": "code",
      "metadata": {
        "colab": {
          "base_uri": "https://localhost:8080/",
          "height": 221
        },
        "id": "k8GGe6mYto_v",
        "outputId": "cc75bce7-a372-489b-a37b-bd7224c2fac3"
      },
      "source": [
        "# Storing third dataset dataframe to \"js_employment\" table\n",
        "df_jee08.to_sql(name='js_employment', con=conn, index=False)\n",
        "p4 = pd.read_sql('select * from js_employment', conn)\n",
        "p4.head(5)"
      ],
      "execution_count": 52,
      "outputs": [
        {
          "output_type": "execute_result",
          "data": {
            "text/html": [
              "<div>\n",
              "<style scoped>\n",
              "    .dataframe tbody tr th:only-of-type {\n",
              "        vertical-align: middle;\n",
              "    }\n",
              "\n",
              "    .dataframe tbody tr th {\n",
              "        vertical-align: top;\n",
              "    }\n",
              "\n",
              "    .dataframe thead th {\n",
              "        text-align: right;\n",
              "    }\n",
              "</style>\n",
              "<table border=\"1\" class=\"dataframe\">\n",
              "  <thead>\n",
              "    <tr style=\"text-align: right;\">\n",
              "      <th></th>\n",
              "      <th>state</th>\n",
              "      <th>population_2016</th>\n",
              "      <th>total_justice_system_pc</th>\n",
              "      <th>police_protection_pc</th>\n",
              "      <th>judicial_and_legal_pc</th>\n",
              "      <th>corrections_pc</th>\n",
              "      <th>total_justice_system_employment</th>\n",
              "      <th>police_protection_total_employment</th>\n",
              "      <th>police_protection_sworn_only_employment</th>\n",
              "      <th>judicial_and_legal_employment</th>\n",
              "      <th>corrections_employment</th>\n",
              "    </tr>\n",
              "  </thead>\n",
              "  <tbody>\n",
              "    <tr>\n",
              "      <th>0</th>\n",
              "      <td>ALABAMA</td>\n",
              "      <td>4864745</td>\n",
              "      <td>480.11</td>\n",
              "      <td>257.21</td>\n",
              "      <td>74.43</td>\n",
              "      <td>148.47</td>\n",
              "      <td>55.43</td>\n",
              "      <td>29.08</td>\n",
              "      <td>23.00</td>\n",
              "      <td>9.73</td>\n",
              "      <td>16.62</td>\n",
              "    </tr>\n",
              "    <tr>\n",
              "      <th>1</th>\n",
              "      <td>FLORIDA</td>\n",
              "      <td>20629982</td>\n",
              "      <td>701.08</td>\n",
              "      <td>380.44</td>\n",
              "      <td>114.70</td>\n",
              "      <td>205.94</td>\n",
              "      <td>64.42</td>\n",
              "      <td>29.69</td>\n",
              "      <td>19.78</td>\n",
              "      <td>15.12</td>\n",
              "      <td>19.61</td>\n",
              "    </tr>\n",
              "    <tr>\n",
              "      <th>2</th>\n",
              "      <td>GEORGIA</td>\n",
              "      <td>10304763</td>\n",
              "      <td>568.02</td>\n",
              "      <td>263.81</td>\n",
              "      <td>117.93</td>\n",
              "      <td>186.28</td>\n",
              "      <td>66.31</td>\n",
              "      <td>26.65</td>\n",
              "      <td>21.33</td>\n",
              "      <td>13.89</td>\n",
              "      <td>25.77</td>\n",
              "    </tr>\n",
              "    <tr>\n",
              "      <th>3</th>\n",
              "      <td>HAWAII</td>\n",
              "      <td>1428105</td>\n",
              "      <td>679.89</td>\n",
              "      <td>321.41</td>\n",
              "      <td>206.21</td>\n",
              "      <td>152.27</td>\n",
              "      <td>68.62</td>\n",
              "      <td>28.54</td>\n",
              "      <td>22.12</td>\n",
              "      <td>23.58</td>\n",
              "      <td>16.50</td>\n",
              "    </tr>\n",
              "    <tr>\n",
              "      <th>4</th>\n",
              "      <td>IDAHO</td>\n",
              "      <td>1682930</td>\n",
              "      <td>593.95</td>\n",
              "      <td>271.63</td>\n",
              "      <td>118.67</td>\n",
              "      <td>203.64</td>\n",
              "      <td>61.64</td>\n",
              "      <td>24.05</td>\n",
              "      <td>16.55</td>\n",
              "      <td>13.14</td>\n",
              "      <td>24.44</td>\n",
              "    </tr>\n",
              "  </tbody>\n",
              "</table>\n",
              "</div>"
            ],
            "text/plain": [
              "     state  ...  corrections_employment\n",
              "0  ALABAMA  ...                   16.62\n",
              "1  FLORIDA  ...                   19.61\n",
              "2  GEORGIA  ...                   25.77\n",
              "3   HAWAII  ...                   16.50\n",
              "4    IDAHO  ...                   24.44\n",
              "\n",
              "[5 rows x 11 columns]"
            ]
          },
          "metadata": {
            "tags": []
          },
          "execution_count": 52
        }
      ]
    },
    {
      "cell_type": "markdown",
      "metadata": {
        "id": "bSYOQrrHuB5a"
      },
      "source": [
        "First of all, I am interested to check relation between population and direct expenditure. As per my understanding, expenditure is directly proprtional to population.\n",
        "\n",
        "Both fields are in first dataset. So will use only first dataset."
      ]
    },
    {
      "cell_type": "code",
      "metadata": {
        "id": "SEQNFotP0UY6",
        "colab": {
          "base_uri": "https://localhost:8080/",
          "height": 383
        },
        "outputId": "88bd4527-2c24-468f-ec24-ea8ae5ac9360"
      },
      "source": [
        "import matplotlib.pyplot as plt\n",
        "import seaborn as sns\n",
        "%matplotlib inline\n",
        "\n",
        "df_jee03['direct_expenditure_100k'] = df_jee03['total_direct_expenditure']/100000\n",
        "ax = sns.lmplot(data=df_jee03, x=\"population_k\", y=\"direct_expenditure_100k\")\n",
        "ax.set(xlabel='Population in Thousands', ylabel='Direct Expenditure in 100 Thousands')\n",
        "plt.show()\n"
      ],
      "execution_count": 53,
      "outputs": [
        {
          "output_type": "display_data",
          "data": {
            "image/png": "[encoded data removed]",
            "text/plain": [
              "<Figure size 360x360 with 1 Axes>"
            ]
          },
          "metadata": {
            "tags": [],
            "needs_background": "light"
          }
        }
      ]
    },
    {
      "cell_type": "code",
      "metadata": {
        "colab": {
          "base_uri": "https://localhost:8080/",
          "height": 201
        },
        "id": "-5VqNC5IpLSC",
        "outputId": "2c8ebf51-b5f6-4abf-a2d4-a078edc1ec8d"
      },
      "source": [
        "pp_emp_expenditure_df = pd.read_sql('select emp.state, emp.police_protection_total_employment,exp.police_protection_amount \\\n",
        "      from js_employment as emp, js_expenditure as exp \\\n",
        "          where emp.state=exp.state', conn)\n",
        "pp_emp_expenditure_df['police_protection_amount'] = pp_emp_expenditure_df['police_protection_amount']/100000\n",
        "pp_emp_expenditure_df.head(5)"
      ],
      "execution_count": 70,
      "outputs": [
        {
          "output_type": "execute_result",
          "data": {
            "text/html": [
              "<div>\n",
              "<style scoped>\n",
              "    .dataframe tbody tr th:only-of-type {\n",
              "        vertical-align: middle;\n",
              "    }\n",
              "\n",
              "    .dataframe tbody tr th {\n",
              "        vertical-align: top;\n",
              "    }\n",
              "\n",
              "    .dataframe thead th {\n",
              "        text-align: right;\n",
              "    }\n",
              "</style>\n",
              "<table border=\"1\" class=\"dataframe\">\n",
              "  <thead>\n",
              "    <tr style=\"text-align: right;\">\n",
              "      <th></th>\n",
              "      <th>state</th>\n",
              "      <th>police_protection_total_employment</th>\n",
              "      <th>police_protection_amount</th>\n",
              "    </tr>\n",
              "  </thead>\n",
              "  <tbody>\n",
              "    <tr>\n",
              "      <th>0</th>\n",
              "      <td>ALABAMA</td>\n",
              "      <td>29.08</td>\n",
              "      <td>12.51270</td>\n",
              "    </tr>\n",
              "    <tr>\n",
              "      <th>1</th>\n",
              "      <td>FLORIDA</td>\n",
              "      <td>29.69</td>\n",
              "      <td>78.48477</td>\n",
              "    </tr>\n",
              "    <tr>\n",
              "      <th>2</th>\n",
              "      <td>GEORGIA</td>\n",
              "      <td>26.65</td>\n",
              "      <td>27.18545</td>\n",
              "    </tr>\n",
              "    <tr>\n",
              "      <th>3</th>\n",
              "      <td>HAWAII</td>\n",
              "      <td>28.54</td>\n",
              "      <td>4.59008</td>\n",
              "    </tr>\n",
              "    <tr>\n",
              "      <th>4</th>\n",
              "      <td>IDAHO</td>\n",
              "      <td>24.05</td>\n",
              "      <td>4.57136</td>\n",
              "    </tr>\n",
              "  </tbody>\n",
              "</table>\n",
              "</div>"
            ],
            "text/plain": [
              "     state  police_protection_total_employment  police_protection_amount\n",
              "0  ALABAMA                               29.08                  12.51270\n",
              "1  FLORIDA                               29.69                  78.48477\n",
              "2  GEORGIA                               26.65                  27.18545\n",
              "3   HAWAII                               28.54                   4.59008\n",
              "4    IDAHO                               24.05                   4.57136"
            ]
          },
          "metadata": {
            "tags": []
          },
          "execution_count": 70
        }
      ]
    },
    {
      "cell_type": "code",
      "metadata": {
        "colab": {
          "base_uri": "https://localhost:8080/",
          "height": 837
        },
        "id": "V2yFSgUqrwBg",
        "outputId": "b82031d2-0a8b-44aa-e260-0865bdc5ce17"
      },
      "source": [
        "sns.scatterplot(data=pp_emp_expenditure_df, x=\"police_protection_total_employment\", y=\"police_protection_amount\", \\\n",
        "                 hue=\"state\")"
      ],
      "execution_count": 71,
      "outputs": [
        {
          "output_type": "execute_result",
          "data": {
            "text/plain": [
              "<matplotlib.axes._subplots.AxesSubplot at 0x7f58be81fc10>"
            ]
          },
          "metadata": {
            "tags": []
          },
          "execution_count": 71
        },
        {
          "output_type": "display_data",
          "data": {
            "image/png": "[encoded data removed]",
            "text/plain": [
              "<Figure size 432x288 with 1 Axes>"
            ]
          },
          "metadata": {
            "tags": [],
            "needs_background": "light"
          }
        }
      ]
    },
    {
      "cell_type": "code",
      "metadata": {
        "colab": {
          "base_uri": "https://localhost:8080/",
          "height": 265
        },
        "id": "hQIhIuXh5O3h",
        "outputId": "d51d3b2e-3c3a-4790-a6c7-4d9e72e57df9"
      },
      "source": [
        "pp_emp_expenditure = pp_emp_expenditure_df.sort_values(by=['police_protection_amount'], ascending=False)\n",
        "pp_emp_expenditure = pp_emp_expenditure.head(10)\n",
        "ind = np.arange(len(pp_emp_expenditure))\n",
        "width = 0.4\n",
        "\n",
        "fig, ax = plt.subplots()\n",
        "ax.barh(ind, pp_emp_expenditure.police_protection_total_employment, width, color='green', label='Employment')\n",
        "ax.barh(ind + width, pp_emp_expenditure.police_protection_amount, width, color='orange', label='Expenditure')\n",
        "\n",
        "ax.set(yticks=ind + width, yticklabels=pp_emp_expenditure.state, ylim=[2*width - 1, len(pp_emp_expenditure)])\n",
        "ax.legend()\n",
        "\n",
        "plt.show()"
      ],
      "execution_count": 76,
      "outputs": [
        {
          "output_type": "display_data",
          "data": {
            "image/png": "[encoded data removed]",
            "text/plain": [
              "<Figure size 432x288 with 1 Axes>"
            ]
          },
          "metadata": {
            "tags": [],
            "needs_background": "light"
          }
        }
      ]
    },
    {
      "cell_type": "code",
      "metadata": {
        "colab": {
          "base_uri": "https://localhost:8080/",
          "height": 359
        },
        "id": "3S9wyQPP6Get",
        "outputId": "40b79717-9f9a-4eb2-d701-bcb62c12ec09"
      },
      "source": [
        "pp_expense_crime_df = mst1_mst2_combine_df.set_index(['state'])\n",
        "pp_expense_crime_df = pp_expense_crime_df[[\"police_protection_amount\",\"violentcrime1\", \"property_crime\"]]\n",
        "\n",
        "# Police protection amount in 100 Thousands\n",
        "pp_expense_crime_df['police_protection_amount'] = pp_expense_crime_df['police_protection_amount']/100000\n",
        "\n",
        "# Violent crime and Property Crimes in Thousands\n",
        "pp_expense_crime_df['violentcrime1'] = pp_expense_crime_df['violentcrime1']/1000\n",
        "pp_expense_crime_df['property_crime'] = pp_expense_crime_df['property_crime']/1000\n",
        "\n",
        "pp_expense_crime_df.sample(10).plot.bar()"
      ],
      "execution_count": 56,
      "outputs": [
        {
          "output_type": "execute_result",
          "data": {
            "text/plain": [
              "<matplotlib.axes._subplots.AxesSubplot at 0x7f58c4f5bed0>"
            ]
          },
          "metadata": {
            "tags": []
          },
          "execution_count": 56
        },
        {
          "output_type": "display_data",
          "data": {
            "image/png": "[encoded data removed]",
            "text/plain": [
              "<Figure size 432x288 with 1 Axes>"
            ]
          },
          "metadata": {
            "tags": [],
            "needs_background": "light"
          }
        }
      ]
    },
    {
      "cell_type": "code",
      "metadata": {
        "colab": {
          "base_uri": "https://localhost:8080/",
          "height": 411
        },
        "id": "z1Zx658kGQCm",
        "outputId": "a38694c1-736d-4628-bf77-edb4fad79957"
      },
      "source": [
        "crime_df = fbi_df.loc[:, (fbi_df.columns != 'state') & (fbi_df.columns != 'population')]\n",
        "crime_df = crime_df.melt(var_name='source')\n",
        "crime_df"
      ],
      "execution_count": 57,
      "outputs": [
        {
          "output_type": "execute_result",
          "data": {
            "text/html": [
              "<div>\n",
              "<style scoped>\n",
              "    .dataframe tbody tr th:only-of-type {\n",
              "        vertical-align: middle;\n",
              "    }\n",
              "\n",
              "    .dataframe tbody tr th {\n",
              "        vertical-align: top;\n",
              "    }\n",
              "\n",
              "    .dataframe thead th {\n",
              "        text-align: right;\n",
              "    }\n",
              "</style>\n",
              "<table border=\"1\" class=\"dataframe\">\n",
              "  <thead>\n",
              "    <tr style=\"text-align: right;\">\n",
              "      <th></th>\n",
              "      <th>source</th>\n",
              "      <th>value</th>\n",
              "    </tr>\n",
              "  </thead>\n",
              "  <tbody>\n",
              "    <tr>\n",
              "      <th>0</th>\n",
              "      <td>violentcrime1</td>\n",
              "      <td>25886.0</td>\n",
              "    </tr>\n",
              "    <tr>\n",
              "      <th>1</th>\n",
              "      <td>violentcrime1</td>\n",
              "      <td>5966.0</td>\n",
              "    </tr>\n",
              "    <tr>\n",
              "      <th>2</th>\n",
              "      <td>violentcrime1</td>\n",
              "      <td>32583.0</td>\n",
              "    </tr>\n",
              "    <tr>\n",
              "      <th>3</th>\n",
              "      <td>violentcrime1</td>\n",
              "      <td>16461.0</td>\n",
              "    </tr>\n",
              "    <tr>\n",
              "      <th>4</th>\n",
              "      <td>violentcrime1</td>\n",
              "      <td>174796.0</td>\n",
              "    </tr>\n",
              "    <tr>\n",
              "      <th>...</th>\n",
              "      <td>...</td>\n",
              "      <td>...</td>\n",
              "    </tr>\n",
              "    <tr>\n",
              "      <th>515</th>\n",
              "      <td>motor_vehicle_theft</td>\n",
              "      <td>9788.0</td>\n",
              "    </tr>\n",
              "    <tr>\n",
              "      <th>516</th>\n",
              "      <td>motor_vehicle_theft</td>\n",
              "      <td>32286.0</td>\n",
              "    </tr>\n",
              "    <tr>\n",
              "      <th>517</th>\n",
              "      <td>motor_vehicle_theft</td>\n",
              "      <td>2509.0</td>\n",
              "    </tr>\n",
              "    <tr>\n",
              "      <th>518</th>\n",
              "      <td>motor_vehicle_theft</td>\n",
              "      <td>9958.0</td>\n",
              "    </tr>\n",
              "    <tr>\n",
              "      <th>519</th>\n",
              "      <td>motor_vehicle_theft</td>\n",
              "      <td>800.0</td>\n",
              "    </tr>\n",
              "  </tbody>\n",
              "</table>\n",
              "<p>520 rows × 2 columns</p>\n",
              "</div>"
            ],
            "text/plain": [
              "                  source     value\n",
              "0          violentcrime1   25886.0\n",
              "1          violentcrime1    5966.0\n",
              "2          violentcrime1   32583.0\n",
              "3          violentcrime1   16461.0\n",
              "4          violentcrime1  174796.0\n",
              "..                   ...       ...\n",
              "515  motor_vehicle_theft    9788.0\n",
              "516  motor_vehicle_theft   32286.0\n",
              "517  motor_vehicle_theft    2509.0\n",
              "518  motor_vehicle_theft    9958.0\n",
              "519  motor_vehicle_theft     800.0\n",
              "\n",
              "[520 rows x 2 columns]"
            ]
          },
          "metadata": {
            "tags": []
          },
          "execution_count": 57
        }
      ]
    },
    {
      "cell_type": "code",
      "metadata": {
        "colab": {
          "base_uri": "https://localhost:8080/"
        },
        "id": "YmFl_bNaIwN1",
        "outputId": "b8500b12-fb6d-4baf-cccd-cad5774849bb"
      },
      "source": [
        "crime_types = (crime_df.groupby('source')['value'].sum()).to_dict()\n",
        "crime_types"
      ],
      "execution_count": 58,
      "outputs": [
        {
          "output_type": "execute_result",
          "data": {
            "text/plain": [
              "{'aggravated_assault': 806601.0,\n",
              " 'burglary': 1523347.0,\n",
              " 'larceny_theft': 5661618.0,\n",
              " 'motor_vehicle_theft': 769271.0,\n",
              " 'murder_and_nonnegligent_manslaughter': 17929.0,\n",
              " 'property_crime': 7954236.0,\n",
              " 'rape_legacydefinition3': 95858.0,\n",
              " 'rape_reviseddefinition2': 130772.0,\n",
              " 'robbery': 335399.0,\n",
              " 'violentcrime1': 1290701.0}"
            ]
          },
          "metadata": {
            "tags": []
          },
          "execution_count": 58
        }
      ]
    },
    {
      "cell_type": "code",
      "metadata": {
        "colab": {
          "base_uri": "https://localhost:8080/",
          "height": 374
        },
        "id": "wxoM2ceqIPeW",
        "outputId": "bce74d58-52fb-4446-b2cf-807c90a4f120"
      },
      "source": [
        "pie, ax = plt.subplots(figsize=[10,6])\n",
        "labels = list(crime_types.keys())\n",
        "plt.pie(x=crime_types.values(), autopct=\"%.1f%%\", labels=labels, pctdistance=0.5)\n",
        "plt.title(\"FBI Crime Share by Types\", fontsize=14);\n",
        "# plt.pie(crime_df.groupby('source')['value'].sum())"
      ],
      "execution_count": 59,
      "outputs": [
        {
          "output_type": "display_data",
          "data": {
            "image/png": "[encoded data removed]",
            "text/plain": [
              "<Figure size 720x432 with 1 Axes>"
            ]
          },
          "metadata": {
            "tags": []
          }
        }
      ]
    },
    {
      "cell_type": "code",
      "metadata": {
        "colab": {
          "base_uri": "https://localhost:8080/",
          "height": 221
        },
        "id": "XU3hh-MoLs7C",
        "outputId": "f6a9f9f9-c65e-4b45-cc88-96e48e80ee75"
      },
      "source": [
        "pp_emp_crime = pd.read_sql('select e.police_protection_total_employment, c.violentcrime1, \\\n",
        "          c.robbery, \\\n",
        "          c.aggravated_assault,c.property_crime,c.burglary, \\\n",
        "          c.motor_vehicle_theft from fbi_crimes as c,js_employment as e \\\n",
        "          where c.state=e.state', conn)\n",
        "pp_emp_crime.head(5)"
      ],
      "execution_count": 60,
      "outputs": [
        {
          "output_type": "execute_result",
          "data": {
            "text/html": [
              "<div>\n",
              "<style scoped>\n",
              "    .dataframe tbody tr th:only-of-type {\n",
              "        vertical-align: middle;\n",
              "    }\n",
              "\n",
              "    .dataframe tbody tr th {\n",
              "        vertical-align: top;\n",
              "    }\n",
              "\n",
              "    .dataframe thead th {\n",
              "        text-align: right;\n",
              "    }\n",
              "</style>\n",
              "<table border=\"1\" class=\"dataframe\">\n",
              "  <thead>\n",
              "    <tr style=\"text-align: right;\">\n",
              "      <th></th>\n",
              "      <th>police_protection_total_employment</th>\n",
              "      <th>violentcrime1</th>\n",
              "      <th>robbery</th>\n",
              "      <th>aggravated_assault</th>\n",
              "      <th>property_crime</th>\n",
              "      <th>burglary</th>\n",
              "      <th>motor_vehicle_theft</th>\n",
              "    </tr>\n",
              "  </thead>\n",
              "  <tbody>\n",
              "    <tr>\n",
              "      <th>0</th>\n",
              "      <td>29.08</td>\n",
              "      <td>25886.0</td>\n",
              "      <td>4686.0</td>\n",
              "      <td>18877.0</td>\n",
              "      <td>143362.0</td>\n",
              "      <td>34065.0</td>\n",
              "      <td>11723.0</td>\n",
              "    </tr>\n",
              "    <tr>\n",
              "      <th>1</th>\n",
              "      <td>25.68</td>\n",
              "      <td>5966.0</td>\n",
              "      <td>850.0</td>\n",
              "      <td>4011.0</td>\n",
              "      <td>24876.0</td>\n",
              "      <td>4053.0</td>\n",
              "      <td>3057.0</td>\n",
              "    </tr>\n",
              "    <tr>\n",
              "      <th>2</th>\n",
              "      <td>28.30</td>\n",
              "      <td>32583.0</td>\n",
              "      <td>7055.0</td>\n",
              "      <td>21858.0</td>\n",
              "      <td>206432.0</td>\n",
              "      <td>37736.0</td>\n",
              "      <td>18421.0</td>\n",
              "    </tr>\n",
              "    <tr>\n",
              "      <th>3</th>\n",
              "      <td>29.50</td>\n",
              "      <td>16461.0</td>\n",
              "      <td>2120.0</td>\n",
              "      <td>11982.0</td>\n",
              "      <td>97673.0</td>\n",
              "      <td>23771.0</td>\n",
              "      <td>7155.0</td>\n",
              "    </tr>\n",
              "    <tr>\n",
              "      <th>4</th>\n",
              "      <td>25.65</td>\n",
              "      <td>174796.0</td>\n",
              "      <td>54789.0</td>\n",
              "      <td>104375.0</td>\n",
              "      <td>1002070.0</td>\n",
              "      <td>188304.0</td>\n",
              "      <td>176756.0</td>\n",
              "    </tr>\n",
              "  </tbody>\n",
              "</table>\n",
              "</div>"
            ],
            "text/plain": [
              "   police_protection_total_employment  ...  motor_vehicle_theft\n",
              "0                               29.08  ...              11723.0\n",
              "1                               25.68  ...               3057.0\n",
              "2                               28.30  ...              18421.0\n",
              "3                               29.50  ...               7155.0\n",
              "4                               25.65  ...             176756.0\n",
              "\n",
              "[5 rows x 7 columns]"
            ]
          },
          "metadata": {
            "tags": []
          },
          "execution_count": 60
        }
      ]
    },
    {
      "cell_type": "code",
      "metadata": {
        "colab": {
          "base_uri": "https://localhost:8080/",
          "height": 567
        },
        "id": "rrtmNyfdhUqE",
        "outputId": "8d9597ea-6398-4221-8815-c3489d3ac759"
      },
      "source": [
        "plt.figure(figsize=(8,6))\n",
        "#sns.heatmap(df.corr(), annot = True, fmt='.1g', cmap= 'coolwarm')\n",
        "sns.heatmap(pp_emp_crime.corr(), annot = True, fmt='.1g', cmap= 'coolwarm')"
      ],
      "execution_count": 61,
      "outputs": [
        {
          "output_type": "execute_result",
          "data": {
            "text/plain": [
              "<matplotlib.axes._subplots.AxesSubplot at 0x7f58c4e46f50>"
            ]
          },
          "metadata": {
            "tags": []
          },
          "execution_count": 61
        },
        {
          "output_type": "display_data",
          "data": {
            "image/png": "[encoded data removed]",
            "text/plain": [
              "<Figure size 576x432 with 2 Axes>"
            ]
          },
          "metadata": {
            "tags": [],
            "needs_background": "light"
          }
        }
      ]
    }
  ]
}